{
  "nbformat": 4,
  "nbformat_minor": 0,
  "metadata": {
    "colab": {
      "name": "May04_3_Regex.ipynb",
      "provenance": [],
      "collapsed_sections": [],
      "authorship_tag": "ABX9TyMZspfPBMawN6WdfhTmwiIt"
    },
    "kernelspec": {
      "name": "python3",
      "display_name": "Python 3"
    },
    "language_info": {
      "name": "python"
    }
  },
  "cells": [
    {
      "cell_type": "code",
      "execution_count": null,
      "metadata": {
        "id": "p0JpWP2BkYkP"
      },
      "outputs": [],
      "source": [
        "# 파이썬에서 정규 표현식을 사용할 때, 내장 모듈인 re를 사용\n",
        "import re"
      ]
    },
    {
      "cell_type": "markdown",
      "source": [
        "# 메타 문자로 표현해서 일대일매칭 1:1\n",
        "\n",
        "# 메타 문자 : 특수한 기능을 하는 문자\n",
        "- . : 한 개의 임의의 문자\n",
        "- ? : 앞의 문자가 존재할 수도 있고, 않을 수도 있음 (문자가 0개 또는 1개)\n",
        "- '*' : 앞의 문자가 무한개로 존재할 수도 있고, 않을 수도 있음 (문자가 0개 이상)\n",
        "- '+' : 앞의 문자가 최소 1개 이상 존재함\n",
        "- ^ : 뒤의 문자열로 문자열이 시작\n",
        "- $ : 앞의 문자열로 문자열이 끝\n",
        "- {숫자} : 숫자만큼 반복\n",
        "- [문자] : 대괄호 안의 문자들 중 한개의 문자와 매칭함\n",
        "- [^문자] : 해당 문자를 제외한 문자를 매칭함"
      ],
      "metadata": {
        "id": "QheX0DBnlHIh"
      }
    },
    {
      "cell_type": "code",
      "source": [
        "# re.match() 함수 : [문자열 처음]에 시작하는 패턴이 일치하는지 -> 불일치시 None 반환\n",
        "# re.match(패턴, 문자열)\n",
        "print(re.match('a','a'))\n",
        "print(re.match('a','abc'))\n",
        "\n",
        "# 결과창의 span=(x,x) : matching되는 문자열의 위치를 반환, span(이상, 미만)"
      ],
      "metadata": {
        "colab": {
          "base_uri": "https://localhost:8080/"
        },
        "id": "2y1nISaXqIjX",
        "outputId": "08b797f6-700b-481e-ff19-5f5b173d3acb"
      },
      "execution_count": null,
      "outputs": [
        {
          "output_type": "stream",
          "name": "stdout",
          "text": [
            "<re.Match object; span=(0, 1), match='a'>\n",
            "<re.Match object; span=(0, 1), match='a'>\n"
          ]
        }
      ]
    },
    {
      "cell_type": "code",
      "source": [
        "# re.search() 함수 : 처음이 아니더라도 문자열 어딘가 패턴에 해당하는 문자가 있으면 그 위치를 반환\n",
        "print(re.search('a','a'))\n",
        "print(re.search('a','bbb'))\n",
        "print(re.search('a','bba'))\n",
        "print(re.search('a','sdfsdzxaa')) # 처음만나는 하나만 보여줌"
      ],
      "metadata": {
        "colab": {
          "base_uri": "https://localhost:8080/"
        },
        "id": "GRLXV6gHrO4A",
        "outputId": "82855326-5c86-41cf-b14b-106240037b78"
      },
      "execution_count": null,
      "outputs": [
        {
          "output_type": "stream",
          "name": "stdout",
          "text": [
            "<re.Match object; span=(0, 1), match='a'>\n",
            "None\n",
            "<re.Match object; span=(2, 3), match='a'>\n",
            "<re.Match object; span=(7, 8), match='a'>\n"
          ]
        }
      ]
    },
    {
      "cell_type": "code",
      "source": [
        "# re.findall() 함수 : 문자열 중에서 패턴이랑 일치하는 모든 부분을 찾아줌\n",
        "print(re.findall('a','a'))\n",
        "print(re.findall('a','abdca'))\n",
        "print(re.findall('a','aaaa'))\n",
        "print(re.findall('aaa','aaaa')) # 한 번 반환된 리스트는 재사용되지 않는다"
      ],
      "metadata": {
        "colab": {
          "base_uri": "https://localhost:8080/"
        },
        "id": "dpxVf6cgsYhc",
        "outputId": "677605ac-71d5-4a89-ad42-067d01daf16e"
      },
      "execution_count": null,
      "outputs": [
        {
          "output_type": "stream",
          "name": "stdout",
          "text": [
            "['a']\n",
            "['a', 'a']\n",
            "['a', 'a', 'a', 'a']\n",
            "['aaa']\n"
          ]
        }
      ]
    },
    {
      "cell_type": "code",
      "source": [
        "# re.finditer() 함수 : 패턴과 일치하는 모든 부분의 위치를 알 수 있음 \n",
        "where = re.finditer('a','abca')\n",
        "print(where)\n",
        "\n",
        "for w in where:\n",
        "  print(w)"
      ],
      "metadata": {
        "colab": {
          "base_uri": "https://localhost:8080/"
        },
        "id": "6qtolN9RtKSD",
        "outputId": "db34578f-f522-4ad5-9ce9-df24eb184975"
      },
      "execution_count": null,
      "outputs": [
        {
          "output_type": "stream",
          "name": "stdout",
          "text": [
            "<callable_iterator object at 0x7f5917ae1e10>\n",
            "<re.Match object; span=(0, 1), match='a'>\n",
            "<re.Match object; span=(3, 4), match='a'>\n"
          ]
        }
      ]
    },
    {
      "cell_type": "code",
      "source": [
        "# re.fullmatch() 함수 : 패턴과 문자열이 완벽하게 일치할 경우에 그 위치를 반환\n",
        "print(re.fullmatch('a','a'))\n",
        "print(re.fullmatch('a','aa'))\n",
        "print(re.fullmatch('a','abvs'))"
      ],
      "metadata": {
        "colab": {
          "base_uri": "https://localhost:8080/"
        },
        "id": "i2qKfIyKt8kG",
        "outputId": "a05f2c0c-08d4-4ff9-e458-ffc72a197001"
      },
      "execution_count": null,
      "outputs": [
        {
          "output_type": "stream",
          "name": "stdout",
          "text": [
            "<re.Match object; span=(0, 1), match='a'>\n",
            "None\n",
            "None\n"
          ]
        }
      ]
    },
    {
      "cell_type": "code",
      "source": [
        "matching = re.search('happy','Do not worry, be happy')\n",
        "print(matching)\n",
        "\n",
        "# match 관련 method\n",
        "print(matching.group()) # group() : 일치하는 문자열 반환\n",
        "print(matching.start()) # start() : 일치하는 문자열의 시작 위치 반환\n",
        "print(matching.end())   # end()   : 일치하는 문자열의 끝 위치 반환\n",
        "print(matching.span())  # span()  : 일치하는 문자열의 위치를 튜플로 반환 (시작위치, 끝위치)"
      ],
      "metadata": {
        "colab": {
          "base_uri": "https://localhost:8080/"
        },
        "id": "iUc8jBXSuxVZ",
        "outputId": "f2a095fa-161d-47c3-d608-bffc5ffe3cfa"
      },
      "execution_count": null,
      "outputs": [
        {
          "output_type": "stream",
          "name": "stdout",
          "text": [
            "<re.Match object; span=(17, 22), match='happy'>\n",
            "happy\n",
            "17\n",
            "22\n",
            "(17, 22)\n"
          ]
        }
      ]
    },
    {
      "cell_type": "markdown",
      "source": [
        "# 대괄호 [] : 여러가지 문자 중 하나랑 일치\n",
        "\n",
        "[] 대괄호 안에 원하는 문자를 여러개 넣고\n",
        "\n",
        "문자열에서 대괄호에 넣은 문자패턴과 일치하는게 하나라도 있는 경우에 매칭이 이루어짐 \n",
        "\n",
        "or || 개념과 비슷 \n",
        "\n",
        "re.match([a or b or c], 'a')"
      ],
      "metadata": {
        "id": "BS5Hl7zuwE_U"
      }
    },
    {
      "cell_type": "code",
      "source": [
        "matching = re.fullmatch(\"You['-:~/<>]re studying\",\"You:re studying\")\n",
        "print(matching)"
      ],
      "metadata": {
        "colab": {
          "base_uri": "https://localhost:8080/"
        },
        "id": "Y62W8bSfw44r",
        "outputId": "49177523-9f77-461a-dcdc-5d60d5233f93"
      },
      "execution_count": null,
      "outputs": [
        {
          "output_type": "stream",
          "name": "stdout",
          "text": [
            "<re.Match object; span=(0, 15), match='You:re studying'>\n"
          ]
        }
      ]
    },
    {
      "cell_type": "code",
      "source": [
        "# [a-z] : 소문자 a부터 z까지 하나만 있어도 매칭 가능\n",
        "# [A-Z]\n",
        "# [0-9]\n",
        "# 한글 => \n",
        "# 알파벳 대소문자 + 몇 개의 특수문자 : [A-z]\n",
        "# 알파벳 대소문자 => [A-Za-z]"
      ],
      "metadata": {
        "id": "ySCZwrHcx0iS"
      },
      "execution_count": null,
      "outputs": []
    },
    {
      "cell_type": "code",
      "source": [
        "# matching = re.search('happy [a-z]oliday','happy holiday')\n",
        "matching = re.search('happy [a-z-[h]]oliday','happy holiday') # 차집합 : a-z 중에서 h 빼고 @@ 다시 @@@\n",
        "print(matching)\n",
        "\n",
        "matching2 = re.search('happy [^0-9]oliday','happy holiday') # 0-9가 아닌 것 \n",
        "print(matching2)"
      ],
      "metadata": {
        "colab": {
          "base_uri": "https://localhost:8080/"
        },
        "id": "dbHcxwoBzESt",
        "outputId": "2bcdd557-0b33-4769-f1e0-4953b1eb9949"
      },
      "execution_count": null,
      "outputs": [
        {
          "output_type": "stream",
          "name": "stdout",
          "text": [
            "None\n",
            "<re.Match object; span=(0, 13), match='happy holiday'>\n"
          ]
        }
      ]
    },
    {
      "cell_type": "code",
      "source": [
        "# re.complie() 함수 : 사용하고자 하는 패턴이 자주 이용될 때 미리 컴파일 하는 용도\n",
        "# 마침표 . : 한개의 임의의 문자\n",
        "\n",
        "m = re.compile('a.c') # a와 c 사이에 어떠한 문자라도 1개가 올 수 있다.\n",
        "print(m.search('abc'))\n",
        "print(m.search('aaa'))\n",
        "\n",
        "m2 = re.compile('a..c')\n",
        "print(m2.search('abbc'))\n",
        "print(m2.search('asdcdsfdfs')) # a와 c 사이에 2개가 있으므로 만족"
      ],
      "metadata": {
        "colab": {
          "base_uri": "https://localhost:8080/"
        },
        "id": "fJlBm_1R5lYl",
        "outputId": "0069a595-a8f9-4972-a5d2-a229abba21b6"
      },
      "execution_count": null,
      "outputs": [
        {
          "output_type": "stream",
          "name": "stdout",
          "text": [
            "<re.Match object; span=(0, 3), match='abc'>\n",
            "None\n",
            "<re.Match object; span=(0, 4), match='abbc'>\n",
            "<re.Match object; span=(0, 4), match='asdc'>\n"
          ]
        }
      ]
    },
    {
      "cell_type": "code",
      "source": [
        "# 물음표 ? : 물음표 바로 앞에 있는 문자가 있을수도, 없을수도 있다는 것을 의미\n",
        "\n",
        "q = re.compile('ab?c')\n",
        "print(q.search('abc'))\n",
        "print(q.search('ac'))\n",
        "print(q.search('adc'))\n",
        "print(q.search('abdc'))"
      ],
      "metadata": {
        "colab": {
          "base_uri": "https://localhost:8080/"
        },
        "id": "-X6PxJ6V66aJ",
        "outputId": "24350b28-750d-43c5-cab1-a5cf05032e10"
      },
      "execution_count": null,
      "outputs": [
        {
          "output_type": "stream",
          "name": "stdout",
          "text": [
            "<re.Match object; span=(0, 3), match='abc'>\n",
            "<re.Match object; span=(0, 2), match='ac'>\n",
            "None\n",
            "None\n"
          ]
        }
      ]
    },
    {
      "cell_type": "code",
      "source": [
        "# * : * 바로 앞에 있는 문자가 0개 이상일 때 (없어도 되고, 많아도 됨)\n",
        " \n",
        "s = re.compile('ab*c')\n",
        "print(s.search('abc'))\n",
        "print(s.search('ac'))\n",
        "print(s.search('abbbbbc'))"
      ],
      "metadata": {
        "colab": {
          "base_uri": "https://localhost:8080/"
        },
        "id": "I7vjX3rw7x_S",
        "outputId": "eea1ec5e-4521-4657-aae5-aec7b9870c6a"
      },
      "execution_count": null,
      "outputs": [
        {
          "output_type": "stream",
          "name": "stdout",
          "text": [
            "<re.Match object; span=(0, 3), match='abc'>\n",
            "<re.Match object; span=(0, 2), match='ac'>\n",
            "<re.Match object; span=(0, 7), match='abbbbbc'>\n"
          ]
        }
      ]
    },
    {
      "cell_type": "code",
      "source": [
        "# + : *의 기능과 비슷하지만, + 앞에는 문자가 최소 한개 이상\n",
        "\n",
        "p = re.compile('ab+c')\n",
        "print(p.search('abcc'))\n",
        "print(p.search('abbbbbc'))\n",
        "print(p.search('ac'))\n",
        "print(p.search('absdfsc'))"
      ],
      "metadata": {
        "colab": {
          "base_uri": "https://localhost:8080/"
        },
        "id": "neXW4_IG9bNs",
        "outputId": "615c71cf-9cbe-4dc9-83c2-1b78fdcc4425"
      },
      "execution_count": null,
      "outputs": [
        {
          "output_type": "stream",
          "name": "stdout",
          "text": [
            "<re.Match object; span=(0, 3), match='abc'>\n",
            "<re.Match object; span=(0, 7), match='abbbbbc'>\n",
            "None\n",
            "None\n"
          ]
        }
      ]
    },
    {
      "cell_type": "code",
      "source": [
        "# ^ : ^ 뒤에 나오는 문자열과 동일해야 함. 그 문자열로 시작하기만 하면 매칭이 가능\n",
        "\n",
        "c = re.compile('^ab')\n",
        "print(c.search('abc'))\n",
        "print(c.search('gab'))\n",
        "print(c.search('aqkdjfs'))\n",
        "print(c.search('abdwkefwfsdflj'))"
      ],
      "metadata": {
        "colab": {
          "base_uri": "https://localhost:8080/"
        },
        "id": "6xmKanGM-iUP",
        "outputId": "d2e6355d-798c-43be-cac2-78770e03c36e"
      },
      "execution_count": null,
      "outputs": [
        {
          "output_type": "stream",
          "name": "stdout",
          "text": [
            "<re.Match object; span=(0, 2), match='ab'>\n",
            "None\n",
            "None\n",
            "<re.Match object; span=(0, 2), match='ab'>\n"
          ]
        }
      ]
    },
    {
      "cell_type": "code",
      "source": [
        "# {숫자} : {숫자} 바로 앞의 문자가 해당하는 숫자만큼 반복되어야 매칭 가능 \n",
        "n = re.compile('ab{3}c')\n",
        "print(n.search('abc'))\n",
        "print(n.search('abbc'))\n",
        "print(n.search('abbbc'))"
      ],
      "metadata": {
        "colab": {
          "base_uri": "https://localhost:8080/"
        },
        "id": "U9lhmgiW_HJM",
        "outputId": "21cda37f-ac78-4621-cffa-49b568961cb1"
      },
      "execution_count": null,
      "outputs": [
        {
          "output_type": "stream",
          "name": "stdout",
          "text": [
            "None\n",
            "None\n",
            "<re.Match object; span=(0, 5), match='abbbc'>\n"
          ]
        }
      ]
    },
    {
      "cell_type": "code",
      "source": [
        "# {숫자, 숫자} : {숫자, 숫자} 바로 앞의 문자가 해당하는 숫자만큼 반복되는데, {이상 : 이하}\n",
        "nn = re.compile('ab{2,5}c')\n",
        "print(nn.search('abc')) \n",
        "print(nn.search('abbc'))\n",
        "print(nn.search('abbbbbc'))\n",
        "print(nn.search('abbbbbbbc'))"
      ],
      "metadata": {
        "colab": {
          "base_uri": "https://localhost:8080/"
        },
        "id": "wwn9wCHc_rxn",
        "outputId": "49fc3c53-b15c-4a03-8591-a4a843934462"
      },
      "execution_count": null,
      "outputs": [
        {
          "output_type": "stream",
          "name": "stdout",
          "text": [
            "None\n",
            "<re.Match object; span=(0, 4), match='abbc'>\n",
            "<re.Match object; span=(0, 7), match='abbbbbc'>\n",
            "None\n"
          ]
        }
      ]
    },
    {
      "cell_type": "code",
      "source": [
        "# {숫자,} : {숫자,} 바로 앞의 문자가 해당하는 숫자 이상이기만 하면 매칭 \n",
        "\n",
        "nnn = re.compile('ab{3,}c')\n",
        "print(nnn.search('abc'))\n",
        "print(nnn.search('abbc'))\n",
        "print(nnn.search('abbbbbc'))\n",
        "print(nnn.search('abbbbbbbc'))"
      ],
      "metadata": {
        "colab": {
          "base_uri": "https://localhost:8080/"
        },
        "id": "yR7_Hx6eARA4",
        "outputId": "91347f52-045c-4ec8-d92f-7f47e7d1b067"
      },
      "execution_count": null,
      "outputs": [
        {
          "output_type": "stream",
          "name": "stdout",
          "text": [
            "None\n",
            "None\n",
            "<re.Match object; span=(0, 7), match='abbbbbc'>\n",
            "<re.Match object; span=(0, 9), match='abbbbbbbc'>\n"
          ]
        }
      ]
    },
    {
      "cell_type": "markdown",
      "source": [
        "# re.split() 함수 \n",
        "\n",
        "기본 : 공백 기준 분리\n",
        "- 띄어쓰기 기준으로 단어를 나눠서 리스트로 리턴\n",
        "\n"
      ],
      "metadata": {
        "id": "_UGIha_DA8b5"
      }
    },
    {
      "cell_type": "code",
      "source": [
        "t = '모니터 마우스 키보드 마이크 카메라 본체'\n",
        "re.split(' ',t)"
      ],
      "metadata": {
        "colab": {
          "base_uri": "https://localhost:8080/"
        },
        "id": "x_SfxSSMBYgR",
        "outputId": "8df02567-43d2-40f6-ad0c-f47ca6b9ab99"
      },
      "execution_count": null,
      "outputs": [
        {
          "output_type": "execute_result",
          "data": {
            "text/plain": [
              "['모니터', '마우스', '키보드', '마이크', '카메라', '본체']"
            ]
          },
          "metadata": {},
          "execution_count": 68
        }
      ]
    },
    {
      "cell_type": "code",
      "source": [
        "tt = \"\"\"모니터\n",
        "마우스\n",
        "키보드\n",
        "마이크\n",
        "카메라\n",
        "본체\"\"\"\n",
        "# print(tt)\n",
        "re.split(\"\\n\",tt)"
      ],
      "metadata": {
        "colab": {
          "base_uri": "https://localhost:8080/"
        },
        "id": "ep3v6HHnBfOy",
        "outputId": "8858cbd7-1382-40fc-829d-fc1ee8716863"
      },
      "execution_count": null,
      "outputs": [
        {
          "output_type": "execute_result",
          "data": {
            "text/plain": [
              "['모니터', '마우스', '키보드', '마이크', '카메라', '본체']"
            ]
          },
          "metadata": {},
          "execution_count": 74
        }
      ]
    },
    {
      "cell_type": "code",
      "source": [
        "ttt = \"모니터+마우스+키보드+마이크+카메라+본체\"\n",
        "re.split(\"\\+\",ttt)"
      ],
      "metadata": {
        "colab": {
          "base_uri": "https://localhost:8080/"
        },
        "id": "WgHAGu6DCMhg",
        "outputId": "cd41db0b-fbde-44ff-db7c-65b5039f6876"
      },
      "execution_count": null,
      "outputs": [
        {
          "output_type": "execute_result",
          "data": {
            "text/plain": [
              "['모니터', '마우스', '키보드', '마이크', '카메라', '본체']"
            ]
          },
          "metadata": {},
          "execution_count": 77
        }
      ]
    }
  ]
}