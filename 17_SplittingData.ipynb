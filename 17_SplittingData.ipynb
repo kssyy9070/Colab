{
  "nbformat": 4,
  "nbformat_minor": 0,
  "metadata": {
    "colab": {
      "name": "\bMay10_3_SplittingData.ipynb",
      "provenance": [],
      "authorship_tag": "ABX9TyPUVVyLAbTLo+h0DgxOK+GL"
    },
    "kernelspec": {
      "name": "python3",
      "display_name": "Python 3"
    },
    "language_info": {
      "name": "python"
    }
  },
  "cells": [
    {
      "cell_type": "markdown",
      "source": [
        "# Data 나누기 (Splitting Data)\n",
        "\n",
        "지도학습 : 문제와 정답을 함께 제공\n",
        "\n",
        "컴퓨터 입장 : 문제와 정답이 적혀있는 문제지를 보고 분석 -> 나중에 문제만 받았을 때, 가장 적절한 답을 도출하는 것\n",
        "\n",
        "x,y 로 분리\n",
        "\n",
        "x.train, x_test : 문제지 데이터 / 시험지 데이터\n",
        "\n",
        "y.train, y_test : 문제지 정답 데이터 / 시험지 정답 데이터"
      ],
      "metadata": {
        "id": "PcYfTv8OA_qL"
      }
    },
    {
      "cell_type": "code",
      "execution_count": null,
      "metadata": {
        "id": "LEi_t9hsAvdL"
      },
      "outputs": [],
      "source": [
        "import pandas as pd\n",
        "import numpy as np\n",
        "from sklearn.model_selection import train_test_split"
      ]
    },
    {
      "cell_type": "code",
      "source": [
        "# zip 함수 이용하여 분리하기\n",
        "# zip() : 같은 개수를 가진 순서가 있는 자료형에서 같은 위치에 있는 요소끼리 묶어서 나누기\n",
        "a,b=zip(['x',100],['y',200],['z',300])\n",
        "print(a)\n",
        "print(b)"
      ],
      "metadata": {
        "colab": {
          "base_uri": "https://localhost:8080/"
        },
        "id": "Lk-i8WcBCT8s",
        "outputId": "3cc61542-5397-40c2-8ff1-e41c9bbfd2b6"
      },
      "execution_count": null,
      "outputs": [
        {
          "output_type": "stream",
          "name": "stdout",
          "text": [
            "('x', 'y', 'z')\n",
            "(100, 200, 300)\n"
          ]
        }
      ]
    },
    {
      "cell_type": "code",
      "source": [
        "# 데이터프레임을 이용하여 분리하기\n",
        "values = [['피곤하시다고요?',1],\n",
        "          ['곧 점심시간이네',0],\n",
        "          ['밥 안먹고 쉬어야지',0],\n",
        "          ['(광고) 피곤할때는 비타민',1]] # 스팸은 1로\n",
        "columns = ['글 내용', '스팸 유무']\n",
        "df = pd.DataFrame(values, columns=columns)\n",
        "df"
      ],
      "metadata": {
        "colab": {
          "base_uri": "https://localhost:8080/",
          "height": 175
        },
        "id": "pNejnojLDl6r",
        "outputId": "b76d9ab3-38c7-45e8-e6f4-fd6677189e3c"
      },
      "execution_count": null,
      "outputs": [
        {
          "output_type": "execute_result",
          "data": {
            "text/plain": [
              "             글 내용  스팸 유무\n",
              "0        피곤하시다고요?      1\n",
              "1        곧 점심시간이네      0\n",
              "2      밥 안먹고 쉬어야지      0\n",
              "3  (광고) 피곤할때는 비타민      1"
            ],
            "text/html": [
              "\n",
              "  <div id=\"df-623b39be-cfd6-4f4c-b0a2-98076a2bd838\">\n",
              "    <div class=\"colab-df-container\">\n",
              "      <div>\n",
              "<style scoped>\n",
              "    .dataframe tbody tr th:only-of-type {\n",
              "        vertical-align: middle;\n",
              "    }\n",
              "\n",
              "    .dataframe tbody tr th {\n",
              "        vertical-align: top;\n",
              "    }\n",
              "\n",
              "    .dataframe thead th {\n",
              "        text-align: right;\n",
              "    }\n",
              "</style>\n",
              "<table border=\"1\" class=\"dataframe\">\n",
              "  <thead>\n",
              "    <tr style=\"text-align: right;\">\n",
              "      <th></th>\n",
              "      <th>글 내용</th>\n",
              "      <th>스팸 유무</th>\n",
              "    </tr>\n",
              "  </thead>\n",
              "  <tbody>\n",
              "    <tr>\n",
              "      <th>0</th>\n",
              "      <td>피곤하시다고요?</td>\n",
              "      <td>1</td>\n",
              "    </tr>\n",
              "    <tr>\n",
              "      <th>1</th>\n",
              "      <td>곧 점심시간이네</td>\n",
              "      <td>0</td>\n",
              "    </tr>\n",
              "    <tr>\n",
              "      <th>2</th>\n",
              "      <td>밥 안먹고 쉬어야지</td>\n",
              "      <td>0</td>\n",
              "    </tr>\n",
              "    <tr>\n",
              "      <th>3</th>\n",
              "      <td>(광고) 피곤할때는 비타민</td>\n",
              "      <td>1</td>\n",
              "    </tr>\n",
              "  </tbody>\n",
              "</table>\n",
              "</div>\n",
              "      <button class=\"colab-df-convert\" onclick=\"convertToInteractive('df-623b39be-cfd6-4f4c-b0a2-98076a2bd838')\"\n",
              "              title=\"Convert this dataframe to an interactive table.\"\n",
              "              style=\"display:none;\">\n",
              "        \n",
              "  <svg xmlns=\"http://www.w3.org/2000/svg\" height=\"24px\"viewBox=\"0 0 24 24\"\n",
              "       width=\"24px\">\n",
              "    <path d=\"M0 0h24v24H0V0z\" fill=\"none\"/>\n",
              "    <path d=\"M18.56 5.44l.94 2.06.94-2.06 2.06-.94-2.06-.94-.94-2.06-.94 2.06-2.06.94zm-11 1L8.5 8.5l.94-2.06 2.06-.94-2.06-.94L8.5 2.5l-.94 2.06-2.06.94zm10 10l.94 2.06.94-2.06 2.06-.94-2.06-.94-.94-2.06-.94 2.06-2.06.94z\"/><path d=\"M17.41 7.96l-1.37-1.37c-.4-.4-.92-.59-1.43-.59-.52 0-1.04.2-1.43.59L10.3 9.45l-7.72 7.72c-.78.78-.78 2.05 0 2.83L4 21.41c.39.39.9.59 1.41.59.51 0 1.02-.2 1.41-.59l7.78-7.78 2.81-2.81c.8-.78.8-2.07 0-2.86zM5.41 20L4 18.59l7.72-7.72 1.47 1.35L5.41 20z\"/>\n",
              "  </svg>\n",
              "      </button>\n",
              "      \n",
              "  <style>\n",
              "    .colab-df-container {\n",
              "      display:flex;\n",
              "      flex-wrap:wrap;\n",
              "      gap: 12px;\n",
              "    }\n",
              "\n",
              "    .colab-df-convert {\n",
              "      background-color: #E8F0FE;\n",
              "      border: none;\n",
              "      border-radius: 50%;\n",
              "      cursor: pointer;\n",
              "      display: none;\n",
              "      fill: #1967D2;\n",
              "      height: 32px;\n",
              "      padding: 0 0 0 0;\n",
              "      width: 32px;\n",
              "    }\n",
              "\n",
              "    .colab-df-convert:hover {\n",
              "      background-color: #E2EBFA;\n",
              "      box-shadow: 0px 1px 2px rgba(60, 64, 67, 0.3), 0px 1px 3px 1px rgba(60, 64, 67, 0.15);\n",
              "      fill: #174EA6;\n",
              "    }\n",
              "\n",
              "    [theme=dark] .colab-df-convert {\n",
              "      background-color: #3B4455;\n",
              "      fill: #D2E3FC;\n",
              "    }\n",
              "\n",
              "    [theme=dark] .colab-df-convert:hover {\n",
              "      background-color: #434B5C;\n",
              "      box-shadow: 0px 1px 3px 1px rgba(0, 0, 0, 0.15);\n",
              "      filter: drop-shadow(0px 1px 2px rgba(0, 0, 0, 0.3));\n",
              "      fill: #FFFFFF;\n",
              "    }\n",
              "  </style>\n",
              "\n",
              "      <script>\n",
              "        const buttonEl =\n",
              "          document.querySelector('#df-623b39be-cfd6-4f4c-b0a2-98076a2bd838 button.colab-df-convert');\n",
              "        buttonEl.style.display =\n",
              "          google.colab.kernel.accessAllowed ? 'block' : 'none';\n",
              "\n",
              "        async function convertToInteractive(key) {\n",
              "          const element = document.querySelector('#df-623b39be-cfd6-4f4c-b0a2-98076a2bd838');\n",
              "          const dataTable =\n",
              "            await google.colab.kernel.invokeFunction('convertToInteractive',\n",
              "                                                     [key], {});\n",
              "          if (!dataTable) return;\n",
              "\n",
              "          const docLinkHtml = 'Like what you see? Visit the ' +\n",
              "            '<a target=\"_blank\" href=https://colab.research.google.com/notebooks/data_table.ipynb>data table notebook</a>'\n",
              "            + ' to learn more about interactive tables.';\n",
              "          element.innerHTML = '';\n",
              "          dataTable['output_type'] = 'display_data';\n",
              "          await google.colab.output.renderOutput(dataTable, element);\n",
              "          const docLink = document.createElement('div');\n",
              "          docLink.innerHTML = docLinkHtml;\n",
              "          element.appendChild(docLink);\n",
              "        }\n",
              "      </script>\n",
              "    </div>\n",
              "  </div>\n",
              "  "
            ]
          },
          "metadata": {},
          "execution_count": 5
        }
      ]
    },
    {
      "cell_type": "code",
      "source": [
        "x = df['글 내용']\n",
        "y = df['스팸 유무']\n",
        "\n",
        "print(x)\n",
        "print(y)"
      ],
      "metadata": {
        "colab": {
          "base_uri": "https://localhost:8080/"
        },
        "id": "vY-W7WafEevw",
        "outputId": "49cb85fd-b444-4279-bf14-2874c0d1ab44"
      },
      "execution_count": null,
      "outputs": [
        {
          "output_type": "stream",
          "name": "stdout",
          "text": [
            "0          피곤하시다고요?\n",
            "1          곧 점심시간이네\n",
            "2        밥 안먹고 쉬어야지\n",
            "3    (광고) 피곤할때는 비타민\n",
            "Name: 글 내용, dtype: object\n",
            "0    1\n",
            "1    0\n",
            "2    0\n",
            "3    1\n",
            "Name: 스팸 유무, dtype: int64\n"
          ]
        }
      ]
    },
    {
      "cell_type": "code",
      "source": [
        "# list의 형태로 출력\n",
        "print('x 데이터 : ',x.to_list())\n",
        "print('y 데이터 : ',y.to_list())"
      ],
      "metadata": {
        "colab": {
          "base_uri": "https://localhost:8080/"
        },
        "id": "udI2fx-hYSdA",
        "outputId": "e1e72e01-6e3d-4246-a6bc-7cf67e009cf7"
      },
      "execution_count": null,
      "outputs": [
        {
          "output_type": "stream",
          "name": "stdout",
          "text": [
            "x 데이터 :  ['피곤하시다고요?', '곧 점심시간이네', '밥 안먹고 쉬어야지', '(광고) 피곤할때는 비타민']\n",
            "y 데이터 :  [1, 0, 0, 1]\n"
          ]
        }
      ]
    },
    {
      "cell_type": "code",
      "source": [
        "# Numpy를 이용해서 데이터 분리하기\n",
        "# 임의의 데이터를 만들어서 -> Slicing을 통해 데이터 분리\n",
        "\n",
        "np_array = np.arange(0,16).reshape((4,4))\n",
        "print('전체 데이터 : ')\n",
        "print(np_array)"
      ],
      "metadata": {
        "colab": {
          "base_uri": "https://localhost:8080/"
        },
        "id": "-8evEYuDYqQ3",
        "outputId": "074bb5f6-d480-4875-bf08-dbed2588afab"
      },
      "execution_count": null,
      "outputs": [
        {
          "output_type": "stream",
          "name": "stdout",
          "text": [
            "전체 데이터 : \n",
            "[[ 0  1  2  3]\n",
            " [ 4  5  6  7]\n",
            " [ 8  9 10 11]\n",
            " [12 13 14 15]]\n"
          ]
        }
      ]
    },
    {
      "cell_type": "code",
      "source": [
        "# 마지막 열을 제외하고 x에 저장\n",
        "x = np_array[:,:3]\n",
        "# 마지막 열만 y에 저장\n",
        "y = np_array[:,3]\n",
        "\n",
        "print('x')\n",
        "print(x)\n",
        "print()\n",
        "print('y : ',y)"
      ],
      "metadata": {
        "colab": {
          "base_uri": "https://localhost:8080/"
        },
        "id": "JvpNLiB4aiHV",
        "outputId": "890dc31f-6598-47d2-c428-f7ef77aee6ea"
      },
      "execution_count": null,
      "outputs": [
        {
          "output_type": "stream",
          "name": "stdout",
          "text": [
            "x\n",
            "[[ 0  1  2]\n",
            " [ 4  5  6]\n",
            " [ 8  9 10]\n",
            " [12 13 14]]\n",
            "\n",
            "y :  [ 3  7 11 15]\n"
          ]
        }
      ]
    },
    {
      "cell_type": "markdown",
      "source": [
        "# 테스트 데이터 분리하기"
      ],
      "metadata": {
        "id": "BPWeDKnUcJp_"
      }
    },
    {
      "cell_type": "markdown",
      "source": [
        "# Scikit-learn을 이용하여 분리"
      ],
      "metadata": {
        "id": "lr0zEzhccWFw"
      }
    },
    {
      "cell_type": "code",
      "source": [
        "# Scikit-learn은 학습용 데이터와 테스트용 데이터를 쉽게 분리할 수 있게 해주는 \n",
        "#     train_test_split()을 지원해줌\n",
        "\n",
        "x_train, x_test, y_train, y_test = train_test_split(x,y,test_size=0.2, random_state=1234, shuffle=True)\n",
        "\n",
        "# x : 독립 변수 데이터 (배열이나 데이터프레임)\n",
        "# y : 종속 변수 데이터, 레이블 데이터\n",
        "#   레이블 : 학습 데이터의 무엇을 분석할지에 따라서 정의되는 데이터\n",
        "# test_size : 테스트용 데이터 개수를 지정함 / 1보다 작은 실수를 입력하면, 비율을 나타냄\n",
        "# train_size : 학습용 데이터 개수를 지저함 / 1보다 작은 실수를 입력하면, 비율을 나타냄\n",
        "#   test_size와 train_size는 둘 중 하나만 입력해도 됨\n",
        "# random_state : 난수 시드\n",
        "# shuffle : 데이터를 섞느냐 마느냐"
      ],
      "metadata": {
        "id": "-gQ33DGqcZ6i"
      },
      "execution_count": null,
      "outputs": []
    },
    {
      "cell_type": "code",
      "source": [
        "# 임의로 x와 y 데이터 생성\n",
        "\n",
        "x,y = np.arange(0,15).reshape((5,3)), range(5)\n",
        "print('x : ')\n",
        "print(x)\n",
        "print('y : ')\n",
        "print(list(y))"
      ],
      "metadata": {
        "colab": {
          "base_uri": "https://localhost:8080/"
        },
        "id": "g2XZuCNceVcg",
        "outputId": "07a35d48-4a6e-498d-9761-aaa8a3ec8a12"
      },
      "execution_count": null,
      "outputs": [
        {
          "output_type": "stream",
          "name": "stdout",
          "text": [
            "x : \n",
            "[[ 0  1  2]\n",
            " [ 3  4  5]\n",
            " [ 6  7  8]\n",
            " [ 9 10 11]\n",
            " [12 13 14]]\n",
            "y : \n",
            "[0, 1, 2, 3, 4]\n"
          ]
        }
      ]
    },
    {
      "cell_type": "code",
      "source": [
        "# 7:3의 비율로 훈련 데이터와 테스트 데이터를 분리\n",
        "x_train, x_test, y_train, y_test = train_test_split(x,y,test_size=0.3,random_state=0)"
      ],
      "metadata": {
        "id": "ogp6Lm_dfP7N"
      },
      "execution_count": null,
      "outputs": []
    },
    {
      "cell_type": "code",
      "source": [
        "# 70%의 비율로 분리된 x의 훈련 데이터와 30%의 비율로 분리된 x의 테스트 데이터\n",
        "print('x훈련 데이터 : ')\n",
        "print(x_train)\n",
        "print('x 테스트 데이터 : ')\n",
        "print(x_test)"
      ],
      "metadata": {
        "colab": {
          "base_uri": "https://localhost:8080/"
        },
        "id": "uPqNm4TxjwQb",
        "outputId": "577434e6-60a2-4c17-c6e8-5a67fed82f78"
      },
      "execution_count": null,
      "outputs": [
        {
          "output_type": "stream",
          "name": "stdout",
          "text": [
            "x훈련 데이터 : \n",
            "[[ 3  4  5]\n",
            " [ 9 10 11]\n",
            " [12 13 14]]\n",
            "x 테스트 데이터 : \n",
            "[[6 7 8]\n",
            " [0 1 2]]\n"
          ]
        }
      ]
    },
    {
      "cell_type": "code",
      "source": [
        "# 70%의 비율로 분리된 y의 훈련 데이터와 30% 비율로 분리된 y의 테스트 데이터\n",
        "print('y 훈련 데이터 : ')\n",
        "print(y_train)\n",
        "print('y 테스트 데이터 : ')\n",
        "print(y_test)"
      ],
      "metadata": {
        "id": "lT2tTCpGkIUH"
      },
      "execution_count": null,
      "outputs": []
    },
    {
      "cell_type": "markdown",
      "source": [
        "# 수동으로 분리하기"
      ],
      "metadata": {
        "id": "pMZ-MqC0kfrc"
      }
    },
    {
      "cell_type": "code",
      "source": [
        "x, y = np.arange(24).reshape(12,2), range(12)\n",
        "\n",
        "print('x 전체 : ')\n",
        "print(x)\n",
        "print('y 전체 : ')\n",
        "print(list(y))"
      ],
      "metadata": {
        "colab": {
          "base_uri": "https://localhost:8080/"
        },
        "id": "s3-F91R0kmch",
        "outputId": "b8bb93d8-56eb-4d1e-f6fb-c72fa309057c"
      },
      "execution_count": null,
      "outputs": [
        {
          "output_type": "stream",
          "name": "stdout",
          "text": [
            "x 전체 : \n",
            "[[ 0  1]\n",
            " [ 2  3]\n",
            " [ 4  5]\n",
            " [ 6  7]\n",
            " [ 8  9]\n",
            " [10 11]\n",
            " [12 13]\n",
            " [14 15]\n",
            " [16 17]\n",
            " [18 19]\n",
            " [20 21]\n",
            " [22 23]]\n",
            "y 전체 : \n",
            "[0, 1, 2, 3, 4, 5, 6, 7, 8, 9, 10, 11]\n"
          ]
        }
      ]
    },
    {
      "cell_type": "code",
      "source": [
        "# 훈련 데이터의 개수와 테스트 데이터의 개수 정하기\n",
        "\n",
        "num_of_train = int(len(x) * 0.8)      # 훈련 데이터의 개수 : x의 전체 데이터의 80%\n",
        "num_of_test = len(x) - num_of_train   # 테스트 데이터의 개수 : 전체 - 80%\n",
        "\n",
        "\n",
        "print(num_of_train)\n",
        "print(num_of_test)"
      ],
      "metadata": {
        "colab": {
          "base_uri": "https://localhost:8080/"
        },
        "id": "6DONlpgmlKxl",
        "outputId": "5556acb4-3c0a-426c-f82a-32e7fa37da52"
      },
      "execution_count": null,
      "outputs": [
        {
          "output_type": "stream",
          "name": "stdout",
          "text": [
            "9\n",
            "3\n"
          ]
        }
      ]
    },
    {
      "cell_type": "code",
      "source": [
        "# 아직 훈련 데이터와 테스트 데이터를 나눈 것은 아니고.\n",
        "# 이 둘의 개수를 몇 개로 할 지 정하기만 한 상태\n",
        "# \bx, y 데이터의 80%만큼 앞의 데이터를 훈련 데이터로,\n",
        "# 나머지 20%만큼의 뒤의 데이터를 테스트 데이터로\n",
        "\n",
        "x_train = x[:num_of_train]\n",
        "y_train = y[:num_of_train]\n",
        "x_test = x[num_of_train:]\n",
        "y_test = y[num_of_train:]"
      ],
      "metadata": {
        "id": "qimSi8gfmAAj"
      },
      "execution_count": null,
      "outputs": []
    },
    {
      "cell_type": "code",
      "source": [
        "print(x_train)\n",
        "print(list(y_train))\n",
        "print(x_test)\n",
        "print(list(y_test))"
      ],
      "metadata": {
        "colab": {
          "base_uri": "https://localhost:8080/"
        },
        "id": "OrXfUnrvoXXU",
        "outputId": "0267d774-4658-4ef6-deb2-61756c978fce"
      },
      "execution_count": null,
      "outputs": [
        {
          "output_type": "stream",
          "name": "stdout",
          "text": [
            "[[ 0  1]\n",
            " [ 2  3]\n",
            " [ 4  5]\n",
            " [ 6  7]\n",
            " [ 8  9]\n",
            " [10 11]\n",
            " [12 13]\n",
            " [14 15]\n",
            " [16 17]]\n",
            "[0, 1, 2, 3, 4, 5, 6, 7, 8]\n",
            "[[18 19]\n",
            " [20 21]\n",
            " [22 23]]\n",
            "[9, 10, 11]\n"
          ]
        }
      ]
    }
  ]
}