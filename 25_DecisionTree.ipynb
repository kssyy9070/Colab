{
  "nbformat": 4,
  "nbformat_minor": 0,
  "metadata": {
    "colab": {
      "name": "May12_4_DecisionTree.ipynb",
      "provenance": [],
      "collapsed_sections": [],
      "authorship_tag": "ABX9TyPDFdwydDtT9ZQfoMiLQNkW"
    },
    "kernelspec": {
      "name": "python3",
      "display_name": "Python 3"
    },
    "language_info": {
      "name": "python"
    }
  },
  "cells": [
    {
      "cell_type": "code",
      "execution_count": null,
      "metadata": {
        "id": "essnm6WhEtUm"
      },
      "outputs": [],
      "source": [
        "from sklearn import datasets\n",
        "from sklearn import tree\n",
        "from sklearn.tree import DecisionTreeClassifier\n",
        "from sklearn.model_selection import train_test_split"
      ]
    },
    {
      "cell_type": "code",
      "source": [
        "cancer = datasets.load_breast_cancer()\n",
        "cancer"
      ],
      "metadata": {
        "colab": {
          "base_uri": "https://localhost:8080/"
        },
        "id": "soPczp1yFQj5",
        "outputId": "9262615b-2e9c-4a97-bb4a-22bf0613026a"
      },
      "execution_count": null,
      "outputs": [
        {
          "output_type": "execute_result",
          "data": {
            "text/plain": [
              "{'DESCR': '.. _breast_cancer_dataset:\\n\\nBreast cancer wisconsin (diagnostic) dataset\\n--------------------------------------------\\n\\n**Data Set Characteristics:**\\n\\n    :Number of Instances: 569\\n\\n    :Number of Attributes: 30 numeric, predictive attributes and the class\\n\\n    :Attribute Information:\\n        - radius (mean of distances from center to points on the perimeter)\\n        - texture (standard deviation of gray-scale values)\\n        - perimeter\\n        - area\\n        - smoothness (local variation in radius lengths)\\n        - compactness (perimeter^2 / area - 1.0)\\n        - concavity (severity of concave portions of the contour)\\n        - concave points (number of concave portions of the contour)\\n        - symmetry\\n        - fractal dimension (\"coastline approximation\" - 1)\\n\\n        The mean, standard error, and \"worst\" or largest (mean of the three\\n        worst/largest values) of these features were computed for each image,\\n        resulting in 30 features.  For instance, field 0 is Mean Radius, field\\n        10 is Radius SE, field 20 is Worst Radius.\\n\\n        - class:\\n                - WDBC-Malignant\\n                - WDBC-Benign\\n\\n    :Summary Statistics:\\n\\n    ===================================== ====== ======\\n                                           Min    Max\\n    ===================================== ====== ======\\n    radius (mean):                        6.981  28.11\\n    texture (mean):                       9.71   39.28\\n    perimeter (mean):                     43.79  188.5\\n    area (mean):                          143.5  2501.0\\n    smoothness (mean):                    0.053  0.163\\n    compactness (mean):                   0.019  0.345\\n    concavity (mean):                     0.0    0.427\\n    concave points (mean):                0.0    0.201\\n    symmetry (mean):                      0.106  0.304\\n    fractal dimension (mean):             0.05   0.097\\n    radius (standard error):              0.112  2.873\\n    texture (standard error):             0.36   4.885\\n    perimeter (standard error):           0.757  21.98\\n    area (standard error):                6.802  542.2\\n    smoothness (standard error):          0.002  0.031\\n    compactness (standard error):         0.002  0.135\\n    concavity (standard error):           0.0    0.396\\n    concave points (standard error):      0.0    0.053\\n    symmetry (standard error):            0.008  0.079\\n    fractal dimension (standard error):   0.001  0.03\\n    radius (worst):                       7.93   36.04\\n    texture (worst):                      12.02  49.54\\n    perimeter (worst):                    50.41  251.2\\n    area (worst):                         185.2  4254.0\\n    smoothness (worst):                   0.071  0.223\\n    compactness (worst):                  0.027  1.058\\n    concavity (worst):                    0.0    1.252\\n    concave points (worst):               0.0    0.291\\n    symmetry (worst):                     0.156  0.664\\n    fractal dimension (worst):            0.055  0.208\\n    ===================================== ====== ======\\n\\n    :Missing Attribute Values: None\\n\\n    :Class Distribution: 212 - Malignant, 357 - Benign\\n\\n    :Creator:  Dr. William H. Wolberg, W. Nick Street, Olvi L. Mangasarian\\n\\n    :Donor: Nick Street\\n\\n    :Date: November, 1995\\n\\nThis is a copy of UCI ML Breast Cancer Wisconsin (Diagnostic) datasets.\\nhttps://goo.gl/U2Uwz2\\n\\nFeatures are computed from a digitized image of a fine needle\\naspirate (FNA) of a breast mass.  They describe\\ncharacteristics of the cell nuclei present in the image.\\n\\nSeparating plane described above was obtained using\\nMultisurface Method-Tree (MSM-T) [K. P. Bennett, \"Decision Tree\\nConstruction Via Linear Programming.\" Proceedings of the 4th\\nMidwest Artificial Intelligence and Cognitive Science Society,\\npp. 97-101, 1992], a classification method which uses linear\\nprogramming to construct a decision tree.  Relevant features\\nwere selected using an exhaustive search in the space of 1-4\\nfeatures and 1-3 separating planes.\\n\\nThe actual linear program used to obtain the separating plane\\nin the 3-dimensional space is that described in:\\n[K. P. Bennett and O. L. Mangasarian: \"Robust Linear\\nProgramming Discrimination of Two Linearly Inseparable Sets\",\\nOptimization Methods and Software 1, 1992, 23-34].\\n\\nThis database is also available through the UW CS ftp server:\\n\\nftp ftp.cs.wisc.edu\\ncd math-prog/cpo-dataset/machine-learn/WDBC/\\n\\n.. topic:: References\\n\\n   - W.N. Street, W.H. Wolberg and O.L. Mangasarian. Nuclear feature extraction \\n     for breast tumor diagnosis. IS&T/SPIE 1993 International Symposium on \\n     Electronic Imaging: Science and Technology, volume 1905, pages 861-870,\\n     San Jose, CA, 1993.\\n   - O.L. Mangasarian, W.N. Street and W.H. Wolberg. Breast cancer diagnosis and \\n     prognosis via linear programming. Operations Research, 43(4), pages 570-577, \\n     July-August 1995.\\n   - W.H. Wolberg, W.N. Street, and O.L. Mangasarian. Machine learning techniques\\n     to diagnose breast cancer from fine-needle aspirates. Cancer Letters 77 (1994) \\n     163-171.',\n",
              " 'data': array([[1.799e+01, 1.038e+01, 1.228e+02, ..., 2.654e-01, 4.601e-01,\n",
              "         1.189e-01],\n",
              "        [2.057e+01, 1.777e+01, 1.329e+02, ..., 1.860e-01, 2.750e-01,\n",
              "         8.902e-02],\n",
              "        [1.969e+01, 2.125e+01, 1.300e+02, ..., 2.430e-01, 3.613e-01,\n",
              "         8.758e-02],\n",
              "        ...,\n",
              "        [1.660e+01, 2.808e+01, 1.083e+02, ..., 1.418e-01, 2.218e-01,\n",
              "         7.820e-02],\n",
              "        [2.060e+01, 2.933e+01, 1.401e+02, ..., 2.650e-01, 4.087e-01,\n",
              "         1.240e-01],\n",
              "        [7.760e+00, 2.454e+01, 4.792e+01, ..., 0.000e+00, 2.871e-01,\n",
              "         7.039e-02]]),\n",
              " 'data_module': 'sklearn.datasets.data',\n",
              " 'feature_names': array(['mean radius', 'mean texture', 'mean perimeter', 'mean area',\n",
              "        'mean smoothness', 'mean compactness', 'mean concavity',\n",
              "        'mean concave points', 'mean symmetry', 'mean fractal dimension',\n",
              "        'radius error', 'texture error', 'perimeter error', 'area error',\n",
              "        'smoothness error', 'compactness error', 'concavity error',\n",
              "        'concave points error', 'symmetry error',\n",
              "        'fractal dimension error', 'worst radius', 'worst texture',\n",
              "        'worst perimeter', 'worst area', 'worst smoothness',\n",
              "        'worst compactness', 'worst concavity', 'worst concave points',\n",
              "        'worst symmetry', 'worst fractal dimension'], dtype='<U23'),\n",
              " 'filename': 'breast_cancer.csv',\n",
              " 'frame': None,\n",
              " 'target': array([0, 0, 0, 0, 0, 0, 0, 0, 0, 0, 0, 0, 0, 0, 0, 0, 0, 0, 0, 1, 1, 1,\n",
              "        0, 0, 0, 0, 0, 0, 0, 0, 0, 0, 0, 0, 0, 0, 0, 1, 0, 0, 0, 0, 0, 0,\n",
              "        0, 0, 1, 0, 1, 1, 1, 1, 1, 0, 0, 1, 0, 0, 1, 1, 1, 1, 0, 1, 0, 0,\n",
              "        1, 1, 1, 1, 0, 1, 0, 0, 1, 0, 1, 0, 0, 1, 1, 1, 0, 0, 1, 0, 0, 0,\n",
              "        1, 1, 1, 0, 1, 1, 0, 0, 1, 1, 1, 0, 0, 1, 1, 1, 1, 0, 1, 1, 0, 1,\n",
              "        1, 1, 1, 1, 1, 1, 1, 0, 0, 0, 1, 0, 0, 1, 1, 1, 0, 0, 1, 0, 1, 0,\n",
              "        0, 1, 0, 0, 1, 1, 0, 1, 1, 0, 1, 1, 1, 1, 0, 1, 1, 1, 1, 1, 1, 1,\n",
              "        1, 1, 0, 1, 1, 1, 1, 0, 0, 1, 0, 1, 1, 0, 0, 1, 1, 0, 0, 1, 1, 1,\n",
              "        1, 0, 1, 1, 0, 0, 0, 1, 0, 1, 0, 1, 1, 1, 0, 1, 1, 0, 0, 1, 0, 0,\n",
              "        0, 0, 1, 0, 0, 0, 1, 0, 1, 0, 1, 1, 0, 1, 0, 0, 0, 0, 1, 1, 0, 0,\n",
              "        1, 1, 1, 0, 1, 1, 1, 1, 1, 0, 0, 1, 1, 0, 1, 1, 0, 0, 1, 0, 1, 1,\n",
              "        1, 1, 0, 1, 1, 1, 1, 1, 0, 1, 0, 0, 0, 0, 0, 0, 0, 0, 0, 0, 0, 0,\n",
              "        0, 0, 1, 1, 1, 1, 1, 1, 0, 1, 0, 1, 1, 0, 1, 1, 0, 1, 0, 0, 1, 1,\n",
              "        1, 1, 1, 1, 1, 1, 1, 1, 1, 1, 1, 0, 1, 1, 0, 1, 0, 1, 1, 1, 1, 1,\n",
              "        1, 1, 1, 1, 1, 1, 1, 1, 1, 0, 1, 1, 1, 0, 1, 0, 1, 1, 1, 1, 0, 0,\n",
              "        0, 1, 1, 1, 1, 0, 1, 0, 1, 0, 1, 1, 1, 0, 1, 1, 1, 1, 1, 1, 1, 0,\n",
              "        0, 0, 1, 1, 1, 1, 1, 1, 1, 1, 1, 1, 1, 0, 0, 1, 0, 0, 0, 1, 0, 0,\n",
              "        1, 1, 1, 1, 1, 0, 1, 1, 1, 1, 1, 0, 1, 1, 1, 0, 1, 1, 0, 0, 1, 1,\n",
              "        1, 1, 1, 1, 0, 1, 1, 1, 1, 1, 1, 1, 0, 1, 1, 1, 1, 1, 0, 1, 1, 0,\n",
              "        1, 1, 1, 1, 1, 1, 1, 1, 1, 1, 1, 1, 0, 1, 0, 0, 1, 0, 1, 1, 1, 1,\n",
              "        1, 0, 1, 1, 0, 1, 0, 1, 1, 0, 1, 0, 1, 1, 1, 1, 1, 1, 1, 1, 0, 0,\n",
              "        1, 1, 1, 1, 1, 1, 0, 1, 1, 1, 1, 1, 1, 1, 1, 1, 1, 0, 1, 1, 1, 1,\n",
              "        1, 1, 1, 0, 1, 0, 1, 1, 0, 1, 1, 1, 1, 1, 0, 0, 1, 0, 1, 0, 1, 1,\n",
              "        1, 1, 1, 0, 1, 1, 0, 1, 0, 1, 0, 0, 1, 1, 1, 0, 1, 1, 1, 1, 1, 1,\n",
              "        1, 1, 1, 1, 1, 0, 1, 0, 0, 1, 1, 1, 1, 1, 1, 1, 1, 1, 1, 1, 1, 1,\n",
              "        1, 1, 1, 1, 1, 1, 1, 1, 1, 1, 1, 1, 0, 0, 0, 0, 0, 0, 1]),\n",
              " 'target_names': array(['malignant', 'benign'], dtype='<U9')}"
            ]
          },
          "metadata": {},
          "execution_count": 5
        }
      ]
    },
    {
      "cell_type": "code",
      "source": [
        "# 이 데이터의 모양 (?행, ?열)\n",
        "print(cancer.data.shape)"
      ],
      "metadata": {
        "colab": {
          "base_uri": "https://localhost:8080/"
        },
        "id": "1wIIjp3hFee-",
        "outputId": "a48a54c9-5ad7-4785-bf86-61b5bea6047c"
      },
      "execution_count": null,
      "outputs": [
        {
          "output_type": "stream",
          "name": "stdout",
          "text": [
            "(569, 30)\n"
          ]
        }
      ]
    },
    {
      "cell_type": "code",
      "source": [
        "# 변수 이름들\n",
        "print(cancer.feature_names)\n",
        "# target 이름\n",
        "print(cancer.target_names)"
      ],
      "metadata": {
        "colab": {
          "base_uri": "https://localhost:8080/"
        },
        "id": "R9Yq2JJfFswM",
        "outputId": "3fa30d6c-e5ea-450b-e3a9-c45008f27d3d"
      },
      "execution_count": null,
      "outputs": [
        {
          "output_type": "stream",
          "name": "stdout",
          "text": [
            "['mean radius' 'mean texture' 'mean perimeter' 'mean area'\n",
            " 'mean smoothness' 'mean compactness' 'mean concavity'\n",
            " 'mean concave points' 'mean symmetry' 'mean fractal dimension'\n",
            " 'radius error' 'texture error' 'perimeter error' 'area error'\n",
            " 'smoothness error' 'compactness error' 'concavity error'\n",
            " 'concave points error' 'symmetry error' 'fractal dimension error'\n",
            " 'worst radius' 'worst texture' 'worst perimeter' 'worst area'\n",
            " 'worst smoothness' 'worst compactness' 'worst concavity'\n",
            " 'worst concave points' 'worst symmetry' 'worst fractal dimension']\n",
            "['malignant' 'benign']\n"
          ]
        }
      ]
    },
    {
      "cell_type": "code",
      "source": [
        "# target 실제값을 수치로 변환한 값 출력\n",
        "print(cancer.target)"
      ],
      "metadata": {
        "colab": {
          "base_uri": "https://localhost:8080/"
        },
        "id": "FthYpjxbFvcC",
        "outputId": "04955555-5462-4219-85c3-a005f4498b6e"
      },
      "execution_count": null,
      "outputs": [
        {
          "output_type": "stream",
          "name": "stdout",
          "text": [
            "[0 0 0 0 0 0 0 0 0 0 0 0 0 0 0 0 0 0 0 1 1 1 0 0 0 0 0 0 0 0 0 0 0 0 0 0 0\n",
            " 1 0 0 0 0 0 0 0 0 1 0 1 1 1 1 1 0 0 1 0 0 1 1 1 1 0 1 0 0 1 1 1 1 0 1 0 0\n",
            " 1 0 1 0 0 1 1 1 0 0 1 0 0 0 1 1 1 0 1 1 0 0 1 1 1 0 0 1 1 1 1 0 1 1 0 1 1\n",
            " 1 1 1 1 1 1 0 0 0 1 0 0 1 1 1 0 0 1 0 1 0 0 1 0 0 1 1 0 1 1 0 1 1 1 1 0 1\n",
            " 1 1 1 1 1 1 1 1 0 1 1 1 1 0 0 1 0 1 1 0 0 1 1 0 0 1 1 1 1 0 1 1 0 0 0 1 0\n",
            " 1 0 1 1 1 0 1 1 0 0 1 0 0 0 0 1 0 0 0 1 0 1 0 1 1 0 1 0 0 0 0 1 1 0 0 1 1\n",
            " 1 0 1 1 1 1 1 0 0 1 1 0 1 1 0 0 1 0 1 1 1 1 0 1 1 1 1 1 0 1 0 0 0 0 0 0 0\n",
            " 0 0 0 0 0 0 0 1 1 1 1 1 1 0 1 0 1 1 0 1 1 0 1 0 0 1 1 1 1 1 1 1 1 1 1 1 1\n",
            " 1 0 1 1 0 1 0 1 1 1 1 1 1 1 1 1 1 1 1 1 1 0 1 1 1 0 1 0 1 1 1 1 0 0 0 1 1\n",
            " 1 1 0 1 0 1 0 1 1 1 0 1 1 1 1 1 1 1 0 0 0 1 1 1 1 1 1 1 1 1 1 1 0 0 1 0 0\n",
            " 0 1 0 0 1 1 1 1 1 0 1 1 1 1 1 0 1 1 1 0 1 1 0 0 1 1 1 1 1 1 0 1 1 1 1 1 1\n",
            " 1 0 1 1 1 1 1 0 1 1 0 1 1 1 1 1 1 1 1 1 1 1 1 0 1 0 0 1 0 1 1 1 1 1 0 1 1\n",
            " 0 1 0 1 1 0 1 0 1 1 1 1 1 1 1 1 0 0 1 1 1 1 1 1 0 1 1 1 1 1 1 1 1 1 1 0 1\n",
            " 1 1 1 1 1 1 0 1 0 1 1 0 1 1 1 1 1 0 0 1 0 1 0 1 1 1 1 1 0 1 1 0 1 0 1 0 0\n",
            " 1 1 1 0 1 1 1 1 1 1 1 1 1 1 1 0 1 0 0 1 1 1 1 1 1 1 1 1 1 1 1 1 1 1 1 1 1\n",
            " 1 1 1 1 1 1 1 0 0 0 0 0 0 1]\n"
          ]
        }
      ]
    },
    {
      "cell_type": "code",
      "source": [
        "# 양성 / 음성 데이터가 몇개인지 출력\n",
        "can = (cancer['target']==0).sum()\n",
        "print(can)\n",
        "\n",
        "cer = (cancer['target']==1).sum()\n",
        "print(cer)\n",
        "\n",
        "# 구성비가 다르다. 구성비가 불균형하다 라는 것을 알 수 있음"
      ],
      "metadata": {
        "colab": {
          "base_uri": "https://localhost:8080/"
        },
        "id": "fq5yVfBMIK2k",
        "outputId": "ae6a4f98-df44-43a3-9911-c3aa07ccece4"
      },
      "execution_count": null,
      "outputs": [
        {
          "output_type": "stream",
          "name": "stdout",
          "text": [
            "212\n",
            "357\n"
          ]
        }
      ]
    },
    {
      "cell_type": "code",
      "source": [
        "# 이 데이터를 훈련용, 테스트용으로 나누고, 시험지, 정답지로 나누기\n",
        "x = cancer.data\n",
        "y = cancer.target\n",
        "\n",
        "x_train, x_test, y_train, y_test = train_test_split(x,y,test_size=0.2,\n",
        "                                                    random_state=1024,\n",
        "                                                    stratify=cancer.target\n",
        "                                                    # 구성비가 다른 불균형 상황에서는 stratify 옵션 넣어주기\n",
        "                                                    # train, test 데이터에 있는 label 값의 비율이 서로 다르면\n",
        "                                                    # 학습결과나 모델평가 등에서 잘못된 영향을 끼칠 가능성이 있음\n",
        "                                                    # dataset쪽의 클래스의 비율과 같은 비율로 조정\n",
        "                                                    )"
      ],
      "metadata": {
        "id": "evbSgc4hI2wG"
      },
      "execution_count": null,
      "outputs": []
    },
    {
      "cell_type": "code",
      "source": [
        "# 의사결정나무 모델 생성 (깊이 = 4)\n",
        "cancer_tree = DecisionTreeClassifier(max_depth=4)"
      ],
      "metadata": {
        "id": "JNzzs9dnK8I7"
      },
      "execution_count": null,
      "outputs": []
    },
    {
      "cell_type": "code",
      "source": [
        "# 모델 학습\n",
        "cancer_tree.fit(x, y)"
      ],
      "metadata": {
        "colab": {
          "base_uri": "https://localhost:8080/"
        },
        "id": "NVa0FQ1PMCDX",
        "outputId": "df129188-7ebe-4dc7-b9c5-ebe920bbd4c6"
      },
      "execution_count": null,
      "outputs": [
        {
          "output_type": "execute_result",
          "data": {
            "text/plain": [
              "DecisionTreeClassifier(max_depth=4)"
            ]
          },
          "metadata": {},
          "execution_count": 25
        }
      ]
    },
    {
      "cell_type": "code",
      "source": [
        "# 정확도 확인\n",
        "print(cancer_tree.score(x_train,y_train))\n",
        "print(cancer_tree.score(x_test,y_test))"
      ],
      "metadata": {
        "colab": {
          "base_uri": "https://localhost:8080/"
        },
        "id": "ThZdyYLJMJNl",
        "outputId": "93adb508-b326-47fb-e7b0-4874b025e2ca"
      },
      "execution_count": null,
      "outputs": [
        {
          "output_type": "stream",
          "name": "stdout",
          "text": [
            "0.989010989010989\n",
            "0.956140350877193\n"
          ]
        }
      ]
    },
    {
      "cell_type": "code",
      "source": [
        "from sklearn.tree import export_graphviz\n",
        "from subprocess import check_call\n",
        "import graphviz"
      ],
      "metadata": {
        "id": "PRj7I4EQMfVH"
      },
      "execution_count": null,
      "outputs": []
    },
    {
      "cell_type": "code",
      "source": [
        "# dot -> png로 나타내는 작업\n",
        "# 열의 이름으로 분류하게 -> 예측할 클래스의 이름을 '양성','음성'\n",
        "cancerTree = export_graphviz(\n",
        "    cancer_tree,\n",
        "    out_file=None,\n",
        "    feature_names=cancer.feature_names,\n",
        "    class_names = ['양성','음성'],\n",
        "    rounded = True,\n",
        "    filled = True\n",
        "\n",
        ")\n",
        "\n",
        "graph = graphviz.Source(cancerTree)\n",
        "graph"
      ],
      "metadata": {
        "colab": {
          "base_uri": "https://localhost:8080/",
          "height": 778
        },
        "id": "dp4LYZ0gMyoK",
        "outputId": "c6526c57-d983-4582-b761-d297632b75c7"
      },
      "execution_count": null,
      "outputs": [
        {
          "output_type": "execute_result",
          "data": {
            "text/plain": [
              "<graphviz.files.Source at 0x7fcb1362c350>"
            ],
            "image/svg+xml": "<?xml version=\"1.0\" encoding=\"UTF-8\" standalone=\"no\"?>\n<!DOCTYPE svg PUBLIC \"-//W3C//DTD SVG 1.1//EN\"\n \"http://www.w3.org/Graphics/SVG/1.1/DTD/svg11.dtd\">\n<!-- Generated by graphviz version 2.40.1 (20161225.0304)\n -->\n<!-- Title: Tree Pages: 1 -->\n<svg width=\"1345pt\" height=\"552pt\"\n viewBox=\"0.00 0.00 1345.00 552.00\" xmlns=\"http://www.w3.org/2000/svg\" xmlns:xlink=\"http://www.w3.org/1999/xlink\">\n<g id=\"graph0\" class=\"graph\" transform=\"scale(1 1) rotate(0) translate(4 548)\">\n<title>Tree</title>\n<polygon fill=\"#ffffff\" stroke=\"transparent\" points=\"-4,4 -4,-548 1341,-548 1341,4 -4,4\"/>\n<!-- 0 -->\n<g id=\"node1\" class=\"node\">\n<title>0</title>\n<path fill=\"#afd7f4\" stroke=\"#000000\" d=\"M796,-544C796,-544 656,-544 656,-544 650,-544 644,-538 644,-532 644,-532 644,-473 644,-473 644,-467 650,-461 656,-461 656,-461 796,-461 796,-461 802,-461 808,-467 808,-473 808,-473 808,-532 808,-532 808,-538 802,-544 796,-544\"/>\n<text text-anchor=\"middle\" x=\"726\" y=\"-528.8\" font-family=\"Helvetica,sans-Serif\" font-size=\"14.00\" fill=\"#000000\">worst radius &lt;= 16.795</text>\n<text text-anchor=\"middle\" x=\"726\" y=\"-513.8\" font-family=\"Helvetica,sans-Serif\" font-size=\"14.00\" fill=\"#000000\">gini = 0.468</text>\n<text text-anchor=\"middle\" x=\"726\" y=\"-498.8\" font-family=\"Helvetica,sans-Serif\" font-size=\"14.00\" fill=\"#000000\">samples = 569</text>\n<text text-anchor=\"middle\" x=\"726\" y=\"-483.8\" font-family=\"Helvetica,sans-Serif\" font-size=\"14.00\" fill=\"#000000\">value = [212, 357]</text>\n<text text-anchor=\"middle\" x=\"726\" y=\"-468.8\" font-family=\"Helvetica,sans-Serif\" font-size=\"14.00\" fill=\"#000000\">class = 음성</text>\n</g>\n<!-- 1 -->\n<g id=\"node2\" class=\"node\">\n<title>1</title>\n<path fill=\"#4ca6e7\" stroke=\"#000000\" d=\"M651,-425C651,-425 461,-425 461,-425 455,-425 449,-419 449,-413 449,-413 449,-354 449,-354 449,-348 455,-342 461,-342 461,-342 651,-342 651,-342 657,-342 663,-348 663,-354 663,-354 663,-413 663,-413 663,-419 657,-425 651,-425\"/>\n<text text-anchor=\"middle\" x=\"556\" y=\"-409.8\" font-family=\"Helvetica,sans-Serif\" font-size=\"14.00\" fill=\"#000000\">worst concave points &lt;= 0.136</text>\n<text text-anchor=\"middle\" x=\"556\" y=\"-394.8\" font-family=\"Helvetica,sans-Serif\" font-size=\"14.00\" fill=\"#000000\">gini = 0.159</text>\n<text text-anchor=\"middle\" x=\"556\" y=\"-379.8\" font-family=\"Helvetica,sans-Serif\" font-size=\"14.00\" fill=\"#000000\">samples = 379</text>\n<text text-anchor=\"middle\" x=\"556\" y=\"-364.8\" font-family=\"Helvetica,sans-Serif\" font-size=\"14.00\" fill=\"#000000\">value = [33, 346]</text>\n<text text-anchor=\"middle\" x=\"556\" y=\"-349.8\" font-family=\"Helvetica,sans-Serif\" font-size=\"14.00\" fill=\"#000000\">class = 음성</text>\n</g>\n<!-- 0&#45;&gt;1 -->\n<g id=\"edge1\" class=\"edge\">\n<title>0&#45;&gt;1</title>\n<path fill=\"none\" stroke=\"#000000\" d=\"M666.5422,-460.8796C652.6954,-451.1868 637.8516,-440.7961 623.6788,-430.8752\"/>\n<polygon fill=\"#000000\" stroke=\"#000000\" points=\"625.6236,-427.9643 615.4242,-425.0969 621.6094,-433.6989 625.6236,-427.9643\"/>\n<text text-anchor=\"middle\" x=\"619.7688\" y=\"-446.0165\" font-family=\"Helvetica,sans-Serif\" font-size=\"14.00\" fill=\"#000000\">True</text>\n</g>\n<!-- 14 -->\n<g id=\"node15\" class=\"node\">\n<title>14</title>\n<path fill=\"#e78945\" stroke=\"#000000\" d=\"M905,-425C905,-425 767,-425 767,-425 761,-425 755,-419 755,-413 755,-413 755,-354 755,-354 755,-348 761,-342 767,-342 767,-342 905,-342 905,-342 911,-342 917,-348 917,-354 917,-354 917,-413 917,-413 917,-419 911,-425 905,-425\"/>\n<text text-anchor=\"middle\" x=\"836\" y=\"-409.8\" font-family=\"Helvetica,sans-Serif\" font-size=\"14.00\" fill=\"#000000\">mean texture &lt;= 16.11</text>\n<text text-anchor=\"middle\" x=\"836\" y=\"-394.8\" font-family=\"Helvetica,sans-Serif\" font-size=\"14.00\" fill=\"#000000\">gini = 0.109</text>\n<text text-anchor=\"middle\" x=\"836\" y=\"-379.8\" font-family=\"Helvetica,sans-Serif\" font-size=\"14.00\" fill=\"#000000\">samples = 190</text>\n<text text-anchor=\"middle\" x=\"836\" y=\"-364.8\" font-family=\"Helvetica,sans-Serif\" font-size=\"14.00\" fill=\"#000000\">value = [179, 11]</text>\n<text text-anchor=\"middle\" x=\"836\" y=\"-349.8\" font-family=\"Helvetica,sans-Serif\" font-size=\"14.00\" fill=\"#000000\">class = 양성</text>\n</g>\n<!-- 0&#45;&gt;14 -->\n<g id=\"edge14\" class=\"edge\">\n<title>0&#45;&gt;14</title>\n<path fill=\"none\" stroke=\"#000000\" d=\"M764.4727,-460.8796C772.8811,-451.7832 781.8576,-442.0722 790.5103,-432.7116\"/>\n<polygon fill=\"#000000\" stroke=\"#000000\" points=\"793.1453,-435.0172 797.3631,-425.2981 788.005,-430.2656 793.1453,-435.0172\"/>\n<text text-anchor=\"middle\" x=\"798.3449\" y=\"-446.5788\" font-family=\"Helvetica,sans-Serif\" font-size=\"14.00\" fill=\"#000000\">False</text>\n</g>\n<!-- 2 -->\n<g id=\"node3\" class=\"node\">\n<title>2</title>\n<path fill=\"#3c9ee5\" stroke=\"#000000\" d=\"M378.5,-306C378.5,-306 251.5,-306 251.5,-306 245.5,-306 239.5,-300 239.5,-294 239.5,-294 239.5,-235 239.5,-235 239.5,-229 245.5,-223 251.5,-223 251.5,-223 378.5,-223 378.5,-223 384.5,-223 390.5,-229 390.5,-235 390.5,-235 390.5,-294 390.5,-294 390.5,-300 384.5,-306 378.5,-306\"/>\n<text text-anchor=\"middle\" x=\"315\" y=\"-290.8\" font-family=\"Helvetica,sans-Serif\" font-size=\"14.00\" fill=\"#000000\">radius error &lt;= 1.048</text>\n<text text-anchor=\"middle\" x=\"315\" y=\"-275.8\" font-family=\"Helvetica,sans-Serif\" font-size=\"14.00\" fill=\"#000000\">gini = 0.03</text>\n<text text-anchor=\"middle\" x=\"315\" y=\"-260.8\" font-family=\"Helvetica,sans-Serif\" font-size=\"14.00\" fill=\"#000000\">samples = 333</text>\n<text text-anchor=\"middle\" x=\"315\" y=\"-245.8\" font-family=\"Helvetica,sans-Serif\" font-size=\"14.00\" fill=\"#000000\">value = [5, 328]</text>\n<text text-anchor=\"middle\" x=\"315\" y=\"-230.8\" font-family=\"Helvetica,sans-Serif\" font-size=\"14.00\" fill=\"#000000\">class = 음성</text>\n</g>\n<!-- 1&#45;&gt;2 -->\n<g id=\"edge2\" class=\"edge\">\n<title>1&#45;&gt;2</title>\n<path fill=\"none\" stroke=\"#000000\" d=\"M471.7099,-341.8796C448.4628,-330.4007 423.2335,-317.9431 399.9493,-306.4459\"/>\n<polygon fill=\"#000000\" stroke=\"#000000\" points=\"401.3049,-303.2119 390.7888,-301.9227 398.2057,-309.4885 401.3049,-303.2119\"/>\n</g>\n<!-- 7 -->\n<g id=\"node8\" class=\"node\">\n<title>7</title>\n<path fill=\"#f6d2b8\" stroke=\"#000000\" d=\"M624,-306C624,-306 488,-306 488,-306 482,-306 476,-300 476,-294 476,-294 476,-235 476,-235 476,-229 482,-223 488,-223 488,-223 624,-223 624,-223 630,-223 636,-229 636,-235 636,-235 636,-294 636,-294 636,-300 630,-306 624,-306\"/>\n<text text-anchor=\"middle\" x=\"556\" y=\"-290.8\" font-family=\"Helvetica,sans-Serif\" font-size=\"14.00\" fill=\"#000000\">worst texture &lt;= 25.67</text>\n<text text-anchor=\"middle\" x=\"556\" y=\"-275.8\" font-family=\"Helvetica,sans-Serif\" font-size=\"14.00\" fill=\"#000000\">gini = 0.476</text>\n<text text-anchor=\"middle\" x=\"556\" y=\"-260.8\" font-family=\"Helvetica,sans-Serif\" font-size=\"14.00\" fill=\"#000000\">samples = 46</text>\n<text text-anchor=\"middle\" x=\"556\" y=\"-245.8\" font-family=\"Helvetica,sans-Serif\" font-size=\"14.00\" fill=\"#000000\">value = [28, 18]</text>\n<text text-anchor=\"middle\" x=\"556\" y=\"-230.8\" font-family=\"Helvetica,sans-Serif\" font-size=\"14.00\" fill=\"#000000\">class = 양성</text>\n</g>\n<!-- 1&#45;&gt;7 -->\n<g id=\"edge7\" class=\"edge\">\n<title>1&#45;&gt;7</title>\n<path fill=\"none\" stroke=\"#000000\" d=\"M556,-341.8796C556,-333.6838 556,-324.9891 556,-316.5013\"/>\n<polygon fill=\"#000000\" stroke=\"#000000\" points=\"559.5001,-316.298 556,-306.2981 552.5001,-316.2981 559.5001,-316.298\"/>\n</g>\n<!-- 3 -->\n<g id=\"node4\" class=\"node\">\n<title>3</title>\n<path fill=\"#3b9ee5\" stroke=\"#000000\" d=\"M235.5,-187C235.5,-187 110.5,-187 110.5,-187 104.5,-187 98.5,-181 98.5,-175 98.5,-175 98.5,-116 98.5,-116 98.5,-110 104.5,-104 110.5,-104 110.5,-104 235.5,-104 235.5,-104 241.5,-104 247.5,-110 247.5,-116 247.5,-116 247.5,-175 247.5,-175 247.5,-181 241.5,-187 235.5,-187\"/>\n<text text-anchor=\"middle\" x=\"173\" y=\"-171.8\" font-family=\"Helvetica,sans-Serif\" font-size=\"14.00\" fill=\"#000000\">area error &lt;= 38.605</text>\n<text text-anchor=\"middle\" x=\"173\" y=\"-156.8\" font-family=\"Helvetica,sans-Serif\" font-size=\"14.00\" fill=\"#000000\">gini = 0.024</text>\n<text text-anchor=\"middle\" x=\"173\" y=\"-141.8\" font-family=\"Helvetica,sans-Serif\" font-size=\"14.00\" fill=\"#000000\">samples = 332</text>\n<text text-anchor=\"middle\" x=\"173\" y=\"-126.8\" font-family=\"Helvetica,sans-Serif\" font-size=\"14.00\" fill=\"#000000\">value = [4, 328]</text>\n<text text-anchor=\"middle\" x=\"173\" y=\"-111.8\" font-family=\"Helvetica,sans-Serif\" font-size=\"14.00\" fill=\"#000000\">class = 음성</text>\n</g>\n<!-- 2&#45;&gt;3 -->\n<g id=\"edge3\" class=\"edge\">\n<title>2&#45;&gt;3</title>\n<path fill=\"none\" stroke=\"#000000\" d=\"M265.3353,-222.8796C254.1584,-213.513 242.2038,-203.4948 230.7288,-193.8784\"/>\n<polygon fill=\"#000000\" stroke=\"#000000\" points=\"232.7893,-191.0386 222.8767,-187.2981 228.2931,-196.4037 232.7893,-191.0386\"/>\n</g>\n<!-- 6 -->\n<g id=\"node7\" class=\"node\">\n<title>6</title>\n<path fill=\"#e58139\" stroke=\"#000000\" d=\"M352.5,-179.5C352.5,-179.5 277.5,-179.5 277.5,-179.5 271.5,-179.5 265.5,-173.5 265.5,-167.5 265.5,-167.5 265.5,-123.5 265.5,-123.5 265.5,-117.5 271.5,-111.5 277.5,-111.5 277.5,-111.5 352.5,-111.5 352.5,-111.5 358.5,-111.5 364.5,-117.5 364.5,-123.5 364.5,-123.5 364.5,-167.5 364.5,-167.5 364.5,-173.5 358.5,-179.5 352.5,-179.5\"/>\n<text text-anchor=\"middle\" x=\"315\" y=\"-164.3\" font-family=\"Helvetica,sans-Serif\" font-size=\"14.00\" fill=\"#000000\">gini = 0.0</text>\n<text text-anchor=\"middle\" x=\"315\" y=\"-149.3\" font-family=\"Helvetica,sans-Serif\" font-size=\"14.00\" fill=\"#000000\">samples = 1</text>\n<text text-anchor=\"middle\" x=\"315\" y=\"-134.3\" font-family=\"Helvetica,sans-Serif\" font-size=\"14.00\" fill=\"#000000\">value = [1, 0]</text>\n<text text-anchor=\"middle\" x=\"315\" y=\"-119.3\" font-family=\"Helvetica,sans-Serif\" font-size=\"14.00\" fill=\"#000000\">class = 양성</text>\n</g>\n<!-- 2&#45;&gt;6 -->\n<g id=\"edge6\" class=\"edge\">\n<title>2&#45;&gt;6</title>\n<path fill=\"none\" stroke=\"#000000\" d=\"M315,-222.8796C315,-212.2134 315,-200.7021 315,-189.9015\"/>\n<polygon fill=\"#000000\" stroke=\"#000000\" points=\"318.5001,-189.8149 315,-179.8149 311.5001,-189.815 318.5001,-189.8149\"/>\n</g>\n<!-- 4 -->\n<g id=\"node5\" class=\"node\">\n<title>4</title>\n<path fill=\"#3a9ee5\" stroke=\"#000000\" d=\"M104,-68C104,-68 12,-68 12,-68 6,-68 0,-62 0,-56 0,-56 0,-12 0,-12 0,-6 6,0 12,0 12,0 104,0 104,0 110,0 116,-6 116,-12 116,-12 116,-56 116,-56 116,-62 110,-68 104,-68\"/>\n<text text-anchor=\"middle\" x=\"58\" y=\"-52.8\" font-family=\"Helvetica,sans-Serif\" font-size=\"14.00\" fill=\"#000000\">gini = 0.012</text>\n<text text-anchor=\"middle\" x=\"58\" y=\"-37.8\" font-family=\"Helvetica,sans-Serif\" font-size=\"14.00\" fill=\"#000000\">samples = 319</text>\n<text text-anchor=\"middle\" x=\"58\" y=\"-22.8\" font-family=\"Helvetica,sans-Serif\" font-size=\"14.00\" fill=\"#000000\">value = [2, 317]</text>\n<text text-anchor=\"middle\" x=\"58\" y=\"-7.8\" font-family=\"Helvetica,sans-Serif\" font-size=\"14.00\" fill=\"#000000\">class = 음성</text>\n</g>\n<!-- 3&#45;&gt;4 -->\n<g id=\"edge4\" class=\"edge\">\n<title>3&#45;&gt;4</title>\n<path fill=\"none\" stroke=\"#000000\" d=\"M130.1782,-103.9815C120.5095,-94.607 110.2473,-84.6572 100.5882,-75.2921\"/>\n<polygon fill=\"#000000\" stroke=\"#000000\" points=\"102.9551,-72.7118 93.3392,-68.2637 98.0824,-77.7375 102.9551,-72.7118\"/>\n</g>\n<!-- 5 -->\n<g id=\"node6\" class=\"node\">\n<title>5</title>\n<path fill=\"#5dafea\" stroke=\"#000000\" d=\"M229.5,-68C229.5,-68 146.5,-68 146.5,-68 140.5,-68 134.5,-62 134.5,-56 134.5,-56 134.5,-12 134.5,-12 134.5,-6 140.5,0 146.5,0 146.5,0 229.5,0 229.5,0 235.5,0 241.5,-6 241.5,-12 241.5,-12 241.5,-56 241.5,-56 241.5,-62 235.5,-68 229.5,-68\"/>\n<text text-anchor=\"middle\" x=\"188\" y=\"-52.8\" font-family=\"Helvetica,sans-Serif\" font-size=\"14.00\" fill=\"#000000\">gini = 0.26</text>\n<text text-anchor=\"middle\" x=\"188\" y=\"-37.8\" font-family=\"Helvetica,sans-Serif\" font-size=\"14.00\" fill=\"#000000\">samples = 13</text>\n<text text-anchor=\"middle\" x=\"188\" y=\"-22.8\" font-family=\"Helvetica,sans-Serif\" font-size=\"14.00\" fill=\"#000000\">value = [2, 11]</text>\n<text text-anchor=\"middle\" x=\"188\" y=\"-7.8\" font-family=\"Helvetica,sans-Serif\" font-size=\"14.00\" fill=\"#000000\">class = 음성</text>\n</g>\n<!-- 3&#45;&gt;5 -->\n<g id=\"edge5\" class=\"edge\">\n<title>3&#45;&gt;5</title>\n<path fill=\"none\" stroke=\"#000000\" d=\"M178.5854,-103.9815C179.7106,-95.618 180.8973,-86.7965 182.0349,-78.3409\"/>\n<polygon fill=\"#000000\" stroke=\"#000000\" points=\"185.5259,-78.6411 183.3905,-68.2637 178.5884,-77.7077 185.5259,-78.6411\"/>\n</g>\n<!-- 8 -->\n<g id=\"node9\" class=\"node\">\n<title>8</title>\n<path fill=\"#6eb7ec\" stroke=\"#000000\" d=\"M515.5,-187C515.5,-187 394.5,-187 394.5,-187 388.5,-187 382.5,-181 382.5,-175 382.5,-175 382.5,-116 382.5,-116 382.5,-110 388.5,-104 394.5,-104 394.5,-104 515.5,-104 515.5,-104 521.5,-104 527.5,-110 527.5,-116 527.5,-116 527.5,-175 527.5,-175 527.5,-181 521.5,-187 515.5,-187\"/>\n<text text-anchor=\"middle\" x=\"455\" y=\"-171.8\" font-family=\"Helvetica,sans-Serif\" font-size=\"14.00\" fill=\"#000000\">worst area &lt;= 810.3</text>\n<text text-anchor=\"middle\" x=\"455\" y=\"-156.8\" font-family=\"Helvetica,sans-Serif\" font-size=\"14.00\" fill=\"#000000\">gini = 0.332</text>\n<text text-anchor=\"middle\" x=\"455\" y=\"-141.8\" font-family=\"Helvetica,sans-Serif\" font-size=\"14.00\" fill=\"#000000\">samples = 19</text>\n<text text-anchor=\"middle\" x=\"455\" y=\"-126.8\" font-family=\"Helvetica,sans-Serif\" font-size=\"14.00\" fill=\"#000000\">value = [4, 15]</text>\n<text text-anchor=\"middle\" x=\"455\" y=\"-111.8\" font-family=\"Helvetica,sans-Serif\" font-size=\"14.00\" fill=\"#000000\">class = 음성</text>\n</g>\n<!-- 7&#45;&gt;8 -->\n<g id=\"edge8\" class=\"edge\">\n<title>7&#45;&gt;8</title>\n<path fill=\"none\" stroke=\"#000000\" d=\"M520.6751,-222.8796C513.0311,-213.8733 504.8757,-204.2644 497.0039,-194.9897\"/>\n<polygon fill=\"#000000\" stroke=\"#000000\" points=\"499.6151,-192.6574 490.4757,-187.2981 494.2782,-197.1871 499.6151,-192.6574\"/>\n</g>\n<!-- 11 -->\n<g id=\"node12\" class=\"node\">\n<title>11</title>\n<path fill=\"#e89152\" stroke=\"#000000\" d=\"M750,-187C750,-187 558,-187 558,-187 552,-187 546,-181 546,-175 546,-175 546,-116 546,-116 546,-110 552,-104 558,-104 558,-104 750,-104 750,-104 756,-104 762,-110 762,-116 762,-116 762,-175 762,-175 762,-181 756,-187 750,-187\"/>\n<text text-anchor=\"middle\" x=\"654\" y=\"-171.8\" font-family=\"Helvetica,sans-Serif\" font-size=\"14.00\" fill=\"#000000\">mean concave points &lt;= 0.054</text>\n<text text-anchor=\"middle\" x=\"654\" y=\"-156.8\" font-family=\"Helvetica,sans-Serif\" font-size=\"14.00\" fill=\"#000000\">gini = 0.198</text>\n<text text-anchor=\"middle\" x=\"654\" y=\"-141.8\" font-family=\"Helvetica,sans-Serif\" font-size=\"14.00\" fill=\"#000000\">samples = 27</text>\n<text text-anchor=\"middle\" x=\"654\" y=\"-126.8\" font-family=\"Helvetica,sans-Serif\" font-size=\"14.00\" fill=\"#000000\">value = [24, 3]</text>\n<text text-anchor=\"middle\" x=\"654\" y=\"-111.8\" font-family=\"Helvetica,sans-Serif\" font-size=\"14.00\" fill=\"#000000\">class = 양성</text>\n</g>\n<!-- 7&#45;&gt;11 -->\n<g id=\"edge11\" class=\"edge\">\n<title>7&#45;&gt;11</title>\n<path fill=\"none\" stroke=\"#000000\" d=\"M590.2756,-222.8796C597.6184,-213.9633 605.4476,-204.4565 613.0146,-195.268\"/>\n<polygon fill=\"#000000\" stroke=\"#000000\" points=\"615.9227,-197.2424 619.5781,-187.2981 610.5192,-192.7924 615.9227,-197.2424\"/>\n</g>\n<!-- 9 -->\n<g id=\"node10\" class=\"node\">\n<title>9</title>\n<path fill=\"#47a4e7\" stroke=\"#000000\" d=\"M413.5,-68C413.5,-68 330.5,-68 330.5,-68 324.5,-68 318.5,-62 318.5,-56 318.5,-56 318.5,-12 318.5,-12 318.5,-6 324.5,0 330.5,0 330.5,0 413.5,0 413.5,0 419.5,0 425.5,-6 425.5,-12 425.5,-12 425.5,-56 425.5,-56 425.5,-62 419.5,-68 413.5,-68\"/>\n<text text-anchor=\"middle\" x=\"372\" y=\"-52.8\" font-family=\"Helvetica,sans-Serif\" font-size=\"14.00\" fill=\"#000000\">gini = 0.124</text>\n<text text-anchor=\"middle\" x=\"372\" y=\"-37.8\" font-family=\"Helvetica,sans-Serif\" font-size=\"14.00\" fill=\"#000000\">samples = 15</text>\n<text text-anchor=\"middle\" x=\"372\" y=\"-22.8\" font-family=\"Helvetica,sans-Serif\" font-size=\"14.00\" fill=\"#000000\">value = [1, 14]</text>\n<text text-anchor=\"middle\" x=\"372\" y=\"-7.8\" font-family=\"Helvetica,sans-Serif\" font-size=\"14.00\" fill=\"#000000\">class = 음성</text>\n</g>\n<!-- 8&#45;&gt;9 -->\n<g id=\"edge9\" class=\"edge\">\n<title>8&#45;&gt;9</title>\n<path fill=\"none\" stroke=\"#000000\" d=\"M424.0939,-103.9815C417.3892,-94.9747 410.2892,-85.4367 403.5597,-76.3965\"/>\n<polygon fill=\"#000000\" stroke=\"#000000\" points=\"406.2845,-74.1953 397.5057,-68.2637 400.6694,-78.3752 406.2845,-74.1953\"/>\n</g>\n<!-- 10 -->\n<g id=\"node11\" class=\"node\">\n<title>10</title>\n<path fill=\"#eeab7b\" stroke=\"#000000\" d=\"M530.5,-68C530.5,-68 455.5,-68 455.5,-68 449.5,-68 443.5,-62 443.5,-56 443.5,-56 443.5,-12 443.5,-12 443.5,-6 449.5,0 455.5,0 455.5,0 530.5,0 530.5,0 536.5,0 542.5,-6 542.5,-12 542.5,-12 542.5,-56 542.5,-56 542.5,-62 536.5,-68 530.5,-68\"/>\n<text text-anchor=\"middle\" x=\"493\" y=\"-52.8\" font-family=\"Helvetica,sans-Serif\" font-size=\"14.00\" fill=\"#000000\">gini = 0.375</text>\n<text text-anchor=\"middle\" x=\"493\" y=\"-37.8\" font-family=\"Helvetica,sans-Serif\" font-size=\"14.00\" fill=\"#000000\">samples = 4</text>\n<text text-anchor=\"middle\" x=\"493\" y=\"-22.8\" font-family=\"Helvetica,sans-Serif\" font-size=\"14.00\" fill=\"#000000\">value = [3, 1]</text>\n<text text-anchor=\"middle\" x=\"493\" y=\"-7.8\" font-family=\"Helvetica,sans-Serif\" font-size=\"14.00\" fill=\"#000000\">class = 양성</text>\n</g>\n<!-- 8&#45;&gt;10 -->\n<g id=\"edge10\" class=\"edge\">\n<title>8&#45;&gt;10</title>\n<path fill=\"none\" stroke=\"#000000\" d=\"M469.1498,-103.9815C472.0628,-95.4342 475.1388,-86.4086 478.0781,-77.7839\"/>\n<polygon fill=\"#000000\" stroke=\"#000000\" points=\"481.4096,-78.8582 481.3227,-68.2637 474.7839,-76.6 481.4096,-78.8582\"/>\n</g>\n<!-- 12 -->\n<g id=\"node13\" class=\"node\">\n<title>12</title>\n<path fill=\"#ffffff\" stroke=\"#000000\" d=\"M676.5,-68C676.5,-68 601.5,-68 601.5,-68 595.5,-68 589.5,-62 589.5,-56 589.5,-56 589.5,-12 589.5,-12 589.5,-6 595.5,0 601.5,0 601.5,0 676.5,0 676.5,0 682.5,0 688.5,-6 688.5,-12 688.5,-12 688.5,-56 688.5,-56 688.5,-62 682.5,-68 676.5,-68\"/>\n<text text-anchor=\"middle\" x=\"639\" y=\"-52.8\" font-family=\"Helvetica,sans-Serif\" font-size=\"14.00\" fill=\"#000000\">gini = 0.5</text>\n<text text-anchor=\"middle\" x=\"639\" y=\"-37.8\" font-family=\"Helvetica,sans-Serif\" font-size=\"14.00\" fill=\"#000000\">samples = 6</text>\n<text text-anchor=\"middle\" x=\"639\" y=\"-22.8\" font-family=\"Helvetica,sans-Serif\" font-size=\"14.00\" fill=\"#000000\">value = [3, 3]</text>\n<text text-anchor=\"middle\" x=\"639\" y=\"-7.8\" font-family=\"Helvetica,sans-Serif\" font-size=\"14.00\" fill=\"#000000\">class = 양성</text>\n</g>\n<!-- 11&#45;&gt;12 -->\n<g id=\"edge12\" class=\"edge\">\n<title>11&#45;&gt;12</title>\n<path fill=\"none\" stroke=\"#000000\" d=\"M648.4146,-103.9815C647.2894,-95.618 646.1027,-86.7965 644.9651,-78.3409\"/>\n<polygon fill=\"#000000\" stroke=\"#000000\" points=\"648.4116,-77.7077 643.6095,-68.2637 641.4741,-78.6411 648.4116,-77.7077\"/>\n</g>\n<!-- 13 -->\n<g id=\"node14\" class=\"node\">\n<title>13</title>\n<path fill=\"#e58139\" stroke=\"#000000\" d=\"M801.5,-68C801.5,-68 718.5,-68 718.5,-68 712.5,-68 706.5,-62 706.5,-56 706.5,-56 706.5,-12 706.5,-12 706.5,-6 712.5,0 718.5,0 718.5,0 801.5,0 801.5,0 807.5,0 813.5,-6 813.5,-12 813.5,-12 813.5,-56 813.5,-56 813.5,-62 807.5,-68 801.5,-68\"/>\n<text text-anchor=\"middle\" x=\"760\" y=\"-52.8\" font-family=\"Helvetica,sans-Serif\" font-size=\"14.00\" fill=\"#000000\">gini = 0.0</text>\n<text text-anchor=\"middle\" x=\"760\" y=\"-37.8\" font-family=\"Helvetica,sans-Serif\" font-size=\"14.00\" fill=\"#000000\">samples = 21</text>\n<text text-anchor=\"middle\" x=\"760\" y=\"-22.8\" font-family=\"Helvetica,sans-Serif\" font-size=\"14.00\" fill=\"#000000\">value = [21, 0]</text>\n<text text-anchor=\"middle\" x=\"760\" y=\"-7.8\" font-family=\"Helvetica,sans-Serif\" font-size=\"14.00\" fill=\"#000000\">class = 양성</text>\n</g>\n<!-- 11&#45;&gt;13 -->\n<g id=\"edge13\" class=\"edge\">\n<title>11&#45;&gt;13</title>\n<path fill=\"none\" stroke=\"#000000\" d=\"M693.4705,-103.9815C702.2952,-94.6989 711.6562,-84.8522 720.4827,-75.5677\"/>\n<polygon fill=\"#000000\" stroke=\"#000000\" points=\"723.073,-77.9228 727.4265,-68.2637 717.9997,-73.0997 723.073,-77.9228\"/>\n</g>\n<!-- 15 -->\n<g id=\"node16\" class=\"node\">\n<title>15</title>\n<path fill=\"#e9f4fc\" stroke=\"#000000\" d=\"M931,-306C931,-306 741,-306 741,-306 735,-306 729,-300 729,-294 729,-294 729,-235 729,-235 729,-229 735,-223 741,-223 741,-223 931,-223 931,-223 937,-223 943,-229 943,-235 943,-235 943,-294 943,-294 943,-300 937,-306 931,-306\"/>\n<text text-anchor=\"middle\" x=\"836\" y=\"-290.8\" font-family=\"Helvetica,sans-Serif\" font-size=\"14.00\" fill=\"#000000\">worst concave points &lt;= 0.145</text>\n<text text-anchor=\"middle\" x=\"836\" y=\"-275.8\" font-family=\"Helvetica,sans-Serif\" font-size=\"14.00\" fill=\"#000000\">gini = 0.498</text>\n<text text-anchor=\"middle\" x=\"836\" y=\"-260.8\" font-family=\"Helvetica,sans-Serif\" font-size=\"14.00\" fill=\"#000000\">samples = 17</text>\n<text text-anchor=\"middle\" x=\"836\" y=\"-245.8\" font-family=\"Helvetica,sans-Serif\" font-size=\"14.00\" fill=\"#000000\">value = [8, 9]</text>\n<text text-anchor=\"middle\" x=\"836\" y=\"-230.8\" font-family=\"Helvetica,sans-Serif\" font-size=\"14.00\" fill=\"#000000\">class = 음성</text>\n</g>\n<!-- 14&#45;&gt;15 -->\n<g id=\"edge15\" class=\"edge\">\n<title>14&#45;&gt;15</title>\n<path fill=\"none\" stroke=\"#000000\" d=\"M836,-341.8796C836,-333.6838 836,-324.9891 836,-316.5013\"/>\n<polygon fill=\"#000000\" stroke=\"#000000\" points=\"839.5001,-316.298 836,-306.2981 832.5001,-316.2981 839.5001,-316.298\"/>\n</g>\n<!-- 18 -->\n<g id=\"node19\" class=\"node\">\n<title>18</title>\n<path fill=\"#e5823b\" stroke=\"#000000\" d=\"M1149.5,-306C1149.5,-306 978.5,-306 978.5,-306 972.5,-306 966.5,-300 966.5,-294 966.5,-294 966.5,-235 966.5,-235 966.5,-229 972.5,-223 978.5,-223 978.5,-223 1149.5,-223 1149.5,-223 1155.5,-223 1161.5,-229 1161.5,-235 1161.5,-235 1161.5,-294 1161.5,-294 1161.5,-300 1155.5,-306 1149.5,-306\"/>\n<text text-anchor=\"middle\" x=\"1064\" y=\"-290.8\" font-family=\"Helvetica,sans-Serif\" font-size=\"14.00\" fill=\"#000000\">worst smoothness &lt;= 0.088</text>\n<text text-anchor=\"middle\" x=\"1064\" y=\"-275.8\" font-family=\"Helvetica,sans-Serif\" font-size=\"14.00\" fill=\"#000000\">gini = 0.023</text>\n<text text-anchor=\"middle\" x=\"1064\" y=\"-260.8\" font-family=\"Helvetica,sans-Serif\" font-size=\"14.00\" fill=\"#000000\">samples = 173</text>\n<text text-anchor=\"middle\" x=\"1064\" y=\"-245.8\" font-family=\"Helvetica,sans-Serif\" font-size=\"14.00\" fill=\"#000000\">value = [171, 2]</text>\n<text text-anchor=\"middle\" x=\"1064\" y=\"-230.8\" font-family=\"Helvetica,sans-Serif\" font-size=\"14.00\" fill=\"#000000\">class = 양성</text>\n</g>\n<!-- 14&#45;&gt;18 -->\n<g id=\"edge18\" class=\"edge\">\n<title>14&#45;&gt;18</title>\n<path fill=\"none\" stroke=\"#000000\" d=\"M915.7433,-341.8796C935.0086,-331.8244 955.7129,-321.0183 975.3587,-310.7645\"/>\n<polygon fill=\"#000000\" stroke=\"#000000\" points=\"977.056,-313.8268 984.3017,-306.0969 973.8171,-307.6212 977.056,-313.8268\"/>\n</g>\n<!-- 16 -->\n<g id=\"node17\" class=\"node\">\n<title>16</title>\n<path fill=\"#399de5\" stroke=\"#000000\" d=\"M867.5,-179.5C867.5,-179.5 792.5,-179.5 792.5,-179.5 786.5,-179.5 780.5,-173.5 780.5,-167.5 780.5,-167.5 780.5,-123.5 780.5,-123.5 780.5,-117.5 786.5,-111.5 792.5,-111.5 792.5,-111.5 867.5,-111.5 867.5,-111.5 873.5,-111.5 879.5,-117.5 879.5,-123.5 879.5,-123.5 879.5,-167.5 879.5,-167.5 879.5,-173.5 873.5,-179.5 867.5,-179.5\"/>\n<text text-anchor=\"middle\" x=\"830\" y=\"-164.3\" font-family=\"Helvetica,sans-Serif\" font-size=\"14.00\" fill=\"#000000\">gini = 0.0</text>\n<text text-anchor=\"middle\" x=\"830\" y=\"-149.3\" font-family=\"Helvetica,sans-Serif\" font-size=\"14.00\" fill=\"#000000\">samples = 9</text>\n<text text-anchor=\"middle\" x=\"830\" y=\"-134.3\" font-family=\"Helvetica,sans-Serif\" font-size=\"14.00\" fill=\"#000000\">value = [0, 9]</text>\n<text text-anchor=\"middle\" x=\"830\" y=\"-119.3\" font-family=\"Helvetica,sans-Serif\" font-size=\"14.00\" fill=\"#000000\">class = 음성</text>\n</g>\n<!-- 15&#45;&gt;16 -->\n<g id=\"edge16\" class=\"edge\">\n<title>15&#45;&gt;16</title>\n<path fill=\"none\" stroke=\"#000000\" d=\"M833.9015,-222.8796C833.3637,-212.2134 832.7833,-200.7021 832.2387,-189.9015\"/>\n<polygon fill=\"#000000\" stroke=\"#000000\" points=\"835.7294,-189.626 831.7302,-179.8149 828.7383,-189.9785 835.7294,-189.626\"/>\n</g>\n<!-- 17 -->\n<g id=\"node18\" class=\"node\">\n<title>17</title>\n<path fill=\"#e58139\" stroke=\"#000000\" d=\"M984.5,-179.5C984.5,-179.5 909.5,-179.5 909.5,-179.5 903.5,-179.5 897.5,-173.5 897.5,-167.5 897.5,-167.5 897.5,-123.5 897.5,-123.5 897.5,-117.5 903.5,-111.5 909.5,-111.5 909.5,-111.5 984.5,-111.5 984.5,-111.5 990.5,-111.5 996.5,-117.5 996.5,-123.5 996.5,-123.5 996.5,-167.5 996.5,-167.5 996.5,-173.5 990.5,-179.5 984.5,-179.5\"/>\n<text text-anchor=\"middle\" x=\"947\" y=\"-164.3\" font-family=\"Helvetica,sans-Serif\" font-size=\"14.00\" fill=\"#000000\">gini = 0.0</text>\n<text text-anchor=\"middle\" x=\"947\" y=\"-149.3\" font-family=\"Helvetica,sans-Serif\" font-size=\"14.00\" fill=\"#000000\">samples = 8</text>\n<text text-anchor=\"middle\" x=\"947\" y=\"-134.3\" font-family=\"Helvetica,sans-Serif\" font-size=\"14.00\" fill=\"#000000\">value = [8, 0]</text>\n<text text-anchor=\"middle\" x=\"947\" y=\"-119.3\" font-family=\"Helvetica,sans-Serif\" font-size=\"14.00\" fill=\"#000000\">class = 양성</text>\n</g>\n<!-- 15&#45;&gt;17 -->\n<g id=\"edge17\" class=\"edge\">\n<title>15&#45;&gt;17</title>\n<path fill=\"none\" stroke=\"#000000\" d=\"M874.8224,-222.8796C885.5921,-211.3337 897.2854,-198.7976 908.0617,-187.2446\"/>\n<polygon fill=\"#000000\" stroke=\"#000000\" points=\"910.7303,-189.5149 914.992,-179.8149 905.6115,-184.7402 910.7303,-189.5149\"/>\n</g>\n<!-- 19 -->\n<g id=\"node20\" class=\"node\">\n<title>19</title>\n<path fill=\"#399de5\" stroke=\"#000000\" d=\"M1101.5,-179.5C1101.5,-179.5 1026.5,-179.5 1026.5,-179.5 1020.5,-179.5 1014.5,-173.5 1014.5,-167.5 1014.5,-167.5 1014.5,-123.5 1014.5,-123.5 1014.5,-117.5 1020.5,-111.5 1026.5,-111.5 1026.5,-111.5 1101.5,-111.5 1101.5,-111.5 1107.5,-111.5 1113.5,-117.5 1113.5,-123.5 1113.5,-123.5 1113.5,-167.5 1113.5,-167.5 1113.5,-173.5 1107.5,-179.5 1101.5,-179.5\"/>\n<text text-anchor=\"middle\" x=\"1064\" y=\"-164.3\" font-family=\"Helvetica,sans-Serif\" font-size=\"14.00\" fill=\"#000000\">gini = 0.0</text>\n<text text-anchor=\"middle\" x=\"1064\" y=\"-149.3\" font-family=\"Helvetica,sans-Serif\" font-size=\"14.00\" fill=\"#000000\">samples = 1</text>\n<text text-anchor=\"middle\" x=\"1064\" y=\"-134.3\" font-family=\"Helvetica,sans-Serif\" font-size=\"14.00\" fill=\"#000000\">value = [0, 1]</text>\n<text text-anchor=\"middle\" x=\"1064\" y=\"-119.3\" font-family=\"Helvetica,sans-Serif\" font-size=\"14.00\" fill=\"#000000\">class = 음성</text>\n</g>\n<!-- 18&#45;&gt;19 -->\n<g id=\"edge19\" class=\"edge\">\n<title>18&#45;&gt;19</title>\n<path fill=\"none\" stroke=\"#000000\" d=\"M1064,-222.8796C1064,-212.2134 1064,-200.7021 1064,-189.9015\"/>\n<polygon fill=\"#000000\" stroke=\"#000000\" points=\"1067.5001,-189.8149 1064,-179.8149 1060.5001,-189.815 1067.5001,-189.8149\"/>\n</g>\n<!-- 20 -->\n<g id=\"node21\" class=\"node\">\n<title>20</title>\n<path fill=\"#e5823a\" stroke=\"#000000\" d=\"M1288.5,-187C1288.5,-187 1143.5,-187 1143.5,-187 1137.5,-187 1131.5,-181 1131.5,-175 1131.5,-175 1131.5,-116 1131.5,-116 1131.5,-110 1137.5,-104 1143.5,-104 1143.5,-104 1288.5,-104 1288.5,-104 1294.5,-104 1300.5,-110 1300.5,-116 1300.5,-116 1300.5,-175 1300.5,-175 1300.5,-181 1294.5,-187 1288.5,-187\"/>\n<text text-anchor=\"middle\" x=\"1216\" y=\"-171.8\" font-family=\"Helvetica,sans-Serif\" font-size=\"14.00\" fill=\"#000000\">worst concavity &lt;= 0.18</text>\n<text text-anchor=\"middle\" x=\"1216\" y=\"-156.8\" font-family=\"Helvetica,sans-Serif\" font-size=\"14.00\" fill=\"#000000\">gini = 0.012</text>\n<text text-anchor=\"middle\" x=\"1216\" y=\"-141.8\" font-family=\"Helvetica,sans-Serif\" font-size=\"14.00\" fill=\"#000000\">samples = 172</text>\n<text text-anchor=\"middle\" x=\"1216\" y=\"-126.8\" font-family=\"Helvetica,sans-Serif\" font-size=\"14.00\" fill=\"#000000\">value = [171, 1]</text>\n<text text-anchor=\"middle\" x=\"1216\" y=\"-111.8\" font-family=\"Helvetica,sans-Serif\" font-size=\"14.00\" fill=\"#000000\">class = 양성</text>\n</g>\n<!-- 18&#45;&gt;20 -->\n<g id=\"edge20\" class=\"edge\">\n<title>18&#45;&gt;20</title>\n<path fill=\"none\" stroke=\"#000000\" d=\"M1117.1622,-222.8796C1129.3115,-213.368 1142.3192,-203.1843 1154.776,-193.432\"/>\n<polygon fill=\"#000000\" stroke=\"#000000\" points=\"1157.1514,-196.0173 1162.8678,-187.0969 1152.8362,-190.5055 1157.1514,-196.0173\"/>\n</g>\n<!-- 21 -->\n<g id=\"node22\" class=\"node\">\n<title>21</title>\n<path fill=\"#eeab7b\" stroke=\"#000000\" d=\"M1190.5,-68C1190.5,-68 1115.5,-68 1115.5,-68 1109.5,-68 1103.5,-62 1103.5,-56 1103.5,-56 1103.5,-12 1103.5,-12 1103.5,-6 1109.5,0 1115.5,0 1115.5,0 1190.5,0 1190.5,0 1196.5,0 1202.5,-6 1202.5,-12 1202.5,-12 1202.5,-56 1202.5,-56 1202.5,-62 1196.5,-68 1190.5,-68\"/>\n<text text-anchor=\"middle\" x=\"1153\" y=\"-52.8\" font-family=\"Helvetica,sans-Serif\" font-size=\"14.00\" fill=\"#000000\">gini = 0.375</text>\n<text text-anchor=\"middle\" x=\"1153\" y=\"-37.8\" font-family=\"Helvetica,sans-Serif\" font-size=\"14.00\" fill=\"#000000\">samples = 4</text>\n<text text-anchor=\"middle\" x=\"1153\" y=\"-22.8\" font-family=\"Helvetica,sans-Serif\" font-size=\"14.00\" fill=\"#000000\">value = [3, 1]</text>\n<text text-anchor=\"middle\" x=\"1153\" y=\"-7.8\" font-family=\"Helvetica,sans-Serif\" font-size=\"14.00\" fill=\"#000000\">class = 양성</text>\n</g>\n<!-- 20&#45;&gt;21 -->\n<g id=\"edge21\" class=\"edge\">\n<title>20&#45;&gt;21</title>\n<path fill=\"none\" stroke=\"#000000\" d=\"M1192.5411,-103.9815C1187.6078,-95.2504 1182.3926,-86.0202 1177.4248,-77.2281\"/>\n<polygon fill=\"#000000\" stroke=\"#000000\" points=\"1180.3263,-75.2483 1172.3597,-68.2637 1174.2319,-78.6918 1180.3263,-75.2483\"/>\n</g>\n<!-- 22 -->\n<g id=\"node23\" class=\"node\">\n<title>22</title>\n<path fill=\"#e58139\" stroke=\"#000000\" d=\"M1325,-68C1325,-68 1233,-68 1233,-68 1227,-68 1221,-62 1221,-56 1221,-56 1221,-12 1221,-12 1221,-6 1227,0 1233,0 1233,0 1325,0 1325,0 1331,0 1337,-6 1337,-12 1337,-12 1337,-56 1337,-56 1337,-62 1331,-68 1325,-68\"/>\n<text text-anchor=\"middle\" x=\"1279\" y=\"-52.8\" font-family=\"Helvetica,sans-Serif\" font-size=\"14.00\" fill=\"#000000\">gini = 0.0</text>\n<text text-anchor=\"middle\" x=\"1279\" y=\"-37.8\" font-family=\"Helvetica,sans-Serif\" font-size=\"14.00\" fill=\"#000000\">samples = 168</text>\n<text text-anchor=\"middle\" x=\"1279\" y=\"-22.8\" font-family=\"Helvetica,sans-Serif\" font-size=\"14.00\" fill=\"#000000\">value = [168, 0]</text>\n<text text-anchor=\"middle\" x=\"1279\" y=\"-7.8\" font-family=\"Helvetica,sans-Serif\" font-size=\"14.00\" fill=\"#000000\">class = 양성</text>\n</g>\n<!-- 20&#45;&gt;22 -->\n<g id=\"edge22\" class=\"edge\">\n<title>20&#45;&gt;22</title>\n<path fill=\"none\" stroke=\"#000000\" d=\"M1239.4589,-103.9815C1244.3922,-95.2504 1249.6074,-86.0202 1254.5752,-77.2281\"/>\n<polygon fill=\"#000000\" stroke=\"#000000\" points=\"1257.7681,-78.6918 1259.6403,-68.2637 1251.6737,-75.2483 1257.7681,-78.6918\"/>\n</g>\n</g>\n</svg>\n"
          },
          "metadata": {},
          "execution_count": 27
        }
      ]
    }
  ]
}