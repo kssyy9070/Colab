{
  "nbformat": 4,
  "nbformat_minor": 0,
  "metadata": {
    "colab": {
      "name": "\bintro.ipynb",
      "provenance": [],
      "collapsed_sections": [],
      "authorship_tag": "ABX9TyMrb0pIJ6+OGMoAwNiivAAw",
      "include_colab_link": true
    },
    "kernelspec": {
      "name": "python3",
      "display_name": "Python 3"
    },
    "language_info": {
      "name": "python"
    }
  },
  "cells": [
    {
      "cell_type": "markdown",
      "metadata": {
        "id": "view-in-github",
        "colab_type": "text"
      },
      "source": [
        "<a href=\"https://colab.research.google.com/github/kssyy9070/Colab/blob/main/%08intro.ipynb\" target=\"_parent\"><img src=\"https://colab.research.google.com/assets/colab-badge.svg\" alt=\"Open In Colab\"/></a>"
      ]
    },
    {
      "cell_type": "markdown",
      "source": [
        "# Colab\n",
        "\n",
        "구글에서 제공하는 Colab\n",
        "\n",
        "브라우저에서 python을 작성하고, 실행 가능한 어플리케이션\n",
        "\n",
        "클라우드 기반으로 한 주피터 노트북 개발환경\n",
        "\n",
        "컴퓨터에 gpu가 없거나, 사양이 낮다면 사용하기 좋음\n",
        "별도의 Python 설치 필요 x\n",
        "\n",
        "데이터 분석에 사용하는 numpy, pandas, keras, scikit-learn, tensorflow, ...패키지가 기본적으로 설치되어 있음 \n",
        "\n",
        "다른 주피터보다 좋은 기능, 환경을 제공\n",
        "\n",
        "<명령어>\n",
        "ctrl + Enter : 해당 셀을 실행\n",
        "\n",
        "ctrl + M + Z : 실행 취소\n",
        "\n",
        "ctrl + M + D : 셀 지우기\n",
        "\n",
        "도구 - 단축키 ... 설정\n",
        "\n",
        "ctrl + L : 코드 셀 추가\n",
        "\n",
        "ctrl + ; : 텍스트 셀 추가\n",
        "\n",
        "# 텍스트 셀에서 #처리 : 제목느낌 \n",
        "- 리스트 1\n",
        "* 리스트 2"
      ],
      "metadata": {
        "id": "4cxJnEd0ayuK"
      }
    },
    {
      "cell_type": "code",
      "execution_count": null,
      "metadata": {
        "id": "yzk5bo_VasFY"
      },
      "outputs": [],
      "source": [
        "print('hello!')"
      ]
    }
  ]
}