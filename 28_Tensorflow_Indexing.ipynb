{
  "nbformat": 4,
  "nbformat_minor": 0,
  "metadata": {
    "colab": {
      "name": "May16-17_3_Tensorflow_Indexing.ipynb",
      "provenance": [],
      "collapsed_sections": [],
      "authorship_tag": "ABX9TyMe9eOVbGFqh/MnDHm95SpC"
    },
    "kernelspec": {
      "name": "python3",
      "display_name": "Python 3"
    },
    "language_info": {
      "name": "python"
    }
  },
  "cells": [
    {
      "cell_type": "markdown",
      "source": [
        "# 인덱싱(indexing)\n",
        "\n",
        "Python의 list / Numpy Array의 인덱싱 방법과 비슷\n",
        "\n",
        "0부터 시작, 마지막 인덱스 -1\n",
        "\n",
        "인덱스에 해당하는 범위를 지정하여 여러개의 요소를 슬라이싱(slicing) 추출도 가능"
      ],
      "metadata": {
        "id": "mXeP22URrDDw"
      }
    },
    {
      "cell_type": "code",
      "source": [
        "# 텐서플로 불러오기\n",
        "import tensorflow as tf"
      ],
      "metadata": {
        "id": "gbLD4JTurs0Y"
      },
      "execution_count": null,
      "outputs": []
    },
    {
      "cell_type": "code",
      "source": [
        "# 1차원 벡터의 인덱싱\n",
        "\n",
        "# 벡터 정의하기\n",
        "vec = tf.constant([10,20,30,40,50])\n",
        "print(vec)\n",
        "\n",
        "# 0번째 요소의 스칼라값 출력\n",
        "print(vec[0])\n",
        "# 마지막 요소의 스칼라값 출력\n",
        "print(vec[-1])\n",
        "print(vec[4])\n",
        "# 0~2번째까지 해당하는 요소 모두 출력\n",
        "print(vec[:3])\n",
        "print(vec[0:3])"
      ],
      "metadata": {
        "colab": {
          "base_uri": "https://localhost:8080/"
        },
        "id": "V3vRf5a9r6Hv",
        "outputId": "a45d0dad-ab82-42b3-c39b-9c21a056abbe"
      },
      "execution_count": null,
      "outputs": [
        {
          "output_type": "stream",
          "name": "stdout",
          "text": [
            "tf.Tensor([10 20 30 40 50], shape=(5,), dtype=int32)\n",
            "tf.Tensor(10, shape=(), dtype=int32)\n",
            "tf.Tensor(50, shape=(), dtype=int32)\n",
            "tf.Tensor(50, shape=(), dtype=int32)\n",
            "tf.Tensor([10 20 30], shape=(3,), dtype=int32)\n",
            "tf.Tensor([10 20 30], shape=(3,), dtype=int32)\n"
          ]
        }
      ]
    },
    {
      "cell_type": "code",
      "source": [
        "# 2차원 행렬(matrix) 텐서\n",
        "# 행방향 인덱스와 열방향 인덱스를 지정하는 방식\n",
        "\n",
        "# (2행,4열) 크기의 랭크-2 텐서 정의\n",
        "matrix = tf.constant([[1,2,3,4],\n",
        "                     [5,6,7,8]])\n",
        "print(matrix)\n",
        "print(tf.rank(matrix))\n",
        "# [0행,2열]\n",
        "print(matrix[0,2])\n",
        "# [0행, 모든 열]\n",
        "print(matrix[0, :])\n",
        "# [모든 행, 1열]\n",
        "print(matrix[:,1])\n",
        "# [모든 행, 모든 열]\n",
        "print(matrix)\n",
        "print(matrix[:,:])"
      ],
      "metadata": {
        "colab": {
          "base_uri": "https://localhost:8080/"
        },
        "id": "FoG1RQHUtyju",
        "outputId": "09f5bbdf-84ab-418a-9007-8f5b77bdd574"
      },
      "execution_count": null,
      "outputs": [
        {
          "output_type": "stream",
          "name": "stdout",
          "text": [
            "tf.Tensor(\n",
            "[[1 2 3 4]\n",
            " [5 6 7 8]], shape=(2, 4), dtype=int32)\n",
            "tf.Tensor(2, shape=(), dtype=int32)\n",
            "tf.Tensor(3, shape=(), dtype=int32)\n",
            "tf.Tensor([1 2 3 4], shape=(4,), dtype=int32)\n",
            "tf.Tensor([2 6], shape=(2,), dtype=int32)\n",
            "tf.Tensor(\n",
            "[[1 2 3 4]\n",
            " [5 6 7 8]], shape=(2, 4), dtype=int32)\n",
            "tf.Tensor(\n",
            "[[1 2 3 4]\n",
            " [5 6 7 8]], shape=(2, 4), dtype=int32)\n"
          ]
        }
      ]
    },
    {
      "cell_type": "code",
      "source": [
        "# 랭크-3 텐서\n",
        "\n",
        "# 랭크-3 텐서 이상(고차원 텐서)의 인덱싱은\n",
        "# 2차원 행렬텐서(Matrix)의 개념을 확장하는 느낌\n",
        "\n",
        "# (3,3,4) 크기의 텐서를 만들기 (1부터 시작)\n",
        "tensor = tf.constant([\n",
        "                      [[1,2,3,4],\n",
        "                       [5,6,7,8],\n",
        "                       [9,10,11,12]],\n",
        "                      \n",
        "                      [[13,14,15,16],\n",
        "                       [17,18,19,20],\n",
        "                       [21,22,23,24]],\n",
        "                      \n",
        "                      [[25,26,27,28],\n",
        "                       [29,30,31,32],\n",
        "                       [33,34,35,36]]\n",
        "                      ])\n",
        "tensor\n",
        "# 0번째의 모든행, 모든열\n",
        "print(tensor[0, :, :])\n",
        "# 1번째의 1번째 행까지, 2번째 열까지\n",
        "print(tensor[1,:2, :3])\n",
        "# 0~1번째의 2번째 행까지, 2~3번째 열까지\n",
        "print(tensor[:2, :3, 2:4])"
      ],
      "metadata": {
        "colab": {
          "base_uri": "https://localhost:8080/"
        },
        "id": "Wz59d83ywm9X",
        "outputId": "14183dfd-e00c-4f78-f35d-fc491ff87df2"
      },
      "execution_count": null,
      "outputs": [
        {
          "output_type": "stream",
          "name": "stdout",
          "text": [
            "tf.Tensor(\n",
            "[[ 1  2  3  4]\n",
            " [ 5  6  7  8]\n",
            " [ 9 10 11 12]], shape=(3, 4), dtype=int32)\n",
            "tf.Tensor(\n",
            "[[13 14 15]\n",
            " [17 18 19]], shape=(2, 3), dtype=int32)\n",
            "tf.Tensor(\n",
            "[[[ 3  4]\n",
            "  [ 7  8]\n",
            "  [11 12]]\n",
            "\n",
            " [[15 16]\n",
            "  [19 20]\n",
            "  [23 24]]], shape=(2, 3, 2), dtype=int32)\n"
          ]
        }
      ]
    },
    {
      "cell_type": "markdown",
      "source": [
        "# 형태변환(tf.reshape)\n",
        "\n",
        "Numpy의 reshape과 상당부분 유사함"
      ],
      "metadata": {
        "id": "NuTj3ef7XCIH"
      }
    },
    {
      "cell_type": "code",
      "source": [
        "import tensorflow as tf\n",
        "\n",
        "# 랭크-1텐서 만들기 - 숫자 1~24까지 24개의 요소를 갖도록\n",
        "tensor = tf.constant(range(1,25))   # 1이상 25미만\n",
        "print(tensor)\n",
        "# 범위 안에 있는 숫자를 순차적으로 배열로 만들어 줌"
      ],
      "metadata": {
        "colab": {
          "base_uri": "https://localhost:8080/"
        },
        "id": "8pVm2QT3XNaR",
        "outputId": "cd101e62-25c7-40d8-896a-b9cf4dcfa304"
      },
      "execution_count": null,
      "outputs": [
        {
          "output_type": "stream",
          "name": "stdout",
          "text": [
            "tf.Tensor([ 1  2  3  4  5  6  7  8  9 10 11 12 13 14 15 16 17 18 19 20 21 22 23 24], shape=(24,), dtype=int32)\n"
          ]
        }
      ]
    },
    {
      "cell_type": "code",
      "source": [
        "# 벡터(Vector) : (24, ) 형태\n",
        "# 행렬(Matrix) : (4, 6) 형태로 rshape\n",
        "\n",
        "tensor1 = tf.reshape(tensor, [4,6]) # 변환 전과 후의 원소 개수는 동일하게\n",
        "print(tensor1)"
      ],
      "metadata": {
        "colab": {
          "base_uri": "https://localhost:8080/"
        },
        "id": "vIKk2HULYfmN",
        "outputId": "c47cf825-4255-4a24-ebc2-e278989548fa"
      },
      "execution_count": null,
      "outputs": [
        {
          "output_type": "stream",
          "name": "stdout",
          "text": [
            "tf.Tensor(\n",
            "[[ 1  2  3  4  5  6]\n",
            " [ 7  8  9 10 11 12]\n",
            " [13 14 15 16 17 18]\n",
            " [19 20 21 22 23 24]], shape=(4, 6), dtype=int32)\n"
          ]
        }
      ]
    },
    {
      "cell_type": "code",
      "source": [
        "# (4,6) -> (3,8) 형태로 reshape\n",
        "\n",
        "tensor2 = tf.reshape(tensor1,[3,8])\n",
        "print(tensor2)\n",
        "\n",
        "# 행 인덱스 -1이 있는 경우 : 열을 기준으로 나누되, 행이 몇개가 되어도 상관없다는 의미\n",
        "#   대신, 열의 인덱스 값은 지정이 되어 있어야..!\n",
        "#   요소의 개수와 배열의 형태에 따라서 행의 크기가 알아서 결정됨"
      ],
      "metadata": {
        "colab": {
          "base_uri": "https://localhost:8080/"
        },
        "id": "_Juy-nbsZGTP",
        "outputId": "96a06046-228d-45ec-bf9a-cecb81bc9a18"
      },
      "execution_count": null,
      "outputs": [
        {
          "output_type": "stream",
          "name": "stdout",
          "text": [
            "tf.Tensor(\n",
            "[[ 1  2  3  4  5  6  7  8]\n",
            " [ 9 10 11 12 13 14 15 16]\n",
            " [17 18 19 20 21 22 23 24]], shape=(3, 8), dtype=int32)\n"
          ]
        }
      ]
    },
    {
      "cell_type": "code",
      "source": [
        "# (3, 8) -> (24, )\n",
        "\n",
        "# tensor3 = tf.reshape(tensor2,[24,]) # 요소의 개수를 정확히 알고 있는 경우 사용해도 무방\n",
        "tensor3 = tf.reshape(tensor2,[-1])    # 배열에 요소가 너무 많거나, 배열을 구성하고 있는 구조가 너무 복잡할 때 -1을 이용\n",
        "print(tensor3)"
      ],
      "metadata": {
        "colab": {
          "base_uri": "https://localhost:8080/"
        },
        "id": "X6mdplNzaeHo",
        "outputId": "80f413aa-9076-4565-9083-6c5b7a355653"
      },
      "execution_count": null,
      "outputs": [
        {
          "output_type": "stream",
          "name": "stdout",
          "text": [
            "tf.Tensor([ 1  2  3  4  5  6  7  8  9 10 11 12 13 14 15 16 17 18 19 20 21 22 23 24], shape=(24,), dtype=int32)\n"
          ]
        }
      ]
    },
    {
      "cell_type": "code",
      "source": [
        "# (24, ) -> (2,3,4) 형태 (랭크-3텐서)\n",
        "\n",
        "# tensor4 = tf.reshape(tensor3, [2,3,4])\n",
        "tensor4 = tf.reshape(tensor3, [-1,3,4])\n",
        "print(tensor4)\n",
        "\n",
        "# 랭크 3개 중에 2개의 랭크가 (3,4)로 설정된 상태\n",
        "# -1 위치느 자연스럽게 2가 나오게 되는 것\n",
        "# 24 / (3 * 4) = 2"
      ],
      "metadata": {
        "colab": {
          "base_uri": "https://localhost:8080/"
        },
        "id": "ljOfcJCVbok7",
        "outputId": "1a4c9dcf-5b37-449c-fdd8-1b1668004af1"
      },
      "execution_count": null,
      "outputs": [
        {
          "output_type": "stream",
          "name": "stdout",
          "text": [
            "tf.Tensor(\n",
            "[[[ 1  2  3  4]\n",
            "  [ 5  6  7  8]\n",
            "  [ 9 10 11 12]]\n",
            "\n",
            " [[13 14 15 16]\n",
            "  [17 18 19 20]\n",
            "  [21 22 23 24]]], shape=(2, 3, 4), dtype=int32)\n"
          ]
        }
      ]
    },
    {
      "cell_type": "code",
      "source": [
        "# 랭크-4 텐서 바꾸기\n",
        "# (2,3,4) -> (2,2,3,2)\n",
        "\n",
        "tensor5 = tf.reshape(tensor4, [2,2,3,-1])\n",
        "print(tensor5)"
      ],
      "metadata": {
        "colab": {
          "base_uri": "https://localhost:8080/"
        },
        "id": "Fa8lWgIxc8n7",
        "outputId": "9875c7d3-c734-4d5d-d994-a9fe43fd5d62"
      },
      "execution_count": null,
      "outputs": [
        {
          "output_type": "stream",
          "name": "stdout",
          "text": [
            "tf.Tensor(\n",
            "[[[[ 1  2]\n",
            "   [ 3  4]\n",
            "   [ 5  6]]\n",
            "\n",
            "  [[ 7  8]\n",
            "   [ 9 10]\n",
            "   [11 12]]]\n",
            "\n",
            "\n",
            " [[[13 14]\n",
            "   [15 16]\n",
            "   [17 18]]\n",
            "\n",
            "  [[19 20]\n",
            "   [21 22]\n",
            "   [23 24]]]], shape=(2, 2, 3, 2), dtype=int32)\n"
          ]
        }
      ]
    },
    {
      "cell_type": "markdown",
      "source": [
        "# 변수 (tf.Variable)\n",
        "\n",
        "Tensorflow : 계산처리 [그래프] 라는 객체를 구축 후, 그 그래프를 실행하는 것\n",
        "\n",
        "변수 : 텐서플로를 활용해서 딥러닝 모델을 만들고, 학습을 시킬 때 정교한 연산을 제어하기 위해\n",
        "\n",
        "변수에 담긴 값이 변할 가능성이 있음(바뀌어도 됨)\n",
        "\n",
        "변수는 변화하는 학습률 값을 지정하는 그릇"
      ],
      "metadata": {
        "id": "ZPPg98sQeIsh"
      }
    },
    {
      "cell_type": "code",
      "source": [
        "# (2,3)의 행렬 텐서 만들기\n",
        "tensor = tf.constant([[10,20,30],\n",
        "                      [40,50,60]])\n",
        "print(tensor)"
      ],
      "metadata": {
        "colab": {
          "base_uri": "https://localhost:8080/"
        },
        "id": "2JrGrLpZefin",
        "outputId": "4d05be34-6197-46c9-c71f-9b2dc3a5e2fa"
      },
      "execution_count": null,
      "outputs": [
        {
          "output_type": "stream",
          "name": "stdout",
          "text": [
            "tf.Tensor(\n",
            "[[10 20 30]\n",
            " [40 50 60]], shape=(2, 3), dtype=int32)\n"
          ]
        }
      ]
    },
    {
      "cell_type": "code",
      "source": [
        "# tensor를 Variable 함수에 입력 -> tensorflow의 변수가 생성\n",
        "\n",
        "var1 = tf.Variable(tensor)  # tensor : 변수 초기값\n",
        "# 변수 업데이트를 하면 초기값은 다른 값으로 변경될 수 있음\n",
        "print(var1)\n",
        "\n",
        "# 상수(tf.constant) : 값을 한 번 지정하면 변경할 수 없음\n",
        "# 변수(tf.Variable) : 텐서 구조에 저장되어 있는 값이 변경될 수 있음"
      ],
      "metadata": {
        "colab": {
          "base_uri": "https://localhost:8080/"
        },
        "id": "KwWQdPjUjIH9",
        "outputId": "d60d5df2-fecd-4e77-d5db-facf11965fb0"
      },
      "execution_count": null,
      "outputs": [
        {
          "output_type": "stream",
          "name": "stdout",
          "text": [
            "<tf.Variable 'Variable:0' shape=(2, 3) dtype=int32, numpy=\n",
            "array([[10, 20, 30],\n",
            "       [40, 50, 60]], dtype=int32)>\n"
          ]
        }
      ]
    },
    {
      "cell_type": "code",
      "source": [
        "print(var1.name)\n",
        "print(var1.shape)\n",
        "print(var1.dtype)"
      ],
      "metadata": {
        "colab": {
          "base_uri": "https://localhost:8080/"
        },
        "id": "KeqGTQ8dj_o9",
        "outputId": "cd7277c5-c6bd-423d-dd99-0c2144520ec4"
      },
      "execution_count": null,
      "outputs": [
        {
          "output_type": "stream",
          "name": "stdout",
          "text": [
            "Variable:0\n",
            "(2, 3)\n",
            "<dtype: 'int32'>\n"
          ]
        }
      ]
    },
    {
      "cell_type": "code",
      "source": [
        "# assing() 함수 : tensorflow변수에 새로운 데이터를 할당하는 함수\n",
        "var1.assign([[100,200,300],\n",
        "             [400,500,600]])\n",
        "\n",
        "print(var1)\n",
        "\n",
        "# ** 주의 ) 새로 입력하고자 하는 배열의 크기, 자료형이\n",
        "#          원래 변수에 지정되어 있는 초기값의 배열크기, 자료형과 동일해야 한다.\n",
        "# ex ) (2,3) 크기의 정수(int32)로 이루어진 변수 -> assign 함수 사용시에도 동일한 조건이어야 함"
      ],
      "metadata": {
        "colab": {
          "base_uri": "https://localhost:8080/"
        },
        "id": "50vVp40QkhfK",
        "outputId": "514d6f7a-4e7c-4906-ffcb-b67fd5e68fe7"
      },
      "execution_count": null,
      "outputs": [
        {
          "output_type": "stream",
          "name": "stdout",
          "text": [
            "<tf.Variable 'Variable:0' shape=(2, 3) dtype=int32, numpy=\n",
            "array([[100, 200, 300],\n",
            "       [400, 500, 600]], dtype=int32)>\n"
          ]
        }
      ]
    },
    {
      "cell_type": "code",
      "source": [
        "# tf.convert_to_tensor() : tensorflow 변수를 tensor로 변환\n",
        "# ** 텐서로 변경하고 나면 텐서의 크기, 저장하고 있는 값 변경이 불가능 => 상수화가 된 것\n",
        "tensor1 = tf.convert_to_tensor(var1)\n",
        "print(tensor1)"
      ],
      "metadata": {
        "colab": {
          "base_uri": "https://localhost:8080/"
        },
        "id": "mauldC67lciu",
        "outputId": "32e5a908-5944-48c9-bb27-f9ff5c2b84a1"
      },
      "execution_count": null,
      "outputs": [
        {
          "output_type": "stream",
          "name": "stdout",
          "text": [
            "tf.Tensor(\n",
            "[[100 200 300]\n",
            " [400 500 600]], shape=(2, 3), dtype=int32)\n"
          ]
        }
      ]
    },
    {
      "cell_type": "code",
      "source": [
        "# tensor과 마찬가지로 tensorflow변수 역시 연산자 사용이 가능 O \n",
        "var1 + tensor1"
      ],
      "metadata": {
        "colab": {
          "base_uri": "https://localhost:8080/"
        },
        "id": "-MJHSh3vmIqv",
        "outputId": "22833011-135e-4375-bb81-1f0943827b8b"
      },
      "execution_count": null,
      "outputs": [
        {
          "output_type": "execute_result",
          "data": {
            "text/plain": [
              "<tf.Tensor: shape=(2, 3), dtype=int32, numpy=\n",
              "array([[ 200,  400,  600],\n",
              "       [ 800, 1000, 1200]], dtype=int32)>"
            ]
          },
          "metadata": {},
          "execution_count": 25
        }
      ]
    },
    {
      "cell_type": "code",
      "source": [
        "tf.__version__ # tensorflow 버전 확인하기"
      ],
      "metadata": {
        "colab": {
          "base_uri": "https://localhost:8080/",
          "height": 36
        },
        "id": "cqhFBp4zmZWU",
        "outputId": "4c99b8b1-8d56-4241-bdfe-5b1ef8e58517"
      },
      "execution_count": null,
      "outputs": [
        {
          "output_type": "execute_result",
          "data": {
            "text/plain": [
              "'2.8.0'"
            ],
            "application/vnd.google.colaboratory.intrinsic+json": {
              "type": "string"
            }
          },
          "metadata": {},
          "execution_count": 27
        }
      ]
    },
    {
      "cell_type": "code",
      "source": [
        "# 상수 만들기\n",
        "\n",
        "a = tf.constant(100)\n",
        "b = tf.constant(10)\n",
        "\n",
        "c = a + b\n",
        "\n",
        "print(c)"
      ],
      "metadata": {
        "colab": {
          "base_uri": "https://localhost:8080/"
        },
        "id": "e1e5qC_YmpyG",
        "outputId": "3213b614-f47e-4dfc-b7a1-f97d65c18bb9"
      },
      "execution_count": null,
      "outputs": [
        {
          "output_type": "stream",
          "name": "stdout",
          "text": [
            "tf.Tensor(110, shape=(), dtype=int32)\n"
          ]
        }
      ]
    },
    {
      "cell_type": "code",
      "source": [
        "import tensorflow.compat.v1 as tf      # 버전2에는 없는 기능을 사용하기 위해 버전1 가져옴\n",
        "tf.compat.v1.disable_eager_execution() # 에러방지\n",
        "\n",
        "# 상수 정의하기\n",
        "a1 = tf.constant(10)\n",
        "b1 = tf.constant(20)\n",
        "c1 = tf.constant(30)\n",
        "\n",
        "# 변수 정의하기\n",
        "v = tf.Variable(0)\n",
        "\n",
        "# 데이터 플로우 그래프 정의하기\n",
        "r = a1 + b1 + c1\n",
        "assign = tf.assign(v, r)\n",
        "\n",
        "# session 실행하기\n",
        "sess = tf.Session()\n",
        "sess.run(assign)\n",
        "\n",
        "# 변수 내용을 출력\n",
        "print(sess.run(v))\n"
      ],
      "metadata": {
        "colab": {
          "base_uri": "https://localhost:8080/"
        },
        "id": "kDIbZrCjnKCN",
        "outputId": "78d4f8d1-e849-43cf-8abc-36401cf75f5c"
      },
      "execution_count": null,
      "outputs": [
        {
          "output_type": "stream",
          "name": "stdout",
          "text": [
            "60\n"
          ]
        }
      ]
    },
    {
      "cell_type": "markdown",
      "source": [
        "# 플레이스홀더(placeholder)\n",
        "\n",
        "딥러닝을 할 때 데이터 학습이 이루어져야만 함\n",
        "\n",
        "이 학습을 진행할 때 학습할 데이터를 꼭 입력 해야 함\n",
        "\n",
        "데이터를 입력받기 위해서 필요한 비어있는 변수"
      ],
      "metadata": {
        "id": "p5vyv6LYpPQW"
      }
    },
    {
      "cell_type": "code",
      "source": [
        "# placeholder의 전달 parameter\n",
        "\n",
        "# 실행 x\n",
        "placeholder(\n",
        "    dtype,          # dtype : data type, 필수기재\n",
        "    shape=None,     # shape : 입력데이터의 형태(상수값 or 배열정보)\n",
        "                    #         None으로 설정한 경우 어떠한 형태라도 들어갈 수 있다는 것을 의미\n",
        "    name=None       # name  : 굳이 안해도 됨. 미기재시 None처리 됨\n",
        "    )"
      ],
      "metadata": {
        "id": "AMrs1F34plpa"
      },
      "execution_count": null,
      "outputs": []
    },
    {
      "cell_type": "code",
      "source": [
        "import tensorflow.compat.v1 as tf      # 버전2에는 없는 기능을 사용하기 위해 버전1 가져옴\n",
        "tf.disable_v2_behavior()               # v2 사용 안하겠다.\n",
        "\n",
        "ph1 = tf.placeholder(dtype=tf.float32)\n",
        "ph2 = tf.placeholder(dtype=tf.float32)\n",
        "ph3 = tf.placeholder(dtype=tf.float32)\n",
        "\n",
        "rr = ph1 + ph2 + ph3\n",
        "\n",
        "sess = tf.Session()\n",
        "print(sess.run(rr,feed_dict={ph1:10, ph2:20, ph3:30}))\n",
        "sess.close()\n",
        "\n",
        "# placeholder는 다른 tensor를 할당하는 것 -> tensor를 매핑한다\n",
        "# 할당을 위해서 사용하는 것 : feed_dict\n",
        "print(\"---------------------\")\n",
        "\n",
        "arr1 = [1,2]\n",
        "arr2 = [3,4]\n",
        "arr3 = [5,6]\n",
        "\n",
        "feed_dict = {ph1:arr1, ph2:arr2, ph3:arr3}\n",
        "\n",
        "sess = tf.Session()\n",
        "result1 = sess.run(rr, feed_dict=feed_dict)\n",
        "print(result1)\n",
        "sess.close()"
      ],
      "metadata": {
        "colab": {
          "base_uri": "https://localhost:8080/"
        },
        "id": "RDZ8jucLqd3m",
        "outputId": "6d6b74a0-1230-477e-8797-3e1b4fd3ff9f"
      },
      "execution_count": null,
      "outputs": [
        {
          "output_type": "stream",
          "name": "stdout",
          "text": [
            "60.0\n",
            "---------------------\n",
            "[ 9. 12.]\n"
          ]
        }
      ]
    },
    {
      "cell_type": "code",
      "source": [
        "# placeholder 정의\n",
        "# 정수형 자료형을 가진 5개의 요소로 배열(list) 만들기\n",
        "p = tf.placeholder(tf.int32, [5])\n",
        "\n",
        "# 상수로 곱할 숫자 정의\n",
        "n = tf.constant(3)\n",
        "\n",
        "# 배열에 있는 모든 값에 상수 곱하는 연산 정의\n",
        "# 데이터 플로우 그래프 정의\n",
        "pn = p * n \n",
        "\n",
        "# 세션 시작하기\n",
        "sess = tf.Session()\n",
        "\n",
        "# 세션에 placeholder 값 넣고 실행\n",
        "feed_dict = {p: [12,34,56,78,90]}\n",
        "r2 = sess.run(pn, feed_dict=feed_dict)\n",
        "print(r2)"
      ],
      "metadata": {
        "colab": {
          "base_uri": "https://localhost:8080/"
        },
        "id": "cy0v6DLQwSWj",
        "outputId": "9ca606d7-94bc-4ae2-cb02-086e7c53aae1"
      },
      "execution_count": null,
      "outputs": [
        {
          "output_type": "stream",
          "name": "stdout",
          "text": [
            "[ 36 102 168 234 270]\n"
          ]
        }
      ]
    },
    {
      "cell_type": "code",
      "source": [
        "# placeholder 만들기 -> 배열 크기 정하지 않음\n",
        "p1 = tf.placeholder(tf.int32, [None])\n",
        "# 각 요소에 10배가 되는 식\n",
        "n1 = tf.constant(10)\n",
        "# 데이터 플로우 그래프 정의\n",
        "pn1 = p1*n1\n",
        "# 세션\n",
        "sess = tf.Session()\n",
        "# 계산한 결과\n",
        "print(sess.run(pn1,feed_dict={p1:[2,4,6,9]}))"
      ],
      "metadata": {
        "colab": {
          "base_uri": "https://localhost:8080/"
        },
        "id": "BYnJzL8szcpF",
        "outputId": "906de7f5-4e8b-4923-c459-97e72518c436"
      },
      "execution_count": null,
      "outputs": [
        {
          "output_type": "stream",
          "name": "stdout",
          "text": [
            "[20 40 60 90]\n"
          ]
        }
      ]
    },
    {
      "cell_type": "markdown",
      "source": [
        "# tf.Variable vs tf.placeholder\n",
        "* tf.Variable : 데이터의 상태를 저장하기 위해 사용\n",
        "* tf.placeholder : 데이터를 입력하기 위해 사용"
      ],
      "metadata": {
        "id": "Gy_DPj5C13Gp"
      }
    }
  ]
}