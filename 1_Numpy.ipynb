{
  "nbformat": 4,
  "nbformat_minor": 0,
  "metadata": {
    "colab": {
      "name": "Apr26-27_Numpy.ipynb",
      "provenance": [],
      "collapsed_sections": []
    },
    "kernelspec": {
      "name": "python3",
      "display_name": "Python 3"
    },
    "language_info": {
      "name": "python"
    }
  },
  "cells": [
    {
      "cell_type": "markdown",
      "source": [
        "# Numpy (Numerical Python)\n",
        "\n",
        "C언어 기반 파이썬 라이브러리.\n",
        "\n",
        "고성능의 수치계산 및 과학 계산을 위한 라이브러리 +\n",
        "수치 연산을 수행하는 선형 대수 (Linear algebra)라이브러리\n",
        "\n",
        "List의 확장판 (데이터 연산, 통계 분석) 느낌\n",
        "\n",
        "다차원 배열을 처리하는데 필요한 여러 유용한 기능을 제공 >\n",
        "데이터 분석을 할 때 사용하는 라이브러리인 pandas와 matplotlib의 기반으로 사용되기도 함 \n",
        "\n",
        "단순하게 [다차원 배열로 표현]한다라고 이해하면 좋음\n",
        "\n",
        "모든 배열의 값이 기본적으로 같은 자료형(타입)이어야 함\n",
        "\n",
        "Numpy에서는 각 차원(Dimension)을 축(axis)으로 표현\n",
        "\n",
        "핵심적인 기능 : ndarry 객체 \n",
        "\n",
        "ndarray 객체는 동일한 자료형의 n-차원 배열을 모아주는 역할\n",
        "\n",
        "배열의 차원 : rank \n",
        "\n",
        "각 차원의 크기를 tuple로 표시 : shape\n",
        "\n",
        "ex) 2행 3열인 경우 : 2차원 배열에서 rank는 2, shape (2,3)\n",
        "\n",
        "numpy 배열을 생성하는 방법\n",
        "1. python list\n",
        "2. numpy 제공 함수\n",
        "\n"
      ],
      "metadata": {
        "id": "SmAsHUwQYJlH"
      }
    },
    {
      "cell_type": "code",
      "source": [
        "import numpy as np\n",
        "import matplotlib.pyplot as plt"
      ],
      "metadata": {
        "id": "WJz5Be9vYKWV"
      },
      "execution_count": null,
      "outputs": []
    },
    {
      "cell_type": "markdown",
      "source": [
        "list : 하나의 리스트 안에 숫자, 문자 등 다양한 자료형이 섞여있는게 가능\n",
        "\n",
        "numpy : 항상 같은 타입의 데이터틀만 들어갈 수 있음"
      ],
      "metadata": {
        "id": "4ND0suJ-YYto"
      }
    },
    {
      "cell_type": "markdown",
      "source": [
        "# Part 1. Numpy ndarray\n",
        "\n",
        "Numpy의 핵심 기능 : ndarray\n",
        "\n",
        "ndarray : 다차원의 배열 객체 / 파이썬에서 할 수 있는 대규모 데이터 집합을 담을 수 있는 빠르고 유연한 자료구조\n",
        "\n",
        "용어 정리 \n",
        "\n",
        "scalar : 상수 값 (10, 3.14159265, 'korea')\n",
        "\n",
        "vector(1차원) : [10, 20, 30]\n",
        "\n",
        "matrix(2차원) : [ [10, 20, 30], [100, 200, 300] ] 2 * 3\n",
        "\n",
        "3차원 : [ [ [10, 20, 30], [100, 200, 300], [ [ 10, 20, 30 ], [ 100, 200, 300 ] ] ] 2* 3"
      ],
      "metadata": {
        "id": "3p13tCqxYdga"
      }
    },
    {
      "cell_type": "code",
      "source": [
        "data1 = [1,2,3,4]\n",
        "data1"
      ],
      "metadata": {
        "id": "Suasqb8zYkfk"
      },
      "execution_count": null,
      "outputs": []
    },
    {
      "cell_type": "code",
      "source": [
        "data2 = [1,2,3,3.5,4]\n",
        "data2"
      ],
      "metadata": {
        "id": "2Peaw0hsYm0y"
      },
      "execution_count": null,
      "outputs": []
    },
    {
      "cell_type": "markdown",
      "source": [
        "# numpy를 이용해서 array 정의하기\n",
        "\n",
        "# 1. 위에서 만든 python list를 이용\n",
        "\n",
        "arr1 = np.array(data1)\n",
        "print(arr1)\n",
        "\n",
        "arr2 = np.array(data2)\n",
        "arr2"
      ],
      "metadata": {
        "id": "-zwVx1X6Yov9"
      }
    },
    {
      "cell_type": "markdown",
      "source": [
        "# python list 넣어서 만들기 \n",
        "\n",
        "a = np.array([1,2,3])\n",
        "print(a, type(a))\n",
        "\n",
        "data = [1,2,3,4,5]\n",
        "array = np.array(data)\n",
        "print(array, type(array))"
      ],
      "metadata": {
        "id": "KhYuDAAmYq6h"
      }
    },
    {
      "cell_type": "markdown",
      "source": [
        "# 2. arange 사용 \n",
        "\n",
        "arr3 = np.arange(1,11) # 1~(11-1) 까지\n",
        "arr3"
      ],
      "metadata": {
        "id": "lrxS54ijYtfG"
      }
    },
    {
      "cell_type": "markdown",
      "source": [
        "# 1 ~ 10까지 2씩 증가한 만큼의 숫자를 배열에 담기\n",
        "\n",
        "arr4 = np.arange(1,11,2)\n",
        "arr4"
      ],
      "metadata": {
        "id": "MCd0Bj76YveM"
      }
    },
    {
      "cell_type": "code",
      "source": [
        "# 3. random\n",
        "\n",
        "arr5 = np.random.randint(1,11, size=5) # 1 ~ 10까지의 숫자를 랜덤하게 5개 뽑기 \n",
        "arr5"
      ],
      "metadata": {
        "id": "x6d-_cxZYzRb"
      },
      "execution_count": null,
      "outputs": []
    },
    {
      "cell_type": "code",
      "source": [
        "# 1 ~ 10까지의 숫자를 랜덤하게 3행 2열로 뽑기\n",
        "\n",
        "arr6 = np.random.randint(1,11,size=(3,2))\n",
        "arr6"
      ],
      "metadata": {
        "id": "MhQBt1zlY1Fl"
      },
      "execution_count": null,
      "outputs": []
    },
    {
      "cell_type": "markdown",
      "source": [
        "# np.random 관련함수 \n",
        "\n",
        "- np.random.rand()\n",
        "- np.random.randint()\n",
        "- np.random.randn()\n",
        "- np.random.choice()"
      ],
      "metadata": {
        "id": "9i4o4lcOY3pp"
      }
    },
    {
      "cell_type": "code",
      "source": [
        "np.random.rand(5) # 0~1 사이의 랜덤한 실수값 반환 (5개)"
      ],
      "metadata": {
        "id": "Jfvul3leY7vH"
      },
      "execution_count": null,
      "outputs": []
    },
    {
      "cell_type": "code",
      "source": [
        "np.random.rand(2,3) # 0 ~ 1 사이의 랜덤한 실수값을 2행 3열로 반환"
      ],
      "metadata": {
        "id": "KsUXozndY9tK"
      },
      "execution_count": null,
      "outputs": []
    },
    {
      "cell_type": "code",
      "source": [
        "np.random.randint(10) # 0 ~ (10-1) 까지의 랜덤한 정수값 반환"
      ],
      "metadata": {
        "id": "9ov-WKFtZA7r"
      },
      "execution_count": null,
      "outputs": []
    },
    {
      "cell_type": "code",
      "source": [
        "np.random.randn(5) # 표준 정규분호 값 5개 반환 (평균 0, 편차 1)"
      ],
      "metadata": {
        "id": "ODINDvs1ZCv1"
      },
      "execution_count": null,
      "outputs": []
    },
    {
      "cell_type": "code",
      "source": [
        "np.random.choice([1,2,3,4,5]) # 배열 안의 값 중 랜덤한거 하나 뽑아서 반환"
      ],
      "metadata": {
        "id": "yi0XGiIuZEmm"
      },
      "execution_count": null,
      "outputs": []
    },
    {
      "cell_type": "code",
      "source": [
        "# 1 ~ 10 사이의 수를 랜덤하게 5개 뽑아서 반환\n",
        "np.random.randint(11,size=5)\n",
        "np.random.choice(np.arange(1,10),5)"
      ],
      "metadata": {
        "id": "7HfGzlSbZGzu"
      },
      "execution_count": null,
      "outputs": []
    },
    {
      "cell_type": "code",
      "source": [
        "# List와 비교 \n",
        "l = [1,2,3]\n",
        "a = np.array([1,2,3])\n",
        "print(l)\n",
        "print(a)"
      ],
      "metadata": {
        "id": "fPeuPXjfZI4D"
      },
      "execution_count": null,
      "outputs": []
    },
    {
      "cell_type": "code",
      "source": [
        "# list 반복문\n",
        "for item in l:\n",
        "  print(item)\n",
        "\n",
        "print('-'*3)\n",
        "\n",
        "# numpy 반복문 \n",
        "for item in a:\n",
        "  print(item)"
      ],
      "metadata": {
        "id": "IxrTqO6XZKq4"
      },
      "execution_count": null,
      "outputs": []
    },
    {
      "cell_type": "code",
      "source": [
        "# list에서 append\n",
        "l.append(4) # 뒤에 4 추가\n",
        "print(l)\n",
        "\n",
        "# numpy에서 append 불가능\n",
        "# a = a.append(4)\n",
        "# print(a)"
      ],
      "metadata": {
        "id": "eeQgr84oZM4T"
      },
      "execution_count": null,
      "outputs": []
    },
    {
      "cell_type": "code",
      "source": [
        "# numpy에서 append >> np.append으로 대상 선정 후 가능\n",
        "a = np.append(a,4)\n",
        "print(a)"
      ],
      "metadata": {
        "id": "RYvx8ca5ZO0R"
      },
      "execution_count": null,
      "outputs": []
    },
    {
      "cell_type": "code",
      "source": [
        "# list에서의 덧셈\n",
        "l = l + [5] # 뒤에 5 추가\n",
        "print(l)\n",
        "\n",
        "# numpy에서의 덧셈 \n",
        "a = a + np.array([5]) # 각 요소에 + 5\n",
        "print(a)"
      ],
      "metadata": {
        "id": "TGthivvjZQ5E"
      },
      "execution_count": null,
      "outputs": []
    },
    {
      "cell_type": "code",
      "source": [
        "# list의 모든 요소를 2배로 만들기\n",
        "l = [1,2,3]\n",
        "l2 = []\n",
        "for item in l:\n",
        "  l2.append(item*2)\n",
        "print(l2)"
      ],
      "metadata": {
        "id": "1wtnM-ArZUGS"
      },
      "execution_count": null,
      "outputs": []
    },
    {
      "cell_type": "code",
      "source": [
        "l = l * 2 # 이 곱셈은 요소가 몇번 반복되는지\n",
        "print(l)"
      ],
      "metadata": {
        "id": "xpBLUFq2ZV0c"
      },
      "execution_count": null,
      "outputs": []
    },
    {
      "cell_type": "code",
      "source": [
        "# ndarray의 모든 요소를 2배로 만들기\n",
        "a = np.array(l)\n",
        "a = a * 2\n",
        "print(a)"
      ],
      "metadata": {
        "id": "967C6fJvZXL9"
      },
      "execution_count": null,
      "outputs": []
    },
    {
      "cell_type": "code",
      "source": [
        "data = np.random.randn(1,3)\n",
        "print(data)\n",
        "\n",
        "# 산술 연산\n",
        "dataMul = data * 10\n",
        "print(dataMul)\n",
        "\n",
        "dataAdd = data + data\n",
        "print(dataAdd)"
      ],
      "metadata": {
        "id": "zt6bzziYZYy1"
      },
      "execution_count": null,
      "outputs": []
    },
    {
      "cell_type": "markdown",
      "source": [
        "# Part2. 배열 \n",
        "\n",
        "Numpy 배열은 모두 같은 자료형(유형)의 값이며, 음수가 아닌 정수의 튜플로 인덱싱\n",
        "\n",
        "배열의 shape은 각 차원별 배열 크기의 tuple\n",
        "\n",
        "중첩된 파이썬 리스트로부터 numpy 배열을 초기화 할 수 있고, 대괄호를 사용해서 요소로 접근 가능 O\n",
        "\n"
      ],
      "metadata": {
        "id": "zh6zG--HZbVl"
      }
    },
    {
      "cell_type": "markdown",
      "source": [
        "# Array 연산\n",
        "\n",
        "기본적으로 numpy에서 연산을 하는 경우\n",
        "\n",
        "서로 크기가 같은 array끼리 연산을 진행\n",
        "\n",
        "같은 위치에 있는 요소들끼리 연산을 진행 "
      ],
      "metadata": {
        "id": "tzpURHDhZdcw"
      }
    },
    {
      "cell_type": "markdown",
      "source": [
        "# Array BroadCasting\n",
        "\n",
        "브로드캐스팅(BroadCasting)은 모양이 다른 배열들 간의 연산이 어떤 조건이 갖춰졌을 때 (만족했을 때) 가능해지도록 배열을 자동적으로 변환하는 것 \n",
        "\n",
        "=> 서로 크기가 다른 array들의 연산이 가능 "
      ],
      "metadata": {
        "id": "HOf_6MdtZfum"
      }
    },
    {
      "cell_type": "markdown",
      "source": [
        "# Part3. 배열 indexing(색인)과 slicing(슬라이싱)\n"
      ],
      "metadata": {
        "id": "NmhyJYaxZiQ1"
      }
    },
    {
      "cell_type": "code",
      "source": [
        "# basic\n",
        "a = np.arange(10)\n",
        "print(a)"
      ],
      "metadata": {
        "colab": {
          "base_uri": "https://localhost:8080/"
        },
        "id": "F3_SwX47ZkZT",
        "outputId": "4a005962-7421-4245-90c7-4f269c1acd6b"
      },
      "execution_count": null,
      "outputs": [
        {
          "output_type": "stream",
          "name": "stdout",
          "text": [
            "[0 1 2 3 4 5 6 7 8 9]\n"
          ]
        }
      ]
    },
    {
      "cell_type": "code",
      "source": [
        "# indexing\n",
        "# a에서 5 출력 \n",
        "print(a[5])"
      ],
      "metadata": {
        "id": "lm5KWsgZZkwO"
      },
      "execution_count": null,
      "outputs": []
    },
    {
      "cell_type": "code",
      "source": [
        "# np.arange() 함수는 파라미터로 받는 값 만큼 1씩 증가하는 1차원의 array를 만듦\n",
        "# 이 때 하나의 파라미터만 입력하면 0 ~ (입력한 값 - 1) 만큼의 크기를 가짐\n",
        "k = np.arange(10)\n",
        "print(k)\n",
        "# 두개의 파라미터를 넣으면 시작값 ~ (끝값 -1) 만큼의 크기를 가짐\n",
        "kk = np.arange(3,10)\n",
        "print(kk)"
      ],
      "metadata": {
        "id": "PFmJKKX-ZmeY"
      },
      "execution_count": null,
      "outputs": []
    },
    {
      "cell_type": "code",
      "source": [
        "# slicing\n",
        "print(a)\n",
        "# a에서 5,6,7값 출력\n",
        "print(a[5:8])\n",
        "\n",
        "# 맨 뒤에 있는 요소의 값\n",
        "print(a[-1])\n",
        "\n",
        "# 시작부터 7번째까지 2개씩 띄워서 출력\n",
        "print(a[0:8:2])\n",
        "print(a[:8:2])\n",
        "\n",
        "# [5 6 7] 자리를 10으로 채우기 \n",
        "a[5:8] = 10\n",
        "print(a)"
      ],
      "metadata": {
        "colab": {
          "base_uri": "https://localhost:8080/"
        },
        "id": "wEaH5YTZZoPJ",
        "outputId": "a6d8170d-76c5-4b09-e326-219e02d7e9ae"
      },
      "execution_count": null,
      "outputs": [
        {
          "output_type": "stream",
          "name": "stdout",
          "text": [
            "[0 1 2 3 4 5 6 7 8 9]\n",
            "[5 6 7]\n",
            "9\n",
            "[0 2 4 6]\n",
            "[0 2 4 6]\n",
            "[ 0  1  2  3  4 10 10 10  8  9]\n"
          ]
        }
      ]
    },
    {
      "cell_type": "code",
      "source": [
        "ex = [[1,2,3],[4,5,6],[7,8,9]]\n",
        "exx = np.array(ex)\n",
        "print(exx.shape)\n",
        "\n",
        "# 콤마를 이용한 slicing\n",
        "# 1행에 대한 값만 추출\n",
        "print(exx[:1,])\n",
        "\n",
        "# 1열에 대한 값만 추출\n",
        "print(exx[:,1])"
      ],
      "metadata": {
        "colab": {
          "base_uri": "https://localhost:8080/"
        },
        "id": "ZNde9iiEbymC",
        "outputId": "ef923b0f-1fb0-47c2-ef7b-d20630b94c9e"
      },
      "execution_count": null,
      "outputs": [
        {
          "output_type": "stream",
          "name": "stdout",
          "text": [
            "(3, 3)\n",
            "[[1 2 3]]\n",
            "[2 5 8]\n"
          ]
        }
      ]
    },
    {
      "cell_type": "markdown",
      "source": [
        "# Indexing과 Slicing의 차이 \n",
        "\n",
        "indexing을 사용하면 항상 랭크(차원) 감소 \n",
        "\n",
        "slicing을 사용하면 랭크(차원) 유지"
      ],
      "metadata": {
        "id": "JEVKRrQ4dc6F"
      }
    },
    {
      "cell_type": "code",
      "source": [
        "b = np.arange(1,13)\n",
        "b = b.reshape(3,4) # 모양을 다시 잡아준다\n",
        "print(b)\n",
        "print(b.shape)\n",
        "print(b.ndim) # 몇차원인지 보여주는"
      ],
      "metadata": {
        "colab": {
          "base_uri": "https://localhost:8080/"
        },
        "id": "b4I2QpnWd8PE",
        "outputId": "61b606ed-e828-4aa1-997b-50bf11be648a"
      },
      "execution_count": null,
      "outputs": [
        {
          "output_type": "stream",
          "name": "stdout",
          "text": [
            "[[ 1  2  3  4]\n",
            " [ 5  6  7  8]\n",
            " [ 9 10 11 12]]\n",
            "(3, 4)\n",
            "2\n"
          ]
        }
      ]
    },
    {
      "cell_type": "code",
      "source": [
        "# 몇차원인지는 중괄호의 갯수로 파악하거나 ndim 이용\n",
        "# b = np.arange(1,13).reshape(3,4) # 1~12까지를 3행4열로\n",
        "b = np.arange(1,13).reshape(3,2,2) # 3차원으로 2행 2열\n",
        "print(b)\n",
        "print(b.ndim)"
      ],
      "metadata": {
        "colab": {
          "base_uri": "https://localhost:8080/"
        },
        "id": "aFWylnWAibIe",
        "outputId": "070b2384-a254-46c9-92f4-f8ae81c68a39"
      },
      "execution_count": null,
      "outputs": [
        {
          "output_type": "stream",
          "name": "stdout",
          "text": [
            "[[[ 1  2]\n",
            "  [ 3  4]]\n",
            "\n",
            " [[ 5  6]\n",
            "  [ 7  8]]\n",
            "\n",
            " [[ 9 10]\n",
            "  [11 12]]]\n",
            "3\n"
          ]
        }
      ]
    },
    {
      "cell_type": "code",
      "source": [
        "indexing = b[1]\n",
        "slicing = b[1:2]\n",
        "print(indexing,indexing.shape, indexing.ndim)\n",
        "print()\n",
        "print(slicing, slicing.shape, slicing.ndim)\n",
        "\n",
        "# indexing과 slicing을 함께 사용해도 마찬가지로\n",
        "# indexing의 갯수만큼 랭크(차원) 감소 ..."
      ],
      "metadata": {
        "colab": {
          "base_uri": "https://localhost:8080/"
        },
        "id": "uCeaOOZgjVsT",
        "outputId": "67526db7-41d2-47f7-f290-a42050e88d79"
      },
      "execution_count": null,
      "outputs": [
        {
          "output_type": "stream",
          "name": "stdout",
          "text": [
            "[[5 6]\n",
            " [7 8]] (2, 2) 2\n",
            "\n",
            "[[[5 6]\n",
            "  [7 8]]] (1, 2, 2) 3\n"
          ]
        }
      ]
    },
    {
      "cell_type": "code",
      "source": [
        "# 요소의 갯수만큼 크기를 지정해줘야 함\n",
        "print(np.arange(1,13).reshape(3,4))\n",
        "# print(np.arange(1,13).reshape(3,3)) # 그릇이 너무 작아서 만들어지지않음."
      ],
      "metadata": {
        "colab": {
          "base_uri": "https://localhost:8080/"
        },
        "id": "Wwzf-TIwkfW1",
        "outputId": "ad5ff88b-e24a-4888-98a5-4074e5853888"
      },
      "execution_count": null,
      "outputs": [
        {
          "output_type": "stream",
          "name": "stdout",
          "text": [
            "[[ 1  2  3  4]\n",
            " [ 5  6  7  8]\n",
            " [ 9 10 11 12]]\n"
          ]
        }
      ]
    },
    {
      "cell_type": "code",
      "source": [
        "# array 수정\n",
        "\n",
        "arr = np.array([11,22,33,44,55])\n",
        "print(arr)\n",
        "\n",
        "# 0번째 인덱스의 값을 10으로 변경\n",
        "arr[0] = 10\n",
        "print(arr)\n",
        "\n",
        "# 1,2 번째 인덱스의 값을 222, 333으로 변경\n",
        "arr[1:3] = [222,333]\n",
        "print(arr)\n",
        "\n",
        "# 3,4 번째 인덱스의 값에 2를 더하기\n",
        "arr[3:5] += 2\n",
        "print(arr)"
      ],
      "metadata": {
        "colab": {
          "base_uri": "https://localhost:8080/"
        },
        "id": "Nqrqv8MNlDr7",
        "outputId": "ab1fc43b-9dd5-4f69-db79-ce21e21a9847"
      },
      "execution_count": null,
      "outputs": [
        {
          "output_type": "stream",
          "name": "stdout",
          "text": [
            "[11 22 33 44 55]\n",
            "[10 22 33 44 55]\n",
            "[ 10 222 333  44  55]\n",
            "[ 10 222 333  46  57]\n"
          ]
        }
      ]
    },
    {
      "cell_type": "code",
      "source": [
        "arr = np.array([110,222,337,420,155,978,200,53,178])\n",
        "print(arr)\n",
        "\n",
        "# arr에서 200보다 큰 데이터를 기존값에 2를 더한 값으로 수정\n",
        "for i in range(0,arr.shape[0]):\n",
        "  if (arr[i] > 200):\n",
        "    arr[i] += 2\n",
        "\n",
        "print(arr)\n",
        "\n",
        "# 다른 방법으로는"
      ],
      "metadata": {
        "colab": {
          "base_uri": "https://localhost:8080/"
        },
        "id": "0sMgTDq7m5ZU",
        "outputId": "74c1e292-7e6b-480f-bd83-c3bd251ddf94"
      },
      "execution_count": null,
      "outputs": [
        {
          "output_type": "stream",
          "name": "stdout",
          "text": [
            "[110 222 337 420 155 978 200  53 178]\n",
            "[110 224 339 422 155 980 200  53 178]\n"
          ]
        }
      ]
    },
    {
      "cell_type": "code",
      "source": [
        "arr = np.array([110,222,337,420,155,978,200,53,178])\n",
        "print(arr)\n",
        "\n",
        "# 인덱스 안에서 조건을 걸 수 있음\n",
        "\n",
        "arr[arr > 200] += 2\n",
        "print(arr)"
      ],
      "metadata": {
        "colab": {
          "base_uri": "https://localhost:8080/"
        },
        "id": "xvouEeGvp6RC",
        "outputId": "63c441a1-efd5-4897-eb7d-137218345fda"
      },
      "execution_count": null,
      "outputs": [
        {
          "output_type": "stream",
          "name": "stdout",
          "text": [
            "[110 222 337 420 155 978 200  53 178]\n",
            "[110 224 339 422 155 980 200  53 178]\n"
          ]
        }
      ]
    },
    {
      "cell_type": "code",
      "source": [
        "arr = np.array([11,3,24,7,5,18,2])\n",
        "print(arr)\n",
        "\n",
        "# arr에서 10보다 작은 데이터에 대해 기존값에 10을 곱한 값으로 수정\n",
        "arr[arr<10] *= 10\n",
        "print(arr)"
      ],
      "metadata": {
        "colab": {
          "base_uri": "https://localhost:8080/"
        },
        "id": "WtPnhe8Xqfhs",
        "outputId": "043be3cb-7511-4bba-e865-ad6a8319b708"
      },
      "execution_count": null,
      "outputs": [
        {
          "output_type": "stream",
          "name": "stdout",
          "text": [
            "[11  3 24  7  5 18  2]\n",
            "[11 30 24 70 50 18 20]\n"
          ]
        }
      ]
    },
    {
      "cell_type": "code",
      "source": [
        "# array 삭제 \n",
        "arr = np.array([11,22,33,44,55])\n",
        "print(arr)\n",
        "\n",
        "# 0번째, 2번째 인덱스 값 삭제 \n",
        "# np.delete(array, [index])\n",
        "arr = np.delete(arr,[0,2])\n",
        "print(arr)\n",
        "\n",
        "# array 인덱스 추출\n",
        "# np.where(조건)\n",
        "\n",
        "# arr의 각 요소의 값이 100보다 작은 index 추출\n",
        "np.where(arr < 100)\n",
        "# index가 정리되어서 나타나는걸 확인 할 수 있음"
      ],
      "metadata": {
        "colab": {
          "base_uri": "https://localhost:8080/"
        },
        "id": "aPBf3cnQroBr",
        "outputId": "512290df-666c-461a-ee2d-819dd97f497c"
      },
      "execution_count": null,
      "outputs": [
        {
          "output_type": "stream",
          "name": "stdout",
          "text": [
            "[11 22 33 44 55]\n",
            "[22 44 55]\n"
          ]
        },
        {
          "output_type": "execute_result",
          "data": {
            "text/plain": [
              "(array([0, 1, 2]),)"
            ]
          },
          "metadata": {},
          "execution_count": 49
        }
      ]
    },
    {
      "cell_type": "code",
      "source": [
        "arr = np.array([11,130,370,114,55,94,200,30,190,187])\n",
        "print(arr)\n",
        "\n",
        "# np.where 의 기능 살펴보고\n",
        "# arr의 각 요소가 100 이상이면 A, 아니면 B 를 출력 \n",
        "\n",
        "np.where(arr >= 100,'A','B')"
      ],
      "metadata": {
        "colab": {
          "base_uri": "https://localhost:8080/"
        },
        "id": "Znz_s7SSxYaQ",
        "outputId": "2e9de5c8-cdce-41c7-a733-53df5d28c83c"
      },
      "execution_count": null,
      "outputs": [
        {
          "output_type": "stream",
          "name": "stdout",
          "text": [
            "[ 11 130 370 114  55  94 200  30 190 187]\n"
          ]
        },
        {
          "output_type": "execute_result",
          "data": {
            "text/plain": [
              "array(['B', 'A', 'A', 'A', 'B', 'B', 'A', 'B', 'A', 'A'], dtype='<U1')"
            ]
          },
          "metadata": {},
          "execution_count": 53
        }
      ]
    },
    {
      "cell_type": "markdown",
      "source": [
        "# Numpy 함수\n",
        "\n",
        "# 하나의 array에 적용 (단항 유니버셜 함수)\n",
        "\n",
        "유니버셜 함수 : ndarray안에 있는 데이터의 요소별로 연산을 수행해주는 함수"
      ],
      "metadata": {
        "id": "aMbDec6c0cre"
      }
    },
    {
      "cell_type": "code",
      "source": [
        "ar1 = np.random.randn(5,3)\n",
        "ar1"
      ],
      "metadata": {
        "colab": {
          "base_uri": "https://localhost:8080/"
        },
        "id": "8vFx0Sca01Mn",
        "outputId": "ba2329c4-254e-4b81-a189-ed8d7cb67c1e"
      },
      "execution_count": null,
      "outputs": [
        {
          "output_type": "execute_result",
          "data": {
            "text/plain": [
              "array([[-0.13290645, -0.65332328,  0.71257516],\n",
              "       [ 0.64712929,  0.2359071 , -2.01328057],\n",
              "       [ 1.18903996,  1.04098968,  1.03973726],\n",
              "       [ 0.51762404, -0.47164835, -0.54681974],\n",
              "       [-0.45662614, -0.76134008,  0.03511533]])"
            ]
          },
          "metadata": {},
          "execution_count": 56
        }
      ]
    },
    {
      "cell_type": "code",
      "source": [
        "# 각 요소의 절대값 \n",
        "np.abs(ar1)"
      ],
      "metadata": {
        "colab": {
          "base_uri": "https://localhost:8080/"
        },
        "id": "sMfSYsxU1HYF",
        "outputId": "fc524bde-1566-42f6-b138-06d170f253eb"
      },
      "execution_count": null,
      "outputs": [
        {
          "output_type": "execute_result",
          "data": {
            "text/plain": [
              "array([[0.13290645, 0.65332328, 0.71257516],\n",
              "       [0.64712929, 0.2359071 , 2.01328057],\n",
              "       [1.18903996, 1.04098968, 1.03973726],\n",
              "       [0.51762404, 0.47164835, 0.54681974],\n",
              "       [0.45662614, 0.76134008, 0.03511533]])"
            ]
          },
          "metadata": {},
          "execution_count": 57
        }
      ]
    },
    {
      "cell_type": "code",
      "source": [
        "# 각 요소의 제곱근 계산 (== array ** 0.5)\n",
        "np.sqrt(ar1)"
      ],
      "metadata": {
        "colab": {
          "base_uri": "https://localhost:8080/"
        },
        "id": "4a_Ca1Ml1ZU2",
        "outputId": "6336fb09-d3d0-44d0-c2b8-12c840241bb9"
      },
      "execution_count": null,
      "outputs": [
        {
          "output_type": "stream",
          "name": "stderr",
          "text": [
            "/usr/local/lib/python3.7/dist-packages/ipykernel_launcher.py:2: RuntimeWarning: invalid value encountered in sqrt\n",
            "  \n"
          ]
        },
        {
          "output_type": "execute_result",
          "data": {
            "text/plain": [
              "array([[       nan,        nan, 0.84414167],\n",
              "       [0.80444347, 0.48570269,        nan],\n",
              "       [1.09043109, 1.02028902, 1.01967508],\n",
              "       [0.71946094,        nan,        nan],\n",
              "       [       nan,        nan, 0.18739084]])"
            ]
          },
          "metadata": {},
          "execution_count": 59
        }
      ]
    },
    {
      "cell_type": "code",
      "source": [
        "# 각 요소의 제곱 계산 \n",
        "np.square(ar1)"
      ],
      "metadata": {
        "colab": {
          "base_uri": "https://localhost:8080/"
        },
        "id": "CWpCD_621zC8",
        "outputId": "d5fb79f0-98bf-4de0-ec5c-175ef269d21e"
      },
      "execution_count": null,
      "outputs": [
        {
          "output_type": "execute_result",
          "data": {
            "text/plain": [
              "array([[1.76641251e-02, 4.26831305e-01, 5.07763354e-01],\n",
              "       [4.18776320e-01, 5.56521592e-02, 4.05329865e+00],\n",
              "       [1.41381604e+00, 1.08365952e+00, 1.08105357e+00],\n",
              "       [2.67934651e-01, 2.22452161e-01, 2.99011833e-01],\n",
              "       [2.08507436e-01, 5.79638723e-01, 1.23308621e-03]])"
            ]
          },
          "metadata": {},
          "execution_count": 60
        }
      ]
    },
    {
      "cell_type": "code",
      "source": [
        "# 각 요소를 무리수 e의 지수로 삼은 값을 계산 \n",
        "np.exp(ar1)"
      ],
      "metadata": {
        "colab": {
          "base_uri": "https://localhost:8080/"
        },
        "id": "QGHa8qRS2JSn",
        "outputId": "8ef1174d-40bb-4eae-d488-3381d38bdfcf"
      },
      "execution_count": null,
      "outputs": [
        {
          "output_type": "execute_result",
          "data": {
            "text/plain": [
              "array([[0.87554699, 0.52031375, 2.03923585],\n",
              "       [1.91004976, 1.26605669, 0.13354984],\n",
              "       [3.283927  , 2.83201843, 2.82847376],\n",
              "       [1.67803597, 0.6239729 , 0.57878758],\n",
              "       [0.6334171 , 0.46704013, 1.03573915]])"
            ]
          },
          "metadata": {},
          "execution_count": 61
        }
      ]
    },
    {
      "cell_type": "code",
      "source": [
        "# 각 요소를 자연로그, 상용로그, 아래가 2인 로그를 씌운 값 계산\n",
        "print(np.log(ar1))\n",
        "print()\n",
        "print(np.log10(ar1))\n",
        "print()\n",
        "print(np.log2(ar1))"
      ],
      "metadata": {
        "colab": {
          "base_uri": "https://localhost:8080/"
        },
        "id": "Yn-oy5xo2tqw",
        "outputId": "5b498bbd-6542-42a1-90fa-d6eb2ea58eb9"
      },
      "execution_count": null,
      "outputs": [
        {
          "output_type": "stream",
          "name": "stdout",
          "text": [
            "[[        nan         nan -0.33886989]\n",
            " [-0.43520917 -1.4443172          nan]\n",
            " [ 0.17314623  0.04017188  0.03896805]\n",
            " [-0.65850608         nan         nan]\n",
            " [        nan         nan -3.34911757]]\n",
            "\n",
            "[[        nan         nan -0.14716932]\n",
            " [-0.18900894 -0.62725899         nan]\n",
            " [ 0.07519645  0.01744643  0.01692361]\n",
            " [-0.28598556         nan         nan]\n",
            " [        nan         nan -1.45450328]]\n",
            "\n",
            "[[        nan         nan -0.48888591]\n",
            " [-0.62787411 -2.08370926         nan]\n",
            " [ 0.2497972   0.05795577  0.05621901]\n",
            " [-0.95002346         nan         nan]\n",
            " [        nan         nan -4.83175531]]\n"
          ]
        },
        {
          "output_type": "stream",
          "name": "stderr",
          "text": [
            "/usr/local/lib/python3.7/dist-packages/ipykernel_launcher.py:2: RuntimeWarning: invalid value encountered in log\n",
            "  \n",
            "/usr/local/lib/python3.7/dist-packages/ipykernel_launcher.py:4: RuntimeWarning: invalid value encountered in log10\n",
            "  after removing the cwd from sys.path.\n",
            "/usr/local/lib/python3.7/dist-packages/ipykernel_launcher.py:6: RuntimeWarning: invalid value encountered in log2\n",
            "  \n"
          ]
        }
      ]
    },
    {
      "cell_type": "code",
      "source": [
        "# 각 요소의 부호 계산하기 (+ : 1, - : -1, 0 : 0)\n",
        "np.sign(ar1)"
      ],
      "metadata": {
        "colab": {
          "base_uri": "https://localhost:8080/"
        },
        "id": "6V9gq17f3TAa",
        "outputId": "fcac4513-03db-40e8-9016-8be18afa72fa"
      },
      "execution_count": null,
      "outputs": [
        {
          "output_type": "execute_result",
          "data": {
            "text/plain": [
              "array([[-1., -1.,  1.],\n",
              "       [ 1.,  1., -1.],\n",
              "       [ 1.,  1.,  1.],\n",
              "       [ 1., -1., -1.],\n",
              "       [-1., -1.,  1.]])"
            ]
          },
          "metadata": {},
          "execution_count": 63
        }
      ]
    },
    {
      "cell_type": "code",
      "source": [
        "# 각 요소의 소수 첫번째 자리에서 올림한 값 계산\n",
        "np.ceil(ar1)"
      ],
      "metadata": {
        "colab": {
          "base_uri": "https://localhost:8080/"
        },
        "id": "4sU7Iahm3oB2",
        "outputId": "9d5ccf83-0548-4c6e-f1ce-036d8ed7d64e"
      },
      "execution_count": null,
      "outputs": [
        {
          "output_type": "execute_result",
          "data": {
            "text/plain": [
              "array([[-0., -0.,  1.],\n",
              "       [ 1.,  1., -2.],\n",
              "       [ 2.,  2.,  2.],\n",
              "       [ 1., -0., -0.],\n",
              "       [-0., -0.,  1.]])"
            ]
          },
          "metadata": {},
          "execution_count": 64
        }
      ]
    },
    {
      "cell_type": "code",
      "source": [
        "# 각 요소의 소수 첫번째 자리에서 내림한 값 계산\n",
        "np.floor(ar1)"
      ],
      "metadata": {
        "colab": {
          "base_uri": "https://localhost:8080/"
        },
        "id": "Xkr7oYyj30vi",
        "outputId": "79e91dff-153f-4eb8-c8c7-bce21195b0a5"
      },
      "execution_count": null,
      "outputs": [
        {
          "output_type": "execute_result",
          "data": {
            "text/plain": [
              "array([[-1., -1.,  0.],\n",
              "       [ 0.,  0., -3.],\n",
              "       [ 1.,  1.,  1.],\n",
              "       [ 0., -1., -1.],\n",
              "       [-1., -1.,  0.]])"
            ]
          },
          "metadata": {},
          "execution_count": 65
        }
      ]
    },
    {
      "cell_type": "code",
      "source": [
        "# 각 요소가 nan인 경우 True, 아닌 경우 False를 변환\n",
        "np.isnan(ar1)"
      ],
      "metadata": {
        "colab": {
          "base_uri": "https://localhost:8080/"
        },
        "id": "dbZv9kki4Njm",
        "outputId": "de7dc910-c118-4fea-fbe0-34777794a2d3"
      },
      "execution_count": null,
      "outputs": [
        {
          "output_type": "execute_result",
          "data": {
            "text/plain": [
              "array([[False, False, False],\n",
              "       [False, False, False],\n",
              "       [False, False, False],\n",
              "       [False, False, False],\n",
              "       [False, False, False]])"
            ]
          },
          "metadata": {},
          "execution_count": 66
        }
      ]
    },
    {
      "cell_type": "code",
      "source": [
        "np.isnan(np.log(ar1))"
      ],
      "metadata": {
        "colab": {
          "base_uri": "https://localhost:8080/"
        },
        "id": "wZ2T0baM4e94",
        "outputId": "0666ac4b-dc46-4909-bf56-c80ce57dcf96"
      },
      "execution_count": null,
      "outputs": [
        {
          "output_type": "stream",
          "name": "stderr",
          "text": [
            "/usr/local/lib/python3.7/dist-packages/ipykernel_launcher.py:1: RuntimeWarning: invalid value encountered in log\n",
            "  \"\"\"Entry point for launching an IPython kernel.\n"
          ]
        },
        {
          "output_type": "execute_result",
          "data": {
            "text/plain": [
              "array([[ True,  True, False],\n",
              "       [False, False,  True],\n",
              "       [False, False, False],\n",
              "       [False,  True,  True],\n",
              "       [ True,  True, False]])"
            ]
          },
          "metadata": {},
          "execution_count": 67
        }
      ]
    },
    {
      "cell_type": "code",
      "source": [
        "# 각 요소가 무한대인 경우 True, 아닌 경우 False 반환\n",
        "np.isinf(ar1)"
      ],
      "metadata": {
        "colab": {
          "base_uri": "https://localhost:8080/"
        },
        "id": "td9KK6Vv4odF",
        "outputId": "b27d58f3-4c9a-4f3d-e6fa-a5ada953dd59"
      },
      "execution_count": null,
      "outputs": [
        {
          "output_type": "execute_result",
          "data": {
            "text/plain": [
              "array([[False, False, False],\n",
              "       [False, False, False],\n",
              "       [False, False, False],\n",
              "       [False, False, False],\n",
              "       [False, False, False]])"
            ]
          },
          "metadata": {},
          "execution_count": 68
        }
      ]
    },
    {
      "cell_type": "code",
      "source": [
        "# 각 요소에 대해 삼각함수 값을 계산하기 (cos, cosh, sin, sinh, tan, tanh)\n",
        "# ~h : 쌍곡선 함수\n",
        "# 쌍곡선 : 고정된 두 초첨으로부터 거리가 일정한 점들에 의해 나타나는 곡선\n",
        "np.cos(ar1)"
      ],
      "metadata": {
        "colab": {
          "base_uri": "https://localhost:8080/"
        },
        "id": "LgzgTqQ846UG",
        "outputId": "c4f6f973-f2dd-4bc8-8834-dbb309e9ad72"
      },
      "execution_count": null,
      "outputs": [
        {
          "output_type": "execute_result",
          "data": {
            "text/plain": [
              "array([[ 0.99118093,  0.7940682 ,  0.75668079],\n",
              "       [ 0.79781783,  0.97230273, -0.42818577],\n",
              "       [ 0.37255097,  0.5053665 ,  0.50644683],\n",
              "       [ 0.86899729,  0.89082056,  0.85418249],\n",
              "       [ 0.89754521,  0.72391215,  0.99938352]])"
            ]
          },
          "metadata": {},
          "execution_count": 69
        }
      ]
    },
    {
      "cell_type": "markdown",
      "source": [
        "두 개의 array에 적용 (이항 유니버셜함수)"
      ],
      "metadata": {
        "id": "hI7SVz5c-Ajg"
      }
    },
    {
      "cell_type": "code",
      "source": [
        "ar1"
      ],
      "metadata": {
        "colab": {
          "base_uri": "https://localhost:8080/"
        },
        "id": "lZkzCRdY99U5",
        "outputId": "03a4d57d-32cf-4edf-c58f-3113fea9ef09"
      },
      "execution_count": null,
      "outputs": [
        {
          "output_type": "execute_result",
          "data": {
            "text/plain": [
              "array([[-0.13290645, -0.65332328,  0.71257516],\n",
              "       [ 0.64712929,  0.2359071 , -2.01328057],\n",
              "       [ 1.18903996,  1.04098968,  1.03973726],\n",
              "       [ 0.51762404, -0.47164835, -0.54681974],\n",
              "       [-0.45662614, -0.76134008,  0.03511533]])"
            ]
          },
          "metadata": {},
          "execution_count": 70
        }
      ]
    },
    {
      "cell_type": "code",
      "source": [
        "ar2 = np.random.randn(5,3)\n",
        "ar2"
      ],
      "metadata": {
        "colab": {
          "base_uri": "https://localhost:8080/"
        },
        "id": "rLriXOYa-GlQ",
        "outputId": "f0a25a4e-6c6d-4c91-cd00-172ac9d5ccda"
      },
      "execution_count": null,
      "outputs": [
        {
          "output_type": "execute_result",
          "data": {
            "text/plain": [
              "array([[ 1.15372978,  0.75238942, -1.18435733],\n",
              "       [-0.49858544, -0.54324045,  1.26383338],\n",
              "       [ 0.29763871, -2.03288745,  1.46035275],\n",
              "       [ 0.20820363, -0.96855161,  0.95927892],\n",
              "       [ 1.70024646, -0.33801798, -0.38949231]])"
            ]
          },
          "metadata": {},
          "execution_count": 71
        }
      ]
    },
    {
      "cell_type": "code",
      "source": [
        "# 두 개의 array에 대해 동일한 위치 요소끼리\n",
        "# 연산 값을 계산하기(add, subtract, multiply, divide)\n",
        "np.multiply(ar1, ar2)"
      ],
      "metadata": {
        "colab": {
          "base_uri": "https://localhost:8080/"
        },
        "id": "7W5LtB7c-K6Y",
        "outputId": "84372de1-4bb2-4d03-a858-90ab543da408"
      },
      "execution_count": null,
      "outputs": [
        {
          "output_type": "execute_result",
          "data": {
            "text/plain": [
              "array([[-0.15333813, -0.49155352, -0.84394361],\n",
              "       [-0.32264924, -0.12815428, -2.54445118],\n",
              "       [ 0.35390432, -2.11621487,  1.51838316],\n",
              "       [ 0.1077712 ,  0.45681576, -0.52455265],\n",
              "       [-0.77637699,  0.25734663, -0.01367715]])"
            ]
          },
          "metadata": {},
          "execution_count": 72
        }
      ]
    },
    {
      "cell_type": "code",
      "source": [
        "# 두 개의 array에 대해 동일한 위치의 요소끼리 비교해서 최대값 or 최소값 계산 (maximum, minimum)\n",
        "np.maximum(ar1,ar2)"
      ],
      "metadata": {
        "colab": {
          "base_uri": "https://localhost:8080/"
        },
        "id": "6AUX0lDg-qG9",
        "outputId": "afa0c9cf-f3ee-4b4a-dbe2-8b8c90774b93"
      },
      "execution_count": null,
      "outputs": [
        {
          "output_type": "execute_result",
          "data": {
            "text/plain": [
              "array([[ 1.15372978,  0.75238942,  0.71257516],\n",
              "       [ 0.64712929,  0.2359071 ,  1.26383338],\n",
              "       [ 1.18903996,  1.04098968,  1.46035275],\n",
              "       [ 0.51762404, -0.47164835,  0.95927892],\n",
              "       [ 1.70024646, -0.33801798,  0.03511533]])"
            ]
          },
          "metadata": {},
          "execution_count": 73
        }
      ]
    },
    {
      "cell_type": "markdown",
      "source": [
        "# 통계 함수\n",
        "\n",
        "통계 함수를 통해 array의 합이나 평균 등을 구할 때\n",
        "\n",
        "추가로 'axis'라는 파라미터에 대한 값을 지정하여 \n",
        "\n",
        "열 또는 행의 합 또는 평균 등을 구할 수 있음 "
      ],
      "metadata": {
        "id": "3WLtPl_K_OHz"
      }
    },
    {
      "cell_type": "code",
      "source": [
        "# 전체 요소의 합을 계산 \n",
        "np.sum(ar1)"
      ],
      "metadata": {
        "colab": {
          "base_uri": "https://localhost:8080/"
        },
        "id": "-fyx4w18_jnC",
        "outputId": "a6b6c248-61fa-4f67-a5de-a8d50571c107"
      },
      "execution_count": null,
      "outputs": [
        {
          "output_type": "execute_result",
          "data": {
            "text/plain": [
              "0.3821732069956184"
            ]
          },
          "metadata": {},
          "execution_count": 74
        }
      ]
    },
    {
      "cell_type": "code",
      "source": [
        "# 열 간의 합을 계산 \n",
        "np.sum(ar1,axis=0)"
      ],
      "metadata": {
        "colab": {
          "base_uri": "https://localhost:8080/"
        },
        "id": "a5UxjQfr_wHC",
        "outputId": "da052bac-a535-4c00-bab2-457cab990bc1"
      },
      "execution_count": null,
      "outputs": [
        {
          "output_type": "execute_result",
          "data": {
            "text/plain": [
              "array([ 1.7642607 , -0.60941492, -0.77267257])"
            ]
          },
          "metadata": {},
          "execution_count": 75
        }
      ]
    },
    {
      "cell_type": "code",
      "source": [
        "# 행 간의 합을 계산\n",
        "np.sum(ar1,axis=1)"
      ],
      "metadata": {
        "colab": {
          "base_uri": "https://localhost:8080/"
        },
        "id": "3MICAEMHAKAs",
        "outputId": "369c635d-c27f-469e-a316-ef83d2166860"
      },
      "execution_count": null,
      "outputs": [
        {
          "output_type": "execute_result",
          "data": {
            "text/plain": [
              "array([-0.07365457, -1.13024418,  3.26976691, -0.50084405, -1.1828509 ])"
            ]
          },
          "metadata": {},
          "execution_count": 76
        }
      ]
    },
    {
      "cell_type": "code",
      "source": [
        "# 전체 요소의 평균\n",
        "# print(np.average(ar1))\n",
        "np.mean(ar1)"
      ],
      "metadata": {
        "colab": {
          "base_uri": "https://localhost:8080/"
        },
        "id": "0-W--wRRAefM",
        "outputId": "7c7ec785-f52c-4365-89a4-882ba6406584"
      },
      "execution_count": null,
      "outputs": [
        {
          "output_type": "stream",
          "name": "stdout",
          "text": [
            "0.025478213799707893\n",
            "0.025478213799707893\n"
          ]
        }
      ]
    },
    {
      "cell_type": "code",
      "source": [
        "# 전체 요소의 표준편차, 분산, 최소값, 최대값 (std, var, min, max)\n",
        "np.std(ar1)"
      ],
      "metadata": {
        "colab": {
          "base_uri": "https://localhost:8080/"
        },
        "id": "6F8WvoZHA_sU",
        "outputId": "b8865a15-4875-4649-ebdd-5a5686cd77b3"
      },
      "execution_count": null,
      "outputs": [
        {
          "output_type": "execute_result",
          "data": {
            "text/plain": [
              "0.841726631629049"
            ]
          },
          "metadata": {},
          "execution_count": 79
        }
      ]
    },
    {
      "cell_type": "code",
      "source": [
        "# 전체 요소의 최소값, 최대값이 위치한 인덱스를 반환 (argmin, argmax)\n",
        "np.argmin(ar1)"
      ],
      "metadata": {
        "colab": {
          "base_uri": "https://localhost:8080/"
        },
        "id": "M1P8Yf_nBGoI",
        "outputId": "22bbb52f-7271-4cba-d343-ee39e6a47b96"
      },
      "execution_count": null,
      "outputs": [
        {
          "output_type": "execute_result",
          "data": {
            "text/plain": [
              "5"
            ]
          },
          "metadata": {},
          "execution_count": 80
        }
      ]
    },
    {
      "cell_type": "code",
      "source": [
        "# 맨 처음 요소부터 각 요소까지의 누적합 or 누적곱을 계산 (cumsum, sumprod)\n",
        "np.cumsum(ar1)"
      ],
      "metadata": {
        "colab": {
          "base_uri": "https://localhost:8080/"
        },
        "id": "pgx7S27XBQ7d",
        "outputId": "a34456fa-d85d-4bfa-eb14-124ec462fde3"
      },
      "execution_count": null,
      "outputs": [
        {
          "output_type": "execute_result",
          "data": {
            "text/plain": [
              "array([-0.13290645, -0.78622973, -0.07365457,  0.57347472,  0.80938182,\n",
              "       -1.20389875, -0.01485879,  1.02613089,  2.06586815,  2.5834922 ,\n",
              "        2.11184385,  1.56502411,  1.10839796,  0.34705788,  0.38217321])"
            ]
          },
          "metadata": {},
          "execution_count": 81
        }
      ]
    },
    {
      "cell_type": "code",
      "source": [
        "# 사분위수\n",
        "\n",
        "# 0.25 : 1 사분위수 / 0.5 : 사분위수(중앙값) / 0.75 : 3 사분위수\n",
        "np.quantile(ar1, [0.25, 0.5, 0.75])"
      ],
      "metadata": {
        "colab": {
          "base_uri": "https://localhost:8080/"
        },
        "id": "V5dhRnGEBdhO",
        "outputId": "bfd89829-1b9b-49b6-f88b-f60fbe06144a"
      },
      "execution_count": null,
      "outputs": [
        {
          "output_type": "execute_result",
          "data": {
            "text/plain": [
              "array([-0.50923404,  0.03511533,  0.67985222])"
            ]
          },
          "metadata": {},
          "execution_count": 82
        }
      ]
    },
    {
      "cell_type": "markdown",
      "source": [
        "기타함수"
      ],
      "metadata": {
        "id": "Wy601jt9CCam"
      }
    },
    {
      "cell_type": "code",
      "source": [
        "# 전체 요소에 대해서 오름차순 정렬\n",
        "np.sort(ar1)"
      ],
      "metadata": {
        "colab": {
          "base_uri": "https://localhost:8080/"
        },
        "id": "hpnHSIwtCDnQ",
        "outputId": "939bf5ea-73d3-45ee-bc08-1973eb8165a2"
      },
      "execution_count": null,
      "outputs": [
        {
          "output_type": "execute_result",
          "data": {
            "text/plain": [
              "array([[-0.65332328, -0.13290645,  0.71257516],\n",
              "       [-2.01328057,  0.2359071 ,  0.64712929],\n",
              "       [ 1.03973726,  1.04098968,  1.18903996],\n",
              "       [-0.54681974, -0.47164835,  0.51762404],\n",
              "       [-0.76134008, -0.45662614,  0.03511533]])"
            ]
          },
          "metadata": {},
          "execution_count": 83
        }
      ]
    },
    {
      "cell_type": "code",
      "source": [
        "# 행 방향으로 오름차순 정렬\n",
        "np.sort(ar1,axis=0)"
      ],
      "metadata": {
        "colab": {
          "base_uri": "https://localhost:8080/"
        },
        "id": "R31mNT2tCQR8",
        "outputId": "c8e4b4d5-7ab6-4254-d76e-6ddf7605a022"
      },
      "execution_count": null,
      "outputs": [
        {
          "output_type": "execute_result",
          "data": {
            "text/plain": [
              "array([[-0.45662614, -0.76134008, -2.01328057],\n",
              "       [-0.13290645, -0.65332328, -0.54681974],\n",
              "       [ 0.51762404, -0.47164835,  0.03511533],\n",
              "       [ 0.64712929,  0.2359071 ,  0.71257516],\n",
              "       [ 1.18903996,  1.04098968,  1.03973726]])"
            ]
          },
          "metadata": {},
          "execution_count": 87
        }
      ]
    },
    {
      "cell_type": "code",
      "source": [
        "# zip 함수\n",
        "# 각 객체를 파라미터로 받고, 그 요소들을 tuple의 형태로 반환\n",
        "numbers = [1, 2, 3]\n",
        "letters = ['A','B','C']\n",
        "\n",
        "for pair in zip(numbers,letters):\n",
        "  print(pair)"
      ],
      "metadata": {
        "colab": {
          "base_uri": "https://localhost:8080/"
        },
        "id": "8LdRHkp9F0ju",
        "outputId": "22a2e4d2-1e41-4588-b290-7d9fb58bb52e"
      },
      "execution_count": null,
      "outputs": [
        {
          "output_type": "stream",
          "name": "stdout",
          "text": [
            "(1, 'A')\n",
            "(2, 'B')\n",
            "(3, 'C')\n"
          ]
        }
      ]
    },
    {
      "cell_type": "code",
      "source": [
        "# 문자열 \"12345\", \"ABCDE\",\"abcde\"를 묶어서 출력하기\n",
        "a = \"12345\"\n",
        "b = \"ABCDE\"\n",
        "c = \"abcde\"\n",
        "\n",
        "for pair in zip(a,b,c):\n",
        "  print(pair)\n",
        "\n",
        "for number, upper, lower in zip('12345','ABCDE','abcde'):\n",
        "  print(number,upper,lower)"
      ],
      "metadata": {
        "colab": {
          "base_uri": "https://localhost:8080/"
        },
        "id": "Jfq1Wn3UGc6D",
        "outputId": "18514f20-ccbd-4c04-e296-34002dfd6ed7"
      },
      "execution_count": null,
      "outputs": [
        {
          "output_type": "stream",
          "name": "stdout",
          "text": [
            "('1', 'A', 'a')\n",
            "('2', 'B', 'b')\n",
            "('3', 'C', 'c')\n",
            "('4', 'D', 'd')\n",
            "('5', 'E', 'e')\n",
            "1 A a\n",
            "2 B b\n",
            "3 C c\n",
            "4 D d\n",
            "5 E e\n"
          ]
        }
      ]
    }
  ]
}