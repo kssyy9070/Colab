{
  "nbformat": 4,
  "nbformat_minor": 0,
  "metadata": {
    "colab": {
      "name": "\bMay16_2_Tensorflow.ipynb",
      "provenance": [],
      "collapsed_sections": [],
      "authorship_tag": "ABX9TyNSO7hMuP2eQ2SMedao09WR"
    },
    "kernelspec": {
      "name": "python3",
      "display_name": "Python 3"
    },
    "language_info": {
      "name": "python"
    }
  },
  "cells": [
    {
      "cell_type": "markdown",
      "source": [
        "# TensorFlow (텐서플로, 텐서플로우)\n",
        "\n",
        "대규모 숫자 계산을 할 수 있도록 해주는 라이브러리\n",
        "\n",
        "Tensor(텐서) : 다차원 행렬 (딥러닝에서 데이터를 표현하는 방식)\n",
        "\n",
        "TensorFlow는 계산식들을 미리 만들어 놓고, 데이터를 하나하나 넣어가며 실행을 하는 구조\n",
        "\n",
        "파이썬을 최우선으로 지원하며, 대부분의 편한 기능들이 파이썬 라이브러리 구현이 되어 있어서\n",
        "\n",
        "파이썬에서 개발하는 것이 편하다."
      ],
      "metadata": {
        "id": "6Sq1o2Ynn36P"
      }
    },
    {
      "cell_type": "markdown",
      "source": [
        "# 텐서의 종류\n",
        "\n",
        "* 0차원 텐서 : 스칼라 (Scalar)\n",
        "* 1차원 백터 (Vector)\n",
        "* 2차원 행렬 (Matrix)\n",
        "* 3차원 텐서 (Tensor)\n",
        "* 4차원 텐서 (Tensor)\n",
        "\n",
        "차수(Rank)가 1씩 증가하면서 데이터 구조가 확장\n",
        "\n",
        "점 -> 선 -> 면 -> 입체로 가는 느낌\n",
        "\n",
        "차수(랭크의 수) : 텐서를 구성하는 백터의 개수\n",
        "\n",
        "벡터(Vector) : 어떤 축을 기준으로 해당하는 방향으로 어떤 양이 존재하는지, 각 차원은 각각의 고유의 정보를 나타내는 축\n",
        "\n"
      ],
      "metadata": {
        "id": "PjHDRSUOo40W"
      }
    },
    {
      "cell_type": "markdown",
      "source": [
        "# 스칼라 (Scalar)\n",
        "\n",
        "정수 및 실수와 같은 상수(Constant Number)\n",
        "\n",
        "양을 나타내기는 하지만, 방향성을 갖지는 않음\n",
        "\n",
        "벡터가 존재하지 않으므로 차수가 0\n",
        "\n",
        "텐서플로에서 : '랭크-0 텐서'라고 부름"
      ],
      "metadata": {
        "id": "Xe8t1VamqazH"
      }
    },
    {
      "cell_type": "code",
      "source": [
        "# 텐서플로 불러오기\n",
        "import tensorflow as tf\n",
        "\n",
        "# scalar 정의\n",
        "#     scalar tensor는 constant()함수에 상수값을 입력해서 만들기\n",
        "a = tf.constant(10) # 변수 a에 스칼라 10 할당\n",
        "b = tf.constant(20) # 변수 b에 스칼라 20 할당\n",
        "\n",
        "print(a)\n",
        "print(b)\n",
        "\n",
        "# tf.Tensor(10, shape=(), dtype=int32)\n",
        "# tf.Tensor(20, shape=(), dtype=int32)\n",
        "#     정수 10, 20은 텐서(tf.Tensor)로 변환\n",
        "#     배열을 의미하는 shape=()에 나타내는 값이 없음 => 0차원\n",
        "#     결론 : 정수 10과 20은 0차원 텐서인 스칼라로 저장된 것이 확인됨"
      ],
      "metadata": {
        "colab": {
          "base_uri": "https://localhost:8080/"
        },
        "id": "FOqsATYJrFB9",
        "outputId": "a310ee25-735d-4d3a-e45a-9df637f58c98"
      },
      "execution_count": null,
      "outputs": [
        {
          "output_type": "stream",
          "name": "stdout",
          "text": [
            "tf.Tensor(10, shape=(), dtype=int32)\n",
            "tf.Tensor(20, shape=(), dtype=int32)\n"
          ]
        }
      ]
    },
    {
      "cell_type": "code",
      "source": [
        "# 랭크 확인\n",
        "print(tf.rank(a)) # rank가 0인 스칼라텐서"
      ],
      "metadata": {
        "colab": {
          "base_uri": "https://localhost:8080/"
        },
        "id": "T_PO-11AsiZq",
        "outputId": "bd9a036f-d774-461a-e508-e9c4dc6685b8"
      },
      "execution_count": null,
      "outputs": [
        {
          "output_type": "stream",
          "name": "stdout",
          "text": [
            "tf.Tensor(0, shape=(), dtype=int32)\n"
          ]
        }
      ]
    },
    {
      "cell_type": "code",
      "source": [
        "# tensor 자료형 변환 : tf.cast(바꿀 변수명, 바꿀 자료형)\n",
        "# 형변환 : type casting\n",
        "# a, b : int32 -> float32\n",
        "a = tf.cast(a, tf.float32)\n",
        "b = tf.cast(b, tf.float32)\n",
        "print(a.dtype)\n",
        "print(b.dtype)\n",
        "# tensorflow 딥러닝 연산에서는 float32가 숫자형 데이터의 기본 자료형"
      ],
      "metadata": {
        "colab": {
          "base_uri": "https://localhost:8080/"
        },
        "id": "KxAISLwwsz-k",
        "outputId": "d3326b4b-7c57-460c-e372-09f13b609968"
      },
      "execution_count": null,
      "outputs": [
        {
          "output_type": "stream",
          "name": "stdout",
          "text": [
            "<dtype: 'float32'>\n",
            "<dtype: 'float32'>\n"
          ]
        }
      ]
    },
    {
      "cell_type": "code",
      "source": [
        "# math 모듈 : 다양한 수학적인 함수가 정의 되어 있음\n",
        "# (텐서간의) 덧셈 : add()\n",
        "c = tf.math.add(a,b)\n",
        "print(c) # 실수형 값을 저장한 변수 c\n",
        "print(tf.rank(c)) # 스칼라 텐서끼리 더한 값 역시 스칼라 텐서라서 랭크(차원)는 0"
      ],
      "metadata": {
        "colab": {
          "base_uri": "https://localhost:8080/"
        },
        "id": "StFI1JZdt9RQ",
        "outputId": "c0221c1c-e957-49d4-9861-9c5548ec4c09"
      },
      "execution_count": null,
      "outputs": [
        {
          "output_type": "stream",
          "name": "stdout",
          "text": [
            "tf.Tensor(30.0, shape=(), dtype=float32)\n",
            "tf.Tensor(0, shape=(), dtype=int32)\n"
          ]
        }
      ]
    },
    {
      "cell_type": "code",
      "source": [
        "# 뺄셈\n",
        "print(tf.math.subtract(a,b))\n",
        "# 곱셈\n",
        "print(tf.math.multiply(a,b))\n",
        "# 나눗셈\n",
        "print(tf.math.divide(a,b))\n",
        "# 나눗셈 몫 - floor가 있었는데 floordiv 사용하면 됨\n",
        "print(tf.math.floordiv(a,b))\n",
        "# 나눗셈 나머지 - mod가 있었는데 동일하게 사용\n",
        "print(tf.math.mod(a,b))"
      ],
      "metadata": {
        "colab": {
          "base_uri": "https://localhost:8080/"
        },
        "id": "f9waVZkouotC",
        "outputId": "1aee75a4-1ac0-4494-add1-9726b39e1689"
      },
      "execution_count": null,
      "outputs": [
        {
          "output_type": "stream",
          "name": "stdout",
          "text": [
            "tf.Tensor(-10.0, shape=(), dtype=float32)\n",
            "tf.Tensor(200.0, shape=(), dtype=float32)\n",
            "tf.Tensor(0.5, shape=(), dtype=float32)\n",
            "tf.Tensor(0.0, shape=(), dtype=float32)\n",
            "tf.Tensor(10.0, shape=(), dtype=float32)\n"
          ]
        }
      ]
    },
    {
      "cell_type": "markdown",
      "source": [
        "# 벡터(Vector)\n",
        "\n",
        "스칼라 값 여러개를 요소로 갖는 1차원 배열\n",
        "\n",
        "스칼라 여러개가 동일한 축 방향으로 나열되는 개념\n",
        "\n",
        "요소로 구성되는 다양한 값들이 모여 하나의 대표성을 갖는 값\n",
        "\n",
        "좌표계 공간 : 어떤 방향으로 크기를 가진다\n",
        "\n",
        "각 요소값들의 크기, 요소들이 나열되는 순서 두 가지 모두 의미가 있음\n",
        "\n",
        "벡터는 방향성(하나의 축)만을 가지고 있기 때문에\n",
        "\n",
        "Rank가 1, 랭크-1 텐서라고 부름"
      ],
      "metadata": {
        "id": "gsVaquMZ0CbK"
      }
    },
    {
      "cell_type": "code",
      "source": [
        "# 필요한 라이브러리 불러오기\n",
        "import numpy as np\n",
        "import tensorflow as tf\n",
        "\n",
        "# 1차원 배열 정의하기\n",
        "#     constant() 함수로 1차원 배열을 정의하면, 1차원 텐서인 벡터로 변환\n",
        "#     python의 list와 numpy array 모두 사용 가능\n",
        "#     vector의 shape=(요소개수,) 형태로 표시됨\n",
        "\n",
        "l = [10,20,30] # python의 list\n",
        "a = np.array([100.,200.,200.,]) # numpy array\n",
        "\n",
        "# 텐서 변환\n",
        "v1 = tf.constant(l,tf.float32)\n",
        "v2 = tf.constant(a,dtype=tf.float32)\n",
        "\n",
        "print(v1)\n",
        "print(v2)\n",
        "\n",
        "# shape=(3,) : 1개의 축에 3개의 요소가 있다는 뜻"
      ],
      "metadata": {
        "colab": {
          "base_uri": "https://localhost:8080/"
        },
        "id": "RxlTDRSS1JwC",
        "outputId": "502ee689-408b-4a94-d7f0-48ef85c34f14"
      },
      "execution_count": null,
      "outputs": [
        {
          "output_type": "stream",
          "name": "stdout",
          "text": [
            "tf.Tensor([10. 20. 30.], shape=(3,), dtype=float32)\n",
            "tf.Tensor([100. 200. 200.], shape=(3,), dtype=float32)\n"
          ]
        }
      ]
    },
    {
      "cell_type": "code",
      "source": [
        "# rank 확인\n",
        "print(tf.rank(v1))\n",
        "print(tf.rank(v2))\n",
        "\n",
        "# v1, v2 벡터 모두 랭크가 1인 랭크-1 텐서"
      ],
      "metadata": {
        "colab": {
          "base_uri": "https://localhost:8080/"
        },
        "id": "4aZQmI-03L-M",
        "outputId": "9073eb04-8635-4a1d-df37-d515310f3cc5"
      },
      "execution_count": null,
      "outputs": [
        {
          "output_type": "stream",
          "name": "stdout",
          "text": [
            "tf.Tensor(1, shape=(), dtype=int32)\n",
            "tf.Tensor(1, shape=(), dtype=int32)\n"
          ]
        }
      ]
    },
    {
      "cell_type": "code",
      "source": [
        "# 뎃셈 함수, 그 결과 랭크 확인\n",
        "add = tf.math.add(v1,v2)\n",
        "print(add)\n",
        "print(tf.rank(add))\n",
        "\n",
        "# element-by-element 벡터연산\n",
        "# 벡터 연산 : 같은 위치에 있는 요소들끼리 (elemet-by-element) 짝을 이루어서 계산\n",
        "# 결과물 : 요소 3개를 갖는 벡터(랭크-1텐서)형태가 그대로 유지..!"
      ],
      "metadata": {
        "colab": {
          "base_uri": "https://localhost:8080/"
        },
        "id": "qfkYuLhT3Qpx",
        "outputId": "a36466b4-a67c-4860-c067-add6c3116333"
      },
      "execution_count": null,
      "outputs": [
        {
          "output_type": "stream",
          "name": "stdout",
          "text": [
            "tf.Tensor([110. 220. 230.], shape=(3,), dtype=float32)\n",
            "tf.Tensor(1, shape=(), dtype=int32)\n"
          ]
        }
      ]
    },
    {
      "cell_type": "code",
      "source": [
        "# 파이썬 내장 연산자 사용 가능\n",
        "add1 = v1 + v2\n",
        "print(add1)"
      ],
      "metadata": {
        "colab": {
          "base_uri": "https://localhost:8080/"
        },
        "id": "xYYhB12T407f",
        "outputId": "0bf2f948-e374-4a6a-803f-66f2e351948b"
      },
      "execution_count": null,
      "outputs": [
        {
          "output_type": "stream",
          "name": "stdout",
          "text": [
            "tf.Tensor([110. 220. 230.], shape=(3,), dtype=float32)\n"
          ]
        }
      ]
    },
    {
      "cell_type": "code",
      "source": [
        "# 사칙연산 (몫, 나머지까지)\n",
        "# 뺄셈\n",
        "print(v1-v2)\n",
        "# 곱셈\n",
        "print(v1*v2)\n",
        "# 나눗셈\n",
        "print(v1/v2)\n",
        "# 몫\n",
        "print(v1 // v2)\n",
        "# 나머지\n",
        "print(v1 % v2)"
      ],
      "metadata": {
        "colab": {
          "base_uri": "https://localhost:8080/"
        },
        "id": "Ka07UKdq5DKs",
        "outputId": "18b67e94-4c2d-483f-d338-5b6e8b747d11"
      },
      "execution_count": null,
      "outputs": [
        {
          "output_type": "stream",
          "name": "stdout",
          "text": [
            "tf.Tensor([ -90. -180. -170.], shape=(3,), dtype=float32)\n",
            "tf.Tensor([1000. 4000. 6000.], shape=(3,), dtype=float32)\n",
            "tf.Tensor([0.1  0.1  0.15], shape=(3,), dtype=float32)\n",
            "tf.Tensor([0. 0. 0.], shape=(3,), dtype=float32)\n",
            "tf.Tensor([10. 20. 30.], shape=(3,), dtype=float32)\n"
          ]
        }
      ]
    },
    {
      "cell_type": "code",
      "source": [
        "# reduce_sum() : vector를 구성하는 요소들의 합계\n",
        "#     그 합계는 Scalar로 표현\n",
        "print(tf.reduce_sum(v1))\n",
        "print(tf.reduce_sum(v2))"
      ],
      "metadata": {
        "colab": {
          "base_uri": "https://localhost:8080/"
        },
        "id": "oBcZogNP6Mya",
        "outputId": "9a439d37-4679-42f7-8522-b499c792e592"
      },
      "execution_count": null,
      "outputs": [
        {
          "output_type": "stream",
          "name": "stdout",
          "text": [
            "tf.Tensor(60.0, shape=(), dtype=float32)\n",
            "tf.Tensor(500.0, shape=(), dtype=float32)\n"
          ]
        }
      ]
    },
    {
      "cell_type": "code",
      "source": [
        "# square 함수 : 거듭제곱 연산처리\n",
        "#   각 요소들을 거듭제곱 한 값을 반환\n",
        "print(tf.math.square(v1))\n",
        "\n",
        "# 내장 연산자로 거듭제곱\n",
        "print(v1 ** 2)"
      ],
      "metadata": {
        "colab": {
          "base_uri": "https://localhost:8080/"
        },
        "id": "OEWLBzF66gbI",
        "outputId": "5fc15709-024b-4aff-b6e9-095bd04e93e0"
      },
      "execution_count": null,
      "outputs": [
        {
          "output_type": "stream",
          "name": "stdout",
          "text": [
            "tf.Tensor([100. 400. 900.], shape=(3,), dtype=float32)\n",
            "tf.Tensor([100. 400. 900.], shape=(3,), dtype=float32)\n"
          ]
        }
      ]
    },
    {
      "cell_type": "code",
      "source": [
        "# sqrt 함수 : 제곱근 구하기\n",
        "#     각 요소들을 제곱근 한 값을 반환\n",
        "print(tf.math.sqrt(v2))\n",
        "\n",
        "# 내장 연산자로 제곱근 구하기\n",
        "print(v2 ** 0.5)"
      ],
      "metadata": {
        "colab": {
          "base_uri": "https://localhost:8080/"
        },
        "id": "3eJtaMLs67WL",
        "outputId": "dcc709cd-7e22-4933-c87a-f6d78a0ddda4"
      },
      "execution_count": null,
      "outputs": [
        {
          "output_type": "stream",
          "name": "stdout",
          "text": [
            "tf.Tensor([10.       14.142136 14.142136], shape=(3,), dtype=float32)\n",
            "tf.Tensor([10.       14.142136 14.142136], shape=(3,), dtype=float32)\n"
          ]
        }
      ]
    },
    {
      "cell_type": "code",
      "source": [
        "# tensor는 numpy 배열의 브로드캐스팅 연산 지원\n",
        "\n",
        "# 브로드캐스팅 연산 : 일정 조건을 부합하는 다른 형태의 배열끼리 연산을 수행하는 것\n",
        "print(v1 + 10)\n",
        "\n",
        "# vector에 숫자 10을 더하면, 형태는 그대로 유지된 상황에서\n",
        "# 각각의 요소에 10씩 더한 값을 반환"
      ],
      "metadata": {
        "colab": {
          "base_uri": "https://localhost:8080/"
        },
        "id": "RpJwoTQy7Rsa",
        "outputId": "a609a5ed-578b-4374-e9ed-b4c167570eda"
      },
      "execution_count": null,
      "outputs": [
        {
          "output_type": "stream",
          "name": "stdout",
          "text": [
            "tf.Tensor([20. 30. 40.], shape=(3,), dtype=float32)\n"
          ]
        }
      ]
    },
    {
      "cell_type": "markdown",
      "source": [
        "# 행렬(Matrix)\n",
        "\n",
        "차수(Rank)가 1인 Vector를 같은 축 방향으로 나열하는 개념\n",
        "\n",
        "여러개의 1차원 vector를 요소로 갖는 2차원 배열\n",
        "\n",
        "요소의 차수(Rank)가 1이기 때문에 총 차수는 2 (Rank : 2)\n",
        "\n",
        "tf : 랭크-2 텐서"
      ],
      "metadata": {
        "id": "9apXqFYq8QAp"
      }
    },
    {
      "cell_type": "code",
      "source": [
        "import tensorflow as tf\n",
        "\n",
        "# 2차원 배열 정의하기(list)\n",
        "li_in_li = [[1,2],[3,4]]        # (2,2)\n",
        "# li_in_li = [[1,2],[3,4],[5,6]]  # (3,2)\n",
        "# li_in_li = [[1,2,3],[4,5,6]]    # (2,3)\n",
        "\n",
        "# tensor 변환\n",
        "matrix1 = tf.constant(li_in_li) # constant함수에 2차원 배열 입력\n",
        "\n",
        "# 출력\n",
        "print(matrix1)\n",
        "\n",
        "# rank확인\n",
        "print(tf.rank(matrix1))\n",
        "\n",
        "# [[1,2],[3,4]] : 2개의 list를 요소로 갖는 list\n",
        "\n",
        "# [[1,2],\n",
        "#  [3,4]] : (2행,2열) 구조의 2차원 tensor"
      ],
      "metadata": {
        "colab": {
          "base_uri": "https://localhost:8080/"
        },
        "id": "4BmiAe7NSCac",
        "outputId": "0a3f6019-5a64-4367-d541-b39336bff035"
      },
      "execution_count": null,
      "outputs": [
        {
          "output_type": "stream",
          "name": "stdout",
          "text": [
            "tf.Tensor(\n",
            "[[1 2]\n",
            " [3 4]], shape=(2, 2), dtype=int32)\n",
            "tf.Tensor(2, shape=(), dtype=int32)\n"
          ]
        }
      ]
    },
    {
      "cell_type": "code",
      "source": [
        "# stack() : 행렬 만들기\n",
        "# 1차원 vector를 2개 만들어서 stack()를 이용하여 결합하는 방식\n",
        "\n",
        "# 차수가 2인 랭크-2 텐서\n",
        "\n",
        "# 1차원 vector 2개 정의\n",
        "v1 = tf.constant([10,20])\n",
        "v2 = tf.constant([-10,30])\n",
        "\n",
        "# print(tf.rank(v1))\n",
        "\n",
        "# tensor 변환\n",
        "matrix2 = tf.stack([v1,v2])\n",
        "print(matrix2)\n",
        "\n",
        "print(tf.rank(matrix2))"
      ],
      "metadata": {
        "colab": {
          "base_uri": "https://localhost:8080/"
        },
        "id": "O_lyN6eAT8eh",
        "outputId": "19e5ddf4-a6cd-4b3b-f5aa-355d30f8447a"
      },
      "execution_count": null,
      "outputs": [
        {
          "output_type": "stream",
          "name": "stdout",
          "text": [
            "tf.Tensor(\n",
            "[[ 10  20]\n",
            " [-10  30]], shape=(2, 2), dtype=int32)\n",
            "tf.Tensor(2, shape=(), dtype=int32)\n"
          ]
        }
      ]
    },
    {
      "cell_type": "code",
      "source": [
        "# element-by-element 벡터 연산\n",
        "calc = tf.math.multiply(matrix1, matrix2)\n",
        "print(calc)"
      ],
      "metadata": {
        "colab": {
          "base_uri": "https://localhost:8080/"
        },
        "id": "mJgEuz9mVEwp",
        "outputId": "dfb1d418-12a5-44ee-8a69-5a224557fc3e"
      },
      "execution_count": null,
      "outputs": [
        {
          "output_type": "stream",
          "name": "stdout",
          "text": [
            "tf.Tensor(\n",
            "[[ 10  40]\n",
            " [-30 120]], shape=(2, 2), dtype=int32)\n"
          ]
        }
      ]
    },
    {
      "cell_type": "code",
      "source": [
        "# 브로드캐스팅 연산\n",
        "calc2 = tf.math.multiply(matrix1,10)\n",
        "print(calc2)\n",
        "\n",
        "# 2차원 행렬에 10을 곱하면, 행렬에 있는 모든 요소 * 10\n",
        "#     => 행렬의 요소가 모두 10으로 구성되어 있는 2차원의 행렬 모양으로 확장 후 연산 진행"
      ],
      "metadata": {
        "colab": {
          "base_uri": "https://localhost:8080/"
        },
        "id": "6wDreOR7VY59",
        "outputId": "77979925-2726-4548-f806-eafa3fe206dd"
      },
      "execution_count": null,
      "outputs": [
        {
          "output_type": "stream",
          "name": "stdout",
          "text": [
            "tf.Tensor(\n",
            "[[10 20]\n",
            " [30 40]], shape=(2, 2), dtype=int32)\n"
          ]
        }
      ]
    },
    {
      "cell_type": "code",
      "source": [
        "# matmul() : 선형대수에서 다루는 행렬곱 연산\n",
        "# 행렬곱 : 벡터의 선형 결합\n",
        "mat_mul = tf.matmul(matrix1, matrix2)\n",
        "print(mat_mul)\n",
        "\n",
        "# 행렬곱의 연산 형태 : 축이 2개이므로, 랭크가 2인 랭크-2 텐서가 됨"
      ],
      "metadata": {
        "colab": {
          "base_uri": "https://localhost:8080/"
        },
        "id": "UJjSAWw1WF9H",
        "outputId": "fe597cbd-6f2a-4cfa-a501-e2ca7c2c0f96"
      },
      "execution_count": null,
      "outputs": [
        {
          "output_type": "stream",
          "name": "stdout",
          "text": [
            "tf.Tensor(\n",
            "[[-10  80]\n",
            " [-10 180]], shape=(2, 2), dtype=int32)\n"
          ]
        }
      ]
    },
    {
      "cell_type": "code",
      "source": [
        "# math > 덧셈연산\n",
        "add1 = tf.math.add(matrix1, matrix2)\n",
        "print(add1)\n",
        "print(tf.rank(add1))"
      ],
      "metadata": {
        "colab": {
          "base_uri": "https://localhost:8080/"
        },
        "id": "JA2WHzG1ZQ80",
        "outputId": "ac735a9a-e29e-44b0-cf9c-97296d36e15a"
      },
      "execution_count": null,
      "outputs": [
        {
          "output_type": "stream",
          "name": "stdout",
          "text": [
            "tf.Tensor(\n",
            "[[11 22]\n",
            " [-7 34]], shape=(2, 2), dtype=int32)\n",
            "tf.Tensor(2, shape=(), dtype=int32)\n"
          ]
        }
      ]
    },
    {
      "cell_type": "code",
      "source": [
        "# 파이썬 연산자로 덧셈\n",
        "add2 = matrix1 + matrix2\n",
        "print(add2)\n",
        "print(tf.rank(add2))"
      ],
      "metadata": {
        "colab": {
          "base_uri": "https://localhost:8080/"
        },
        "id": "XB-AkVXvZY1t",
        "outputId": "4f64e3e3-738b-4954-ab2d-38666047bc19"
      },
      "execution_count": null,
      "outputs": [
        {
          "output_type": "stream",
          "name": "stdout",
          "text": [
            "tf.Tensor(\n",
            "[[11 22]\n",
            " [-7 34]], shape=(2, 2), dtype=int32)\n",
            "tf.Tensor(2, shape=(), dtype=int32)\n"
          ]
        }
      ]
    },
    {
      "cell_type": "markdown",
      "source": [
        "# 고차원 텐서(Tensor)\n",
        "\n",
        "고차원 텐서 : 축이 6개 이상\n",
        "\n",
        "3차원 구조를 가지는 랭크-3 텐서\n",
        "\n",
        "랭크-1 텐서를 같은 축 방향으로 결합시키면 : 랭크-2텐서\n",
        "\n",
        "랭크-2 텐서를 같은 축 방향으로 켤합시키면 : 랭크-3텐서\n",
        "\n",
        "=> 1차원 벡터를 나열하면 2차월 행렬이 되고, 2차원 행렬을 나열하면 3차원 텐서가 됨"
      ],
      "metadata": {
        "id": "m-NBBbhenDyL"
      }
    },
    {
      "cell_type": "code",
      "source": [
        "import tensorflow as tf\n",
        "import numpy as np"
      ],
      "metadata": {
        "id": "pAsbRFUuoSZu"
      },
      "execution_count": null,
      "outputs": []
    },
    {
      "cell_type": "code",
      "source": [
        "# 3차원 텐서\n",
        "# 2차원 행렬 (2행 4열)을 3개 생성\n",
        "\n",
        "matrix3 = [[10,20,30,40],\n",
        "           [50,60,70,80]]\n",
        "matrix4 = [[11,22,33,44],\n",
        "           [55,66,77,88]]\n",
        "matrix5 = [[100,200,300,400],\n",
        "           [500,600,700,800]]\n",
        "\n",
        "# tensor 변환 - constant\n",
        "t = tf.constant([matrix3,matrix4,matrix5])\n",
        "\n",
        "print(t)  # shape=3차원2행4열\n",
        "\n",
        "# rank\n",
        "print(tf.rank(t))\n",
        "\n",
        "# 2차원 행렬을 요소로 갖는 1차원 벡터를 만들어서\n",
        "# 랭크-3 텐서 (2,4)크기의 행렬이 3개 결합되었다."
      ],
      "metadata": {
        "colab": {
          "base_uri": "https://localhost:8080/"
        },
        "id": "zZB0mo9nocrv",
        "outputId": "365ad2ad-54bc-46fc-e5be-6d421fd65a53"
      },
      "execution_count": null,
      "outputs": [
        {
          "output_type": "stream",
          "name": "stdout",
          "text": [
            "tf.Tensor(\n",
            "[[[ 10  20  30  40]\n",
            "  [ 50  60  70  80]]\n",
            "\n",
            " [[ 11  22  33  44]\n",
            "  [ 55  66  77  88]]\n",
            "\n",
            " [[100 200 300 400]\n",
            "  [500 600 700 800]]], shape=(3, 2, 4), dtype=int32)\n",
            "tf.Tensor(3, shape=(), dtype=int32)\n"
          ]
        }
      ]
    },
    {
      "cell_type": "code",
      "source": [
        "# stack() 함수로 만들기 - 2차원 배열을 차곡차곡 쌓기\n",
        "\n",
        "t2 = tf.stack([matrix3, matrix4, matrix5])\n",
        "\n",
        "print(t2)\n",
        "\n",
        "print(tf.rank(t2))"
      ],
      "metadata": {
        "colab": {
          "base_uri": "https://localhost:8080/"
        },
        "id": "ftBoa-2MqPFs",
        "outputId": "a9a12bdf-1668-4a5c-8653-6bd03dafe741"
      },
      "execution_count": null,
      "outputs": [
        {
          "output_type": "stream",
          "name": "stdout",
          "text": [
            "tf.Tensor(\n",
            "[[[ 10  20  30  40]\n",
            "  [ 50  60  70  80]]\n",
            "\n",
            " [[ 11  22  33  44]\n",
            "  [ 55  66  77  88]]\n",
            "\n",
            " [[100 200 300 400]\n",
            "  [500 600 700 800]]], shape=(3, 2, 4), dtype=int32)\n",
            "tf.Tensor(3, shape=(), dtype=int32)\n"
          ]
        }
      ]
    }
  ]
}