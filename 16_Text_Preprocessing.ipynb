{
  "nbformat": 4,
  "nbformat_minor": 0,
  "metadata": {
    "colab": {
      "name": "May10_2_Text_Preprocessing.ipynb",
      "provenance": [],
      "authorship_tag": "ABX9TyPN5VS9wX8+SslGTmWRAHFX",
      "include_colab_link": true
    },
    "kernelspec": {
      "name": "python3",
      "display_name": "Python 3"
    },
    "language_info": {
      "name": "python"
    }
  },
  "cells": [
    {
      "cell_type": "markdown",
      "metadata": {
        "id": "view-in-github",
        "colab_type": "text"
      },
      "source": [
        "<a href=\"https://colab.research.google.com/github/kssyy9070/Colab/blob/main/16_Text_Preprocessing.ipynb\" target=\"_parent\"><img src=\"https://colab.research.google.com/assets/colab-badge.svg\" alt=\"Open In Colab\"/></a>"
      ]
    },
    {
      "cell_type": "markdown",
      "source": [
        "# 패딩(Padding)\n",
        "\n",
        "자연어 처리 진행 중 각각의 문장마다 길이가 서로 다름\n",
        "\n",
        "컴퓨터 입장 : 길이가 동일한 문장의 경우에는 하나의 행렬로 묶어서 보게 되고, 그걸로 한번에 처리가 가능\n",
        "\n",
        "다양한 문장 길이를 임의적으로 동일하게 맞춰주는 작업을 패딩"
      ],
      "metadata": {
        "id": "S2tFXjlfmsYx"
      }
    },
    {
      "cell_type": "code",
      "source": [
        "import numpy as np\n",
        "from tensorflow.keras.preprocessing.text import Tokenizer"
      ],
      "metadata": {
        "id": "gRGBw0gQnSsp"
      },
      "execution_count": null,
      "outputs": []
    },
    {
      "cell_type": "code",
      "execution_count": null,
      "metadata": {
        "colab": {
          "base_uri": "https://localhost:8080/"
        },
        "id": "EVSA-YHXmNEp",
        "outputId": "e6749b76-fc65-4f93-d038-cae5edcd6f5f"
      },
      "outputs": [
        {
          "output_type": "stream",
          "name": "stdout",
          "text": [
            "[['done', 'gon', 'fun'], ['time', 'stop'], ['dance', 'gon', 'fun'], ['time', 'stop'], [\"n't\", 'even', 'close', 'eyes'], [\"n't\", 'even', 'smile', 'smile'], [\"n't\", 'even', 'shed', 'tear'], ['stop', 'right'], ['dance', 'gon', 'fun'], ['time', 'stop']]\n"
          ]
        }
      ],
      "source": [
        "final_sentence = [['done','gon','fun'],['time','stop'],['dance','gon','fun'],['time','stop'],[\"n't\",'even','close','eyes'],[\"n't\",'even','smile','smile'],[\"n't\",'even','shed','tear'],['stop','right'],['dance','gon','fun'],['time','stop']]\n",
        "print(final_sentence)"
      ]
    },
    {
      "cell_type": "code",
      "source": [
        "# 단어 집합 만들고 -> 정수인코딩\n",
        "tokenizer = Tokenizer()\n",
        "tokenizer.fit_on_texts(final_sentence)\n",
        "aa = tokenizer.texts_to_sequences(final_sentence)\n",
        "print(aa)"
      ],
      "metadata": {
        "colab": {
          "base_uri": "https://localhost:8080/"
        },
        "id": "hhaRYRSaniyD",
        "outputId": "7c16ce9b-a21e-41f5-d863-f9610b7d4254"
      },
      "execution_count": null,
      "outputs": [
        {
          "output_type": "stream",
          "name": "stdout",
          "text": [
            "[[9, 2, 3], [4, 1], [7, 2, 3], [4, 1], [5, 6, 10, 11], [5, 6, 8, 8], [5, 6, 12, 13], [1, 14], [7, 2, 3], [4, 1]]\n"
          ]
        }
      ]
    },
    {
      "cell_type": "code",
      "source": [
        "# 가장 길이가 긴 문장 찾기\n",
        "long_sentence = max(len(item) for item in aa)\n",
        "# for item in aa:\n",
        "#   # print(item)\n",
        "#   print(len(item))\n",
        "\n",
        "print(long_sentence)"
      ],
      "metadata": {
        "colab": {
          "base_uri": "https://localhost:8080/"
        },
        "id": "ul1OK5qmtEEu",
        "outputId": "1fd197b8-bbdb-4d40-ad63-26d8c5ce8745"
      },
      "execution_count": null,
      "outputs": [
        {
          "output_type": "stream",
          "name": "stdout",
          "text": [
            "4\n"
          ]
        }
      ]
    },
    {
      "cell_type": "code",
      "source": [
        "# 모든 문장의 길이를 4로 맞추기\n",
        "# 임의의(가상의) 데이터를 만든 후 -> 이 단어의 인덱스는 0 \n",
        "# 문장의 길이가 4보다 짧으면 그 문장의 길이가 4로 될때까지 0으로 채우는\n",
        "for item in aa:\n",
        "  while len(item) < long_sentence: # long_sentence보다 길이가 짧으면\n",
        "    item.append(0)\n",
        "n=np.array(aa)\n",
        "n\n",
        "\n",
        "# 패딩(Padding) Data에 특정한 값을 넣어서 data의 shape(크기)를 조정하는 것"
      ],
      "metadata": {
        "colab": {
          "base_uri": "https://localhost:8080/"
        },
        "id": "be9iK5TOuxp0",
        "outputId": "b53e27e8-f6f6-420c-b5d9-2be1e0565ab1"
      },
      "execution_count": null,
      "outputs": [
        {
          "output_type": "execute_result",
          "data": {
            "text/plain": [
              "array([[ 9,  2,  3,  0],\n",
              "       [ 4,  1,  0,  0],\n",
              "       [ 7,  2,  3,  0],\n",
              "       [ 4,  1,  0,  0],\n",
              "       [ 5,  6, 10, 11],\n",
              "       [ 5,  6,  8,  8],\n",
              "       [ 5,  6, 12, 13],\n",
              "       [ 1, 14,  0,  0],\n",
              "       [ 7,  2,  3,  0],\n",
              "       [ 4,  1,  0,  0]])"
            ]
          },
          "metadata": {},
          "execution_count": 11
        }
      ]
    },
    {
      "cell_type": "markdown",
      "source": [
        "# Keras의 pad_sequences"
      ],
      "metadata": {
        "id": "7Gxc9_KKwMxP"
      }
    },
    {
      "cell_type": "code",
      "source": [
        "from tensorflow.keras.preprocessing.sequence import pad_sequences"
      ],
      "metadata": {
        "id": "_XhkWWglwF6M"
      },
      "execution_count": null,
      "outputs": []
    },
    {
      "cell_type": "code",
      "source": [
        "# 위에 있는 aa를 원상태로 복구\n",
        "aa = tokenizer.texts_to_sequences(final_sentence)\n",
        "print(aa)"
      ],
      "metadata": {
        "colab": {
          "base_uri": "https://localhost:8080/"
        },
        "id": "Ad8DMB3_wRO7",
        "outputId": "b343901d-7ba8-41ab-b9f5-62560328464c"
      },
      "execution_count": null,
      "outputs": [
        {
          "output_type": "stream",
          "name": "stdout",
          "text": [
            "[[9, 2, 3], [4, 1], [7, 2, 3], [4, 1], [5, 6, 10, 11], [5, 6, 8, 8], [5, 6, 12, 13], [1, 14], [7, 2, 3], [4, 1]]\n"
          ]
        }
      ]
    },
    {
      "cell_type": "code",
      "source": [
        "# kerasPadding = pad_sequences(aa)              # 문서의 앞에 0 추가\n",
        "kerasPadding = pad_sequences(aa, padding='post') # 문서의 뒤에 0 추가 (Numpy때와 동일한 결과값)\n",
        "\n",
        "kerasPadding"
      ],
      "metadata": {
        "colab": {
          "base_uri": "https://localhost:8080/"
        },
        "id": "5zjKS_hew3nL",
        "outputId": "d715deb0-afc6-4714-e49d-371764c6d527"
      },
      "execution_count": null,
      "outputs": [
        {
          "output_type": "execute_result",
          "data": {
            "text/plain": [
              "array([[ 9,  2,  3,  0],\n",
              "       [ 4,  1,  0,  0],\n",
              "       [ 7,  2,  3,  0],\n",
              "       [ 4,  1,  0,  0],\n",
              "       [ 5,  6, 10, 11],\n",
              "       [ 5,  6,  8,  8],\n",
              "       [ 5,  6, 12, 13],\n",
              "       [ 1, 14,  0,  0],\n",
              "       [ 7,  2,  3,  0],\n",
              "       [ 4,  1,  0,  0]], dtype=int32)"
            ]
          },
          "metadata": {},
          "execution_count": 15
        }
      ]
    },
    {
      "cell_type": "code",
      "source": [
        "# 기준을 최대길이로 할 필요가 없는 경우에 'maxlen'을 이용해서 원하는 길이 조정 가능\n",
        "# 원하는 길이보다 긴 문장이 있는 경우, 데이터 해당하는 갯수만큼 손실 \n",
        "# 기본적으로 문장의 맨 앞부터 차례대로 데이터 손실이 일어나고,\n",
        "# 데이터 손실을 맨 뒤에서부터 받고 싶다면 truncating='post' 옵션을 추가해서...!\n",
        "kerasPadding2 = pad_sequences(aa, padding='post', truncating='post', maxlen=3) # 뒤에서부터 0채우기, 뒤에서부터 손실, 최대길이 3\n",
        "kerasPadding2"
      ],
      "metadata": {
        "colab": {
          "base_uri": "https://localhost:8080/"
        },
        "id": "MAl4EgDgxm7d",
        "outputId": "8019322c-1a81-412a-dee9-c9d7f88cb899"
      },
      "execution_count": null,
      "outputs": [
        {
          "output_type": "execute_result",
          "data": {
            "text/plain": [
              "array([[ 9,  2,  3],\n",
              "       [ 4,  1,  0],\n",
              "       [ 7,  2,  3],\n",
              "       [ 4,  1,  0],\n",
              "       [ 5,  6, 10],\n",
              "       [ 5,  6,  8],\n",
              "       [ 5,  6, 12],\n",
              "       [ 1, 14,  0],\n",
              "       [ 7,  2,  3],\n",
              "       [ 4,  1,  0]], dtype=int32)"
            ]
          },
          "metadata": {},
          "execution_count": 17
        }
      ]
    },
    {
      "cell_type": "code",
      "source": [
        "aaLength = len(tokenizer.word_index)\n",
        "print(aaLength) # 가지고 있는 index최대길이 + 1"
      ],
      "metadata": {
        "colab": {
          "base_uri": "https://localhost:8080/"
        },
        "id": "sz89IUBPzCZU",
        "outputId": "b86f93fd-5f9a-4daa-efb9-c95a8d55fb67"
      },
      "execution_count": null,
      "outputs": [
        {
          "output_type": "stream",
          "name": "stdout",
          "text": [
            "14\n"
          ]
        }
      ]
    },
    {
      "cell_type": "code",
      "source": [
        "kerasPadding3 = pad_sequences(aa, padding='post',value=aaLength)\n",
        "kerasPadding3 # 0 값이 아니라 최대길이를 넣기"
      ],
      "metadata": {
        "colab": {
          "base_uri": "https://localhost:8080/"
        },
        "id": "Cga_wfHAzUIm",
        "outputId": "a6168a00-672e-474f-8213-73482f0212f8"
      },
      "execution_count": null,
      "outputs": [
        {
          "output_type": "execute_result",
          "data": {
            "text/plain": [
              "array([[ 9,  2,  3, 14],\n",
              "       [ 4,  1, 14, 14],\n",
              "       [ 7,  2,  3, 14],\n",
              "       [ 4,  1, 14, 14],\n",
              "       [ 5,  6, 10, 11],\n",
              "       [ 5,  6,  8,  8],\n",
              "       [ 5,  6, 12, 13],\n",
              "       [ 1, 14, 14, 14],\n",
              "       [ 7,  2,  3, 14],\n",
              "       [ 4,  1, 14, 14]], dtype=int32)"
            ]
          },
          "metadata": {},
          "execution_count": 19
        }
      ]
    },
    {
      "cell_type": "markdown",
      "source": [
        "# One-Hot Encoding(원-핫 인코딩)\n",
        "\n",
        "컴퓨터 : 문자보다 숫자를 더 잘 처리\n",
        "\n",
        "문자를 숫자로 바꾸는 방법 중 하나 (기본적인 표현 방법)\n",
        "\n",
        "단어 집합의 크기를 vector의 차원으로 지정하고, 표현하고자 하는 단어에 인덱스를 1로 부여 / 다른 단어에는 0을 부여하는 단어의 백터\n",
        "\n",
        "* 백터 (Vector) :\n",
        "  공간에서 크기와 방향을 가진 것 \n",
        "\n",
        "  순서가 존재하는 리스트\n",
        "\n",
        "  ex) [190.3,90.55] != [90.55,190.3] 같지않다. 요소는 같지만 순서가 다르기 때문에"
      ],
      "metadata": {
        "id": "L7ppx2OM0Trs"
      }
    },
    {
      "cell_type": "code",
      "source": [
        "!pip install konlpy"
      ],
      "metadata": {
        "colab": {
          "base_uri": "https://localhost:8080/"
        },
        "id": "2-IlsmWd1_cH",
        "outputId": "c571ac49-4f9a-4910-c11d-8c8ed2d4245c"
      },
      "execution_count": null,
      "outputs": [
        {
          "output_type": "stream",
          "name": "stdout",
          "text": [
            "Collecting konlpy\n",
            "  Downloading konlpy-0.6.0-py2.py3-none-any.whl (19.4 MB)\n",
            "\u001b[K     |████████████████████████████████| 19.4 MB 1.2 MB/s \n",
            "\u001b[?25hRequirement already satisfied: numpy>=1.6 in /usr/local/lib/python3.7/dist-packages (from konlpy) (1.21.6)\n",
            "Collecting JPype1>=0.7.0\n",
            "  Downloading JPype1-1.3.0-cp37-cp37m-manylinux_2_5_x86_64.manylinux1_x86_64.whl (448 kB)\n",
            "\u001b[K     |████████████████████████████████| 448 kB 56.3 MB/s \n",
            "\u001b[?25hRequirement already satisfied: lxml>=4.1.0 in /usr/local/lib/python3.7/dist-packages (from konlpy) (4.2.6)\n",
            "Requirement already satisfied: typing-extensions in /usr/local/lib/python3.7/dist-packages (from JPype1>=0.7.0->konlpy) (4.2.0)\n",
            "Installing collected packages: JPype1, konlpy\n",
            "Successfully installed JPype1-1.3.0 konlpy-0.6.0\n"
          ]
        }
      ]
    },
    {
      "cell_type": "code",
      "source": [
        "from konlpy.tag import Okt"
      ],
      "metadata": {
        "id": "VMhwTlTK0Emo"
      },
      "execution_count": null,
      "outputs": []
    },
    {
      "cell_type": "code",
      "source": [
        "# 한국어 문장 => 형태소 분석\n",
        "okt = Okt()\n",
        "word_token = okt.morphs(\"너무 피곤한 하루하루를 보내고 있다.\")\n",
        "print(word_token)"
      ],
      "metadata": {
        "colab": {
          "base_uri": "https://localhost:8080/"
        },
        "id": "jkK1FJt72EC6",
        "outputId": "6287abc5-31c6-453d-87d0-14495f2d12c6"
      },
      "execution_count": null,
      "outputs": [
        {
          "output_type": "stream",
          "name": "stdout",
          "text": [
            "['너무', '피곤한', '하루하루', '를', '보내고', '있다', '.']\n"
          ]
        }
      ]
    },
    {
      "cell_type": "code",
      "source": [
        "# 나눠진 단어에 각각 index 부여하기 (0부터 시작)\n",
        "# enumerate를 통해서 자동으로 0부터 인덱스 부여되도록\n",
        "word_index = {w:i for (i,w) in enumerate(word_token)}\n",
        "print(word_index)"
      ],
      "metadata": {
        "colab": {
          "base_uri": "https://localhost:8080/"
        },
        "id": "Yc7BEz6Y2uh2",
        "outputId": "7224d471-a629-433b-9056-7afb11a4460b"
      },
      "execution_count": null,
      "outputs": [
        {
          "output_type": "stream",
          "name": "stdout",
          "text": [
            "{'너무': 0, '피곤한': 1, '하루하루': 2, '를': 3, '보내고': 4, '있다': 5, '.': 6}\n"
          ]
        }
      ]
    },
    {
      "cell_type": "code",
      "source": [
        "# 토큰을 입력하면, 토큰에 대한 원-핫 벡터를 뽑아내는 함수\n",
        "def ohe(w, word_index):\n",
        "  ohVector = [0] * (len(word_index))  # 위에서 만든 index의 길이만큼 0을 채운 list 생성\n",
        "  index = word_index[w]               # 파라미터로 넣은 단어를 넣은 변수\n",
        "  ohVector[index] = 1                 # 해당하는 변수가 있는 위치를 1로 변경\n",
        "  return ohVector"
      ],
      "metadata": {
        "id": "bScwgBcG6fl6"
      },
      "execution_count": null,
      "outputs": []
    },
    {
      "cell_type": "code",
      "source": [
        "# '하루하루'라는 단어의 원-핫 벡터\n",
        "ohe('하루하루',word_index)"
      ],
      "metadata": {
        "colab": {
          "base_uri": "https://localhost:8080/"
        },
        "id": "9gu96jh57ctf",
        "outputId": "839046d9-3ddc-4083-e551-c7735fe64138"
      },
      "execution_count": null,
      "outputs": [
        {
          "output_type": "execute_result",
          "data": {
            "text/plain": [
              "[0, 0, 1, 0, 0, 0, 0]"
            ]
          },
          "metadata": {},
          "execution_count": 28
        }
      ]
    },
    {
      "cell_type": "markdown",
      "source": [
        "# Keras를 이용한 원-핫 인코딩"
      ],
      "metadata": {
        "id": "PgxJ2-xv73ep"
      }
    },
    {
      "cell_type": "code",
      "source": [
        "from tensorflow.keras.preprocessing.text import Tokenizer\n",
        "from tensorflow.keras.utils import to_categorical"
      ],
      "metadata": {
        "id": "iNesm2S-7693"
      },
      "execution_count": null,
      "outputs": []
    },
    {
      "cell_type": "code",
      "source": [
        "text = \"곰 세 마리가 한 집에 있어 아빠 곰 엄마 곰 애기 곰\"\n",
        "\n",
        "# 빈도수 기준으로 단어 집합 만들기\n",
        "tokenizer = Tokenizer()\n",
        "tokenizer.fit_on_texts([text])\n",
        "print(tokenizer.word_index)"
      ],
      "metadata": {
        "colab": {
          "base_uri": "https://localhost:8080/"
        },
        "id": "B59-fbp08GVr",
        "outputId": "d29e88cf-96bc-460f-c5fd-2ebe3e194c29"
      },
      "execution_count": null,
      "outputs": [
        {
          "output_type": "stream",
          "name": "stdout",
          "text": [
            "{'곰': 1, '세': 2, '마리가': 3, '한': 4, '집에': 5, '있어': 6, '아빠': 7, '엄마': 8, '애기': 9}\n"
          ]
        }
      ]
    },
    {
      "cell_type": "code",
      "source": [
        "# 생성된 단어 집합 내의 일부 단어블로만 구성된 서브 텍스트를 하나 생성\n",
        "text2 = \"엄마 곰 한 마리가 있어\"\n",
        "bear = tokenizer.texts_to_sequences([text2])[0]\n",
        "print(bear)"
      ],
      "metadata": {
        "colab": {
          "base_uri": "https://localhost:8080/"
        },
        "id": "L_bBFIUX-K5h",
        "outputId": "1c8d0f07-23b2-45d3-90fa-9bdf721c4a20"
      },
      "execution_count": null,
      "outputs": [
        {
          "output_type": "stream",
          "name": "stdout",
          "text": [
            "[8, 1, 4, 3, 6]\n"
          ]
        }
      ]
    },
    {
      "cell_type": "code",
      "source": [
        "# to_categorical() : keras에서 원-핫 인코딩하는 함수\n",
        "cate = to_categorical(bear)\n",
        "print(cate)\n",
        "\n",
        "# [8, 1, 4, 3, 6] 를 표현한 결과\n",
        "# 1. 단어 집합의 인덱스 시작 숫자가 1\n",
        "# 2. 컴퓨터는 0부터 시작\n",
        "# 3. 각 list의 0번째 자리는 임의적으로 0으로 채워두고\n",
        "# 4. 각각의 인덱스에 해당하는 자리가 1로 바뀌도록"
      ],
      "metadata": {
        "colab": {
          "base_uri": "https://localhost:8080/"
        },
        "id": "IG7Htw3N_CQc",
        "outputId": "f8794944-076f-42f7-b264-ac599fa4725a"
      },
      "execution_count": null,
      "outputs": [
        {
          "output_type": "stream",
          "name": "stdout",
          "text": [
            "[[0. 0. 0. 0. 0. 0. 0. 0. 1.]\n",
            " [0. 1. 0. 0. 0. 0. 0. 0. 0.]\n",
            " [0. 0. 0. 0. 1. 0. 0. 0. 0.]\n",
            " [0. 0. 0. 1. 0. 0. 0. 0. 0.]\n",
            " [0. 0. 0. 0. 0. 0. 1. 0. 0.]]\n"
          ]
        }
      ]
    },
    {
      "cell_type": "markdown",
      "source": [
        "원핫\n",
        "\n",
        "단점 : \n",
        "\n",
        "단어의 개수가 늘어날수록, 벡터를 저장하기 위한 공간이 늘어난다.\n",
        "(=벡터의 차원이 늘어난다.)"
      ],
      "metadata": {
        "id": "5YYnrOB9ARaM"
      }
    }
  ]
}