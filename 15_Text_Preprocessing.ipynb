{
  "nbformat": 4,
  "nbformat_minor": 0,
  "metadata": {
    "colab": {
      "name": "\bMay09-10_1_Text_Preprocessing.ipynb",
      "provenance": [],
      "collapsed_sections": [
        "rQQs1NRDy9tx",
        "395YLSRa4TWR",
        "BBqQoKjeZJJk"
      ],
      "authorship_tag": "ABX9TyMHl4gtG3To++dgHioDk+Bs"
    },
    "kernelspec": {
      "name": "python3",
      "display_name": "Python 3"
    },
    "language_info": {
      "name": "python"
    }
  },
  "cells": [
    {
      "cell_type": "markdown",
      "source": [
        "# 표제어 추출 (Lemmatization)\n",
        "\n",
        "말뭉치(코퍼스)의 단어 개수를 줄일 수 있는 기법\n",
        "\n",
        "be 동사 : be, am, are, is\n",
        "\n",
        "공부하다 : 공부하고, 공부하게, 공부여서\n",
        "\n",
        "- 분석시에 단어 빈도수 기반으로 진행 -> 자연어 처리 단계에서 자주 사용\n",
        "- 형태소로부터 단어를 만들어가는 : 형태학\n",
        "  * 어간(stem) : 의미가 있는 단어의 핵심부분\n",
        "  * 접사(affix) : 단어에 추가적인 의미를 부여하는 부분\n",
        "\n",
        "  형태학적 파싱 : 코퍼스에서 어간과 접사를 분리하는 것\n",
        "  \n",
        "  ex) students => student + s"
      ],
      "metadata": {
        "id": "Egy6tJ42jCPR"
      }
    },
    {
      "cell_type": "code",
      "execution_count": null,
      "metadata": {
        "colab": {
          "base_uri": "https://localhost:8080/"
        },
        "id": "2PVeI9EyfDA0",
        "outputId": "bdc5f62b-d047-4dc6-faa9-e66d0a5ddff6"
      },
      "outputs": [
        {
          "output_type": "stream",
          "name": "stdout",
          "text": [
            "[nltk_data] Downloading package wordnet to /root/nltk_data...\n",
            "[nltk_data]   Unzipping corpora/wordnet.zip.\n"
          ]
        },
        {
          "output_type": "execute_result",
          "data": {
            "text/plain": [
              "True"
            ]
          },
          "metadata": {},
          "execution_count": 5
        }
      ],
      "source": [
        "import nltk # 자연어 처리를 위한 패키지\n",
        "nltk.download('wordnet')"
      ]
    },
    {
      "cell_type": "code",
      "source": [
        "# WordNetLemmatizer : NLTK에서 지원한느 표제어 추출 도구\n",
        "from nltk.stem import WordNetLemmatizer"
      ],
      "metadata": {
        "id": "jtb5zTpYladF"
      },
      "execution_count": null,
      "outputs": []
    },
    {
      "cell_type": "code",
      "source": [
        "lemmatizer = WordNetLemmatizer()\n",
        "\n",
        "words = ['sky','computer','having','lives','love','mouse','dies','listened','ate','has']\n",
        "\n",
        "print('추출 전 : ',words)\n",
        "print('추출 후 : ',[lemmatizer.lemmatize(word) for word in words])"
      ],
      "metadata": {
        "colab": {
          "base_uri": "https://localhost:8080/"
        },
        "id": "5rfsdbKZl9tE",
        "outputId": "bf385095-8142-45fd-e05c-4055c41a9249"
      },
      "execution_count": null,
      "outputs": [
        {
          "output_type": "stream",
          "name": "stdout",
          "text": [
            "추출 전 :  ['sky', 'computer', 'having', 'lives', 'love', 'mouse', 'dies', 'listened', 'ate', 'has']\n",
            "추출 후 :  ['sky', 'computer', 'having', 'life', 'love', 'mouse', 'dy', 'listened', 'ate', 'ha']\n"
          ]
        }
      ]
    },
    {
      "cell_type": "code",
      "source": [
        "lemmatizer.lemmatize('dies','v')"
      ],
      "metadata": {
        "colab": {
          "base_uri": "https://localhost:8080/",
          "height": 36
        },
        "id": "Jz7QJvpLnkEz",
        "outputId": "8b844293-d841-4107-a7ad-4d650bbb161a"
      },
      "execution_count": null,
      "outputs": [
        {
          "output_type": "execute_result",
          "data": {
            "text/plain": [
              "'die'"
            ],
            "application/vnd.google.colaboratory.intrinsic+json": {
              "type": "string"
            }
          },
          "metadata": {},
          "execution_count": 8
        }
      ]
    },
    {
      "cell_type": "code",
      "source": [
        "lemmatizer.lemmatize('listened','v')"
      ],
      "metadata": {
        "colab": {
          "base_uri": "https://localhost:8080/",
          "height": 36
        },
        "id": "aeJha7IHnnzO",
        "outputId": "b6465432-7c7f-4ffb-8088-313fefa60cfc"
      },
      "execution_count": null,
      "outputs": [
        {
          "output_type": "execute_result",
          "data": {
            "text/plain": [
              "'listen'"
            ],
            "application/vnd.google.colaboratory.intrinsic+json": {
              "type": "string"
            }
          },
          "metadata": {},
          "execution_count": 9
        }
      ]
    },
    {
      "cell_type": "code",
      "source": [
        "lemmatizer.lemmatize('better','a')\n",
        "\n",
        "# v : 동사 / a : 형용사 / n : 명사 / r : 부사"
      ],
      "metadata": {
        "colab": {
          "base_uri": "https://localhost:8080/",
          "height": 36
        },
        "id": "cq07lkiLnyjK",
        "outputId": "e3c601c9-8ab1-4f48-f1a6-394a8cadc112"
      },
      "execution_count": null,
      "outputs": [
        {
          "output_type": "execute_result",
          "data": {
            "text/plain": [
              "'good'"
            ],
            "application/vnd.google.colaboratory.intrinsic+json": {
              "type": "string"
            }
          },
          "metadata": {},
          "execution_count": 10
        }
      ]
    },
    {
      "cell_type": "code",
      "source": [
        "lemmatizer.lemmatize('has','v')"
      ],
      "metadata": {
        "colab": {
          "base_uri": "https://localhost:8080/",
          "height": 36
        },
        "id": "daW20pthoLS7",
        "outputId": "942fc02f-630b-41c0-8313-a0875235df84"
      },
      "execution_count": null,
      "outputs": [
        {
          "output_type": "execute_result",
          "data": {
            "text/plain": [
              "'have'"
            ],
            "application/vnd.google.colaboratory.intrinsic+json": {
              "type": "string"
            }
          },
          "metadata": {},
          "execution_count": 11
        }
      ]
    },
    {
      "cell_type": "markdown",
      "source": [
        "# 어간 추출 (Stemming)"
      ],
      "metadata": {
        "id": "FxqERpDvodfV"
      }
    },
    {
      "cell_type": "code",
      "source": [
        "import nltk \n",
        "nltk.download('punkt')"
      ],
      "metadata": {
        "colab": {
          "base_uri": "https://localhost:8080/"
        },
        "id": "UU_OBvcOogXn",
        "outputId": "d71a2c74-05a1-4226-d35b-7f2fa9333c5d"
      },
      "execution_count": null,
      "outputs": [
        {
          "output_type": "stream",
          "name": "stdout",
          "text": [
            "[nltk_data] Downloading package punkt to /root/nltk_data...\n",
            "[nltk_data]   Unzipping tokenizers/punkt.zip.\n"
          ]
        },
        {
          "output_type": "execute_result",
          "data": {
            "text/plain": [
              "True"
            ]
          },
          "metadata": {},
          "execution_count": 12
        }
      ]
    },
    {
      "cell_type": "code",
      "source": [
        "from nltk.stem import PorterStemmer\n",
        "from nltk.tokenize import word_tokenize"
      ],
      "metadata": {
        "id": "5AGsjTpvotZO"
      },
      "execution_count": null,
      "outputs": []
    },
    {
      "cell_type": "code",
      "source": [
        "sentence = \"\"\"At the entreaty of Zoraida\n",
        "orders were given to set on shore her father and the other Morrs who\n",
        "where still bound, for she could not endure, not could her tender heart\n",
        "bear to see her father in bonds and her fellow-countrymen prisoners\n",
        "bofore her eyes. We promised her to do this at the moment of departure,\n",
        "for as it was uninhabited we ran no risk in releasing them at ther\n",
        "place.\"\"\""
      ],
      "metadata": {
        "id": "622j45lrpQ_q"
      },
      "execution_count": null,
      "outputs": []
    },
    {
      "cell_type": "code",
      "source": [
        "stemmer = PorterStemmer()\n",
        "\n",
        "words2 = word_tokenize(sentence)\n",
        "print(words2)\n",
        "print()\n",
        "print([stemmer.stem(w) for w in words2])"
      ],
      "metadata": {
        "colab": {
          "base_uri": "https://localhost:8080/"
        },
        "id": "NDRDIZrqpyqZ",
        "outputId": "de016bc7-52ba-415f-af70-54e7090ed868"
      },
      "execution_count": null,
      "outputs": [
        {
          "output_type": "stream",
          "name": "stdout",
          "text": [
            "['At', 'the', 'entreaty', 'of', 'Zoraida', 'orders', 'were', 'given', 'to', 'set', 'on', 'shore', 'her', 'father', 'and', 'the', 'other', 'Morrs', 'who', 'where', 'still', 'bound', ',', 'for', 'she', 'could', 'not', 'endure', ',', 'not', 'could', 'her', 'tender', 'heart', 'bear', 'to', 'see', 'her', 'father', 'in', 'bonds', 'and', 'her', 'fellow-countrymen', 'prisoners', 'bofore', 'her', 'eyes', '.', 'We', 'promised', 'her', 'to', 'do', 'this', 'at', 'the', 'moment', 'of', 'departure', ',', 'for', 'as', 'it', 'was', 'uninhabited', 'we', 'ran', 'no', 'risk', 'in', 'releasing', 'them', 'at', 'ther', 'place', '.']\n",
            "\n",
            "['At', 'the', 'entreati', 'of', 'zoraida', 'order', 'were', 'given', 'to', 'set', 'on', 'shore', 'her', 'father', 'and', 'the', 'other', 'morr', 'who', 'where', 'still', 'bound', ',', 'for', 'she', 'could', 'not', 'endur', ',', 'not', 'could', 'her', 'tender', 'heart', 'bear', 'to', 'see', 'her', 'father', 'in', 'bond', 'and', 'her', 'fellow-countrymen', 'prison', 'bofor', 'her', 'eye', '.', 'We', 'promis', 'her', 'to', 'do', 'thi', 'at', 'the', 'moment', 'of', 'departur', ',', 'for', 'as', 'it', 'wa', 'uninhabit', 'we', 'ran', 'no', 'risk', 'in', 'releas', 'them', 'at', 'ther', 'place', '.']\n"
          ]
        }
      ]
    },
    {
      "cell_type": "markdown",
      "source": [
        "# PorterStemmer : 알고리즘\n",
        "\n",
        "규칙 기반의 접근 => 어림짐작하는 작업 => 섬세 X => 사전에 없는 단어가 도출될 가능성 있음\n",
        "\n",
        "* 마틴포터 홈페이지에서 다양하게 살펴볼 수 있음\n",
        "\n",
        "- 규칙 기반의 접근 \n",
        "  * ALIZE => AL\n",
        "  * ANCE => 삭제\n",
        "  * ICAL => IC"
      ],
      "metadata": {
        "id": "ulQcRXSXrDtm"
      }
    },
    {
      "cell_type": "code",
      "source": [
        "word = ['initialize','alliance','typical']\n",
        "\n",
        "print('추출 전 : ',word)\n",
        "print('추출 후 : ',[stemmer.stem(w) for w in word])"
      ],
      "metadata": {
        "colab": {
          "base_uri": "https://localhost:8080/"
        },
        "id": "5fcpk620sYWo",
        "outputId": "5c6e3a19-3f2b-48c0-e83b-d1f477ee6acc"
      },
      "execution_count": null,
      "outputs": [
        {
          "output_type": "stream",
          "name": "stdout",
          "text": [
            "추출 전 :  ['initialize', 'alliance', 'typical']\n",
            "추출 후 :  ['initi', 'allianc', 'typic']\n"
          ]
        }
      ]
    },
    {
      "cell_type": "code",
      "source": [
        "#NLTK에서는 포터 알고리즘외에도 랭커스터 스태머 (Lancaster Stemmer) 알고리즘을 지원\n",
        "from nltk.stem import PorterStemmer\n",
        "from nltk.stem import LancasterStemmer"
      ],
      "metadata": {
        "id": "xbBnwM3Zw-R_"
      },
      "execution_count": null,
      "outputs": []
    },
    {
      "cell_type": "code",
      "source": [
        "porter = PorterStemmer()\n",
        "lancaster = LancasterStemmer()\n",
        "\n",
        "words = ['sky','computer','having','lives','love','mouse','dies','listened','ate','has']\n",
        "print(words)"
      ],
      "metadata": {
        "colab": {
          "base_uri": "https://localhost:8080/"
        },
        "id": "KYm4dHbtxl0z",
        "outputId": "b78eaa95-6c15-4623-df55-a484f1bd6b92"
      },
      "execution_count": null,
      "outputs": [
        {
          "output_type": "stream",
          "name": "stdout",
          "text": [
            "['sky', 'computer', 'having', 'lives', 'love', 'mouse', 'dies', 'listened', 'ate', 'has']\n"
          ]
        }
      ]
    },
    {
      "cell_type": "code",
      "source": [
        "print([porter.stem(w) for w in words])"
      ],
      "metadata": {
        "colab": {
          "base_uri": "https://localhost:8080/"
        },
        "id": "cU_o-_RAxv19",
        "outputId": "59f33c8d-3144-47aa-9146-1b9b7d794864"
      },
      "execution_count": null,
      "outputs": [
        {
          "output_type": "stream",
          "name": "stdout",
          "text": [
            "['sky', 'comput', 'have', 'live', 'love', 'mous', 'die', 'listen', 'ate', 'ha']\n"
          ]
        }
      ]
    },
    {
      "cell_type": "code",
      "source": [
        "print([lancaster.stem(w) for w in words])\n",
        "\n",
        "# 두 스태머가 다른 결과를 보여줌\n",
        "# 두 스태머는 서로 다른 알고리즘 사용하기 때문\n",
        "# 제대로 된 표제어를 뽑아오지는 못하고 있음\n"
      ],
      "metadata": {
        "colab": {
          "base_uri": "https://localhost:8080/"
        },
        "id": "_k9ZkRTVx3q-",
        "outputId": "ad318d7e-e407-4d6a-bf3a-4cc480b25bf2"
      },
      "execution_count": null,
      "outputs": [
        {
          "output_type": "stream",
          "name": "stdout",
          "text": [
            "['sky', 'comput', 'hav', 'liv', 'lov', 'mous', 'die', 'list', 'at', 'has']\n"
          ]
        }
      ]
    },
    {
      "cell_type": "markdown",
      "source": [
        "# 불용어(Stopword)\n",
        "\n",
        "단어들 중에서 의미가 없는 단어\n",
        "\n",
        "데이터 중에서 의미가 있는 단어 토큰만 취급하기 위해서 의미를 가지지 않은 단어들을 제거하는 작업 수행"
      ],
      "metadata": {
        "id": "rQQs1NRDy9tx"
      }
    },
    {
      "cell_type": "code",
      "source": [
        "import nltk\n",
        "nltk.download('stopwords')\n",
        "nltk.download('punkt')"
      ],
      "metadata": {
        "colab": {
          "base_uri": "https://localhost:8080/"
        },
        "id": "l0DfJAnYzfjr",
        "outputId": "d8ba1cf9-a0a9-46b9-c3ec-f51a9695db09"
      },
      "execution_count": null,
      "outputs": [
        {
          "output_type": "stream",
          "name": "stdout",
          "text": [
            "[nltk_data] Downloading package stopwords to /root/nltk_data...\n",
            "[nltk_data]   Unzipping corpora/stopwords.zip.\n",
            "[nltk_data] Downloading package punkt to /root/nltk_data...\n",
            "[nltk_data]   Package punkt is already up-to-date!\n"
          ]
        },
        {
          "output_type": "execute_result",
          "data": {
            "text/plain": [
              "True"
            ]
          },
          "metadata": {},
          "execution_count": 21
        }
      ]
    },
    {
      "cell_type": "code",
      "source": [
        "from nltk.corpus import stopwords "
      ],
      "metadata": {
        "id": "y9hzx3K-zyO-"
      },
      "execution_count": null,
      "outputs": []
    },
    {
      "cell_type": "code",
      "source": [
        "#NLTK에 있는 불용어\n",
        "s = stopwords.words('english')\n",
        "print(len(s))\n",
        "print(s[:20])"
      ],
      "metadata": {
        "colab": {
          "base_uri": "https://localhost:8080/"
        },
        "id": "C1saSHXjz1nv",
        "outputId": "685b2427-b1fd-4f73-a852-8d25474272ec"
      },
      "execution_count": null,
      "outputs": [
        {
          "output_type": "stream",
          "name": "stdout",
          "text": [
            "179\n",
            "['i', 'me', 'my', 'myself', 'we', 'our', 'ours', 'ourselves', 'you', \"you're\", \"you've\", \"you'll\", \"you'd\", 'your', 'yours', 'yourself', 'yourselves', 'he', 'him', 'his']\n"
          ]
        }
      ]
    },
    {
      "cell_type": "code",
      "source": [
        "ex = \"\"\"Why is it, think ye, Christians, that this wiched woman is rejoiced at your giving\n",
        "me my liberty? Nay berily, it is only because of the hindrance my presence\n",
        "offers to the execution of her base designs.\"\"\"\n",
        "\n",
        "# NLTK에서 지정한 불용어를 가져오기\n",
        "sw = set(stopwords.words('english'))\n",
        "# print(sw)\n",
        "# 문장을 단어로 쪼개는 작업\n",
        "word = word_tokenize(ex)\n",
        "\n",
        "# 불용어가 아닌 단어들만 list에 담아서 출력\n",
        "result = []\n",
        "for w in word: # 단어로 쪼갠것을 하나씩 반복문 돌린다.\n",
        "  # if w in sw: # 불용어에 포함된다면\n",
        "  if w not in sw: # 불용어에 포함되지 않는다면\n",
        "    result.append(w)\n",
        "\n",
        "print(word)\n",
        "print()\n",
        "print(result)"
      ],
      "metadata": {
        "colab": {
          "base_uri": "https://localhost:8080/"
        },
        "id": "UdBLvzs_zj-G",
        "outputId": "572b91f3-5a1f-4551-9b5f-5b702b979367"
      },
      "execution_count": null,
      "outputs": [
        {
          "output_type": "stream",
          "name": "stdout",
          "text": [
            "['Why', 'is', 'it', ',', 'think', 'ye', ',', 'Christians', ',', 'that', 'this', 'wiched', 'woman', 'is', 'rejoiced', 'at', 'your', 'giving', 'me', 'my', 'liberty', '?', 'Nay', 'berily', ',', 'it', 'is', 'only', 'because', 'of', 'the', 'hindrance', 'my', 'presence', 'offers', 'to', 'the', 'execution', 'of', 'her', 'base', 'designs', '.']\n",
            "\n",
            "['Why', ',', 'think', 'ye', ',', 'Christians', ',', 'wiched', 'woman', 'rejoiced', 'giving', 'liberty', '?', 'Nay', 'berily', ',', 'hindrance', 'presence', 'offers', 'execution', 'base', 'designs', '.']\n"
          ]
        }
      ]
    },
    {
      "cell_type": "markdown",
      "source": [
        "# 한국어 불용어 제거하기\n",
        "\n",
        "- 토큰화 -> 조사 or 접속사같이 명사 or 형용사에서 필요없는 단어들을 제거\n",
        "\n",
        "- 한국어의 경우에는 사용자가 직접 불용어를 지정해서 사용하는 경우가 많음"
      ],
      "metadata": {
        "id": "395YLSRa4TWR"
      }
    },
    {
      "cell_type": "code",
      "source": [
        "pip install Konlpy"
      ],
      "metadata": {
        "colab": {
          "base_uri": "https://localhost:8080/"
        },
        "id": "JtKcYEBx5Jlu",
        "outputId": "54a3117b-d7d2-41c8-c31e-9e44b4ea5459"
      },
      "execution_count": null,
      "outputs": [
        {
          "output_type": "stream",
          "name": "stdout",
          "text": [
            "Collecting Konlpy\n",
            "  Downloading konlpy-0.6.0-py2.py3-none-any.whl (19.4 MB)\n",
            "\u001b[K     |████████████████████████████████| 19.4 MB 81.3 MB/s \n",
            "\u001b[?25hCollecting JPype1>=0.7.0\n",
            "  Downloading JPype1-1.3.0-cp37-cp37m-manylinux_2_5_x86_64.manylinux1_x86_64.whl (448 kB)\n",
            "\u001b[K     |████████████████████████████████| 448 kB 43.3 MB/s \n",
            "\u001b[?25hRequirement already satisfied: lxml>=4.1.0 in /usr/local/lib/python3.7/dist-packages (from Konlpy) (4.2.6)\n",
            "Requirement already satisfied: numpy>=1.6 in /usr/local/lib/python3.7/dist-packages (from Konlpy) (1.21.6)\n",
            "Requirement already satisfied: typing-extensions in /usr/local/lib/python3.7/dist-packages (from JPype1>=0.7.0->Konlpy) (4.2.0)\n",
            "Installing collected packages: JPype1, Konlpy\n",
            "Successfully installed JPype1-1.3.0 Konlpy-0.6.0\n"
          ]
        }
      ]
    },
    {
      "cell_type": "code",
      "source": [
        "from konlpy.tag import Okt"
      ],
      "metadata": {
        "id": "ijZsQTTn5O9G"
      },
      "execution_count": null,
      "outputs": []
    },
    {
      "cell_type": "code",
      "source": [
        "okt = Okt()\n",
        "\n",
        "ex = \"점심시간이네? 나는 비빔밥을 먹고있는데 이게 양이 은근 많아. 그리고 헛배가 자꾸 부르는 것 같아.\"\n",
        "sw = \"는 그리고 이네\"\n",
        "\n",
        "sw = set(sw.split(\" \"))\n",
        "token = okt.morphs(ex) # 형태소 분석\n",
        "\n",
        "result = [w for w in token if w not in sw]\n",
        "\n",
        "print(token) # 불용어 제거 전\n",
        "print()\n",
        "print(result) # 불용어 제거 후"
      ],
      "metadata": {
        "colab": {
          "base_uri": "https://localhost:8080/"
        },
        "id": "BDLo9TIC5dzY",
        "outputId": "460f0586-8135-4f6f-c59a-329e5c1dc3cb"
      },
      "execution_count": null,
      "outputs": [
        {
          "output_type": "stream",
          "name": "stdout",
          "text": [
            "['점심시간', '이네', '?', '나', '는', '비빔밥', '을', '먹고있는데', '이', '게', '양', '이', '은근', '많아', '.', '그리고', '헛배', '가', '자꾸', '부르는', '것', '같아', '.']\n",
            "\n",
            "['점심시간', '?', '나', '비빔밥', '을', '먹고있는데', '이', '게', '양', '이', '은근', '많아', '.', '헛배', '가', '자꾸', '부르는', '것', '같아', '.']\n"
          ]
        }
      ]
    },
    {
      "cell_type": "markdown",
      "source": [
        "# 정수 인코딩 (Integer Encoding)\n",
        "\n",
        "컴퓨터 입장에서 텍스트보다는 숫자를 더 쉽게 처리하는 경향이 있음\n",
        "\n",
        "텍스트에 정수를 부여하는 방법\n",
        "1. 단어를 빈도수를 기준으로 정렬\n",
        "2. 정렬된 집합 구성\n",
        "3. 빈도가 높은순 -> 낮은순으로 숫자를 부여\n"
      ],
      "metadata": {
        "id": "POLHiIjcOric"
      }
    },
    {
      "cell_type": "code",
      "source": [
        "# 영어 동요\n",
        "text = \"\"\"Hush little baby don't say a word\n",
        "Papa's gonnna buy you a mockingbird\n",
        "If that mockingbird won't sing\n",
        "Papa's gonna buy you a diamond ring\n",
        "If that diamond ring turns brass\n",
        "Papa's gonna buy you a looking glass\n",
        "If that looking glass gets broken\n",
        "Papa's gonna buy you a billy goat\n",
        "If that billy goat won't pull\n",
        "Papa's gonna buy you a cart and bull\n",
        "If that cart and bull turn over\n",
        "Papa's gonna buy you a dog named Rover\n",
        "So hush little baby don't you cry\n",
        "Daddy loves you and so do I \"\"\"\n",
        "text"
      ],
      "metadata": {
        "colab": {
          "base_uri": "https://localhost:8080/",
          "height": 89
        },
        "id": "agWGS92WPQwx",
        "outputId": "49b44270-40df-447f-ac57-f6b07f14d684"
      },
      "execution_count": null,
      "outputs": [
        {
          "output_type": "execute_result",
          "data": {
            "text/plain": [
              "\"Hush little baby don't say a word\\nPapa's gonnna buy you a mockingbird\\nIf that mockingbird won't sing\\nPapa's gonna buy you a diamond ring\\nIf that diamond ring turns brass\\nPapa's gonna buy you a looking glass\\nIf that looking glass gets broken\\nPapa's gonna buy you a billy goat\\nIf that billy goat won't pull\\nPapa's gonna buy you a cart and bull\\nIf that cart and bull turn over\\nPapa's gonna buy you a dog named Rover\\nSo hush little baby don't you cry\\nDaddy loves you and so do I \""
            ],
            "application/vnd.google.colaboratory.intrinsic+json": {
              "type": "string"
            }
          },
          "metadata": {},
          "execution_count": 28
        }
      ]
    },
    {
      "cell_type": "code",
      "source": [
        "from nltk.tokenize import sent_tokenize # 영어 문장 토큰화\n",
        "from nltk.tokenize import word_tokenize # 영어 단어 토큰화\n",
        "from nltk.corpus import stopwords"
      ],
      "metadata": {
        "id": "8YCB9c_3QTba"
      },
      "execution_count": null,
      "outputs": []
    },
    {
      "cell_type": "code",
      "source": [
        "# 문장 토큰화\n",
        "sentence = sent_tokenize(text)\n",
        "sentence"
      ],
      "metadata": {
        "colab": {
          "base_uri": "https://localhost:8080/"
        },
        "id": "0tiD_EKBQjNw",
        "outputId": "e4c3efb4-0e16-41bd-9921-8933fade270d"
      },
      "execution_count": null,
      "outputs": [
        {
          "output_type": "execute_result",
          "data": {
            "text/plain": [
              "[\"Hush little baby don't say a word\\nPapa's gonnna buy you a mockingbird\\nIf that mockingbird won't sing\\nPapa's gonna buy you a diamond ring\\nIf that diamond ring turns brass\\nPapa's gonna buy you a looking glass\\nIf that looking glass gets broken\\nPapa's gonna buy you a billy goat\\nIf that billy goat won't pull\\nPapa's gonna buy you a cart and bull\\nIf that cart and bull turn over\\nPapa's gonna buy you a dog named Rover\\nSo hush little baby don't you cry\\nDaddy loves you and so do I\"]"
            ]
          },
          "metadata": {},
          "execution_count": 30
        }
      ]
    },
    {
      "cell_type": "code",
      "source": [
        "# 단어 토큰화 -> 불용어를 뺀 단어 토큰들을 list에 담기\n",
        "\n",
        "sw = set(stopwords.words('english'))\n",
        "final_sentence = [] #나중에 추가 - 밑에 제일 많은 5개 뽑을 때\n",
        "# result = [] # 나중 밑으로 옮긴거\n",
        "aa = {}\n",
        "for s in sentence:\n",
        "  # 단어 토큰화\n",
        "  word = word_tokenize(s)\n",
        "  reuslt = [] # 나중에 위에서 여기로\n",
        "  for w in word:\n",
        "    w = w.lower() # 모든 단어를 소문자화 -> 단어 개수를 줄이는데 도움 O\n",
        "    if w not in sw:\n",
        "      if len(w) > 2:\n",
        "        result.append(w)\n",
        "        if w not in aa:\n",
        "          aa[w] = 0\n",
        "        aa[w] += 1\n",
        "  final_sentence.append(result) # 나중에추가\n",
        "\n",
        "print(final_sentence)\n",
        "print(aa)"
      ],
      "metadata": {
        "colab": {
          "base_uri": "https://localhost:8080/"
        },
        "id": "H7Kwm6YKRRAS",
        "outputId": "d8292a06-8f13-4518-e60a-76079fb7438a"
      },
      "execution_count": null,
      "outputs": [
        {
          "output_type": "stream",
          "name": "stdout",
          "text": [
            "[['점심시간', '?', '나', '비빔밥', '을', '먹고있는데', '이', '게', '양', '이', '은근', '많아', '.', '헛배', '가', '자꾸', '부르는', '것', '같아', '.', 'hush', 'little', 'baby', \"n't\", 'say', 'word', 'papa', 'gonnna', 'buy', 'mockingbird', 'mockingbird', \"n't\", 'sing', 'papa', 'gon', 'buy', 'diamond', 'ring', 'diamond', 'ring', 'turns', 'brass', 'papa', 'gon', 'buy', 'looking', 'glass', 'looking', 'glass', 'gets', 'broken', 'papa', 'gon', 'buy', 'billy', 'goat', 'billy', 'goat', \"n't\", 'pull', 'papa', 'gon', 'buy', 'cart', 'bull', 'cart', 'bull', 'turn', 'papa', 'gon', 'buy', 'dog', 'named', 'rover', 'hush', 'little', 'baby', \"n't\", 'cry', 'daddy', 'loves']]\n",
            "{'hush': 2, 'little': 2, 'baby': 2, \"n't\": 4, 'say': 1, 'word': 1, 'papa': 6, 'gonnna': 1, 'buy': 6, 'mockingbird': 2, 'sing': 1, 'gon': 5, 'diamond': 2, 'ring': 2, 'turns': 1, 'brass': 1, 'looking': 2, 'glass': 2, 'gets': 1, 'broken': 1, 'billy': 2, 'goat': 2, 'pull': 1, 'cart': 2, 'bull': 2, 'turn': 1, 'dog': 1, 'named': 1, 'rover': 1, 'cry': 1, 'daddy': 1, 'loves': 1}\n"
          ]
        }
      ]
    },
    {
      "cell_type": "code",
      "source": [
        "# time 단어의 빈도 수\n",
        "print(aa['baby'])"
      ],
      "metadata": {
        "colab": {
          "base_uri": "https://localhost:8080/"
        },
        "id": "1_49mtUsUc9A",
        "outputId": "439d9eb0-0ef5-46fe-f96c-622c4b31b77f"
      },
      "execution_count": null,
      "outputs": [
        {
          "output_type": "stream",
          "name": "stdout",
          "text": [
            "2\n"
          ]
        }
      ]
    },
    {
      "cell_type": "code",
      "source": [
        "# sorted() 함수 : 빈도수대로 정렬\n",
        "# sorted(정렬할 데이터, key옵션, reverse옵션)\n",
        "#       key 옵션 : key parameter\n",
        "#                 어떤 것을 기준으로 정렬할지 (key에 준 값으로 정렬)\n",
        "#       reverse 옵션 : False(default) >> 오름차순\n",
        "\n",
        "# sort() vs sorted()\n",
        "#       sort는 리스트 자체를 정렬해서 바꾸는 형태\n",
        "#       sorted는 원래 리스트는 그대로 두고, 정렬한 것을 새로운 리스트에 넣는 형태\n",
        "\n",
        "# key=lambda x:x[1] => x[1]의 값이 정렬의 기준 => 빈도수를 기준으로 정렬\n",
        "\n",
        "aaSort = sorted(aa.items(),key=lambda x:x[1],reverse=True) #빈도수가 많은 순서대로\n",
        "print(aaSort)"
      ],
      "metadata": {
        "colab": {
          "base_uri": "https://localhost:8080/"
        },
        "id": "L-aQv7JTUxI9",
        "outputId": "5f173c19-3127-4499-dc1f-9edc15a61816"
      },
      "execution_count": null,
      "outputs": [
        {
          "output_type": "stream",
          "name": "stdout",
          "text": [
            "[('papa', 6), ('buy', 6), ('gon', 5), (\"n't\", 4), ('hush', 2), ('little', 2), ('baby', 2), ('mockingbird', 2), ('diamond', 2), ('ring', 2), ('looking', 2), ('glass', 2), ('billy', 2), ('goat', 2), ('cart', 2), ('bull', 2), ('say', 1), ('word', 1), ('gonnna', 1), ('sing', 1), ('turns', 1), ('brass', 1), ('gets', 1), ('broken', 1), ('pull', 1), ('turn', 1), ('dog', 1), ('named', 1), ('rover', 1), ('cry', 1), ('daddy', 1), ('loves', 1)]\n"
          ]
        }
      ]
    },
    {
      "cell_type": "code",
      "source": [
        "# [높은 빈도수]를 가지고 있는 단어일수록 [낮은 정수값]을 부여 (정수는 1부터 부여)\n",
        "\n",
        "# 빈도수가 1이하인 것들은 삭제(결과에 안나오게)\n",
        "# {'papa':6, 'fun':2, 'stop':3,...}\n",
        "\n",
        "aa_index = {}\n",
        "i = 0\n",
        "for (word, frequency) in aaSort:\n",
        "  if (frequency > 1):\n",
        "    i = i+1\n",
        "    aa_index[word] = i\n",
        "\n",
        "print(aa_index)\n",
        "# index가 1이면 가장 많이 언급된 단어 "
      ],
      "metadata": {
        "colab": {
          "base_uri": "https://localhost:8080/"
        },
        "id": "9f12_vOtcQec",
        "outputId": "492b9770-776f-472c-9122-95c0475c30d8"
      },
      "execution_count": null,
      "outputs": [
        {
          "output_type": "stream",
          "name": "stdout",
          "text": [
            "{'papa': 1, 'buy': 2, 'gon': 3, \"n't\": 4, 'hush': 5, 'little': 6, 'baby': 7, 'mockingbird': 8, 'diamond': 9, 'ring': 10, 'looking': 11, 'glass': 12, 'billy': 13, 'goat': 14, 'cart': 15, 'bull': 16}\n"
          ]
        }
      ]
    },
    {
      "cell_type": "code",
      "source": [
        "# 단어 빈도수가 가장 높은 상위 5개 출력\n",
        "freSize = 5\n",
        "\n",
        "# 인덱스가 5초과 (6이상)인 단어들을 aa_final이라는 변수에 담기\n",
        "aa_final = [w for (w, index)in aa_index.items() if index >= freSize +1]\n",
        "\n",
        "# 기존 aa_index에서 aa_final에 담겨있는 단어를 삭제\n",
        "for w in aa_final:\n",
        "  del aa_index[w]\n",
        "print(aa_index)"
      ],
      "metadata": {
        "colab": {
          "base_uri": "https://localhost:8080/"
        },
        "id": "zPfS3idBe-rx",
        "outputId": "84b7d190-c84d-4296-85ed-2601104d5827"
      },
      "execution_count": null,
      "outputs": [
        {
          "output_type": "stream",
          "name": "stdout",
          "text": [
            "{'papa': 1, 'buy': 2, 'gon': 3, \"n't\": 4, 'hush': 5}\n"
          ]
        }
      ]
    },
    {
      "cell_type": "code",
      "source": [
        "# ['\bpapa','buy','gon','n't','hush','little'] >> aa_index에 더이상 존재하지 않는 little 단어가 존재\n",
        "# [1,2,3,4,5,?]\n",
        "# Out-Of-Vocabulary : 단어 집합에 없는 단어 >> OOV\n",
        "# aa_index에 'OOV'라는 단어가 있는 자리를 하나 만들고, 그 단어 집합에 존재하지 않는 단어를\n",
        "#     OOV의 인덱스로 인코딩\n"
      ],
      "metadata": {
        "id": "fFriFR0AiW6r"
      },
      "execution_count": null,
      "outputs": []
    },
    {
      "cell_type": "code",
      "source": [
        "aa_index['OOV'] = len(aa_index)+1\n",
        "print(aa_index)"
      ],
      "metadata": {
        "colab": {
          "base_uri": "https://localhost:8080/"
        },
        "id": "uLEzIqK3jl5R",
        "outputId": "9d5fb3cb-a2a7-4af7-de15-3de7a040719d"
      },
      "execution_count": null,
      "outputs": [
        {
          "output_type": "stream",
          "name": "stdout",
          "text": [
            "{'papa': 1, 'buy': 2, 'gon': 3, \"n't\": 4, 'hush': 5, 'OOV': 6}\n"
          ]
        }
      ]
    },
    {
      "cell_type": "code",
      "source": [
        "# 문장마다 텍스트 대신 그 자리에 해당하는 인덱스로 변환\n",
        "# 문장 토큰화 : sentence\n",
        "# 문장마다 단어로 토큰화 : final_sentence\n",
        "\n",
        "# [[1,4,2,4,6,3,2,1,...]]\n",
        "encoding_sentences = []\n",
        "for fs in final_sentence:\n",
        "  encoding_sentence = []\n",
        "  for w in fs:\n",
        "    try :\n",
        "      # 단어 집합에 있는 단어면 해당 단어의 정수를 넣어줌\n",
        "      encoding_sentence.append(aa_index[w])\n",
        "    except KeyError:\n",
        "      # 단어 집합에 없는 단어라면 OOV의 정수값 반환\n",
        "      encoding_sentence.append(aa_index['OOV'])\n",
        "    encoding_sentences.append(encoding_sentence)\n",
        "print(encoding_sentences)"
      ],
      "metadata": {
        "colab": {
          "base_uri": "https://localhost:8080/"
        },
        "id": "h2NEV49hj09t",
        "outputId": "e65f6d33-099a-4bc2-87c0-ae3b22ac3288"
      },
      "execution_count": null,
      "outputs": [
        {
          "output_type": "stream",
          "name": "stdout",
          "text": [
            "[[6, 6, 6, 6, 6, 6, 6, 6, 6, 6, 6, 6, 6, 6, 6, 6, 6, 6, 6, 6, 5, 6, 6, 4, 6, 6, 1, 6, 2, 6, 6, 4, 6, 1, 3, 2, 6, 6, 6, 6, 6, 6, 1, 3, 2, 6, 6, 6, 6, 6, 6, 1, 3, 2, 6, 6, 6, 6, 4, 6, 1, 3, 2, 6, 6, 6, 6, 6, 1, 3, 2, 6, 6, 6, 5, 6, 6, 4, 6, 6, 6], [6, 6, 6, 6, 6, 6, 6, 6, 6, 6, 6, 6, 6, 6, 6, 6, 6, 6, 6, 6, 5, 6, 6, 4, 6, 6, 1, 6, 2, 6, 6, 4, 6, 1, 3, 2, 6, 6, 6, 6, 6, 6, 1, 3, 2, 6, 6, 6, 6, 6, 6, 1, 3, 2, 6, 6, 6, 6, 4, 6, 1, 3, 2, 6, 6, 6, 6, 6, 1, 3, 2, 6, 6, 6, 5, 6, 6, 4, 6, 6, 6], [6, 6, 6, 6, 6, 6, 6, 6, 6, 6, 6, 6, 6, 6, 6, 6, 6, 6, 6, 6, 5, 6, 6, 4, 6, 6, 1, 6, 2, 6, 6, 4, 6, 1, 3, 2, 6, 6, 6, 6, 6, 6, 1, 3, 2, 6, 6, 6, 6, 6, 6, 1, 3, 2, 6, 6, 6, 6, 4, 6, 1, 3, 2, 6, 6, 6, 6, 6, 1, 3, 2, 6, 6, 6, 5, 6, 6, 4, 6, 6, 6], [6, 6, 6, 6, 6, 6, 6, 6, 6, 6, 6, 6, 6, 6, 6, 6, 6, 6, 6, 6, 5, 6, 6, 4, 6, 6, 1, 6, 2, 6, 6, 4, 6, 1, 3, 2, 6, 6, 6, 6, 6, 6, 1, 3, 2, 6, 6, 6, 6, 6, 6, 1, 3, 2, 6, 6, 6, 6, 4, 6, 1, 3, 2, 6, 6, 6, 6, 6, 1, 3, 2, 6, 6, 6, 5, 6, 6, 4, 6, 6, 6], [6, 6, 6, 6, 6, 6, 6, 6, 6, 6, 6, 6, 6, 6, 6, 6, 6, 6, 6, 6, 5, 6, 6, 4, 6, 6, 1, 6, 2, 6, 6, 4, 6, 1, 3, 2, 6, 6, 6, 6, 6, 6, 1, 3, 2, 6, 6, 6, 6, 6, 6, 1, 3, 2, 6, 6, 6, 6, 4, 6, 1, 3, 2, 6, 6, 6, 6, 6, 1, 3, 2, 6, 6, 6, 5, 6, 6, 4, 6, 6, 6], [6, 6, 6, 6, 6, 6, 6, 6, 6, 6, 6, 6, 6, 6, 6, 6, 6, 6, 6, 6, 5, 6, 6, 4, 6, 6, 1, 6, 2, 6, 6, 4, 6, 1, 3, 2, 6, 6, 6, 6, 6, 6, 1, 3, 2, 6, 6, 6, 6, 6, 6, 1, 3, 2, 6, 6, 6, 6, 4, 6, 1, 3, 2, 6, 6, 6, 6, 6, 1, 3, 2, 6, 6, 6, 5, 6, 6, 4, 6, 6, 6], [6, 6, 6, 6, 6, 6, 6, 6, 6, 6, 6, 6, 6, 6, 6, 6, 6, 6, 6, 6, 5, 6, 6, 4, 6, 6, 1, 6, 2, 6, 6, 4, 6, 1, 3, 2, 6, 6, 6, 6, 6, 6, 1, 3, 2, 6, 6, 6, 6, 6, 6, 1, 3, 2, 6, 6, 6, 6, 4, 6, 1, 3, 2, 6, 6, 6, 6, 6, 1, 3, 2, 6, 6, 6, 5, 6, 6, 4, 6, 6, 6], [6, 6, 6, 6, 6, 6, 6, 6, 6, 6, 6, 6, 6, 6, 6, 6, 6, 6, 6, 6, 5, 6, 6, 4, 6, 6, 1, 6, 2, 6, 6, 4, 6, 1, 3, 2, 6, 6, 6, 6, 6, 6, 1, 3, 2, 6, 6, 6, 6, 6, 6, 1, 3, 2, 6, 6, 6, 6, 4, 6, 1, 3, 2, 6, 6, 6, 6, 6, 1, 3, 2, 6, 6, 6, 5, 6, 6, 4, 6, 6, 6], [6, 6, 6, 6, 6, 6, 6, 6, 6, 6, 6, 6, 6, 6, 6, 6, 6, 6, 6, 6, 5, 6, 6, 4, 6, 6, 1, 6, 2, 6, 6, 4, 6, 1, 3, 2, 6, 6, 6, 6, 6, 6, 1, 3, 2, 6, 6, 6, 6, 6, 6, 1, 3, 2, 6, 6, 6, 6, 4, 6, 1, 3, 2, 6, 6, 6, 6, 6, 1, 3, 2, 6, 6, 6, 5, 6, 6, 4, 6, 6, 6], [6, 6, 6, 6, 6, 6, 6, 6, 6, 6, 6, 6, 6, 6, 6, 6, 6, 6, 6, 6, 5, 6, 6, 4, 6, 6, 1, 6, 2, 6, 6, 4, 6, 1, 3, 2, 6, 6, 6, 6, 6, 6, 1, 3, 2, 6, 6, 6, 6, 6, 6, 1, 3, 2, 6, 6, 6, 6, 4, 6, 1, 3, 2, 6, 6, 6, 6, 6, 1, 3, 2, 6, 6, 6, 5, 6, 6, 4, 6, 6, 6], [6, 6, 6, 6, 6, 6, 6, 6, 6, 6, 6, 6, 6, 6, 6, 6, 6, 6, 6, 6, 5, 6, 6, 4, 6, 6, 1, 6, 2, 6, 6, 4, 6, 1, 3, 2, 6, 6, 6, 6, 6, 6, 1, 3, 2, 6, 6, 6, 6, 6, 6, 1, 3, 2, 6, 6, 6, 6, 4, 6, 1, 3, 2, 6, 6, 6, 6, 6, 1, 3, 2, 6, 6, 6, 5, 6, 6, 4, 6, 6, 6], [6, 6, 6, 6, 6, 6, 6, 6, 6, 6, 6, 6, 6, 6, 6, 6, 6, 6, 6, 6, 5, 6, 6, 4, 6, 6, 1, 6, 2, 6, 6, 4, 6, 1, 3, 2, 6, 6, 6, 6, 6, 6, 1, 3, 2, 6, 6, 6, 6, 6, 6, 1, 3, 2, 6, 6, 6, 6, 4, 6, 1, 3, 2, 6, 6, 6, 6, 6, 1, 3, 2, 6, 6, 6, 5, 6, 6, 4, 6, 6, 6], [6, 6, 6, 6, 6, 6, 6, 6, 6, 6, 6, 6, 6, 6, 6, 6, 6, 6, 6, 6, 5, 6, 6, 4, 6, 6, 1, 6, 2, 6, 6, 4, 6, 1, 3, 2, 6, 6, 6, 6, 6, 6, 1, 3, 2, 6, 6, 6, 6, 6, 6, 1, 3, 2, 6, 6, 6, 6, 4, 6, 1, 3, 2, 6, 6, 6, 6, 6, 1, 3, 2, 6, 6, 6, 5, 6, 6, 4, 6, 6, 6], [6, 6, 6, 6, 6, 6, 6, 6, 6, 6, 6, 6, 6, 6, 6, 6, 6, 6, 6, 6, 5, 6, 6, 4, 6, 6, 1, 6, 2, 6, 6, 4, 6, 1, 3, 2, 6, 6, 6, 6, 6, 6, 1, 3, 2, 6, 6, 6, 6, 6, 6, 1, 3, 2, 6, 6, 6, 6, 4, 6, 1, 3, 2, 6, 6, 6, 6, 6, 1, 3, 2, 6, 6, 6, 5, 6, 6, 4, 6, 6, 6], [6, 6, 6, 6, 6, 6, 6, 6, 6, 6, 6, 6, 6, 6, 6, 6, 6, 6, 6, 6, 5, 6, 6, 4, 6, 6, 1, 6, 2, 6, 6, 4, 6, 1, 3, 2, 6, 6, 6, 6, 6, 6, 1, 3, 2, 6, 6, 6, 6, 6, 6, 1, 3, 2, 6, 6, 6, 6, 4, 6, 1, 3, 2, 6, 6, 6, 6, 6, 1, 3, 2, 6, 6, 6, 5, 6, 6, 4, 6, 6, 6], [6, 6, 6, 6, 6, 6, 6, 6, 6, 6, 6, 6, 6, 6, 6, 6, 6, 6, 6, 6, 5, 6, 6, 4, 6, 6, 1, 6, 2, 6, 6, 4, 6, 1, 3, 2, 6, 6, 6, 6, 6, 6, 1, 3, 2, 6, 6, 6, 6, 6, 6, 1, 3, 2, 6, 6, 6, 6, 4, 6, 1, 3, 2, 6, 6, 6, 6, 6, 1, 3, 2, 6, 6, 6, 5, 6, 6, 4, 6, 6, 6], [6, 6, 6, 6, 6, 6, 6, 6, 6, 6, 6, 6, 6, 6, 6, 6, 6, 6, 6, 6, 5, 6, 6, 4, 6, 6, 1, 6, 2, 6, 6, 4, 6, 1, 3, 2, 6, 6, 6, 6, 6, 6, 1, 3, 2, 6, 6, 6, 6, 6, 6, 1, 3, 2, 6, 6, 6, 6, 4, 6, 1, 3, 2, 6, 6, 6, 6, 6, 1, 3, 2, 6, 6, 6, 5, 6, 6, 4, 6, 6, 6], [6, 6, 6, 6, 6, 6, 6, 6, 6, 6, 6, 6, 6, 6, 6, 6, 6, 6, 6, 6, 5, 6, 6, 4, 6, 6, 1, 6, 2, 6, 6, 4, 6, 1, 3, 2, 6, 6, 6, 6, 6, 6, 1, 3, 2, 6, 6, 6, 6, 6, 6, 1, 3, 2, 6, 6, 6, 6, 4, 6, 1, 3, 2, 6, 6, 6, 6, 6, 1, 3, 2, 6, 6, 6, 5, 6, 6, 4, 6, 6, 6], [6, 6, 6, 6, 6, 6, 6, 6, 6, 6, 6, 6, 6, 6, 6, 6, 6, 6, 6, 6, 5, 6, 6, 4, 6, 6, 1, 6, 2, 6, 6, 4, 6, 1, 3, 2, 6, 6, 6, 6, 6, 6, 1, 3, 2, 6, 6, 6, 6, 6, 6, 1, 3, 2, 6, 6, 6, 6, 4, 6, 1, 3, 2, 6, 6, 6, 6, 6, 1, 3, 2, 6, 6, 6, 5, 6, 6, 4, 6, 6, 6], [6, 6, 6, 6, 6, 6, 6, 6, 6, 6, 6, 6, 6, 6, 6, 6, 6, 6, 6, 6, 5, 6, 6, 4, 6, 6, 1, 6, 2, 6, 6, 4, 6, 1, 3, 2, 6, 6, 6, 6, 6, 6, 1, 3, 2, 6, 6, 6, 6, 6, 6, 1, 3, 2, 6, 6, 6, 6, 4, 6, 1, 3, 2, 6, 6, 6, 6, 6, 1, 3, 2, 6, 6, 6, 5, 6, 6, 4, 6, 6, 6], [6, 6, 6, 6, 6, 6, 6, 6, 6, 6, 6, 6, 6, 6, 6, 6, 6, 6, 6, 6, 5, 6, 6, 4, 6, 6, 1, 6, 2, 6, 6, 4, 6, 1, 3, 2, 6, 6, 6, 6, 6, 6, 1, 3, 2, 6, 6, 6, 6, 6, 6, 1, 3, 2, 6, 6, 6, 6, 4, 6, 1, 3, 2, 6, 6, 6, 6, 6, 1, 3, 2, 6, 6, 6, 5, 6, 6, 4, 6, 6, 6], [6, 6, 6, 6, 6, 6, 6, 6, 6, 6, 6, 6, 6, 6, 6, 6, 6, 6, 6, 6, 5, 6, 6, 4, 6, 6, 1, 6, 2, 6, 6, 4, 6, 1, 3, 2, 6, 6, 6, 6, 6, 6, 1, 3, 2, 6, 6, 6, 6, 6, 6, 1, 3, 2, 6, 6, 6, 6, 4, 6, 1, 3, 2, 6, 6, 6, 6, 6, 1, 3, 2, 6, 6, 6, 5, 6, 6, 4, 6, 6, 6], [6, 6, 6, 6, 6, 6, 6, 6, 6, 6, 6, 6, 6, 6, 6, 6, 6, 6, 6, 6, 5, 6, 6, 4, 6, 6, 1, 6, 2, 6, 6, 4, 6, 1, 3, 2, 6, 6, 6, 6, 6, 6, 1, 3, 2, 6, 6, 6, 6, 6, 6, 1, 3, 2, 6, 6, 6, 6, 4, 6, 1, 3, 2, 6, 6, 6, 6, 6, 1, 3, 2, 6, 6, 6, 5, 6, 6, 4, 6, 6, 6], [6, 6, 6, 6, 6, 6, 6, 6, 6, 6, 6, 6, 6, 6, 6, 6, 6, 6, 6, 6, 5, 6, 6, 4, 6, 6, 1, 6, 2, 6, 6, 4, 6, 1, 3, 2, 6, 6, 6, 6, 6, 6, 1, 3, 2, 6, 6, 6, 6, 6, 6, 1, 3, 2, 6, 6, 6, 6, 4, 6, 1, 3, 2, 6, 6, 6, 6, 6, 1, 3, 2, 6, 6, 6, 5, 6, 6, 4, 6, 6, 6], [6, 6, 6, 6, 6, 6, 6, 6, 6, 6, 6, 6, 6, 6, 6, 6, 6, 6, 6, 6, 5, 6, 6, 4, 6, 6, 1, 6, 2, 6, 6, 4, 6, 1, 3, 2, 6, 6, 6, 6, 6, 6, 1, 3, 2, 6, 6, 6, 6, 6, 6, 1, 3, 2, 6, 6, 6, 6, 4, 6, 1, 3, 2, 6, 6, 6, 6, 6, 1, 3, 2, 6, 6, 6, 5, 6, 6, 4, 6, 6, 6], [6, 6, 6, 6, 6, 6, 6, 6, 6, 6, 6, 6, 6, 6, 6, 6, 6, 6, 6, 6, 5, 6, 6, 4, 6, 6, 1, 6, 2, 6, 6, 4, 6, 1, 3, 2, 6, 6, 6, 6, 6, 6, 1, 3, 2, 6, 6, 6, 6, 6, 6, 1, 3, 2, 6, 6, 6, 6, 4, 6, 1, 3, 2, 6, 6, 6, 6, 6, 1, 3, 2, 6, 6, 6, 5, 6, 6, 4, 6, 6, 6], [6, 6, 6, 6, 6, 6, 6, 6, 6, 6, 6, 6, 6, 6, 6, 6, 6, 6, 6, 6, 5, 6, 6, 4, 6, 6, 1, 6, 2, 6, 6, 4, 6, 1, 3, 2, 6, 6, 6, 6, 6, 6, 1, 3, 2, 6, 6, 6, 6, 6, 6, 1, 3, 2, 6, 6, 6, 6, 4, 6, 1, 3, 2, 6, 6, 6, 6, 6, 1, 3, 2, 6, 6, 6, 5, 6, 6, 4, 6, 6, 6], [6, 6, 6, 6, 6, 6, 6, 6, 6, 6, 6, 6, 6, 6, 6, 6, 6, 6, 6, 6, 5, 6, 6, 4, 6, 6, 1, 6, 2, 6, 6, 4, 6, 1, 3, 2, 6, 6, 6, 6, 6, 6, 1, 3, 2, 6, 6, 6, 6, 6, 6, 1, 3, 2, 6, 6, 6, 6, 4, 6, 1, 3, 2, 6, 6, 6, 6, 6, 1, 3, 2, 6, 6, 6, 5, 6, 6, 4, 6, 6, 6], [6, 6, 6, 6, 6, 6, 6, 6, 6, 6, 6, 6, 6, 6, 6, 6, 6, 6, 6, 6, 5, 6, 6, 4, 6, 6, 1, 6, 2, 6, 6, 4, 6, 1, 3, 2, 6, 6, 6, 6, 6, 6, 1, 3, 2, 6, 6, 6, 6, 6, 6, 1, 3, 2, 6, 6, 6, 6, 4, 6, 1, 3, 2, 6, 6, 6, 6, 6, 1, 3, 2, 6, 6, 6, 5, 6, 6, 4, 6, 6, 6], [6, 6, 6, 6, 6, 6, 6, 6, 6, 6, 6, 6, 6, 6, 6, 6, 6, 6, 6, 6, 5, 6, 6, 4, 6, 6, 1, 6, 2, 6, 6, 4, 6, 1, 3, 2, 6, 6, 6, 6, 6, 6, 1, 3, 2, 6, 6, 6, 6, 6, 6, 1, 3, 2, 6, 6, 6, 6, 4, 6, 1, 3, 2, 6, 6, 6, 6, 6, 1, 3, 2, 6, 6, 6, 5, 6, 6, 4, 6, 6, 6], [6, 6, 6, 6, 6, 6, 6, 6, 6, 6, 6, 6, 6, 6, 6, 6, 6, 6, 6, 6, 5, 6, 6, 4, 6, 6, 1, 6, 2, 6, 6, 4, 6, 1, 3, 2, 6, 6, 6, 6, 6, 6, 1, 3, 2, 6, 6, 6, 6, 6, 6, 1, 3, 2, 6, 6, 6, 6, 4, 6, 1, 3, 2, 6, 6, 6, 6, 6, 1, 3, 2, 6, 6, 6, 5, 6, 6, 4, 6, 6, 6], [6, 6, 6, 6, 6, 6, 6, 6, 6, 6, 6, 6, 6, 6, 6, 6, 6, 6, 6, 6, 5, 6, 6, 4, 6, 6, 1, 6, 2, 6, 6, 4, 6, 1, 3, 2, 6, 6, 6, 6, 6, 6, 1, 3, 2, 6, 6, 6, 6, 6, 6, 1, 3, 2, 6, 6, 6, 6, 4, 6, 1, 3, 2, 6, 6, 6, 6, 6, 1, 3, 2, 6, 6, 6, 5, 6, 6, 4, 6, 6, 6], [6, 6, 6, 6, 6, 6, 6, 6, 6, 6, 6, 6, 6, 6, 6, 6, 6, 6, 6, 6, 5, 6, 6, 4, 6, 6, 1, 6, 2, 6, 6, 4, 6, 1, 3, 2, 6, 6, 6, 6, 6, 6, 1, 3, 2, 6, 6, 6, 6, 6, 6, 1, 3, 2, 6, 6, 6, 6, 4, 6, 1, 3, 2, 6, 6, 6, 6, 6, 1, 3, 2, 6, 6, 6, 5, 6, 6, 4, 6, 6, 6], [6, 6, 6, 6, 6, 6, 6, 6, 6, 6, 6, 6, 6, 6, 6, 6, 6, 6, 6, 6, 5, 6, 6, 4, 6, 6, 1, 6, 2, 6, 6, 4, 6, 1, 3, 2, 6, 6, 6, 6, 6, 6, 1, 3, 2, 6, 6, 6, 6, 6, 6, 1, 3, 2, 6, 6, 6, 6, 4, 6, 1, 3, 2, 6, 6, 6, 6, 6, 1, 3, 2, 6, 6, 6, 5, 6, 6, 4, 6, 6, 6], [6, 6, 6, 6, 6, 6, 6, 6, 6, 6, 6, 6, 6, 6, 6, 6, 6, 6, 6, 6, 5, 6, 6, 4, 6, 6, 1, 6, 2, 6, 6, 4, 6, 1, 3, 2, 6, 6, 6, 6, 6, 6, 1, 3, 2, 6, 6, 6, 6, 6, 6, 1, 3, 2, 6, 6, 6, 6, 4, 6, 1, 3, 2, 6, 6, 6, 6, 6, 1, 3, 2, 6, 6, 6, 5, 6, 6, 4, 6, 6, 6], [6, 6, 6, 6, 6, 6, 6, 6, 6, 6, 6, 6, 6, 6, 6, 6, 6, 6, 6, 6, 5, 6, 6, 4, 6, 6, 1, 6, 2, 6, 6, 4, 6, 1, 3, 2, 6, 6, 6, 6, 6, 6, 1, 3, 2, 6, 6, 6, 6, 6, 6, 1, 3, 2, 6, 6, 6, 6, 4, 6, 1, 3, 2, 6, 6, 6, 6, 6, 1, 3, 2, 6, 6, 6, 5, 6, 6, 4, 6, 6, 6], [6, 6, 6, 6, 6, 6, 6, 6, 6, 6, 6, 6, 6, 6, 6, 6, 6, 6, 6, 6, 5, 6, 6, 4, 6, 6, 1, 6, 2, 6, 6, 4, 6, 1, 3, 2, 6, 6, 6, 6, 6, 6, 1, 3, 2, 6, 6, 6, 6, 6, 6, 1, 3, 2, 6, 6, 6, 6, 4, 6, 1, 3, 2, 6, 6, 6, 6, 6, 1, 3, 2, 6, 6, 6, 5, 6, 6, 4, 6, 6, 6], [6, 6, 6, 6, 6, 6, 6, 6, 6, 6, 6, 6, 6, 6, 6, 6, 6, 6, 6, 6, 5, 6, 6, 4, 6, 6, 1, 6, 2, 6, 6, 4, 6, 1, 3, 2, 6, 6, 6, 6, 6, 6, 1, 3, 2, 6, 6, 6, 6, 6, 6, 1, 3, 2, 6, 6, 6, 6, 4, 6, 1, 3, 2, 6, 6, 6, 6, 6, 1, 3, 2, 6, 6, 6, 5, 6, 6, 4, 6, 6, 6], [6, 6, 6, 6, 6, 6, 6, 6, 6, 6, 6, 6, 6, 6, 6, 6, 6, 6, 6, 6, 5, 6, 6, 4, 6, 6, 1, 6, 2, 6, 6, 4, 6, 1, 3, 2, 6, 6, 6, 6, 6, 6, 1, 3, 2, 6, 6, 6, 6, 6, 6, 1, 3, 2, 6, 6, 6, 6, 4, 6, 1, 3, 2, 6, 6, 6, 6, 6, 1, 3, 2, 6, 6, 6, 5, 6, 6, 4, 6, 6, 6], [6, 6, 6, 6, 6, 6, 6, 6, 6, 6, 6, 6, 6, 6, 6, 6, 6, 6, 6, 6, 5, 6, 6, 4, 6, 6, 1, 6, 2, 6, 6, 4, 6, 1, 3, 2, 6, 6, 6, 6, 6, 6, 1, 3, 2, 6, 6, 6, 6, 6, 6, 1, 3, 2, 6, 6, 6, 6, 4, 6, 1, 3, 2, 6, 6, 6, 6, 6, 1, 3, 2, 6, 6, 6, 5, 6, 6, 4, 6, 6, 6], [6, 6, 6, 6, 6, 6, 6, 6, 6, 6, 6, 6, 6, 6, 6, 6, 6, 6, 6, 6, 5, 6, 6, 4, 6, 6, 1, 6, 2, 6, 6, 4, 6, 1, 3, 2, 6, 6, 6, 6, 6, 6, 1, 3, 2, 6, 6, 6, 6, 6, 6, 1, 3, 2, 6, 6, 6, 6, 4, 6, 1, 3, 2, 6, 6, 6, 6, 6, 1, 3, 2, 6, 6, 6, 5, 6, 6, 4, 6, 6, 6], [6, 6, 6, 6, 6, 6, 6, 6, 6, 6, 6, 6, 6, 6, 6, 6, 6, 6, 6, 6, 5, 6, 6, 4, 6, 6, 1, 6, 2, 6, 6, 4, 6, 1, 3, 2, 6, 6, 6, 6, 6, 6, 1, 3, 2, 6, 6, 6, 6, 6, 6, 1, 3, 2, 6, 6, 6, 6, 4, 6, 1, 3, 2, 6, 6, 6, 6, 6, 1, 3, 2, 6, 6, 6, 5, 6, 6, 4, 6, 6, 6], [6, 6, 6, 6, 6, 6, 6, 6, 6, 6, 6, 6, 6, 6, 6, 6, 6, 6, 6, 6, 5, 6, 6, 4, 6, 6, 1, 6, 2, 6, 6, 4, 6, 1, 3, 2, 6, 6, 6, 6, 6, 6, 1, 3, 2, 6, 6, 6, 6, 6, 6, 1, 3, 2, 6, 6, 6, 6, 4, 6, 1, 3, 2, 6, 6, 6, 6, 6, 1, 3, 2, 6, 6, 6, 5, 6, 6, 4, 6, 6, 6], [6, 6, 6, 6, 6, 6, 6, 6, 6, 6, 6, 6, 6, 6, 6, 6, 6, 6, 6, 6, 5, 6, 6, 4, 6, 6, 1, 6, 2, 6, 6, 4, 6, 1, 3, 2, 6, 6, 6, 6, 6, 6, 1, 3, 2, 6, 6, 6, 6, 6, 6, 1, 3, 2, 6, 6, 6, 6, 4, 6, 1, 3, 2, 6, 6, 6, 6, 6, 1, 3, 2, 6, 6, 6, 5, 6, 6, 4, 6, 6, 6], [6, 6, 6, 6, 6, 6, 6, 6, 6, 6, 6, 6, 6, 6, 6, 6, 6, 6, 6, 6, 5, 6, 6, 4, 6, 6, 1, 6, 2, 6, 6, 4, 6, 1, 3, 2, 6, 6, 6, 6, 6, 6, 1, 3, 2, 6, 6, 6, 6, 6, 6, 1, 3, 2, 6, 6, 6, 6, 4, 6, 1, 3, 2, 6, 6, 6, 6, 6, 1, 3, 2, 6, 6, 6, 5, 6, 6, 4, 6, 6, 6], [6, 6, 6, 6, 6, 6, 6, 6, 6, 6, 6, 6, 6, 6, 6, 6, 6, 6, 6, 6, 5, 6, 6, 4, 6, 6, 1, 6, 2, 6, 6, 4, 6, 1, 3, 2, 6, 6, 6, 6, 6, 6, 1, 3, 2, 6, 6, 6, 6, 6, 6, 1, 3, 2, 6, 6, 6, 6, 4, 6, 1, 3, 2, 6, 6, 6, 6, 6, 1, 3, 2, 6, 6, 6, 5, 6, 6, 4, 6, 6, 6], [6, 6, 6, 6, 6, 6, 6, 6, 6, 6, 6, 6, 6, 6, 6, 6, 6, 6, 6, 6, 5, 6, 6, 4, 6, 6, 1, 6, 2, 6, 6, 4, 6, 1, 3, 2, 6, 6, 6, 6, 6, 6, 1, 3, 2, 6, 6, 6, 6, 6, 6, 1, 3, 2, 6, 6, 6, 6, 4, 6, 1, 3, 2, 6, 6, 6, 6, 6, 1, 3, 2, 6, 6, 6, 5, 6, 6, 4, 6, 6, 6], [6, 6, 6, 6, 6, 6, 6, 6, 6, 6, 6, 6, 6, 6, 6, 6, 6, 6, 6, 6, 5, 6, 6, 4, 6, 6, 1, 6, 2, 6, 6, 4, 6, 1, 3, 2, 6, 6, 6, 6, 6, 6, 1, 3, 2, 6, 6, 6, 6, 6, 6, 1, 3, 2, 6, 6, 6, 6, 4, 6, 1, 3, 2, 6, 6, 6, 6, 6, 1, 3, 2, 6, 6, 6, 5, 6, 6, 4, 6, 6, 6], [6, 6, 6, 6, 6, 6, 6, 6, 6, 6, 6, 6, 6, 6, 6, 6, 6, 6, 6, 6, 5, 6, 6, 4, 6, 6, 1, 6, 2, 6, 6, 4, 6, 1, 3, 2, 6, 6, 6, 6, 6, 6, 1, 3, 2, 6, 6, 6, 6, 6, 6, 1, 3, 2, 6, 6, 6, 6, 4, 6, 1, 3, 2, 6, 6, 6, 6, 6, 1, 3, 2, 6, 6, 6, 5, 6, 6, 4, 6, 6, 6], [6, 6, 6, 6, 6, 6, 6, 6, 6, 6, 6, 6, 6, 6, 6, 6, 6, 6, 6, 6, 5, 6, 6, 4, 6, 6, 1, 6, 2, 6, 6, 4, 6, 1, 3, 2, 6, 6, 6, 6, 6, 6, 1, 3, 2, 6, 6, 6, 6, 6, 6, 1, 3, 2, 6, 6, 6, 6, 4, 6, 1, 3, 2, 6, 6, 6, 6, 6, 1, 3, 2, 6, 6, 6, 5, 6, 6, 4, 6, 6, 6], [6, 6, 6, 6, 6, 6, 6, 6, 6, 6, 6, 6, 6, 6, 6, 6, 6, 6, 6, 6, 5, 6, 6, 4, 6, 6, 1, 6, 2, 6, 6, 4, 6, 1, 3, 2, 6, 6, 6, 6, 6, 6, 1, 3, 2, 6, 6, 6, 6, 6, 6, 1, 3, 2, 6, 6, 6, 6, 4, 6, 1, 3, 2, 6, 6, 6, 6, 6, 1, 3, 2, 6, 6, 6, 5, 6, 6, 4, 6, 6, 6], [6, 6, 6, 6, 6, 6, 6, 6, 6, 6, 6, 6, 6, 6, 6, 6, 6, 6, 6, 6, 5, 6, 6, 4, 6, 6, 1, 6, 2, 6, 6, 4, 6, 1, 3, 2, 6, 6, 6, 6, 6, 6, 1, 3, 2, 6, 6, 6, 6, 6, 6, 1, 3, 2, 6, 6, 6, 6, 4, 6, 1, 3, 2, 6, 6, 6, 6, 6, 1, 3, 2, 6, 6, 6, 5, 6, 6, 4, 6, 6, 6], [6, 6, 6, 6, 6, 6, 6, 6, 6, 6, 6, 6, 6, 6, 6, 6, 6, 6, 6, 6, 5, 6, 6, 4, 6, 6, 1, 6, 2, 6, 6, 4, 6, 1, 3, 2, 6, 6, 6, 6, 6, 6, 1, 3, 2, 6, 6, 6, 6, 6, 6, 1, 3, 2, 6, 6, 6, 6, 4, 6, 1, 3, 2, 6, 6, 6, 6, 6, 1, 3, 2, 6, 6, 6, 5, 6, 6, 4, 6, 6, 6], [6, 6, 6, 6, 6, 6, 6, 6, 6, 6, 6, 6, 6, 6, 6, 6, 6, 6, 6, 6, 5, 6, 6, 4, 6, 6, 1, 6, 2, 6, 6, 4, 6, 1, 3, 2, 6, 6, 6, 6, 6, 6, 1, 3, 2, 6, 6, 6, 6, 6, 6, 1, 3, 2, 6, 6, 6, 6, 4, 6, 1, 3, 2, 6, 6, 6, 6, 6, 1, 3, 2, 6, 6, 6, 5, 6, 6, 4, 6, 6, 6], [6, 6, 6, 6, 6, 6, 6, 6, 6, 6, 6, 6, 6, 6, 6, 6, 6, 6, 6, 6, 5, 6, 6, 4, 6, 6, 1, 6, 2, 6, 6, 4, 6, 1, 3, 2, 6, 6, 6, 6, 6, 6, 1, 3, 2, 6, 6, 6, 6, 6, 6, 1, 3, 2, 6, 6, 6, 6, 4, 6, 1, 3, 2, 6, 6, 6, 6, 6, 1, 3, 2, 6, 6, 6, 5, 6, 6, 4, 6, 6, 6], [6, 6, 6, 6, 6, 6, 6, 6, 6, 6, 6, 6, 6, 6, 6, 6, 6, 6, 6, 6, 5, 6, 6, 4, 6, 6, 1, 6, 2, 6, 6, 4, 6, 1, 3, 2, 6, 6, 6, 6, 6, 6, 1, 3, 2, 6, 6, 6, 6, 6, 6, 1, 3, 2, 6, 6, 6, 6, 4, 6, 1, 3, 2, 6, 6, 6, 6, 6, 1, 3, 2, 6, 6, 6, 5, 6, 6, 4, 6, 6, 6], [6, 6, 6, 6, 6, 6, 6, 6, 6, 6, 6, 6, 6, 6, 6, 6, 6, 6, 6, 6, 5, 6, 6, 4, 6, 6, 1, 6, 2, 6, 6, 4, 6, 1, 3, 2, 6, 6, 6, 6, 6, 6, 1, 3, 2, 6, 6, 6, 6, 6, 6, 1, 3, 2, 6, 6, 6, 6, 4, 6, 1, 3, 2, 6, 6, 6, 6, 6, 1, 3, 2, 6, 6, 6, 5, 6, 6, 4, 6, 6, 6], [6, 6, 6, 6, 6, 6, 6, 6, 6, 6, 6, 6, 6, 6, 6, 6, 6, 6, 6, 6, 5, 6, 6, 4, 6, 6, 1, 6, 2, 6, 6, 4, 6, 1, 3, 2, 6, 6, 6, 6, 6, 6, 1, 3, 2, 6, 6, 6, 6, 6, 6, 1, 3, 2, 6, 6, 6, 6, 4, 6, 1, 3, 2, 6, 6, 6, 6, 6, 1, 3, 2, 6, 6, 6, 5, 6, 6, 4, 6, 6, 6], [6, 6, 6, 6, 6, 6, 6, 6, 6, 6, 6, 6, 6, 6, 6, 6, 6, 6, 6, 6, 5, 6, 6, 4, 6, 6, 1, 6, 2, 6, 6, 4, 6, 1, 3, 2, 6, 6, 6, 6, 6, 6, 1, 3, 2, 6, 6, 6, 6, 6, 6, 1, 3, 2, 6, 6, 6, 6, 4, 6, 1, 3, 2, 6, 6, 6, 6, 6, 1, 3, 2, 6, 6, 6, 5, 6, 6, 4, 6, 6, 6], [6, 6, 6, 6, 6, 6, 6, 6, 6, 6, 6, 6, 6, 6, 6, 6, 6, 6, 6, 6, 5, 6, 6, 4, 6, 6, 1, 6, 2, 6, 6, 4, 6, 1, 3, 2, 6, 6, 6, 6, 6, 6, 1, 3, 2, 6, 6, 6, 6, 6, 6, 1, 3, 2, 6, 6, 6, 6, 4, 6, 1, 3, 2, 6, 6, 6, 6, 6, 1, 3, 2, 6, 6, 6, 5, 6, 6, 4, 6, 6, 6], [6, 6, 6, 6, 6, 6, 6, 6, 6, 6, 6, 6, 6, 6, 6, 6, 6, 6, 6, 6, 5, 6, 6, 4, 6, 6, 1, 6, 2, 6, 6, 4, 6, 1, 3, 2, 6, 6, 6, 6, 6, 6, 1, 3, 2, 6, 6, 6, 6, 6, 6, 1, 3, 2, 6, 6, 6, 6, 4, 6, 1, 3, 2, 6, 6, 6, 6, 6, 1, 3, 2, 6, 6, 6, 5, 6, 6, 4, 6, 6, 6], [6, 6, 6, 6, 6, 6, 6, 6, 6, 6, 6, 6, 6, 6, 6, 6, 6, 6, 6, 6, 5, 6, 6, 4, 6, 6, 1, 6, 2, 6, 6, 4, 6, 1, 3, 2, 6, 6, 6, 6, 6, 6, 1, 3, 2, 6, 6, 6, 6, 6, 6, 1, 3, 2, 6, 6, 6, 6, 4, 6, 1, 3, 2, 6, 6, 6, 6, 6, 1, 3, 2, 6, 6, 6, 5, 6, 6, 4, 6, 6, 6], [6, 6, 6, 6, 6, 6, 6, 6, 6, 6, 6, 6, 6, 6, 6, 6, 6, 6, 6, 6, 5, 6, 6, 4, 6, 6, 1, 6, 2, 6, 6, 4, 6, 1, 3, 2, 6, 6, 6, 6, 6, 6, 1, 3, 2, 6, 6, 6, 6, 6, 6, 1, 3, 2, 6, 6, 6, 6, 4, 6, 1, 3, 2, 6, 6, 6, 6, 6, 1, 3, 2, 6, 6, 6, 5, 6, 6, 4, 6, 6, 6], [6, 6, 6, 6, 6, 6, 6, 6, 6, 6, 6, 6, 6, 6, 6, 6, 6, 6, 6, 6, 5, 6, 6, 4, 6, 6, 1, 6, 2, 6, 6, 4, 6, 1, 3, 2, 6, 6, 6, 6, 6, 6, 1, 3, 2, 6, 6, 6, 6, 6, 6, 1, 3, 2, 6, 6, 6, 6, 4, 6, 1, 3, 2, 6, 6, 6, 6, 6, 1, 3, 2, 6, 6, 6, 5, 6, 6, 4, 6, 6, 6], [6, 6, 6, 6, 6, 6, 6, 6, 6, 6, 6, 6, 6, 6, 6, 6, 6, 6, 6, 6, 5, 6, 6, 4, 6, 6, 1, 6, 2, 6, 6, 4, 6, 1, 3, 2, 6, 6, 6, 6, 6, 6, 1, 3, 2, 6, 6, 6, 6, 6, 6, 1, 3, 2, 6, 6, 6, 6, 4, 6, 1, 3, 2, 6, 6, 6, 6, 6, 1, 3, 2, 6, 6, 6, 5, 6, 6, 4, 6, 6, 6], [6, 6, 6, 6, 6, 6, 6, 6, 6, 6, 6, 6, 6, 6, 6, 6, 6, 6, 6, 6, 5, 6, 6, 4, 6, 6, 1, 6, 2, 6, 6, 4, 6, 1, 3, 2, 6, 6, 6, 6, 6, 6, 1, 3, 2, 6, 6, 6, 6, 6, 6, 1, 3, 2, 6, 6, 6, 6, 4, 6, 1, 3, 2, 6, 6, 6, 6, 6, 1, 3, 2, 6, 6, 6, 5, 6, 6, 4, 6, 6, 6], [6, 6, 6, 6, 6, 6, 6, 6, 6, 6, 6, 6, 6, 6, 6, 6, 6, 6, 6, 6, 5, 6, 6, 4, 6, 6, 1, 6, 2, 6, 6, 4, 6, 1, 3, 2, 6, 6, 6, 6, 6, 6, 1, 3, 2, 6, 6, 6, 6, 6, 6, 1, 3, 2, 6, 6, 6, 6, 4, 6, 1, 3, 2, 6, 6, 6, 6, 6, 1, 3, 2, 6, 6, 6, 5, 6, 6, 4, 6, 6, 6], [6, 6, 6, 6, 6, 6, 6, 6, 6, 6, 6, 6, 6, 6, 6, 6, 6, 6, 6, 6, 5, 6, 6, 4, 6, 6, 1, 6, 2, 6, 6, 4, 6, 1, 3, 2, 6, 6, 6, 6, 6, 6, 1, 3, 2, 6, 6, 6, 6, 6, 6, 1, 3, 2, 6, 6, 6, 6, 4, 6, 1, 3, 2, 6, 6, 6, 6, 6, 1, 3, 2, 6, 6, 6, 5, 6, 6, 4, 6, 6, 6], [6, 6, 6, 6, 6, 6, 6, 6, 6, 6, 6, 6, 6, 6, 6, 6, 6, 6, 6, 6, 5, 6, 6, 4, 6, 6, 1, 6, 2, 6, 6, 4, 6, 1, 3, 2, 6, 6, 6, 6, 6, 6, 1, 3, 2, 6, 6, 6, 6, 6, 6, 1, 3, 2, 6, 6, 6, 6, 4, 6, 1, 3, 2, 6, 6, 6, 6, 6, 1, 3, 2, 6, 6, 6, 5, 6, 6, 4, 6, 6, 6], [6, 6, 6, 6, 6, 6, 6, 6, 6, 6, 6, 6, 6, 6, 6, 6, 6, 6, 6, 6, 5, 6, 6, 4, 6, 6, 1, 6, 2, 6, 6, 4, 6, 1, 3, 2, 6, 6, 6, 6, 6, 6, 1, 3, 2, 6, 6, 6, 6, 6, 6, 1, 3, 2, 6, 6, 6, 6, 4, 6, 1, 3, 2, 6, 6, 6, 6, 6, 1, 3, 2, 6, 6, 6, 5, 6, 6, 4, 6, 6, 6], [6, 6, 6, 6, 6, 6, 6, 6, 6, 6, 6, 6, 6, 6, 6, 6, 6, 6, 6, 6, 5, 6, 6, 4, 6, 6, 1, 6, 2, 6, 6, 4, 6, 1, 3, 2, 6, 6, 6, 6, 6, 6, 1, 3, 2, 6, 6, 6, 6, 6, 6, 1, 3, 2, 6, 6, 6, 6, 4, 6, 1, 3, 2, 6, 6, 6, 6, 6, 1, 3, 2, 6, 6, 6, 5, 6, 6, 4, 6, 6, 6], [6, 6, 6, 6, 6, 6, 6, 6, 6, 6, 6, 6, 6, 6, 6, 6, 6, 6, 6, 6, 5, 6, 6, 4, 6, 6, 1, 6, 2, 6, 6, 4, 6, 1, 3, 2, 6, 6, 6, 6, 6, 6, 1, 3, 2, 6, 6, 6, 6, 6, 6, 1, 3, 2, 6, 6, 6, 6, 4, 6, 1, 3, 2, 6, 6, 6, 6, 6, 1, 3, 2, 6, 6, 6, 5, 6, 6, 4, 6, 6, 6], [6, 6, 6, 6, 6, 6, 6, 6, 6, 6, 6, 6, 6, 6, 6, 6, 6, 6, 6, 6, 5, 6, 6, 4, 6, 6, 1, 6, 2, 6, 6, 4, 6, 1, 3, 2, 6, 6, 6, 6, 6, 6, 1, 3, 2, 6, 6, 6, 6, 6, 6, 1, 3, 2, 6, 6, 6, 6, 4, 6, 1, 3, 2, 6, 6, 6, 6, 6, 1, 3, 2, 6, 6, 6, 5, 6, 6, 4, 6, 6, 6], [6, 6, 6, 6, 6, 6, 6, 6, 6, 6, 6, 6, 6, 6, 6, 6, 6, 6, 6, 6, 5, 6, 6, 4, 6, 6, 1, 6, 2, 6, 6, 4, 6, 1, 3, 2, 6, 6, 6, 6, 6, 6, 1, 3, 2, 6, 6, 6, 6, 6, 6, 1, 3, 2, 6, 6, 6, 6, 4, 6, 1, 3, 2, 6, 6, 6, 6, 6, 1, 3, 2, 6, 6, 6, 5, 6, 6, 4, 6, 6, 6], [6, 6, 6, 6, 6, 6, 6, 6, 6, 6, 6, 6, 6, 6, 6, 6, 6, 6, 6, 6, 5, 6, 6, 4, 6, 6, 1, 6, 2, 6, 6, 4, 6, 1, 3, 2, 6, 6, 6, 6, 6, 6, 1, 3, 2, 6, 6, 6, 6, 6, 6, 1, 3, 2, 6, 6, 6, 6, 4, 6, 1, 3, 2, 6, 6, 6, 6, 6, 1, 3, 2, 6, 6, 6, 5, 6, 6, 4, 6, 6, 6], [6, 6, 6, 6, 6, 6, 6, 6, 6, 6, 6, 6, 6, 6, 6, 6, 6, 6, 6, 6, 5, 6, 6, 4, 6, 6, 1, 6, 2, 6, 6, 4, 6, 1, 3, 2, 6, 6, 6, 6, 6, 6, 1, 3, 2, 6, 6, 6, 6, 6, 6, 1, 3, 2, 6, 6, 6, 6, 4, 6, 1, 3, 2, 6, 6, 6, 6, 6, 1, 3, 2, 6, 6, 6, 5, 6, 6, 4, 6, 6, 6], [6, 6, 6, 6, 6, 6, 6, 6, 6, 6, 6, 6, 6, 6, 6, 6, 6, 6, 6, 6, 5, 6, 6, 4, 6, 6, 1, 6, 2, 6, 6, 4, 6, 1, 3, 2, 6, 6, 6, 6, 6, 6, 1, 3, 2, 6, 6, 6, 6, 6, 6, 1, 3, 2, 6, 6, 6, 6, 4, 6, 1, 3, 2, 6, 6, 6, 6, 6, 1, 3, 2, 6, 6, 6, 5, 6, 6, 4, 6, 6, 6], [6, 6, 6, 6, 6, 6, 6, 6, 6, 6, 6, 6, 6, 6, 6, 6, 6, 6, 6, 6, 5, 6, 6, 4, 6, 6, 1, 6, 2, 6, 6, 4, 6, 1, 3, 2, 6, 6, 6, 6, 6, 6, 1, 3, 2, 6, 6, 6, 6, 6, 6, 1, 3, 2, 6, 6, 6, 6, 4, 6, 1, 3, 2, 6, 6, 6, 6, 6, 1, 3, 2, 6, 6, 6, 5, 6, 6, 4, 6, 6, 6], [6, 6, 6, 6, 6, 6, 6, 6, 6, 6, 6, 6, 6, 6, 6, 6, 6, 6, 6, 6, 5, 6, 6, 4, 6, 6, 1, 6, 2, 6, 6, 4, 6, 1, 3, 2, 6, 6, 6, 6, 6, 6, 1, 3, 2, 6, 6, 6, 6, 6, 6, 1, 3, 2, 6, 6, 6, 6, 4, 6, 1, 3, 2, 6, 6, 6, 6, 6, 1, 3, 2, 6, 6, 6, 5, 6, 6, 4, 6, 6, 6], [6, 6, 6, 6, 6, 6, 6, 6, 6, 6, 6, 6, 6, 6, 6, 6, 6, 6, 6, 6, 5, 6, 6, 4, 6, 6, 1, 6, 2, 6, 6, 4, 6, 1, 3, 2, 6, 6, 6, 6, 6, 6, 1, 3, 2, 6, 6, 6, 6, 6, 6, 1, 3, 2, 6, 6, 6, 6, 4, 6, 1, 3, 2, 6, 6, 6, 6, 6, 1, 3, 2, 6, 6, 6, 5, 6, 6, 4, 6, 6, 6], [6, 6, 6, 6, 6, 6, 6, 6, 6, 6, 6, 6, 6, 6, 6, 6, 6, 6, 6, 6, 5, 6, 6, 4, 6, 6, 1, 6, 2, 6, 6, 4, 6, 1, 3, 2, 6, 6, 6, 6, 6, 6, 1, 3, 2, 6, 6, 6, 6, 6, 6, 1, 3, 2, 6, 6, 6, 6, 4, 6, 1, 3, 2, 6, 6, 6, 6, 6, 1, 3, 2, 6, 6, 6, 5, 6, 6, 4, 6, 6, 6]]\n"
          ]
        }
      ]
    },
    {
      "cell_type": "markdown",
      "source": [
        "# Counter\n"
      ],
      "metadata": {
        "id": "XEfI8m2KpfGQ"
      }
    },
    {
      "cell_type": "code",
      "source": [
        "from collections import Counter"
      ],
      "metadata": {
        "id": "FvsA-q5bphwq"
      },
      "execution_count": null,
      "outputs": []
    },
    {
      "cell_type": "code",
      "source": [
        "print(final_sentence)"
      ],
      "metadata": {
        "colab": {
          "base_uri": "https://localhost:8080/"
        },
        "id": "VCUKr1_spkIb",
        "outputId": "e610ad0a-a161-4a97-cf94-c27e23a6963a"
      },
      "execution_count": null,
      "outputs": [
        {
          "output_type": "stream",
          "name": "stdout",
          "text": [
            "[['점심시간', '?', '나', '비빔밥', '을', '먹고있는데', '이', '게', '양', '이', '은근', '많아', '.', '헛배', '가', '자꾸', '부르는', '것', '같아', '.', 'hush', 'little', 'baby', \"n't\", 'say', 'word', 'papa', 'gonnna', 'buy', 'mockingbird', 'mockingbird', \"n't\", 'sing', 'papa', 'gon', 'buy', 'diamond', 'ring', 'diamond', 'ring', 'turns', 'brass', 'papa', 'gon', 'buy', 'looking', 'glass', 'looking', 'glass', 'gets', 'broken', 'papa', 'gon', 'buy', 'billy', 'goat', 'billy', 'goat', \"n't\", 'pull', 'papa', 'gon', 'buy', 'cart', 'bull', 'cart', 'bull', 'turn', 'papa', 'gon', 'buy', 'dog', 'named', 'rover', 'hush', 'little', 'baby', \"n't\", 'cry', 'daddy', 'loves']]\n"
          ]
        }
      ]
    },
    {
      "cell_type": "code",
      "source": [
        "# list 속의 list 지우고 하나의 list에 다 넣기\n",
        "one_list = sum(final_sentence, [])\n",
        "print(one_list)"
      ],
      "metadata": {
        "colab": {
          "base_uri": "https://localhost:8080/"
        },
        "id": "A32C0qTYp_jZ",
        "outputId": "c83741e0-44f4-4a89-ccf2-9c92a9999f48"
      },
      "execution_count": null,
      "outputs": [
        {
          "output_type": "stream",
          "name": "stdout",
          "text": [
            "['점심시간', '?', '나', '비빔밥', '을', '먹고있는데', '이', '게', '양', '이', '은근', '많아', '.', '헛배', '가', '자꾸', '부르는', '것', '같아', '.', 'hush', 'little', 'baby', \"n't\", 'say', 'word', 'papa', 'gonnna', 'buy', 'mockingbird', 'mockingbird', \"n't\", 'sing', 'papa', 'gon', 'buy', 'diamond', 'ring', 'diamond', 'ring', 'turns', 'brass', 'papa', 'gon', 'buy', 'looking', 'glass', 'looking', 'glass', 'gets', 'broken', 'papa', 'gon', 'buy', 'billy', 'goat', 'billy', 'goat', \"n't\", 'pull', 'papa', 'gon', 'buy', 'cart', 'bull', 'cart', 'bull', 'turn', 'papa', 'gon', 'buy', 'dog', 'named', 'rover', 'hush', 'little', 'baby', \"n't\", 'cry', 'daddy', 'loves']\n"
          ]
        }
      ]
    },
    {
      "cell_type": "code",
      "source": [
        "# Counter 모듈 사용해서 단어의 빈도수를 세어보기\n",
        "wf = Counter(one_list)\n",
        "print(wf)"
      ],
      "metadata": {
        "colab": {
          "base_uri": "https://localhost:8080/"
        },
        "id": "150c-BDBqS2Y",
        "outputId": "d517273d-ba90-42e2-f117-4d6990e3d2a5"
      },
      "execution_count": null,
      "outputs": [
        {
          "output_type": "stream",
          "name": "stdout",
          "text": [
            "Counter({'papa': 6, 'buy': 6, 'gon': 5, \"n't\": 4, '이': 2, '.': 2, 'hush': 2, 'little': 2, 'baby': 2, 'mockingbird': 2, 'diamond': 2, 'ring': 2, 'looking': 2, 'glass': 2, 'billy': 2, 'goat': 2, 'cart': 2, 'bull': 2, '점심시간': 1, '?': 1, '나': 1, '비빔밥': 1, '을': 1, '먹고있는데': 1, '게': 1, '양': 1, '은근': 1, '많아': 1, '헛배': 1, '가': 1, '자꾸': 1, '부르는': 1, '것': 1, '같아': 1, 'say': 1, 'word': 1, 'gonnna': 1, 'sing': 1, 'turns': 1, 'brass': 1, 'gets': 1, 'broken': 1, 'pull': 1, 'turn': 1, 'dog': 1, 'named': 1, 'rover': 1, 'cry': 1, 'daddy': 1, 'loves': 1})\n"
          ]
        }
      ]
    },
    {
      "cell_type": "code",
      "source": [
        "# 빈도수가 높은 상위 5개만 저장\n",
        "freSize = 5\n",
        "wf = wf.most_common(freSize)\n",
        "wf"
      ],
      "metadata": {
        "colab": {
          "base_uri": "https://localhost:8080/"
        },
        "id": "yozvNxWkq1lf",
        "outputId": "4223a640-8cfb-46e7-eff8-cc027c5f55fc"
      },
      "execution_count": null,
      "outputs": [
        {
          "output_type": "execute_result",
          "data": {
            "text/plain": [
              "[('papa', 6), ('buy', 6), ('gon', 5), (\"n't\", 4), ('이', 2)]"
            ]
          },
          "metadata": {},
          "execution_count": 43
        }
      ]
    },
    {
      "cell_type": "code",
      "source": [
        "# 높은 빈도수부터 낮은 숫자를 부여\n",
        "i = 0 \n",
        "wf_index = {}\n",
        "for (word, frequency) in wf:\n",
        "  i = i+1\n",
        "  wf_index[word] = i\n",
        "\n",
        "print(wf_index)"
      ],
      "metadata": {
        "colab": {
          "base_uri": "https://localhost:8080/"
        },
        "id": "LBhHoiClrMA2",
        "outputId": "eb746476-a978-48e6-c62f-7d5033a3e2f5"
      },
      "execution_count": null,
      "outputs": [
        {
          "output_type": "stream",
          "name": "stdout",
          "text": [
            "{'papa': 1, 'buy': 2, 'gon': 3, \"n't\": 4, '이': 5}\n"
          ]
        }
      ]
    },
    {
      "cell_type": "markdown",
      "source": [
        "# FreqDist\n",
        "\n",
        "NLTK에서 빈도수 계산도구 - Counter()와 비슷"
      ],
      "metadata": {
        "id": "GBZWipIaruw8"
      }
    },
    {
      "cell_type": "code",
      "source": [
        "from nltk import FreqDist\n",
        "import numpy as np"
      ],
      "metadata": {
        "id": "DaG16g-3r9s5"
      },
      "execution_count": null,
      "outputs": []
    },
    {
      "cell_type": "code",
      "source": [
        "print(final_sentence)"
      ],
      "metadata": {
        "colab": {
          "base_uri": "https://localhost:8080/"
        },
        "id": "AeTGsxi_r_3C",
        "outputId": "40d3cb02-96e3-447e-c3b5-e4003d84dca9"
      },
      "execution_count": null,
      "outputs": [
        {
          "output_type": "stream",
          "name": "stdout",
          "text": [
            "[['점심시간', '?', '나', '비빔밥', '을', '먹고있는데', '이', '게', '양', '이', '은근', '많아', '.', '헛배', '가', '자꾸', '부르는', '것', '같아', '.', 'hush', 'little', 'baby', \"n't\", 'say', 'word', 'papa', 'gonnna', 'buy', 'mockingbird', 'mockingbird', \"n't\", 'sing', 'papa', 'gon', 'buy', 'diamond', 'ring', 'diamond', 'ring', 'turns', 'brass', 'papa', 'gon', 'buy', 'looking', 'glass', 'looking', 'glass', 'gets', 'broken', 'papa', 'gon', 'buy', 'billy', 'goat', 'billy', 'goat', \"n't\", 'pull', 'papa', 'gon', 'buy', 'cart', 'bull', 'cart', 'bull', 'turn', 'papa', 'gon', 'buy', 'dog', 'named', 'rover', 'hush', 'little', 'baby', \"n't\", 'cry', 'daddy', 'loves']]\n"
          ]
        }
      ]
    },
    {
      "cell_type": "code",
      "source": [
        "# 문장 구분 삭제(np.hstach)\n",
        "one_list = FreqDist(np.hstack(final_sentence))\n",
        "one_list"
      ],
      "metadata": {
        "colab": {
          "base_uri": "https://localhost:8080/"
        },
        "id": "HmSTcGxrsb2F",
        "outputId": "a4338723-0ff2-47a1-f15b-8ec5c0808bf7"
      },
      "execution_count": null,
      "outputs": [
        {
          "output_type": "execute_result",
          "data": {
            "text/plain": [
              "FreqDist({'.': 2,\n",
              "          '?': 1,\n",
              "          'baby': 2,\n",
              "          'billy': 2,\n",
              "          'brass': 1,\n",
              "          'broken': 1,\n",
              "          'bull': 2,\n",
              "          'buy': 6,\n",
              "          'cart': 2,\n",
              "          'cry': 1,\n",
              "          'daddy': 1,\n",
              "          'diamond': 2,\n",
              "          'dog': 1,\n",
              "          'gets': 1,\n",
              "          'glass': 2,\n",
              "          'goat': 2,\n",
              "          'gon': 5,\n",
              "          'gonnna': 1,\n",
              "          'hush': 2,\n",
              "          'little': 2,\n",
              "          'looking': 2,\n",
              "          'loves': 1,\n",
              "          'mockingbird': 2,\n",
              "          \"n't\": 4,\n",
              "          'named': 1,\n",
              "          'papa': 6,\n",
              "          'pull': 1,\n",
              "          'ring': 2,\n",
              "          'rover': 1,\n",
              "          'say': 1,\n",
              "          'sing': 1,\n",
              "          'turn': 1,\n",
              "          'turns': 1,\n",
              "          'word': 1,\n",
              "          '가': 1,\n",
              "          '같아': 1,\n",
              "          '것': 1,\n",
              "          '게': 1,\n",
              "          '나': 1,\n",
              "          '많아': 1,\n",
              "          '먹고있는데': 1,\n",
              "          '부르는': 1,\n",
              "          '비빔밥': 1,\n",
              "          '양': 1,\n",
              "          '은근': 1,\n",
              "          '을': 1,\n",
              "          '이': 2,\n",
              "          '자꾸': 1,\n",
              "          '점심시간': 1,\n",
              "          '헛배': 1})"
            ]
          },
          "metadata": {},
          "execution_count": 47
        }
      ]
    },
    {
      "cell_type": "code",
      "source": [
        "print(one_list['bull'])"
      ],
      "metadata": {
        "colab": {
          "base_uri": "https://localhost:8080/"
        },
        "id": "cSbS7Vl1s1Fa",
        "outputId": "6960719b-f546-4a6e-cee2-80c6a8653f6f"
      },
      "execution_count": null,
      "outputs": [
        {
          "output_type": "stream",
          "name": "stdout",
          "text": [
            "2\n"
          ]
        }
      ]
    },
    {
      "cell_type": "code",
      "source": [
        "freSize = 5\n",
        "one_list = one_list.most_common(freSize)\n",
        "one_list"
      ],
      "metadata": {
        "colab": {
          "base_uri": "https://localhost:8080/"
        },
        "id": "qK6-ajZws-25",
        "outputId": "703c8911-e7b9-4b87-fb78-a62ca30d1ece"
      },
      "execution_count": null,
      "outputs": [
        {
          "output_type": "execute_result",
          "data": {
            "text/plain": [
              "[('papa', 6), ('buy', 6), ('gon', 5), (\"n't\", 4), ('이', 2)]"
            ]
          },
          "metadata": {},
          "execution_count": 49
        }
      ]
    },
    {
      "cell_type": "code",
      "source": [
        "word_index = {w[0] : i + 1 for i, w in enumerate(one_list)}\n",
        "print(word_index)"
      ],
      "metadata": {
        "colab": {
          "base_uri": "https://localhost:8080/"
        },
        "id": "6nualCPotPUl",
        "outputId": "e336dca3-2b7c-43b7-f8dd-e1fd4a593742"
      },
      "execution_count": null,
      "outputs": [
        {
          "output_type": "stream",
          "name": "stdout",
          "text": [
            "{'papa': 1, 'buy': 2, 'gon': 3, \"n't\": 4, '이': 5}\n"
          ]
        }
      ]
    },
    {
      "cell_type": "code",
      "source": [
        "# enumerate() 함수\n",
        "#     순서가 존재하는 자료형을 입력 받아서, 순차적으로 부여받은 인덱스도 함께 리턴\n",
        "l = [1,2,3,4,5]\n",
        "for i, v in enumerate(l): # 입력 순서대로 0부터 인덱스 부여\n",
        "  print('index : {}, value : {}'.format(i,v))"
      ],
      "metadata": {
        "colab": {
          "base_uri": "https://localhost:8080/"
        },
        "id": "9Si8ceTPtsZg",
        "outputId": "e5de01f6-5116-406d-cb72-eeadcadbd741"
      },
      "execution_count": null,
      "outputs": [
        {
          "output_type": "stream",
          "name": "stdout",
          "text": [
            "index : 0, value : 1\n",
            "index : 1, value : 2\n",
            "index : 2, value : 3\n",
            "index : 3, value : 4\n",
            "index : 4, value : 5\n"
          ]
        }
      ]
    },
    {
      "cell_type": "markdown",
      "source": [
        "# 캐라스 (Keras)\n",
        "\n",
        "text preprocessing(텍스트 전처리)을 위한 다양한 도구를 제공\n",
        "\n"
      ],
      "metadata": {
        "id": "nDhawNPquzoL"
      }
    },
    {
      "cell_type": "code",
      "source": [
        "from tensorflow.keras.preprocessing.text import Tokenizer"
      ],
      "metadata": {
        "id": "p0DAXqEUvkiB"
      },
      "execution_count": null,
      "outputs": []
    },
    {
      "cell_type": "code",
      "source": [
        "final_sentence = [['점심시간', '?', '나', '비빔밥', '을', '먹고있는데', '이', '게', '양', '이', '은근', '많아', '.', '헛배', '가', '자꾸', '부르는', '것', '같아', '.', 'hush', 'little', 'baby', \"n't\", 'say', 'word', 'papa', 'gonnna', 'buy', 'mockingbird', 'mockingbird', \"n't\", 'sing', 'papa', 'gon', 'buy', 'diamond', 'ring', 'diamond', 'ring', 'turns', 'brass', 'papa', 'gon', 'buy', 'looking', 'glass', 'looking', 'glass', 'gets', 'broken', 'papa', 'gon', 'buy', 'billy', 'goat', 'billy', 'goat', \"n't\", 'pull', 'papa', 'gon', 'buy', 'cart', 'bull', 'cart', 'bull', 'turn', 'papa', 'gon', 'buy', 'dog', 'named', 'rover', 'hush', 'little', 'baby', \"n't\", 'cry', 'daddy', 'loves']]\n",
        "\n",
        "print(final_sentence)"
      ],
      "metadata": {
        "colab": {
          "base_uri": "https://localhost:8080/"
        },
        "id": "--NzKtkhvqa1",
        "outputId": "212fa0e2-eb8a-4b38-95db-5fb6512c6243"
      },
      "execution_count": null,
      "outputs": [
        {
          "output_type": "stream",
          "name": "stdout",
          "text": [
            "[['점심시간', '?', '나', '비빔밥', '을', '먹고있는데', '이', '게', '양', '이', '은근', '많아', '.', '헛배', '가', '자꾸', '부르는', '것', '같아', '.', 'hush', 'little', 'baby', \"n't\", 'say', 'word', 'papa', 'gonnna', 'buy', 'mockingbird', 'mockingbird', \"n't\", 'sing', 'papa', 'gon', 'buy', 'diamond', 'ring', 'diamond', 'ring', 'turns', 'brass', 'papa', 'gon', 'buy', 'looking', 'glass', 'looking', 'glass', 'gets', 'broken', 'papa', 'gon', 'buy', 'billy', 'goat', 'billy', 'goat', \"n't\", 'pull', 'papa', 'gon', 'buy', 'cart', 'bull', 'cart', 'bull', 'turn', 'papa', 'gon', 'buy', 'dog', 'named', 'rover', 'hush', 'little', 'baby', \"n't\", 'cry', 'daddy', 'loves']]\n"
          ]
        }
      ]
    },
    {
      "cell_type": "code",
      "source": [
        ""
      ],
      "metadata": {
        "id": "B5G0Qf_XUCgp"
      },
      "execution_count": null,
      "outputs": []
    },
    {
      "cell_type": "code",
      "source": [
        "tokenizer = Tokenizer()\n",
        "\n",
        "# fit_one_texts(코퍼스) >> 빈도수를 기준으로 단어 집합을 만들어 줌\n",
        "# 높은 빈도수의 단어부터 낮은 숫자를 분여 << 정수 인코딩\n",
        "tokenizer.fit_on_texts(final_sentence)"
      ],
      "metadata": {
        "id": "jNM44sU9vtny"
      },
      "execution_count": null,
      "outputs": []
    },
    {
      "cell_type": "code",
      "source": [
        "# word_index : 각각 어떤 인덱스가 부여되었는지 확인\n",
        "print(tokenizer.word_index)"
      ],
      "metadata": {
        "id": "v9GLy6vLwO7l"
      },
      "execution_count": null,
      "outputs": []
    },
    {
      "cell_type": "code",
      "source": [
        "# word_counts : 단어 빈도수가 궁금하다면 \n",
        "print(tokenizer.word_counts)"
      ],
      "metadata": {
        "id": "Np7Y1oblwgsz"
      },
      "execution_count": null,
      "outputs": []
    },
    {
      "cell_type": "code",
      "source": [
        "# texts_to_sequences(코퍼스) : text를 부여받은 인덱스로 변환하기\n",
        "print(tokenizer.texts_to_sequences(final_sentence))"
      ],
      "metadata": {
        "id": "HsXE2pmgwtsH"
      },
      "execution_count": null,
      "outputs": []
    },
    {
      "cell_type": "code",
      "source": [
        "# 빈도수가 높은 상위 5개만 사용하겠다라고 지정하는 방법\n",
        "# tokenizer = Tokenizer()\n",
        "word_size = 5\n",
        "tokenizer = Tokenizer(num_words = word_size + 1) # num_words는 count를 0부터 세기 때문에 +1을 해야함 \n",
        "tokenizer.fit_on_texts(final_sentence)\n"
      ],
      "metadata": {
        "id": "aBtufIn7xPnY"
      },
      "execution_count": null,
      "outputs": []
    },
    {
      "cell_type": "code",
      "source": [
        "# word_index : 각각 어떤 인덱스가 부여되었는지 확인\n",
        "print(tokenizer.word_index)"
      ],
      "metadata": {
        "id": "9KnofmgSx3p7"
      },
      "execution_count": null,
      "outputs": []
    },
    {
      "cell_type": "code",
      "source": [
        "# word_counts : 단어 빈도수가 궁금하다면 \n",
        "print(tokenizer.word_counts)"
      ],
      "metadata": {
        "id": "-W-MS-tcyAC7"
      },
      "execution_count": null,
      "outputs": []
    },
    {
      "cell_type": "code",
      "source": [
        "# texts_to_sequences(코퍼스) : text를 부여받은 인덱스로 변환하기\n",
        "print(tokenizer.texts_to_sequences(final_sentence))"
      ],
      "metadata": {
        "id": "mYqBcbQyyCmN"
      },
      "execution_count": null,
      "outputs": []
    },
    {
      "cell_type": "code",
      "source": [
        "tokenizer = Tokenizer()\n",
        "tokenizer.fit_on_texts(final_sentence)\n"
      ],
      "metadata": {
        "id": "fQXrSzHrTs1t"
      },
      "execution_count": null,
      "outputs": []
    },
    {
      "cell_type": "code",
      "source": [
        "freSize = 5\n",
        "wf = [w for w, i in tokenizer.word_index.items() if i >= freSize + 1]\n",
        "for w in wf:\n",
        "  del tokenizer.word_index[w]\n",
        "  del tokenizer.word_counts[w]\n",
        "\n",
        "print(tokenizer.word_index)\n",
        "print(tokenizer.word_counts)\n",
        "print(tokenizer.texts_to_sequences(final_sentence))"
      ],
      "metadata": {
        "colab": {
          "base_uri": "https://localhost:8080/"
        },
        "id": "j0cudZ0dUOql",
        "outputId": "459062a9-3b12-42eb-f8bd-4c8a6540f595"
      },
      "execution_count": null,
      "outputs": [
        {
          "output_type": "stream",
          "name": "stdout",
          "text": [
            "{'papa': 1, 'buy': 2, 'gon': 3, \"n't\": 4, '이': 5}\n",
            "OrderedDict([('이', 2), (\"n't\", 4), ('papa', 6), ('buy', 6), ('gon', 5)])\n",
            "[[5, 5, 4, 1, 2, 4, 1, 3, 2, 1, 3, 2, 1, 3, 2, 4, 1, 3, 2, 1, 3, 2, 4]]\n"
          ]
        }
      ]
    },
    {
      "cell_type": "code",
      "source": [
        "# keras의 tokenizer에 (기본 설정이) 단어 집합에 없는 단어의 경우\n",
        "# OOV(Out-Of-Vocabulary)에 대해서는 단어 자체를 제거하는 특성\n",
        "\n",
        "# OOV를 따로 설정해서 가지고 있고 싶다면 'oov_token'이라는 것을 사용\n",
        "freSize = 5\n",
        "tokenizer = Tokenizer(num_words=freSize+2, oov_token='OOV')\n",
        "tokenizer.fit_on_texts(final_sentence)"
      ],
      "metadata": {
        "id": "ee73UfQ4VNfx"
      },
      "execution_count": null,
      "outputs": []
    },
    {
      "cell_type": "code",
      "source": [
        "tokenizer.word_index['OOV']"
      ],
      "metadata": {
        "colab": {
          "base_uri": "https://localhost:8080/"
        },
        "id": "TLAV6N2QWGyx",
        "outputId": "832e481b-bccf-42f5-e76d-cb1c66f70a25"
      },
      "execution_count": null,
      "outputs": [
        {
          "output_type": "execute_result",
          "data": {
            "text/plain": [
              "1"
            ]
          },
          "metadata": {},
          "execution_count": 13
        }
      ]
    },
    {
      "cell_type": "code",
      "source": [
        "print(tokenizer.texts_to_sequences(final_sentence))\n",
        "# oov_token을 사용하면 OOV의 인덱스가 1로 설정\n",
        "# 3 나머지 빈도수 상위 5개 (단위집합) 자동적으로 인덱스가 + 1씩 추가됨"
      ],
      "metadata": {
        "colab": {
          "base_uri": "https://localhost:8080/"
        },
        "id": "zf06iEFFWLSx",
        "outputId": "a6c23dae-c359-498e-b8fc-3c101835b3fa"
      },
      "execution_count": null,
      "outputs": [
        {
          "output_type": "stream",
          "name": "stdout",
          "text": [
            "[[1, 1, 1, 1, 1, 1, 6, 1, 1, 6, 1, 1, 1, 1, 1, 1, 1, 1, 1, 1, 1, 1, 1, 5, 1, 1, 2, 1, 3, 1, 1, 5, 1, 2, 4, 3, 1, 1, 1, 1, 1, 1, 2, 4, 3, 1, 1, 1, 1, 1, 1, 2, 4, 3, 1, 1, 1, 1, 5, 1, 2, 4, 3, 1, 1, 1, 1, 1, 2, 4, 3, 1, 1, 1, 1, 1, 1, 5, 1, 1, 1]]\n"
          ]
        }
      ]
    },
    {
      "cell_type": "markdown",
      "source": [
        "# 한국어 정수 인덱스"
      ],
      "metadata": {
        "id": "BBqQoKjeZJJk"
      }
    },
    {
      "cell_type": "code",
      "source": [
        "text = \"\"\"그냥 청와대로 갔으면 아무 일도 벌어지지 않았으리라. “청와대를 국민께 돌려드리겠다”라며 윤석열 대통령 당선자가 청와대 입주를 거부하면서 국론은 분열됐고, 대통령직인수위원회는 2개월여를 허비했다.윤 당선자는 당선 직후 기자회견을 열고 대통령 집무실은 서울 용산 국방부 청사를, 관저는 한남동 육군참모총장 공관을 이용하겠다고 말했다. 급작스러운 발표에 국가안보의 중심인 국방부는 쫓겨나듯 ‘이사’해야 했고, 안보 위기상황 발생 시 긴급하게 사용될 국방부 영내 헬기장은 대통령 전용 헬기를 위해 자리를 양보해야 했다. 용산의 군인아파트도 대통령실 직원들을 위해 일부를 비워주는 상황이 벌어졌다.\"\"\"\n",
        "\n",
        "text"
      ],
      "metadata": {
        "colab": {
          "base_uri": "https://localhost:8080/",
          "height": 72
        },
        "id": "rivHz48dZPt7",
        "outputId": "47cd47f1-3fb2-442a-9772-ddaaeb433397"
      },
      "execution_count": null,
      "outputs": [
        {
          "output_type": "execute_result",
          "data": {
            "text/plain": [
              "'그냥 청와대로 갔으면 아무 일도 벌어지지 않았으리라. “청와대를 국민께 돌려드리겠다”라며 윤석열 대통령 당선자가 청와대 입주를 거부하면서 국론은 분열됐고, 대통령직인수위원회는 2개월여를 허비했다.윤 당선자는 당선 직후 기자회견을 열고 대통령 집무실은 서울 용산 국방부 청사를, 관저는 한남동 육군참모총장 공관을 이용하겠다고 말했다. 급작스러운 발표에 국가안보의 중심인 국방부는 쫓겨나듯 ‘이사’해야 했고, 안보 위기상황 발생 시 긴급하게 사용될 국방부 영내 헬기장은 대통령 전용 헬기를 위해 자리를 양보해야 했다. 용산의 군인아파트도 대통령실 직원들을 위해 일부를 비워주는 상황이 벌어졌다.'"
            ],
            "application/vnd.google.colaboratory.intrinsic+json": {
              "type": "string"
            }
          },
          "metadata": {},
          "execution_count": 71
        }
      ]
    },
    {
      "cell_type": "code",
      "source": [
        "stop_word=\"아 휴 아이구 아이쿠 아이고 어 나 우리 저희 따라 의해 을 를 에 의 가 으로 로 에게 뿐이다 의거하여 근거하여 입각하여 기준으로 예하면 예를 들면 예를 들자면 저 소인 소생 저희 지말고 하지마 하지마라 다른 물론 또한 그리고 비길수 없다 해서는 안된다 뿐만 아니라 만이 아니다 만은 아니다 막론하고 관계없이 그치지 않다 그러나 그런데 하지만 든간에 논하지 않다 따지지 않다 설사 비록 더라도 아니면 만 못하다 하는 편이 낫다 불문하고 향하여 향해서 향하다 쪽으로 틈타 이용하여 타다 오르다 제외하고 이 외에 이 밖에 하여야 비로소 한다면 몰라도 외에도 이곳 여기 부터 기점으로 따라서 할 생각이다 하려고하다 이리하여 그리하여 그렇게 함으로써 하지만 일때 할때 앞에서 중에서 보는데서 으로써 로써 까지 해야한다 일것이다 반드시 할줄알다 할수있다 할수있어 임에 틀림없다 한다면 등 등등 제 겨우 단지 다만 할뿐 딩동 댕그 대해서 대하여 대하면 훨씬 얼마나 얼마만큼 얼마큼 남짓 여 얼마간 약간 다소 좀 조금 다수 몇 얼마 지만 하물며 또한 그러나 그렇지만 하지만 이외에도 대해 말하자면 뿐이다 다음에 반대로 반대로 말하자면 이와 반대로 바꾸어서 말하면 바꾸어서 한다면 만약 그렇지않으면 까악 툭 딱 삐걱거리다 보드득 비걱거리다 꽈당 응당 해야한다 에 가서 각 각각 여러분 각종 각자 제각기 하도록하다 와 과 그러므로 그래서 고로 한 까닭에 하기 때문에 거니와 이지만 대하여 관하여 관한 과연 실로 아니나다를가 생각한대로 진짜로 한적이있다 하곤하였다 하 하하 허허 아하 거바 와 오 왜 어째서 무엇때문에 어찌 하겠는가 무슨 어디 어느곳 더군다나 하물며 더욱이는 어느때 언제 야 이봐 어이 여보시오 흐흐 흥 휴 헉헉 헐떡헐떡 영차 여차 어기여차 끙끙 아야 앗 아야 콸콸 졸졸 좍좍 뚝뚝 주룩주룩 솨 우르르 그래도 또 그리고 바꾸어말하면 바꾸어말하자면 혹은 혹시 답다 및 그에 따르는 때가 되어 즉 지든지 설령 가령 하더라도 할지라도 일지라도 지든지 몇 거의 하마터면 인젠 이젠 된바에야 된이상 만큼 어찌됏든 그위에 게다가 점에서 보아 비추어 보아 고려하면 하게될것이다 일것이다 비교적 좀 보다더 비하면 시키다 하게하다 할만하다 의해서 연이서 이어서 잇따라 뒤따라 뒤이어 결국 의지하여 기대여 통하여 자마자 더욱더 불구하고 얼마든지 마음대로 주저하지 않고 곧 즉시 바로 당장 하자마자 밖에 안된다 하면된다 그래 그렇지 요컨대 다시 말하자면 바꿔 말하면 즉 구체적으로 말하자면 시작하여 시초에 이상 허 헉 허걱 바와같이 해도좋다 해도된다 게다가 더구나 하물며 와르르 팍 퍽 펄렁 동안 이래 하고있었다 이었다 에서 로부터 까지 예하면 했어요 해요 함께 같이 더불어 마저 마저도 양자 모두 습니다 가까스로 하려고하다 즈음하여 다른 다른 방면으로 해봐요 습니까 했어요 말할것도 없고 무릎쓰고 개의치않고 하는것만 못하다 하는것이 낫다 매 매번 들 모 어느것 어느 로써 갖고말하자면 어디 어느쪽 어느것 어느해 어느 년도 라 해도 언젠가 어떤것 어느것 저기 저쪽 저것 그때 그럼 그러면 요만한걸 그래 그때 저것만큼 그저 이르기까지 할 줄 안다 할 힘이 있다 너 너희 당신 어찌 설마 차라리 할지언정 할지라도 할망정 할지언정 구토하다 게우다 토하다 메쓰겁다 옆사람 퉤 쳇 의거하여 근거하여 의해 따라 힘입어 그 다음 버금 두번째로 기타 첫번째로 나머지는 그중에서 견지에서 형식으로 쓰여 입장에서 위해서 단지 의해되다 하도록시키다 뿐만아니라 반대로 전후 전자 앞의것 잠시 잠깐 하면서 그렇지만 다음에 그러한즉 그런즉 남들 아무거나 어찌하든지 같다 비슷하다 예컨대 이럴정도로 어떻게 만약 만일 위에서 서술한바와같이 인 듯하다 하지 않는다면 만약에 무엇 무슨 어느 어떤 아래윗 조차 한데 그럼에도 불구하고 여전히 심지어 까지도 조차도 하지 않도록 않기 위하여 때 시각 무렵 시간 동안 어때 어떠한 하여금 네 예 우선 누구 누가 알겠는가 아무도 줄은모른다 줄은 몰랏다 하는 김에 겸사겸사 하는바 그런 까닭에 한 이유는 그러니 그러니까 때문에 그 너희 그들 너희들 타인 것 것들 너 위하여 공동으로 동시에 하기 위하여 어찌하여 무엇때문에 붕붕 윙윙 나 우리 엉엉 휘익 윙윙 오호 아하 어쨋든 만 못하다 하기보다는 차라리 하는 편이 낫다 흐흐 놀라다 상대적으로 말하자면 마치 아니라면 쉿 그렇지 않으면 그렇지 않다면 안 그러면 아니었다면 하든지 아니면 이라면 좋아 알았어 하는것도 그만이다 어쩔수 없다 하나 일 일반적으로 일단 한켠으로는 오자마자 이렇게되면 이와같다면 전부 한마디 한항목 근거로 하기에 아울러 하지 않도록 않기 위해서 이르기까지 이 되다 로 인하여 까닭으로 이유만으로 이로 인하여 그래서 이 때문에 그러므로 그런 까닭에 알 수 있다 결론을 낼 수 있다 으로 인하여 있다 어떤것 관계가 있다 관련이 있다 연관되다 어떤것들 에 대해 이리하여 그리하여 여부 하기보다는 하느니 하면 할수록 운운 이러이러하다 하구나 하도다 다시말하면 다음으로 에 있다 에 달려 있다 우리 우리들 오히려 하기는한데 어떻게 어떻해 어찌됏어 어때 어째서 본대로 자 이 이쪽 여기 이것 이번 이렇게말하자면 이런 이러한 이와 같은 요만큼 요만한 것 얼마 안 되는 것 이만큼 이 정도의 이렇게 많은 것 이와 같다 이때 이렇구나 것과 같이 끼익 삐걱 따위 와 같은 사람들 부류의 사람들 왜냐하면 중의하나 오직 오로지 에 한하다 하기만 하면 도착하다 까지 미치다 도달하다 정도에 이르다 할 지경이다 결과에 이르다 관해서는 여러분 하고 있다 한 후 혼자 자기 자기집 자신 우에 종합한것과같이 총적으로 보면 총적으로 말하면 총적으로 대로 하다 으로서 참 그만이다 할 따름이다 쿵 탕탕 쾅쾅 둥둥 봐 봐라 아이야 아니 와아 응 아이 참나 년 월 일 령 영 일 이 삼 사 오 육 륙 칠 팔 구 이천육 이천칠 이천팔 이천구 하나 둘 셋 넷 다섯 여섯 일곱 여덟 아홉 령 영 이 있 하 것 들 그 되 수 이 보 않 없 나 사람 주 아니 등 같 우리 때 년 가 한 지 대하 오 말 일 그렇 위하 때문 그것 두 말하 알 그러나 받 못하 일 그런 또 문제 더 사회 많 그리고 좋 크 따르 중 나오 가지 씨 시키 만들 지금 생각하 그러 속 하나 집 살 모르 적 월 데 자신 안 어떤 내 내 경우 명 생각 시간 그녀 다시 이런 앞 보이 번 나 다른 어떻 여자 개 전 들 사실 이렇 점 싶 말 정도 좀 원 잘 통하 놓\""
      ],
      "metadata": {
        "id": "A91yXFiraLzp"
      },
      "execution_count": null,
      "outputs": []
    },
    {
      "cell_type": "code",
      "source": [
        "# 한국어 -> Konlpy\n",
        "!pip install konlpy\n"
      ],
      "metadata": {
        "colab": {
          "base_uri": "https://localhost:8080/"
        },
        "id": "Itbx80hiawsm",
        "outputId": "e2cac817-af43-49aa-a281-12f8053a55c7"
      },
      "execution_count": null,
      "outputs": [
        {
          "output_type": "stream",
          "name": "stdout",
          "text": [
            "Requirement already satisfied: konlpy in /usr/local/lib/python3.7/dist-packages (0.6.0)\n",
            "Requirement already satisfied: lxml>=4.1.0 in /usr/local/lib/python3.7/dist-packages (from konlpy) (4.2.6)\n",
            "Requirement already satisfied: numpy>=1.6 in /usr/local/lib/python3.7/dist-packages (from konlpy) (1.21.6)\n",
            "Requirement already satisfied: JPype1>=0.7.0 in /usr/local/lib/python3.7/dist-packages (from konlpy) (1.3.0)\n",
            "Requirement already satisfied: typing-extensions in /usr/local/lib/python3.7/dist-packages (from JPype1>=0.7.0->konlpy) (4.2.0)\n"
          ]
        }
      ]
    },
    {
      "cell_type": "code",
      "source": [
        "# 형태소 분석용\n",
        "from konlpy.tag import Okt"
      ],
      "metadata": {
        "id": "O86EERjPbDn1"
      },
      "execution_count": null,
      "outputs": []
    },
    {
      "cell_type": "code",
      "source": [
        "# 형태소 분석\n",
        "okt = Okt()\n",
        "text = okt.morphs(text)\n",
        "print(text)"
      ],
      "metadata": {
        "colab": {
          "base_uri": "https://localhost:8080/"
        },
        "id": "hPlGqLDAbHX9",
        "outputId": "e37edbe2-57f0-4523-d117-5e0b71040254"
      },
      "execution_count": null,
      "outputs": [
        {
          "output_type": "stream",
          "name": "stdout",
          "text": [
            "['그냥', '청와대로', '갔으면', '아무', '일도', '벌어지지', '않았으리라', '.', '“', '청와대', '를', '국민', '께', '돌려', '드리겠다', '”', '라며', '윤석열', '대통령', '당선자', '가', '청와대', '입주를', '거부', '하면서', '국론', '은', '분열', '됐고', ',', '대통령직', '인', '수', '위원회', '는', '2', '개월', '여', '를', '허비했다', '.', '윤', '당선자', '는', '당선', '직후', '기자회견', '을', '열고', '대통령', '집무실', '은', '서울', '용산', '국방부', '청사', '를', ',', '관저', '는', '한남동', '육군', '참모총장', '공관', '을', '이용', '하겠다고', '말', '했다', '.', '급작', '스러운', '발표', '에', '국가', '안보', '의', '중심', '인', '국방부', '는', '쫓겨나듯', '‘', '이사', '’', '해야', '했고', ',', '안보', '위기', '상황', '발생', '시', '긴급하게', '사용', '될', '국방부', '영내', '헬기장', '은', '대통령', '전용', '헬기', '를', '위해', '자리', '를', '양보', '해야', '했다', '.', '용산', '의', '군인아파트', '도', '대통령실', '직원', '들', '을', '위해', '일부', '를', '비워주는', '상황', '이', '벌어졌다', '.']\n"
          ]
        }
      ]
    },
    {
      "cell_type": "code",
      "source": [
        "# 불용어에 포함된 단어를 제외 + 단어의 글자수가 1초과하는 단어만 포함 \n",
        "# 그 단어의 빈도수 확인\n",
        "# ex) {'청와대로':1,'일도':2,...}\n",
        "\n",
        "wf = {}\n",
        "words=[]\n",
        "result = []\n",
        "\n",
        "for w in text:\n",
        "  if w not in stop_word:  #불용어에 포함된 단어 제거\n",
        "    if len(w) > 1:        #단어 글자수가 1초과인것만 (1글자짜리 제거)\n",
        "      result.append(w)\n",
        "      if w not in wf:\n",
        "        wf[w] = 0\n",
        "      wf[w] += 1\n",
        "\n",
        "words.append(result)\n",
        "print(words)\n",
        "print(wf)"
      ],
      "metadata": {
        "colab": {
          "base_uri": "https://localhost:8080/"
        },
        "id": "N42Hfz_cfBhz",
        "outputId": "4c8a3aca-9b0c-4973-ede7-7c55fdec517a"
      },
      "execution_count": null,
      "outputs": [
        {
          "output_type": "stream",
          "name": "stdout",
          "text": [
            "[['그냥', '청와대로', '갔으면', '일도', '벌어지지', '않았으리라', '청와대', '국민', '돌려', '드리겠다', '라며', '윤석열', '대통령', '당선자', '청와대', '입주를', '거부', '국론', '분열', '됐고', '대통령직', '위원회', '개월', '허비했다', '당선자', '당선', '직후', '기자회견', '열고', '대통령', '집무실', '서울', '용산', '국방부', '청사', '관저', '한남동', '육군', '참모총장', '공관', '하겠다고', '했다', '급작', '스러운', '발표', '국가', '안보', '중심', '국방부', '쫓겨나듯', '이사', '했고', '안보', '위기', '상황', '발생', '긴급하게', '사용', '국방부', '영내', '헬기장', '대통령', '전용', '헬기', '자리', '양보', '했다', '용산', '군인아파트', '대통령실', '직원', '일부', '비워주는', '상황', '벌어졌다']]\n",
            "{'그냥': 1, '청와대로': 1, '갔으면': 1, '일도': 1, '벌어지지': 1, '않았으리라': 1, '청와대': 2, '국민': 1, '돌려': 1, '드리겠다': 1, '라며': 1, '윤석열': 1, '대통령': 3, '당선자': 2, '입주를': 1, '거부': 1, '국론': 1, '분열': 1, '됐고': 1, '대통령직': 1, '위원회': 1, '개월': 1, '허비했다': 1, '당선': 1, '직후': 1, '기자회견': 1, '열고': 1, '집무실': 1, '서울': 1, '용산': 2, '국방부': 3, '청사': 1, '관저': 1, '한남동': 1, '육군': 1, '참모총장': 1, '공관': 1, '하겠다고': 1, '했다': 2, '급작': 1, '스러운': 1, '발표': 1, '국가': 1, '안보': 2, '중심': 1, '쫓겨나듯': 1, '이사': 1, '했고': 1, '위기': 1, '상황': 2, '발생': 1, '긴급하게': 1, '사용': 1, '영내': 1, '헬기장': 1, '전용': 1, '헬기': 1, '자리': 1, '양보': 1, '군인아파트': 1, '대통령실': 1, '직원': 1, '일부': 1, '비워주는': 1, '벌어졌다': 1}\n"
          ]
        }
      ]
    },
    {
      "cell_type": "code",
      "source": [
        "# 빈도수 기준으로 정렬 (내림차순)\n",
        "wfSort = sorted(wf.items(), key=lambda x: x[1], reverse=True)\n",
        "print(wfSort)"
      ],
      "metadata": {
        "colab": {
          "base_uri": "https://localhost:8080/"
        },
        "id": "xvTNI3_9iZP8",
        "outputId": "0b5d32a5-5056-47c7-fe10-35bd518b2eb4"
      },
      "execution_count": null,
      "outputs": [
        {
          "output_type": "stream",
          "name": "stdout",
          "text": [
            "[('대통령', 3), ('국방부', 3), ('청와대', 2), ('당선자', 2), ('용산', 2), ('했다', 2), ('안보', 2), ('상황', 2), ('그냥', 1), ('청와대로', 1), ('갔으면', 1), ('일도', 1), ('벌어지지', 1), ('않았으리라', 1), ('국민', 1), ('돌려', 1), ('드리겠다', 1), ('라며', 1), ('윤석열', 1), ('입주를', 1), ('거부', 1), ('국론', 1), ('분열', 1), ('됐고', 1), ('대통령직', 1), ('위원회', 1), ('개월', 1), ('허비했다', 1), ('당선', 1), ('직후', 1), ('기자회견', 1), ('열고', 1), ('집무실', 1), ('서울', 1), ('청사', 1), ('관저', 1), ('한남동', 1), ('육군', 1), ('참모총장', 1), ('공관', 1), ('하겠다고', 1), ('급작', 1), ('스러운', 1), ('발표', 1), ('국가', 1), ('중심', 1), ('쫓겨나듯', 1), ('이사', 1), ('했고', 1), ('위기', 1), ('발생', 1), ('긴급하게', 1), ('사용', 1), ('영내', 1), ('헬기장', 1), ('전용', 1), ('헬기', 1), ('자리', 1), ('양보', 1), ('군인아파트', 1), ('대통령실', 1), ('직원', 1), ('일부', 1), ('비워주는', 1), ('벌어졌다', 1)]\n"
          ]
        }
      ]
    },
    {
      "cell_type": "code",
      "source": [
        "# 빈도수가 높을수록 낮은 숫자 부여 \n",
        "# ex) {'대통령':1,'국방부':2,'청와대':3,'당선자':4,...}\n",
        "wfIndex = {}\n",
        "i=0\n",
        "for (w, f) in wfSort: #단어와 빈도수 뽑기\n",
        "  i+=1\n",
        "  wfIndex[w] = i\n",
        "print(wfIndex)"
      ],
      "metadata": {
        "colab": {
          "base_uri": "https://localhost:8080/"
        },
        "id": "rkyAykCdicG0",
        "outputId": "1504a9d7-c670-45df-a1d6-b68271d8b5de"
      },
      "execution_count": null,
      "outputs": [
        {
          "output_type": "stream",
          "name": "stdout",
          "text": [
            "{'대통령': 1, '국방부': 2, '청와대': 3, '당선자': 4, '용산': 5, '했다': 6, '안보': 7, '상황': 8, '그냥': 9, '청와대로': 10, '갔으면': 11, '일도': 12, '벌어지지': 13, '않았으리라': 14, '국민': 15, '돌려': 16, '드리겠다': 17, '라며': 18, '윤석열': 19, '입주를': 20, '거부': 21, '국론': 22, '분열': 23, '됐고': 24, '대통령직': 25, '위원회': 26, '개월': 27, '허비했다': 28, '당선': 29, '직후': 30, '기자회견': 31, '열고': 32, '집무실': 33, '서울': 34, '청사': 35, '관저': 36, '한남동': 37, '육군': 38, '참모총장': 39, '공관': 40, '하겠다고': 41, '급작': 42, '스러운': 43, '발표': 44, '국가': 45, '중심': 46, '쫓겨나듯': 47, '이사': 48, '했고': 49, '위기': 50, '발생': 51, '긴급하게': 52, '사용': 53, '영내': 54, '헬기장': 55, '전용': 56, '헬기': 57, '자리': 58, '양보': 59, '군인아파트': 60, '대통령실': 61, '직원': 62, '일부': 63, '비워주는': 64, '벌어졌다': 65}\n"
          ]
        }
      ]
    }
  ]
}