{
  "nbformat": 4,
  "nbformat_minor": 0,
  "metadata": {
    "colab": {
      "name": "May12_3_DecisionTree.ipynb",
      "provenance": [],
      "authorship_tag": "ABX9TyMtPiWEZKD3D/5pEvCF9pGX"
    },
    "kernelspec": {
      "name": "python3",
      "display_name": "Python 3"
    },
    "language_info": {
      "name": "python"
    }
  },
  "cells": [
    {
      "cell_type": "markdown",
      "source": [
        "# Decision Tree (의사결정나무)\n",
        "\n",
        "\n",
        "머신러닝 - 지도학습 - 분류\n",
        "\n",
        "입력값에 대한 예측값을 나무 형태로 나타내주는 모델\n",
        "\n",
        "데이터의 분포를 나눠줌\n",
        "\n",
        "예측모델 : 연속적인 질문을 해 나가면서 예측 결과를 제공\n",
        "* 특징\n",
        "1. 알고리즘 해석이 쉬운 편\n",
        "2. 수치형, 범주(카테고리)형 데이터도 적용 가능\n",
        "3. 데이터 전처리 양이 적은 편"
      ],
      "metadata": {
        "id": "PSNQH3kEvjG_"
      }
    },
    {
      "cell_type": "code",
      "source": [
        "from sklearn import datasets\n",
        "\n",
        "iris = datasets.load_iris() # 붓꽃 데이터 가져오기\n",
        "print(iris.feature_names) # feaure (data,열,columns) 이름\n",
        "print(iris.target_names) # target(label) 이름"
      ],
      "metadata": {
        "colab": {
          "base_uri": "https://localhost:8080/"
        },
        "id": "a8EMLl2yxS70",
        "outputId": "57c9a254-94dc-499d-9217-8d52fab90587"
      },
      "execution_count": null,
      "outputs": [
        {
          "output_type": "stream",
          "name": "stdout",
          "text": [
            "['sepal length (cm)', 'sepal width (cm)', 'petal length (cm)', 'petal width (cm)']\n",
            "['setosa' 'versicolor' 'virginica']\n"
          ]
        }
      ]
    },
    {
      "cell_type": "code",
      "source": [
        "# scikit_learn이 제공하는 의사결정나무 모델 : DecisionTreeClassifier\n",
        "from sklearn.tree import DecisionTreeClassifier\n",
        "from sklearn import tree"
      ],
      "metadata": {
        "id": "-N006jFryECB"
      },
      "execution_count": null,
      "outputs": []
    },
    {
      "cell_type": "code",
      "source": [
        "feature = iris.data     # feature 가져오기\n",
        "labels = iris.target    # label 가져오기 (iris 품종 데이터)\n",
        "\n",
        "p_feature = feature[:,2:] # 붓꽃 꽃잎의 길이와 넓이\n",
        "\n",
        "iris_tree = DecisionTreeClassifier(criterion='entropy', max_depth=3)\n",
        "# DesisionTreeClassifier : 의사결정나무 모델\n",
        "# criterion='entropy' : 엔트로피를 불순도 계산방법으로 적용\n",
        "#     엔트로피 : 혼잡도, 학습 시작 단계에서는 분류할 것들이 많아서 엔트로피가 높은 상태\n",
        "#               하나씩 정리해가면서 엔트로피를 줄여 최종적으로 0에 가깝게 만드는 방식\n",
        "# criterion='gini' (default) : 분류를 잘못 할 확률을 최소화 하기 위한 목적\n",
        "#               > 분할이 가능한 모든방법을 지니계수로 확인 > 가장 낮은 것을 선택하는 방식\n",
        "# max_depth = 3 : 깊이 \n",
        "\n",
        "# 어떤 기준으로 분류를 하는가에 따라서 tree 모양도 변하고, 깊이도 달라짐\n",
        "\n",
        "# 독립변수 : 원인   / 시험지\n",
        "# 종속변수 : 결과값  / 답안지\n",
        "# 종속변수는 독립변수에 의해 영향을 받는다\n",
        "\n",
        "iris_tree.fit(p_feature, labels) # .fit(독립변수, 종속변수)\n",
        "\n",
        "\n"
      ],
      "metadata": {
        "colab": {
          "base_uri": "https://localhost:8080/"
        },
        "id": "ohuxGro63Mem",
        "outputId": "39734ae3-06d3-440b-fc8b-1a4d53b9db4c"
      },
      "execution_count": null,
      "outputs": [
        {
          "output_type": "execute_result",
          "data": {
            "text/plain": [
              "DecisionTreeClassifier(criterion='entropy', max_depth=3)"
            ]
          },
          "metadata": {},
          "execution_count": 4
        }
      ]
    },
    {
      "cell_type": "code",
      "source": [
        "# dot 파일 만들기\n",
        "with open('iris.dot',mode='w') as f:\n",
        "  tree.export_graphviz(iris_tree, out_file=f)\n",
        "# graphviz : 코드의 구조를 다이어그램의 형태의 그림으로 표현해주는 도구\n",
        "# out_file : 파일 또는 문자열로 반환"
      ],
      "metadata": {
        "id": "fp42dDvE8CPk"
      },
      "execution_count": null,
      "outputs": []
    },
    {
      "cell_type": "markdown",
      "source": [
        "dot -Tpng [dot.파일명].dot -o [만들png파일명].png\n",
        "\n",
        "dot [파일명].dot -Tpng -o [만들png].png"
      ],
      "metadata": {
        "id": "-TU0yHWL9sEB"
      }
    },
    {
      "cell_type": "code",
      "source": [
        "from sklearn.datasets import load_iris\n",
        "from sklearn.tree import DecisionTreeClassifier\n",
        "from sklearn.tree import export_graphviz\n",
        "from subprocess import check_call"
      ],
      "metadata": {
        "id": "3BUnV58_-B78"
      },
      "execution_count": null,
      "outputs": []
    },
    {
      "cell_type": "code",
      "source": [
        "iris = load_iris() # iris dataset 가져오기\n",
        "x = iris.data[:,2:] # 꽃잎의 길이, 넓이 (iris의 feature에 있는 (행 전체, 두전째 열부터 ~))\n",
        "y = iris.target # iris의 label\n",
        "\n",
        "tree = DecisionTreeClassifier(max_depth=4)\n",
        "tree.fit(x,y)\n",
        "\n",
        "export_graphviz(\n",
        "    tree,                  # 학습시킨 모델 (모형)\n",
        "    out_file='./iris.dot', # dot 파일 저장 경로 설정\n",
        "    feature_names = iris.feature_names[2:], # 사용한 열(변수, columns, feature) 이름\n",
        "    class_names = iris.target_names,         # 예측할 target 클래스 이름\n",
        "    filled = True,         # 사각형 안의 색깔 채우기 \n",
        "    rounded = True         # 사각형 모서리 둥글게\n",
        ")\n",
        "\n",
        "# png로 바꿔서 시각화\n",
        "# dot -Tpng [dot.파일명].dot -o [만들png파일명].png\n",
        "# dot -Tpng iris.dot -o iris.png\n",
        "check_call(\n",
        "    ['dot','-Tpng','iris.dot','-o','iris.png']\n",
        ")\n"
      ],
      "metadata": {
        "colab": {
          "base_uri": "https://localhost:8080/"
        },
        "id": "AnnQxj_C-pKJ",
        "outputId": "f669a522-8c85-44bb-be0f-0c755e146b37"
      },
      "execution_count": null,
      "outputs": [
        {
          "output_type": "execute_result",
          "data": {
            "text/plain": [
              "0"
            ]
          },
          "metadata": {},
          "execution_count": 19
        }
      ]
    }
  ]
}