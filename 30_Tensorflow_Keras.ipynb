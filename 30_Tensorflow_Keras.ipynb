{
  "nbformat": 4,
  "nbformat_minor": 0,
  "metadata": {
    "colab": {
      "name": "\bMay17_2_Tensorflow_Keras.ipynb",
      "provenance": [],
      "authorship_tag": "ABX9TyOrlvrf4zvYaCDAo9gurgm9"
    },
    "kernelspec": {
      "name": "python3",
      "display_name": "Python 3"
    },
    "language_info": {
      "name": "python"
    }
  },
  "cells": [
    {
      "cell_type": "markdown",
      "source": [
        "# Tensorflow와 Keras\n",
        "\n",
        "Tensorflow - 구글에서 만든 Framework\n",
        "\n",
        "# Keras\n",
        "\n",
        "고성능 딥러닝 라이브러리\n",
        "\n",
        "구글에서 만든 프레임워크인 Tensorflow 안에서 Keras가 동작\n",
        "\n",
        "# Tensorflow가 있는데 Keras를 따로 쓰는 이유\n",
        "\n",
        "Tensorflow는 입문자에게는 고난이도\n",
        "\n",
        "반면, Keras는 사용자(개발자) 친화적으로 만들어져 있어서 상대적으로 사용이 간편\n",
        "\n",
        "단순한 신경망 구성 등 기존에 있는 것만으로 개발 가능하다면 Keras로 충분\n",
        "\n",
        "디테일한 조종 등에는 한계가 있어서 Tensorflow로 함께 사용하면 조금 더 좋은 개발 가능"
      ],
      "metadata": {
        "id": "i_BgMuPXnPpc"
      }
    },
    {
      "cell_type": "code",
      "source": [
        "import tensorflow as tf"
      ],
      "metadata": {
        "id": "VLVdMHA8okg7"
      },
      "execution_count": null,
      "outputs": []
    },
    {
      "cell_type": "code",
      "source": [
        "# mnist 데이터 확보\n",
        "mnist = tf.keras.datasets.mnist # v2 방식\n",
        "\n",
        "# v1 (이전방법)\n",
        "# from tensorflow.examples.tutorials.mnist import input_data\n",
        "# mnist = input_data.read_data_sets('./mnist/data', one_hot=True)\n",
        "\n"
      ],
      "metadata": {
        "id": "czM0BS9Oomyd"
      },
      "execution_count": null,
      "outputs": []
    },
    {
      "cell_type": "code",
      "source": [
        "# 케라스 이용해서 train_data, test_data 나누기\n",
        "train_data, test_data = tf.keras.datasets.mnist.load_data()\n",
        "# tr.keras.datasets.mnist.load_data()\n",
        "#     학습용 데이터, 테스트용 데이터를 각각 (feature, label) 형태로 반환\n",
        "\n",
        "(img_train, label_train) = train_data\n",
        "(img_test, label_test) = test_data\n",
        "\n",
        "# 데이터 확인\n",
        "print(train_data) # 학습용 데이터\n",
        "print()\n",
        "print(test_data) # 테스트용 데이터"
      ],
      "metadata": {
        "colab": {
          "base_uri": "https://localhost:8080/"
        },
        "id": "gawACtPxpbRV",
        "outputId": "f5d5aef6-e69a-4d9e-da40-7aac3a1dd8ca"
      },
      "execution_count": null,
      "outputs": [
        {
          "output_type": "stream",
          "name": "stdout",
          "text": [
            "(array([[[0, 0, 0, ..., 0, 0, 0],\n",
            "        [0, 0, 0, ..., 0, 0, 0],\n",
            "        [0, 0, 0, ..., 0, 0, 0],\n",
            "        ...,\n",
            "        [0, 0, 0, ..., 0, 0, 0],\n",
            "        [0, 0, 0, ..., 0, 0, 0],\n",
            "        [0, 0, 0, ..., 0, 0, 0]],\n",
            "\n",
            "       [[0, 0, 0, ..., 0, 0, 0],\n",
            "        [0, 0, 0, ..., 0, 0, 0],\n",
            "        [0, 0, 0, ..., 0, 0, 0],\n",
            "        ...,\n",
            "        [0, 0, 0, ..., 0, 0, 0],\n",
            "        [0, 0, 0, ..., 0, 0, 0],\n",
            "        [0, 0, 0, ..., 0, 0, 0]],\n",
            "\n",
            "       [[0, 0, 0, ..., 0, 0, 0],\n",
            "        [0, 0, 0, ..., 0, 0, 0],\n",
            "        [0, 0, 0, ..., 0, 0, 0],\n",
            "        ...,\n",
            "        [0, 0, 0, ..., 0, 0, 0],\n",
            "        [0, 0, 0, ..., 0, 0, 0],\n",
            "        [0, 0, 0, ..., 0, 0, 0]],\n",
            "\n",
            "       ...,\n",
            "\n",
            "       [[0, 0, 0, ..., 0, 0, 0],\n",
            "        [0, 0, 0, ..., 0, 0, 0],\n",
            "        [0, 0, 0, ..., 0, 0, 0],\n",
            "        ...,\n",
            "        [0, 0, 0, ..., 0, 0, 0],\n",
            "        [0, 0, 0, ..., 0, 0, 0],\n",
            "        [0, 0, 0, ..., 0, 0, 0]],\n",
            "\n",
            "       [[0, 0, 0, ..., 0, 0, 0],\n",
            "        [0, 0, 0, ..., 0, 0, 0],\n",
            "        [0, 0, 0, ..., 0, 0, 0],\n",
            "        ...,\n",
            "        [0, 0, 0, ..., 0, 0, 0],\n",
            "        [0, 0, 0, ..., 0, 0, 0],\n",
            "        [0, 0, 0, ..., 0, 0, 0]],\n",
            "\n",
            "       [[0, 0, 0, ..., 0, 0, 0],\n",
            "        [0, 0, 0, ..., 0, 0, 0],\n",
            "        [0, 0, 0, ..., 0, 0, 0],\n",
            "        ...,\n",
            "        [0, 0, 0, ..., 0, 0, 0],\n",
            "        [0, 0, 0, ..., 0, 0, 0],\n",
            "        [0, 0, 0, ..., 0, 0, 0]]], dtype=uint8), array([5, 0, 4, ..., 5, 6, 8], dtype=uint8))\n",
            "\n",
            "(array([[[0, 0, 0, ..., 0, 0, 0],\n",
            "        [0, 0, 0, ..., 0, 0, 0],\n",
            "        [0, 0, 0, ..., 0, 0, 0],\n",
            "        ...,\n",
            "        [0, 0, 0, ..., 0, 0, 0],\n",
            "        [0, 0, 0, ..., 0, 0, 0],\n",
            "        [0, 0, 0, ..., 0, 0, 0]],\n",
            "\n",
            "       [[0, 0, 0, ..., 0, 0, 0],\n",
            "        [0, 0, 0, ..., 0, 0, 0],\n",
            "        [0, 0, 0, ..., 0, 0, 0],\n",
            "        ...,\n",
            "        [0, 0, 0, ..., 0, 0, 0],\n",
            "        [0, 0, 0, ..., 0, 0, 0],\n",
            "        [0, 0, 0, ..., 0, 0, 0]],\n",
            "\n",
            "       [[0, 0, 0, ..., 0, 0, 0],\n",
            "        [0, 0, 0, ..., 0, 0, 0],\n",
            "        [0, 0, 0, ..., 0, 0, 0],\n",
            "        ...,\n",
            "        [0, 0, 0, ..., 0, 0, 0],\n",
            "        [0, 0, 0, ..., 0, 0, 0],\n",
            "        [0, 0, 0, ..., 0, 0, 0]],\n",
            "\n",
            "       ...,\n",
            "\n",
            "       [[0, 0, 0, ..., 0, 0, 0],\n",
            "        [0, 0, 0, ..., 0, 0, 0],\n",
            "        [0, 0, 0, ..., 0, 0, 0],\n",
            "        ...,\n",
            "        [0, 0, 0, ..., 0, 0, 0],\n",
            "        [0, 0, 0, ..., 0, 0, 0],\n",
            "        [0, 0, 0, ..., 0, 0, 0]],\n",
            "\n",
            "       [[0, 0, 0, ..., 0, 0, 0],\n",
            "        [0, 0, 0, ..., 0, 0, 0],\n",
            "        [0, 0, 0, ..., 0, 0, 0],\n",
            "        ...,\n",
            "        [0, 0, 0, ..., 0, 0, 0],\n",
            "        [0, 0, 0, ..., 0, 0, 0],\n",
            "        [0, 0, 0, ..., 0, 0, 0]],\n",
            "\n",
            "       [[0, 0, 0, ..., 0, 0, 0],\n",
            "        [0, 0, 0, ..., 0, 0, 0],\n",
            "        [0, 0, 0, ..., 0, 0, 0],\n",
            "        ...,\n",
            "        [0, 0, 0, ..., 0, 0, 0],\n",
            "        [0, 0, 0, ..., 0, 0, 0],\n",
            "        [0, 0, 0, ..., 0, 0, 0]]], dtype=uint8), array([7, 2, 1, ..., 4, 5, 6], dtype=uint8))\n"
          ]
        }
      ]
    },
    {
      "cell_type": "code",
      "source": [
        "# 학습용\n",
        "print(img_train.shape)\n",
        "print(label_train.shape)\n",
        "# 테스트용\n",
        "print(img_test.shape)\n",
        "print(label_test.shape)"
      ],
      "metadata": {
        "colab": {
          "base_uri": "https://localhost:8080/"
        },
        "id": "_hjVXMevqpZV",
        "outputId": "1991ec71-e801-473b-a65b-ef46d8156cf8"
      },
      "execution_count": null,
      "outputs": [
        {
          "output_type": "stream",
          "name": "stdout",
          "text": [
            "(60000, 28, 28)\n",
            "(60000,)\n",
            "(10000, 28, 28)\n",
            "(10000,)\n"
          ]
        }
      ]
    },
    {
      "cell_type": "code",
      "source": [
        "img = img_train[150]\n",
        "img.shape"
      ],
      "metadata": {
        "colab": {
          "base_uri": "https://localhost:8080/"
        },
        "id": "0DpBcZU8rf4Z",
        "outputId": "a9fb31cc-4cb6-43b5-f3ce-03a1412d92bc"
      },
      "execution_count": null,
      "outputs": [
        {
          "output_type": "execute_result",
          "data": {
            "text/plain": [
              "(28, 28)"
            ]
          },
          "metadata": {},
          "execution_count": 15
        }
      ]
    },
    {
      "cell_type": "code",
      "source": [
        "import matplotlib.pyplot as plt\n",
        "\n",
        "plt.imshow(img,'gray')\n",
        "plt.show()"
      ],
      "metadata": {
        "colab": {
          "base_uri": "https://localhost:8080/",
          "height": 265
        },
        "id": "qo59CRtprjVd",
        "outputId": "aaa3d688-0dea-447f-ddb6-6c33df43d8ad"
      },
      "execution_count": null,
      "outputs": [
        {
          "output_type": "display_data",
          "data": {
            "text/plain": [
              "<Figure size 432x288 with 1 Axes>"
            ],
            "image/png": "[encoded data removed]"
          },
          "metadata": {
            "needs_background": "light"
          }
        }
      ]
    },
    {
      "cell_type": "markdown",
      "source": [
        "# 주요 용어\n",
        "\n",
        "# 하이퍼파라미터(hyper-parameter)\n",
        "\n",
        "머신러닝이나 딥러닝에서 훈련을 시킬 때\n",
        "\n",
        "조금 더 나은 조건에서 할 수 있도록 사용자가 직접 설정해주는 옵션 값\n",
        "\n",
        "학습속도, 반복횟수, ...등은 사용자가 직접 설정 >>\n",
        "\n",
        "사용자가 직접 설정하는 값 : 하이퍼파라미터\n",
        "\n",
        "---\n",
        "\n",
        "어떤 값을 어떻게 설정하는지에 따라서 그 모델의 성능이나 결과 등이 달라짐\n",
        "\n",
        "사용자가 따로 건들지 않으면 자동적으로 default값 적용\n",
        "\n",
        "튜닝 : 하이퍼파라미터 설정하는데에 할애하는 시간 or 행위 자체를 의미"
      ],
      "metadata": {
        "id": "DGoOP4d2r69H"
      }
    },
    {
      "cell_type": "markdown",
      "source": [
        "# 에포트(epoch)\n",
        "\n",
        "반복 횟수 지정\n",
        "\n",
        "데이터를 학습시키는 과정을 몇 번 반복(iteration)해서 모델이 최적의 가중치를 찾아낼 수 있도록 하는 방법\n",
        "\n",
        "ex) 1epoch => 한 번 반복"
      ],
      "metadata": {
        "id": "KRN6USeGtORP"
      }
    },
    {
      "cell_type": "markdown",
      "source": [
        "# 과소적합(undefitting) vs 과대적합(overfitting)\n",
        "\n",
        "모델 학습에 있어서 데이터는 크게\n",
        "\n",
        "학습용 데이터 / 테스트(예측)용 데이터로 구분\n",
        "\n",
        "모델 -> 데이터 / 패턴 학습 -> 완성\n",
        "\n",
        "반복적으로 학습을 시키면 모델은 사람이 발견하기 어려운 패턴을 발견하게 되어서 사람의 예측 성능보다 우월한 모델 생성이 가능\n",
        "\n",
        "\n",
        "예측용 데이터가 학습시킨 모델과는 다른 데이터의 분포를 가지고 있거나, 학습 시킨 데이터가 한 쪽으로 치우친(편향된) 데이터라면..\n",
        "\n",
        "-> 모델은 예측 성능이 현저하게 떨어지게 됨\n",
        "\n",
        "* 과소적합 : 모델이 충분히 학습을 하지 못한 경우 -> 예측 성능 저하\n",
        "* 과대적합 : 학습 데이터를 지나치게 많이 반복 학습을 시킨 경우\n",
        "\n",
        "=> 이 두 문제를 최소화 하면서 정확도를 높일 수 있도록 해야함 \n"
      ],
      "metadata": {
        "id": "q4z1qydGtyxx"
      }
    },
    {
      "cell_type": "code",
      "source": [
        "import tensorflow as tf\n",
        "from tensorflow import keras\n",
        "import numpy as np\n",
        "import matplotlib.pyplot as plt\n"
      ],
      "metadata": {
        "id": "-906ZUabvtlm"
      },
      "execution_count": null,
      "outputs": []
    },
    {
      "cell_type": "code",
      "source": [
        "print(tf.__version__)\n",
        "print(keras.__version__)"
      ],
      "metadata": {
        "colab": {
          "base_uri": "https://localhost:8080/"
        },
        "id": "qSPVLW6Gv0EA",
        "outputId": "7a1406b9-1695-4287-fd53-9ec5505e7110"
      },
      "execution_count": null,
      "outputs": [
        {
          "output_type": "stream",
          "name": "stdout",
          "text": [
            "2.8.0\n",
            "2.8.0\n"
          ]
        }
      ]
    },
    {
      "cell_type": "code",
      "source": [
        "# -------------------\n",
        "# mnist dataset 가져오기\n",
        "from tensorflow.keras import datasets\n",
        "mnist = datasets.mnist"
      ],
      "metadata": {
        "id": "aYhFP5DR0dbY"
      },
      "execution_count": null,
      "outputs": []
    },
    {
      "cell_type": "code",
      "source": [
        "# train용, test용 나누기\n",
        "(train_data, train_label),(test_data, test_label) = mnist.load_data()"
      ],
      "metadata": {
        "id": "L9XN4pxk0lIu"
      },
      "execution_count": null,
      "outputs": []
    },
    {
      "cell_type": "code",
      "source": [
        "# train_data의 구조(모양)\n",
        "train_data.shape"
      ],
      "metadata": {
        "colab": {
          "base_uri": "https://localhost:8080/"
        },
        "id": "b2mMBaqj0pUB",
        "outputId": "e55d9a3f-c3a5-450f-d737-3d16a1832b45"
      },
      "execution_count": null,
      "outputs": [
        {
          "output_type": "execute_result",
          "data": {
            "text/plain": [
              "(60000, 28, 28)"
            ]
          },
          "metadata": {},
          "execution_count": 24
        }
      ]
    },
    {
      "cell_type": "code",
      "source": [
        "# 현재 : (Batch size(데이터 개수), height, width) -> 차원 늘리기 (Batch size, height, width, channel)\n",
        "# 차원 수 늘리기 : numpy -> .expand_dims() 함수\n",
        "# np.expand_dims(배열, 축) : 지정된 축의 차원 확장\n",
        "new_train_data = np.expand_dims(train_data, -1)\n",
        "new_train_data.shape\n"
      ],
      "metadata": {
        "colab": {
          "base_uri": "https://localhost:8080/"
        },
        "id": "fw5FhE5n2jTV",
        "outputId": "44b65c27-8d38-4cac-a5db-a07403ce4d4c"
      },
      "execution_count": null,
      "outputs": [
        {
          "output_type": "execute_result",
          "data": {
            "text/plain": [
              "(60000, 28, 28, 1)"
            ]
          },
          "metadata": {},
          "execution_count": 25
        }
      ]
    },
    {
      "cell_type": "code",
      "source": [
        "new_train_data = tf.expand_dims(train_data, -1)\n",
        "new_train_data.shape"
      ],
      "metadata": {
        "colab": {
          "base_uri": "https://localhost:8080/"
        },
        "id": "kWRVok453ykZ",
        "outputId": "9f69ea09-d853-43d9-991b-8a06c56878fe"
      },
      "execution_count": null,
      "outputs": [
        {
          "output_type": "execute_result",
          "data": {
            "text/plain": [
              "TensorShape([60000, 28, 28, 1])"
            ]
          },
          "metadata": {},
          "execution_count": 26
        }
      ]
    },
    {
      "cell_type": "code",
      "source": [
        "train_data.shape"
      ],
      "metadata": {
        "colab": {
          "base_uri": "https://localhost:8080/"
        },
        "id": "J2CnQ1Tf4FsP",
        "outputId": "9829ef0b-71ff-4028-f7ee-c65502984f31"
      },
      "execution_count": null,
      "outputs": [
        {
          "output_type": "execute_result",
          "data": {
            "text/plain": [
              "(60000, 28, 28)"
            ]
          },
          "metadata": {},
          "execution_count": 27
        }
      ]
    },
    {
      "cell_type": "code",
      "source": [
        "train_data[..., tf.newaxis].shape # 배열 [..., tf.mewaxis]를 이용하여 차원 확장"
      ],
      "metadata": {
        "colab": {
          "base_uri": "https://localhost:8080/"
        },
        "id": "fLsaX7uU4LEN",
        "outputId": "ab671ffa-7b14-4a26-d89a-50a7cfd7e9c6"
      },
      "execution_count": null,
      "outputs": [
        {
          "output_type": "execute_result",
          "data": {
            "text/plain": [
              "(60000, 28, 28, 1)"
            ]
          },
          "metadata": {},
          "execution_count": 28
        }
      ]
    },
    {
      "cell_type": "code",
      "source": [
        "n_train_data = train_data.reshape([60000, 28, 28, 1])\n",
        "n_train_data.shape"
      ],
      "metadata": {
        "colab": {
          "base_uri": "https://localhost:8080/"
        },
        "id": "aEOLlNs04iKG",
        "outputId": "b2729c2d-0732-4230-f698-850d78834572"
      },
      "execution_count": null,
      "outputs": [
        {
          "output_type": "execute_result",
          "data": {
            "text/plain": [
              "(60000, 28, 28, 1)"
            ]
          },
          "metadata": {},
          "execution_count": 29
        }
      ]
    },
    {
      "cell_type": "code",
      "source": [
        "np.squeeze(n_train_data[0]).shape # 차원 중 사이즈가 1인 axis를 찾아내서 스칼라 값으로 바꿔 해당 차원을 제거"
      ],
      "metadata": {
        "colab": {
          "base_uri": "https://localhost:8080/"
        },
        "id": "Au-u9Vi94xIO",
        "outputId": "240c162b-243e-4c0f-baad-5bfb1b18f38a"
      },
      "execution_count": null,
      "outputs": [
        {
          "output_type": "execute_result",
          "data": {
            "text/plain": [
              "(28, 28)"
            ]
          },
          "metadata": {},
          "execution_count": 30
        }
      ]
    },
    {
      "cell_type": "code",
      "source": [
        "squ = np.squeeze(n_train_data[0])\n",
        "squ.shape"
      ],
      "metadata": {
        "colab": {
          "base_uri": "https://localhost:8080/"
        },
        "id": "MfNjEFcC5nq_",
        "outputId": "9ca6bfba-8dfc-46c0-d990-e3397af80311"
      },
      "execution_count": null,
      "outputs": [
        {
          "output_type": "execute_result",
          "data": {
            "text/plain": [
              "(28, 28)"
            ]
          },
          "metadata": {},
          "execution_count": 32
        }
      ]
    },
    {
      "cell_type": "code",
      "source": [
        "plt.imshow(squ, 'gray')\n",
        "plt.show()"
      ],
      "metadata": {
        "colab": {
          "base_uri": "https://localhost:8080/",
          "height": 265
        },
        "id": "FAEX64nV5vSw",
        "outputId": "c165e387-9fa4-4f52-94cb-7dda3a38b56e"
      },
      "execution_count": null,
      "outputs": [
        {
          "output_type": "display_data",
          "data": {
            "text/plain": [
              "<Figure size 432x288 with 1 Axes>"
            ],
            "image/png": "[encoded data removed]"
          },
          "metadata": {
            "needs_background": "light"
          }
        }
      ]
    },
    {
      "cell_type": "code",
      "source": [
        "# label 하나 뽑기\n",
        "train_label.shape"
      ],
      "metadata": {
        "colab": {
          "base_uri": "https://localhost:8080/"
        },
        "id": "Imph1g6A55G3",
        "outputId": "f815a8e5-eb38-4425-f62b-24ca30c29304"
      },
      "execution_count": null,
      "outputs": [
        {
          "output_type": "execute_result",
          "data": {
            "text/plain": [
              "(60000,)"
            ]
          },
          "metadata": {},
          "execution_count": 34
        }
      ]
    },
    {
      "cell_type": "code",
      "source": [
        "train_label[9]"
      ],
      "metadata": {
        "colab": {
          "base_uri": "https://localhost:8080/"
        },
        "id": "yL0LEDVa6JtD",
        "outputId": "9208d822-ad8b-4655-c128-19eb403e255d"
      },
      "execution_count": null,
      "outputs": [
        {
          "output_type": "execute_result",
          "data": {
            "text/plain": [
              "4"
            ]
          },
          "metadata": {},
          "execution_count": 35
        }
      ]
    },
    {
      "cell_type": "code",
      "source": [
        "# matplotlib으로\n",
        "# 500번째에 있는 학습데이터의 data를 그림으로 출력 + 제목에는 그 그림에 해당하는 숫자\n",
        "plt.title(train_label[500])\n",
        "plt.imshow(train_data[500], 'gray')\n",
        "plt.show()"
      ],
      "metadata": {
        "colab": {
          "base_uri": "https://localhost:8080/",
          "height": 281
        },
        "id": "LsIyQuYZ6L-O",
        "outputId": "ba1174ed-f27d-47f6-cf2e-2f8e528421bb"
      },
      "execution_count": null,
      "outputs": [
        {
          "output_type": "display_data",
          "data": {
            "text/plain": [
              "<Figure size 432x288 with 1 Axes>"
            ],
            "image/png": "[encoded data removed]"
          },
          "metadata": {
            "needs_background": "light"
          }
        }
      ]
    },
    {
      "cell_type": "markdown",
      "source": [
        "# to_categorical : one_hot encoding을 해주는 함수 \n",
        "\n",
        "one-hot encoding : 10진수로 되어있는 정수를 2진수 (Binaray)로 변경해줌\n",
        "\n",
        "파라미터로 값의 크기만큼 0으로 이루어진 배열을 만들고, 해당하는 값 위치에만 1로 변경됨"
      ],
      "metadata": {
        "id": "2eSilQT27y0X"
      }
    },
    {
      "cell_type": "code",
      "source": [
        "to_categorical(1)"
      ],
      "metadata": {
        "colab": {
          "base_uri": "https://localhost:8080/",
          "height": 170
        },
        "id": "bSXsbpGf9kCm",
        "outputId": "d15fe036-3735-4ced-f4ed-62c0352bd8f7"
      },
      "execution_count": null,
      "outputs": [
        {
          "output_type": "error",
          "ename": "NameError",
          "evalue": "ignored",
          "traceback": [
            "\u001b[0;31m---------------------------------------------------------------------------\u001b[0m",
            "\u001b[0;31mNameError\u001b[0m                                 Traceback (most recent call last)",
            "\u001b[0;32m<ipython-input-38-a7df6d2a6148>\u001b[0m in \u001b[0;36m<module>\u001b[0;34m()\u001b[0m\n\u001b[0;32m----> 1\u001b[0;31m \u001b[0mto_categorical\u001b[0m\u001b[0;34m(\u001b[0m\u001b[0;36m1\u001b[0m\u001b[0;34m)\u001b[0m\u001b[0;34m\u001b[0m\u001b[0;34m\u001b[0m\u001b[0m\n\u001b[0m",
            "\u001b[0;31mNameError\u001b[0m: name 'to_categorical' is not defined"
          ]
        }
      ]
    },
    {
      "cell_type": "code",
      "source": [
        "to_categorical(5)"
      ],
      "metadata": {
        "colab": {
          "base_uri": "https://localhost:8080/",
          "height": 170
        },
        "id": "oU7zLeIF9kn9",
        "outputId": "1f172c19-7655-44c9-e4e5-e8a2cd189446"
      },
      "execution_count": null,
      "outputs": [
        {
          "output_type": "error",
          "ename": "NameError",
          "evalue": "ignored",
          "traceback": [
            "\u001b[0;31m---------------------------------------------------------------------------\u001b[0m",
            "\u001b[0;31mNameError\u001b[0m                                 Traceback (most recent call last)",
            "\u001b[0;32m<ipython-input-39-7ad5bc80c2fa>\u001b[0m in \u001b[0;36m<module>\u001b[0;34m()\u001b[0m\n\u001b[0;32m----> 1\u001b[0;31m \u001b[0mto_categorical\u001b[0m\u001b[0;34m(\u001b[0m\u001b[0;36m5\u001b[0m\u001b[0;34m)\u001b[0m\u001b[0;34m\u001b[0m\u001b[0;34m\u001b[0m\u001b[0m\n\u001b[0m",
            "\u001b[0;31mNameError\u001b[0m: name 'to_categorical' is not defined"
          ]
        }
      ]
    },
    {
      "cell_type": "code",
      "source": [
        "to_categorical(1,5)"
      ],
      "metadata": {
        "id": "tYi8LI6h9ksz"
      },
      "execution_count": null,
      "outputs": []
    },
    {
      "cell_type": "code",
      "source": [
        "to_categorical(3,10)"
      ],
      "metadata": {
        "id": "hrU8q-BZ9ky4"
      },
      "execution_count": null,
      "outputs": []
    },
    {
      "cell_type": "code",
      "source": [
        "# 훈련용 label에 to_categorical을 적용\n",
        "label = train_label[10]\n",
        "label"
      ],
      "metadata": {
        "id": "rAul-4P_-dA_"
      },
      "execution_count": null,
      "outputs": []
    },
    {
      "cell_type": "code",
      "source": [
        "ohe_label = to_categorical(label, num_classes=10) # num_classes=10 : 숫자 0~9까지 10개\n",
        "ohe_label"
      ],
      "metadata": {
        "id": "JnuHreO5-qLG"
      },
      "execution_count": null,
      "outputs": []
    },
    {
      "cell_type": "code",
      "source": [
        "plt.title(ohe_label)\n",
        "plt.imshow(train_data[10],'gray')\n",
        "plt.show()"
      ],
      "metadata": {
        "id": "pEn1tDos-2c2"
      },
      "execution_count": null,
      "outputs": []
    }
  ]
}