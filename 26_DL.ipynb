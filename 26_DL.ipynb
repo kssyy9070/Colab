{
  "nbformat": 4,
  "nbformat_minor": 0,
  "metadata": {
    "colab": {
      "name": "\bMay16_1_DL.ipynb",
      "provenance": [],
      "authorship_tag": "ABX9TyPXwPvx5HpHhckxPQ8VPxtg"
    },
    "kernelspec": {
      "name": "python3",
      "display_name": "Python 3"
    },
    "language_info": {
      "name": "python"
    }
  },
  "cells": [
    {
      "cell_type": "markdown",
      "source": [
        "# 딥러딩 (Deep Learning)\n",
        "\n",
        "머신러닝의 한 종류\n",
        "\n",
        "여러 [층(layer)]을 가진 [신경망]을 사용해서 머신러닝을 수행하는 것\n",
        "\n",
        "가장 큰 차이점 : [특징량 추출]\n",
        "\n",
        "이전에는 사람이 하나하나 가르쳐야 했으나\n",
        "\n",
        "딥러닝을 이용해서 컴퓨터가 자동적으로 특징을 [스스로] 학습 할 수 있도록...\n",
        "\n"
      ],
      "metadata": {
        "id": "Y7FU5zZnfPUL"
      }
    },
    {
      "cell_type": "markdown",
      "source": [
        "# 신경망 (Neural Network)\n",
        "\n",
        "인간의 신경명을 본떠서 만든 네트워크 구조를 의미\n",
        "\n",
        "컴퓨터에 학습 능력을 갖게 해서 다양한 문제를 해결할 수 있게 하는 접근 방법\n",
        "\n",
        "신경망은 다양한 뉴런이 연결되어 있는 구조를 가지고 있는 네트워크 망\n",
        "\n",
        "이런 신경망을 3개 이상 중첩하게 되면 \"깊은 신경망(Deep Neural Network, DNN)\""
      ],
      "metadata": {
        "id": "isbROlYOgWBq"
      }
    },
    {
      "cell_type": "markdown",
      "source": [
        "# 퍼셉트론(Perceptron) :\n",
        "\n",
        "인공 신경망으로 다수의 입력으로부터 하나의 결과를 내보내는 알고리즘\n",
        "\n",
        "비교적 단순한 구조를 가지고 있고, 현재 기계학습의 기초가 되는 개념\n",
        "\n",
        "입력층과 출력층으로 구성된 단순 퍼셉트론\n",
        "\n",
        "조건 :\n",
        "* 1 : 이번달 수입에 여유가 있는지\n",
        "* 2 : 지금 옷장에 옷이 없는지\n",
        "* 3 : 지금 당장 옷이 필요한지 (옷에 문제가 있는지)\n",
        "\n",
        "사람에 따라서, 경우에 따라서 세 가지 조건의 우선순위가 다를 것\n",
        "\n",
        "퍼셉트론 : 각 입력(조건)에 대한 [가중치]를 도입\n",
        "\n",
        "역치(선택의 기준이 되는 값) : 다양한 조건 및 가중치를 기반으로 구입할지의 여부를 정하는 것\n",
        "\n",
        "가중치와 역치를 고려하여 의사결정 상황에 따라 반영이 가능\n",
        "\n",
        "퍼셉트론에 다양한 정보를 고려하여 가중치 변경을 하다보면, 어느 정도의 가중치가 좋은지 알 수 있게 됨"
      ],
      "metadata": {
        "id": "zVFdMR8UiLEN"
      }
    },
    {
      "cell_type": "code",
      "source": [
        ""
      ],
      "metadata": {
        "id": "4jCgDEMxnn8o"
      },
      "execution_count": null,
      "outputs": []
    }
  ]
}